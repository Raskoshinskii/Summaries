{
 "cells": [
  {
   "cell_type": "markdown",
   "id": "a8eaa32d-8c02-4e9b-abed-8388dab037fb",
   "metadata": {},
   "source": [
    "### Digit Classifier\n",
    "let's create a digit classifier to distinguis images between 3 and 7"
   ]
  },
  {
   "cell_type": "code",
   "execution_count": 1,
   "id": "87861f0b-85a5-48c0-8821-4dd86570d393",
   "metadata": {},
   "outputs": [],
   "source": [
    "from fastai.vision.all import *"
   ]
  },
  {
   "cell_type": "code",
   "execution_count": 2,
   "id": "b8ff298d-452c-401a-b5cd-9433475a7aee",
   "metadata": {},
   "outputs": [],
   "source": [
    "path = untar_data(URLs.MNIST_SAMPLE)"
   ]
  },
  {
   "cell_type": "markdown",
   "id": "a45f5ece-7b47-4ba8-8744-13811ea2e321",
   "metadata": {},
   "source": [
    "We can see what’s in this directory by using `ls`, a method added by fastai. This method returns an object of a special fastai class called `L`, which has all the same functionality of Python’s built-in list, plus a lot more. One of its handy features is that, when printed, it displays the count of items before listing the items themselves (if there are more than 10 items, it shows just the first few):"
   ]
  },
  {
   "cell_type": "code",
   "execution_count": 3,
   "id": "b6cff016-8024-4a15-8307-f1ea3957dfce",
   "metadata": {},
   "outputs": [
    {
     "data": {
      "text/plain": [
       "(#3) [Path('C:/Users/vlad/.fastai/data/mnist_sample/labels.csv'),Path('C:/Users/vlad/.fastai/data/mnist_sample/train'),Path('C:/Users/vlad/.fastai/data/mnist_sample/valid')]"
      ]
     },
     "execution_count": 3,
     "metadata": {},
     "output_type": "execute_result"
    }
   ],
   "source": [
    "path.ls()"
   ]
  },
  {
   "cell_type": "code",
   "execution_count": 4,
   "id": "b8eada26-de10-415d-976f-37b11c3ee297",
   "metadata": {},
   "outputs": [
    {
     "data": {
      "text/plain": [
       "(#2) [Path('C:/Users/vlad/.fastai/data/mnist_sample/train/3'),Path('C:/Users/vlad/.fastai/data/mnist_sample/train/7')]"
      ]
     },
     "execution_count": 4,
     "metadata": {},
     "output_type": "execute_result"
    }
   ],
   "source": [
    "# Let’s see what’s inside the training set:\n",
    "(path/'train').ls()"
   ]
  },
  {
   "cell_type": "code",
   "execution_count": 5,
   "id": "4d0903da-657b-4340-86bb-c4b1680f3332",
   "metadata": {},
   "outputs": [],
   "source": [
    "threes = (path/'train'/'3').ls().sorted()\n",
    "sevens = (path/'train'/'7').ls().sorted()"
   ]
  },
  {
   "cell_type": "code",
   "execution_count": 6,
   "id": "3ec2ee87-c9f0-4341-9887-a6d251d73994",
   "metadata": {},
   "outputs": [
    {
     "data": {
      "text/plain": [
       "(#6131) [Path('C:/Users/vlad/.fastai/data/mnist_sample/train/3/10.png'),Path('C:/Users/vlad/.fastai/data/mnist_sample/train/3/10000.png'),Path('C:/Users/vlad/.fastai/data/mnist_sample/train/3/10011.png'),Path('C:/Users/vlad/.fastai/data/mnist_sample/train/3/10031.png'),Path('C:/Users/vlad/.fastai/data/mnist_sample/train/3/10034.png'),Path('C:/Users/vlad/.fastai/data/mnist_sample/train/3/10042.png'),Path('C:/Users/vlad/.fastai/data/mnist_sample/train/3/10052.png'),Path('C:/Users/vlad/.fastai/data/mnist_sample/train/3/1007.png'),Path('C:/Users/vlad/.fastai/data/mnist_sample/train/3/10074.png'),Path('C:/Users/vlad/.fastai/data/mnist_sample/train/3/10091.png')...]"
      ]
     },
     "execution_count": 6,
     "metadata": {},
     "output_type": "execute_result"
    }
   ],
   "source": [
    "# Look at folde with 3s\n",
    "threes"
   ]
  },
  {
   "cell_type": "code",
   "execution_count": 12,
   "id": "1dbb9159-c43d-4feb-8dcd-1e2c1544b766",
   "metadata": {},
   "outputs": [
    {
     "data": {
      "image/png": "[encoded data removed]",
      "text/plain": [
       "<PIL.PngImagePlugin.PngImageFile image mode=L size=28x28>"
      ]
     },
     "execution_count": 12,
     "metadata": {},
     "output_type": "execute_result"
    }
   ],
   "source": [
    "# Look at the image \n",
    "img_3_path = threes[1]\n",
    "img_3 = Image.open(img_3_path)\n",
    "img_3"
   ]
  },
  {
   "cell_type": "markdown",
   "id": "31715253-4b71-448a-86fa-a53a70880311",
   "metadata": {},
   "source": [
    "### Python Image Library - PIL \n",
    "It is the most widely used Python package for opening, manipulating, and viewing images. Jupyter knows about PIL images, so **it displays the image for us automatically.**\n",
    "\n",
    "In a computer, everything is represented as a number. To view the numbers that make up this image, we have to convert it to a `NumPy array`  or a `PyTorch tensor`"
   ]
  },
  {
   "cell_type": "code",
   "execution_count": 13,
   "id": "cb647152-350a-4367-ab82-f7c4ceccaa25",
   "metadata": {},
   "outputs": [
    {
     "data": {
      "text/plain": [
       "array([[  0,   0,   0,   0,   0,   0],\n",
       "       [  0,   0,   0,   0,   0,  29],\n",
       "       [  0,   0,   0,  48, 166, 224],\n",
       "       [  0,  93, 244, 249, 253, 187],\n",
       "       [  0, 107, 253, 253, 230,  48],\n",
       "       [  0,   3,  20,  20,  15,   0]], dtype=uint8)"
      ]
     },
     "execution_count": 13,
     "metadata": {},
     "output_type": "execute_result"
    }
   ],
   "source": [
    "# Part of the image using NumPy\n",
    "array(img_3)[4:10,4:10]"
   ]
  },
  {
   "cell_type": "code",
   "execution_count": 14,
   "id": "c08603d5-2f8c-4880-a4b8-a4c00f35d24a",
   "metadata": {},
   "outputs": [
    {
     "data": {
      "text/plain": [
       "tensor([[  0,   0,   0,   0,   0,   0],\n",
       "        [  0,   0,   0,   0,   0,  29],\n",
       "        [  0,   0,   0,  48, 166, 224],\n",
       "        [  0,  93, 244, 249, 253, 187],\n",
       "        [  0, 107, 253, 253, 230,  48],\n",
       "        [  0,   3,  20,  20,  15,   0]], dtype=torch.uint8)"
      ]
     },
     "execution_count": 14,
     "metadata": {},
     "output_type": "execute_result"
    }
   ],
   "source": [
    "# Part of the image using PyTorch \n",
    "tensor(img_3)[4:10,4:10]"
   ]
  },
  {
   "cell_type": "markdown",
   "id": "e13d7270-dfc3-4c20-a57a-443fc8492b81",
   "metadata": {},
   "source": [
    "### Image Visualisation using Pandas \n",
    "We can slice the array to pick just the part with the top of the digit in it, and then use a Pandas DataFrame to color-code the values using a gradient, which shows us clearly how the image is created from the pixel values"
   ]
  },
  {
   "cell_type": "code",
   "execution_count": 15,
   "id": "07ba1809-5719-44e3-a082-db8c4d1085e3",
   "metadata": {},
   "outputs": [
    {
     "data": {
      "text/html": [
       "<style  type=\"text/css\" >\n",
       "#T_59978_row0_col0,#T_59978_row0_col1,#T_59978_row0_col2,#T_59978_row0_col3,#T_59978_row0_col4,#T_59978_row0_col5,#T_59978_row0_col6,#T_59978_row0_col7,#T_59978_row0_col8,#T_59978_row0_col9,#T_59978_row0_col10,#T_59978_row0_col11,#T_59978_row0_col12,#T_59978_row0_col13,#T_59978_row0_col14,#T_59978_row0_col15,#T_59978_row0_col16,#T_59978_row0_col17,#T_59978_row1_col0,#T_59978_row1_col1,#T_59978_row1_col2,#T_59978_row1_col3,#T_59978_row1_col4,#T_59978_row1_col15,#T_59978_row1_col16,#T_59978_row1_col17,#T_59978_row2_col0,#T_59978_row2_col1,#T_59978_row2_col2,#T_59978_row2_col15,#T_59978_row2_col16,#T_59978_row2_col17,#T_59978_row3_col0,#T_59978_row3_col15,#T_59978_row3_col16,#T_59978_row3_col17,#T_59978_row4_col0,#T_59978_row4_col6,#T_59978_row4_col7,#T_59978_row4_col8,#T_59978_row4_col9,#T_59978_row4_col10,#T_59978_row4_col15,#T_59978_row4_col16,#T_59978_row4_col17,#T_59978_row5_col0,#T_59978_row5_col5,#T_59978_row5_col6,#T_59978_row5_col7,#T_59978_row5_col8,#T_59978_row5_col9,#T_59978_row5_col15,#T_59978_row5_col16,#T_59978_row5_col17,#T_59978_row6_col0,#T_59978_row6_col1,#T_59978_row6_col2,#T_59978_row6_col3,#T_59978_row6_col4,#T_59978_row6_col5,#T_59978_row6_col6,#T_59978_row6_col7,#T_59978_row6_col8,#T_59978_row6_col9,#T_59978_row6_col14,#T_59978_row6_col15,#T_59978_row6_col16,#T_59978_row6_col17,#T_59978_row7_col0,#T_59978_row7_col1,#T_59978_row7_col2,#T_59978_row7_col3,#T_59978_row7_col4,#T_59978_row7_col5,#T_59978_row7_col6,#T_59978_row7_col13,#T_59978_row7_col14,#T_59978_row7_col15,#T_59978_row7_col16,#T_59978_row7_col17,#T_59978_row8_col0,#T_59978_row8_col1,#T_59978_row8_col2,#T_59978_row8_col3,#T_59978_row8_col4,#T_59978_row8_col13,#T_59978_row8_col14,#T_59978_row8_col15,#T_59978_row8_col16,#T_59978_row8_col17,#T_59978_row9_col0,#T_59978_row9_col1,#T_59978_row9_col2,#T_59978_row9_col3,#T_59978_row9_col4,#T_59978_row9_col16,#T_59978_row9_col17,#T_59978_row10_col0,#T_59978_row10_col1,#T_59978_row10_col2,#T_59978_row10_col3,#T_59978_row10_col4,#T_59978_row10_col5,#T_59978_row10_col6,#T_59978_row10_col17{\n",
       "            font-size:  6pt;\n",
       "            background-color:  #ffffff;\n",
       "            color:  #000000;\n",
       "        }#T_59978_row1_col5{\n",
       "            font-size:  6pt;\n",
       "            background-color:  #efefef;\n",
       "            color:  #000000;\n",
       "        }#T_59978_row1_col6,#T_59978_row1_col13{\n",
       "            font-size:  6pt;\n",
       "            background-color:  #7c7c7c;\n",
       "            color:  #000000;\n",
       "        }#T_59978_row1_col7{\n",
       "            font-size:  6pt;\n",
       "            background-color:  #4a4a4a;\n",
       "            color:  #f1f1f1;\n",
       "        }#T_59978_row1_col8,#T_59978_row1_col9,#T_59978_row1_col10,#T_59978_row2_col5,#T_59978_row2_col6,#T_59978_row2_col7,#T_59978_row2_col11,#T_59978_row2_col12,#T_59978_row2_col13,#T_59978_row3_col4,#T_59978_row3_col12,#T_59978_row3_col13,#T_59978_row4_col1,#T_59978_row4_col2,#T_59978_row4_col3,#T_59978_row4_col12,#T_59978_row4_col13,#T_59978_row5_col12,#T_59978_row6_col11,#T_59978_row9_col11,#T_59978_row10_col11,#T_59978_row10_col12,#T_59978_row10_col13,#T_59978_row10_col14,#T_59978_row10_col15,#T_59978_row10_col16{\n",
       "            font-size:  6pt;\n",
       "            background-color:  #000000;\n",
       "            color:  #f1f1f1;\n",
       "        }#T_59978_row1_col11{\n",
       "            font-size:  6pt;\n",
       "            background-color:  #606060;\n",
       "            color:  #f1f1f1;\n",
       "        }#T_59978_row1_col12{\n",
       "            font-size:  6pt;\n",
       "            background-color:  #4d4d4d;\n",
       "            color:  #f1f1f1;\n",
       "        }#T_59978_row1_col14{\n",
       "            font-size:  6pt;\n",
       "            background-color:  #bbbbbb;\n",
       "            color:  #000000;\n",
       "        }#T_59978_row2_col3{\n",
       "            font-size:  6pt;\n",
       "            background-color:  #e4e4e4;\n",
       "            color:  #000000;\n",
       "        }#T_59978_row2_col4,#T_59978_row8_col6{\n",
       "            font-size:  6pt;\n",
       "            background-color:  #6b6b6b;\n",
       "            color:  #000000;\n",
       "        }#T_59978_row2_col8,#T_59978_row2_col14,#T_59978_row3_col14{\n",
       "            font-size:  6pt;\n",
       "            background-color:  #171717;\n",
       "            color:  #f1f1f1;\n",
       "        }#T_59978_row2_col9,#T_59978_row3_col11{\n",
       "            font-size:  6pt;\n",
       "            background-color:  #4b4b4b;\n",
       "            color:  #f1f1f1;\n",
       "        }#T_59978_row2_col10,#T_59978_row7_col10,#T_59978_row8_col8,#T_59978_row8_col10,#T_59978_row9_col8,#T_59978_row9_col10{\n",
       "            font-size:  6pt;\n",
       "            background-color:  #010101;\n",
       "            color:  #f1f1f1;\n",
       "        }#T_59978_row3_col1{\n",
       "            font-size:  6pt;\n",
       "            background-color:  #272727;\n",
       "            color:  #f1f1f1;\n",
       "        }#T_59978_row3_col2{\n",
       "            font-size:  6pt;\n",
       "            background-color:  #0a0a0a;\n",
       "            color:  #f1f1f1;\n",
       "        }#T_59978_row3_col3{\n",
       "            font-size:  6pt;\n",
       "            background-color:  #050505;\n",
       "            color:  #f1f1f1;\n",
       "        }#T_59978_row3_col5{\n",
       "            font-size:  6pt;\n",
       "            background-color:  #333333;\n",
       "            color:  #f1f1f1;\n",
       "        }#T_59978_row3_col6{\n",
       "            font-size:  6pt;\n",
       "            background-color:  #e6e6e6;\n",
       "            color:  #000000;\n",
       "        }#T_59978_row3_col7,#T_59978_row3_col10{\n",
       "            font-size:  6pt;\n",
       "            background-color:  #fafafa;\n",
       "            color:  #000000;\n",
       "        }#T_59978_row3_col8{\n",
       "            font-size:  6pt;\n",
       "            background-color:  #fbfbfb;\n",
       "            color:  #000000;\n",
       "        }#T_59978_row3_col9{\n",
       "            font-size:  6pt;\n",
       "            background-color:  #fdfdfd;\n",
       "            color:  #000000;\n",
       "        }#T_59978_row4_col4{\n",
       "            font-size:  6pt;\n",
       "            background-color:  #1b1b1b;\n",
       "            color:  #f1f1f1;\n",
       "        }#T_59978_row4_col5{\n",
       "            font-size:  6pt;\n",
       "            background-color:  #e0e0e0;\n",
       "            color:  #000000;\n",
       "        }#T_59978_row4_col11{\n",
       "            font-size:  6pt;\n",
       "            background-color:  #4e4e4e;\n",
       "            color:  #f1f1f1;\n",
       "        }#T_59978_row4_col14{\n",
       "            font-size:  6pt;\n",
       "            background-color:  #767676;\n",
       "            color:  #000000;\n",
       "        }#T_59978_row5_col1{\n",
       "            font-size:  6pt;\n",
       "            background-color:  #fcfcfc;\n",
       "            color:  #000000;\n",
       "        }#T_59978_row5_col2,#T_59978_row5_col3{\n",
       "            font-size:  6pt;\n",
       "            background-color:  #f6f6f6;\n",
       "            color:  #000000;\n",
       "        }#T_59978_row5_col4,#T_59978_row7_col7{\n",
       "            font-size:  6pt;\n",
       "            background-color:  #f8f8f8;\n",
       "            color:  #000000;\n",
       "        }#T_59978_row5_col10,#T_59978_row10_col7{\n",
       "            font-size:  6pt;\n",
       "            background-color:  #e8e8e8;\n",
       "            color:  #000000;\n",
       "        }#T_59978_row5_col11{\n",
       "            font-size:  6pt;\n",
       "            background-color:  #222222;\n",
       "            color:  #f1f1f1;\n",
       "        }#T_59978_row5_col13,#T_59978_row6_col12{\n",
       "            font-size:  6pt;\n",
       "            background-color:  #090909;\n",
       "            color:  #f1f1f1;\n",
       "        }#T_59978_row5_col14{\n",
       "            font-size:  6pt;\n",
       "            background-color:  #d0d0d0;\n",
       "            color:  #000000;\n",
       "        }#T_59978_row6_col10,#T_59978_row7_col11,#T_59978_row9_col6{\n",
       "            font-size:  6pt;\n",
       "            background-color:  #060606;\n",
       "            color:  #f1f1f1;\n",
       "        }#T_59978_row6_col13{\n",
       "            font-size:  6pt;\n",
       "            background-color:  #979797;\n",
       "            color:  #000000;\n",
       "        }#T_59978_row7_col8{\n",
       "            font-size:  6pt;\n",
       "            background-color:  #b6b6b6;\n",
       "            color:  #000000;\n",
       "        }#T_59978_row7_col9{\n",
       "            font-size:  6pt;\n",
       "            background-color:  #252525;\n",
       "            color:  #f1f1f1;\n",
       "        }#T_59978_row7_col12{\n",
       "            font-size:  6pt;\n",
       "            background-color:  #999999;\n",
       "            color:  #000000;\n",
       "        }#T_59978_row8_col5{\n",
       "            font-size:  6pt;\n",
       "            background-color:  #f9f9f9;\n",
       "            color:  #000000;\n",
       "        }#T_59978_row8_col7{\n",
       "            font-size:  6pt;\n",
       "            background-color:  #101010;\n",
       "            color:  #f1f1f1;\n",
       "        }#T_59978_row8_col9,#T_59978_row9_col9{\n",
       "            font-size:  6pt;\n",
       "            background-color:  #020202;\n",
       "            color:  #f1f1f1;\n",
       "        }#T_59978_row8_col11{\n",
       "            font-size:  6pt;\n",
       "            background-color:  #545454;\n",
       "            color:  #f1f1f1;\n",
       "        }#T_59978_row8_col12{\n",
       "            font-size:  6pt;\n",
       "            background-color:  #f1f1f1;\n",
       "            color:  #000000;\n",
       "        }#T_59978_row9_col5{\n",
       "            font-size:  6pt;\n",
       "            background-color:  #f7f7f7;\n",
       "            color:  #000000;\n",
       "        }#T_59978_row9_col7{\n",
       "            font-size:  6pt;\n",
       "            background-color:  #030303;\n",
       "            color:  #f1f1f1;\n",
       "        }#T_59978_row9_col12{\n",
       "            font-size:  6pt;\n",
       "            background-color:  #181818;\n",
       "            color:  #f1f1f1;\n",
       "        }#T_59978_row9_col13{\n",
       "            font-size:  6pt;\n",
       "            background-color:  #303030;\n",
       "            color:  #f1f1f1;\n",
       "        }#T_59978_row9_col14{\n",
       "            font-size:  6pt;\n",
       "            background-color:  #a9a9a9;\n",
       "            color:  #000000;\n",
       "        }#T_59978_row9_col15{\n",
       "            font-size:  6pt;\n",
       "            background-color:  #fefefe;\n",
       "            color:  #000000;\n",
       "        }#T_59978_row10_col8,#T_59978_row10_col9{\n",
       "            font-size:  6pt;\n",
       "            background-color:  #bababa;\n",
       "            color:  #000000;\n",
       "        }#T_59978_row10_col10{\n",
       "            font-size:  6pt;\n",
       "            background-color:  #393939;\n",
       "            color:  #f1f1f1;\n",
       "        }</style><table id=\"T_59978_\" ><thead>    <tr>        <th class=\"blank level0\" ></th>        <th class=\"col_heading level0 col0\" >0</th>        <th class=\"col_heading level0 col1\" >1</th>        <th class=\"col_heading level0 col2\" >2</th>        <th class=\"col_heading level0 col3\" >3</th>        <th class=\"col_heading level0 col4\" >4</th>        <th class=\"col_heading level0 col5\" >5</th>        <th class=\"col_heading level0 col6\" >6</th>        <th class=\"col_heading level0 col7\" >7</th>        <th class=\"col_heading level0 col8\" >8</th>        <th class=\"col_heading level0 col9\" >9</th>        <th class=\"col_heading level0 col10\" >10</th>        <th class=\"col_heading level0 col11\" >11</th>        <th class=\"col_heading level0 col12\" >12</th>        <th class=\"col_heading level0 col13\" >13</th>        <th class=\"col_heading level0 col14\" >14</th>        <th class=\"col_heading level0 col15\" >15</th>        <th class=\"col_heading level0 col16\" >16</th>        <th class=\"col_heading level0 col17\" >17</th>    </tr></thead><tbody>\n",
       "                <tr>\n",
       "                        <th id=\"T_59978_level0_row0\" class=\"row_heading level0 row0\" >0</th>\n",
       "                        <td id=\"T_59978_row0_col0\" class=\"data row0 col0\" >0</td>\n",
       "                        <td id=\"T_59978_row0_col1\" class=\"data row0 col1\" >0</td>\n",
       "                        <td id=\"T_59978_row0_col2\" class=\"data row0 col2\" >0</td>\n",
       "                        <td id=\"T_59978_row0_col3\" class=\"data row0 col3\" >0</td>\n",
       "                        <td id=\"T_59978_row0_col4\" class=\"data row0 col4\" >0</td>\n",
       "                        <td id=\"T_59978_row0_col5\" class=\"data row0 col5\" >0</td>\n",
       "                        <td id=\"T_59978_row0_col6\" class=\"data row0 col6\" >0</td>\n",
       "                        <td id=\"T_59978_row0_col7\" class=\"data row0 col7\" >0</td>\n",
       "                        <td id=\"T_59978_row0_col8\" class=\"data row0 col8\" >0</td>\n",
       "                        <td id=\"T_59978_row0_col9\" class=\"data row0 col9\" >0</td>\n",
       "                        <td id=\"T_59978_row0_col10\" class=\"data row0 col10\" >0</td>\n",
       "                        <td id=\"T_59978_row0_col11\" class=\"data row0 col11\" >0</td>\n",
       "                        <td id=\"T_59978_row0_col12\" class=\"data row0 col12\" >0</td>\n",
       "                        <td id=\"T_59978_row0_col13\" class=\"data row0 col13\" >0</td>\n",
       "                        <td id=\"T_59978_row0_col14\" class=\"data row0 col14\" >0</td>\n",
       "                        <td id=\"T_59978_row0_col15\" class=\"data row0 col15\" >0</td>\n",
       "                        <td id=\"T_59978_row0_col16\" class=\"data row0 col16\" >0</td>\n",
       "                        <td id=\"T_59978_row0_col17\" class=\"data row0 col17\" >0</td>\n",
       "            </tr>\n",
       "            <tr>\n",
       "                        <th id=\"T_59978_level0_row1\" class=\"row_heading level0 row1\" >1</th>\n",
       "                        <td id=\"T_59978_row1_col0\" class=\"data row1 col0\" >0</td>\n",
       "                        <td id=\"T_59978_row1_col1\" class=\"data row1 col1\" >0</td>\n",
       "                        <td id=\"T_59978_row1_col2\" class=\"data row1 col2\" >0</td>\n",
       "                        <td id=\"T_59978_row1_col3\" class=\"data row1 col3\" >0</td>\n",
       "                        <td id=\"T_59978_row1_col4\" class=\"data row1 col4\" >0</td>\n",
       "                        <td id=\"T_59978_row1_col5\" class=\"data row1 col5\" >29</td>\n",
       "                        <td id=\"T_59978_row1_col6\" class=\"data row1 col6\" >150</td>\n",
       "                        <td id=\"T_59978_row1_col7\" class=\"data row1 col7\" >195</td>\n",
       "                        <td id=\"T_59978_row1_col8\" class=\"data row1 col8\" >254</td>\n",
       "                        <td id=\"T_59978_row1_col9\" class=\"data row1 col9\" >255</td>\n",
       "                        <td id=\"T_59978_row1_col10\" class=\"data row1 col10\" >254</td>\n",
       "                        <td id=\"T_59978_row1_col11\" class=\"data row1 col11\" >176</td>\n",
       "                        <td id=\"T_59978_row1_col12\" class=\"data row1 col12\" >193</td>\n",
       "                        <td id=\"T_59978_row1_col13\" class=\"data row1 col13\" >150</td>\n",
       "                        <td id=\"T_59978_row1_col14\" class=\"data row1 col14\" >96</td>\n",
       "                        <td id=\"T_59978_row1_col15\" class=\"data row1 col15\" >0</td>\n",
       "                        <td id=\"T_59978_row1_col16\" class=\"data row1 col16\" >0</td>\n",
       "                        <td id=\"T_59978_row1_col17\" class=\"data row1 col17\" >0</td>\n",
       "            </tr>\n",
       "            <tr>\n",
       "                        <th id=\"T_59978_level0_row2\" class=\"row_heading level0 row2\" >2</th>\n",
       "                        <td id=\"T_59978_row2_col0\" class=\"data row2 col0\" >0</td>\n",
       "                        <td id=\"T_59978_row2_col1\" class=\"data row2 col1\" >0</td>\n",
       "                        <td id=\"T_59978_row2_col2\" class=\"data row2 col2\" >0</td>\n",
       "                        <td id=\"T_59978_row2_col3\" class=\"data row2 col3\" >48</td>\n",
       "                        <td id=\"T_59978_row2_col4\" class=\"data row2 col4\" >166</td>\n",
       "                        <td id=\"T_59978_row2_col5\" class=\"data row2 col5\" >224</td>\n",
       "                        <td id=\"T_59978_row2_col6\" class=\"data row2 col6\" >253</td>\n",
       "                        <td id=\"T_59978_row2_col7\" class=\"data row2 col7\" >253</td>\n",
       "                        <td id=\"T_59978_row2_col8\" class=\"data row2 col8\" >234</td>\n",
       "                        <td id=\"T_59978_row2_col9\" class=\"data row2 col9\" >196</td>\n",
       "                        <td id=\"T_59978_row2_col10\" class=\"data row2 col10\" >253</td>\n",
       "                        <td id=\"T_59978_row2_col11\" class=\"data row2 col11\" >253</td>\n",
       "                        <td id=\"T_59978_row2_col12\" class=\"data row2 col12\" >253</td>\n",
       "                        <td id=\"T_59978_row2_col13\" class=\"data row2 col13\" >253</td>\n",
       "                        <td id=\"T_59978_row2_col14\" class=\"data row2 col14\" >233</td>\n",
       "                        <td id=\"T_59978_row2_col15\" class=\"data row2 col15\" >0</td>\n",
       "                        <td id=\"T_59978_row2_col16\" class=\"data row2 col16\" >0</td>\n",
       "                        <td id=\"T_59978_row2_col17\" class=\"data row2 col17\" >0</td>\n",
       "            </tr>\n",
       "            <tr>\n",
       "                        <th id=\"T_59978_level0_row3\" class=\"row_heading level0 row3\" >3</th>\n",
       "                        <td id=\"T_59978_row3_col0\" class=\"data row3 col0\" >0</td>\n",
       "                        <td id=\"T_59978_row3_col1\" class=\"data row3 col1\" >93</td>\n",
       "                        <td id=\"T_59978_row3_col2\" class=\"data row3 col2\" >244</td>\n",
       "                        <td id=\"T_59978_row3_col3\" class=\"data row3 col3\" >249</td>\n",
       "                        <td id=\"T_59978_row3_col4\" class=\"data row3 col4\" >253</td>\n",
       "                        <td id=\"T_59978_row3_col5\" class=\"data row3 col5\" >187</td>\n",
       "                        <td id=\"T_59978_row3_col6\" class=\"data row3 col6\" >46</td>\n",
       "                        <td id=\"T_59978_row3_col7\" class=\"data row3 col7\" >10</td>\n",
       "                        <td id=\"T_59978_row3_col8\" class=\"data row3 col8\" >8</td>\n",
       "                        <td id=\"T_59978_row3_col9\" class=\"data row3 col9\" >4</td>\n",
       "                        <td id=\"T_59978_row3_col10\" class=\"data row3 col10\" >10</td>\n",
       "                        <td id=\"T_59978_row3_col11\" class=\"data row3 col11\" >194</td>\n",
       "                        <td id=\"T_59978_row3_col12\" class=\"data row3 col12\" >253</td>\n",
       "                        <td id=\"T_59978_row3_col13\" class=\"data row3 col13\" >253</td>\n",
       "                        <td id=\"T_59978_row3_col14\" class=\"data row3 col14\" >233</td>\n",
       "                        <td id=\"T_59978_row3_col15\" class=\"data row3 col15\" >0</td>\n",
       "                        <td id=\"T_59978_row3_col16\" class=\"data row3 col16\" >0</td>\n",
       "                        <td id=\"T_59978_row3_col17\" class=\"data row3 col17\" >0</td>\n",
       "            </tr>\n",
       "            <tr>\n",
       "                        <th id=\"T_59978_level0_row4\" class=\"row_heading level0 row4\" >4</th>\n",
       "                        <td id=\"T_59978_row4_col0\" class=\"data row4 col0\" >0</td>\n",
       "                        <td id=\"T_59978_row4_col1\" class=\"data row4 col1\" >107</td>\n",
       "                        <td id=\"T_59978_row4_col2\" class=\"data row4 col2\" >253</td>\n",
       "                        <td id=\"T_59978_row4_col3\" class=\"data row4 col3\" >253</td>\n",
       "                        <td id=\"T_59978_row4_col4\" class=\"data row4 col4\" >230</td>\n",
       "                        <td id=\"T_59978_row4_col5\" class=\"data row4 col5\" >48</td>\n",
       "                        <td id=\"T_59978_row4_col6\" class=\"data row4 col6\" >0</td>\n",
       "                        <td id=\"T_59978_row4_col7\" class=\"data row4 col7\" >0</td>\n",
       "                        <td id=\"T_59978_row4_col8\" class=\"data row4 col8\" >0</td>\n",
       "                        <td id=\"T_59978_row4_col9\" class=\"data row4 col9\" >0</td>\n",
       "                        <td id=\"T_59978_row4_col10\" class=\"data row4 col10\" >0</td>\n",
       "                        <td id=\"T_59978_row4_col11\" class=\"data row4 col11\" >192</td>\n",
       "                        <td id=\"T_59978_row4_col12\" class=\"data row4 col12\" >253</td>\n",
       "                        <td id=\"T_59978_row4_col13\" class=\"data row4 col13\" >253</td>\n",
       "                        <td id=\"T_59978_row4_col14\" class=\"data row4 col14\" >156</td>\n",
       "                        <td id=\"T_59978_row4_col15\" class=\"data row4 col15\" >0</td>\n",
       "                        <td id=\"T_59978_row4_col16\" class=\"data row4 col16\" >0</td>\n",
       "                        <td id=\"T_59978_row4_col17\" class=\"data row4 col17\" >0</td>\n",
       "            </tr>\n",
       "            <tr>\n",
       "                        <th id=\"T_59978_level0_row5\" class=\"row_heading level0 row5\" >5</th>\n",
       "                        <td id=\"T_59978_row5_col0\" class=\"data row5 col0\" >0</td>\n",
       "                        <td id=\"T_59978_row5_col1\" class=\"data row5 col1\" >3</td>\n",
       "                        <td id=\"T_59978_row5_col2\" class=\"data row5 col2\" >20</td>\n",
       "                        <td id=\"T_59978_row5_col3\" class=\"data row5 col3\" >20</td>\n",
       "                        <td id=\"T_59978_row5_col4\" class=\"data row5 col4\" >15</td>\n",
       "                        <td id=\"T_59978_row5_col5\" class=\"data row5 col5\" >0</td>\n",
       "                        <td id=\"T_59978_row5_col6\" class=\"data row5 col6\" >0</td>\n",
       "                        <td id=\"T_59978_row5_col7\" class=\"data row5 col7\" >0</td>\n",
       "                        <td id=\"T_59978_row5_col8\" class=\"data row5 col8\" >0</td>\n",
       "                        <td id=\"T_59978_row5_col9\" class=\"data row5 col9\" >0</td>\n",
       "                        <td id=\"T_59978_row5_col10\" class=\"data row5 col10\" >43</td>\n",
       "                        <td id=\"T_59978_row5_col11\" class=\"data row5 col11\" >224</td>\n",
       "                        <td id=\"T_59978_row5_col12\" class=\"data row5 col12\" >253</td>\n",
       "                        <td id=\"T_59978_row5_col13\" class=\"data row5 col13\" >245</td>\n",
       "                        <td id=\"T_59978_row5_col14\" class=\"data row5 col14\" >74</td>\n",
       "                        <td id=\"T_59978_row5_col15\" class=\"data row5 col15\" >0</td>\n",
       "                        <td id=\"T_59978_row5_col16\" class=\"data row5 col16\" >0</td>\n",
       "                        <td id=\"T_59978_row5_col17\" class=\"data row5 col17\" >0</td>\n",
       "            </tr>\n",
       "            <tr>\n",
       "                        <th id=\"T_59978_level0_row6\" class=\"row_heading level0 row6\" >6</th>\n",
       "                        <td id=\"T_59978_row6_col0\" class=\"data row6 col0\" >0</td>\n",
       "                        <td id=\"T_59978_row6_col1\" class=\"data row6 col1\" >0</td>\n",
       "                        <td id=\"T_59978_row6_col2\" class=\"data row6 col2\" >0</td>\n",
       "                        <td id=\"T_59978_row6_col3\" class=\"data row6 col3\" >0</td>\n",
       "                        <td id=\"T_59978_row6_col4\" class=\"data row6 col4\" >0</td>\n",
       "                        <td id=\"T_59978_row6_col5\" class=\"data row6 col5\" >0</td>\n",
       "                        <td id=\"T_59978_row6_col6\" class=\"data row6 col6\" >0</td>\n",
       "                        <td id=\"T_59978_row6_col7\" class=\"data row6 col7\" >0</td>\n",
       "                        <td id=\"T_59978_row6_col8\" class=\"data row6 col8\" >0</td>\n",
       "                        <td id=\"T_59978_row6_col9\" class=\"data row6 col9\" >0</td>\n",
       "                        <td id=\"T_59978_row6_col10\" class=\"data row6 col10\" >249</td>\n",
       "                        <td id=\"T_59978_row6_col11\" class=\"data row6 col11\" >253</td>\n",
       "                        <td id=\"T_59978_row6_col12\" class=\"data row6 col12\" >245</td>\n",
       "                        <td id=\"T_59978_row6_col13\" class=\"data row6 col13\" >126</td>\n",
       "                        <td id=\"T_59978_row6_col14\" class=\"data row6 col14\" >0</td>\n",
       "                        <td id=\"T_59978_row6_col15\" class=\"data row6 col15\" >0</td>\n",
       "                        <td id=\"T_59978_row6_col16\" class=\"data row6 col16\" >0</td>\n",
       "                        <td id=\"T_59978_row6_col17\" class=\"data row6 col17\" >0</td>\n",
       "            </tr>\n",
       "            <tr>\n",
       "                        <th id=\"T_59978_level0_row7\" class=\"row_heading level0 row7\" >7</th>\n",
       "                        <td id=\"T_59978_row7_col0\" class=\"data row7 col0\" >0</td>\n",
       "                        <td id=\"T_59978_row7_col1\" class=\"data row7 col1\" >0</td>\n",
       "                        <td id=\"T_59978_row7_col2\" class=\"data row7 col2\" >0</td>\n",
       "                        <td id=\"T_59978_row7_col3\" class=\"data row7 col3\" >0</td>\n",
       "                        <td id=\"T_59978_row7_col4\" class=\"data row7 col4\" >0</td>\n",
       "                        <td id=\"T_59978_row7_col5\" class=\"data row7 col5\" >0</td>\n",
       "                        <td id=\"T_59978_row7_col6\" class=\"data row7 col6\" >0</td>\n",
       "                        <td id=\"T_59978_row7_col7\" class=\"data row7 col7\" >14</td>\n",
       "                        <td id=\"T_59978_row7_col8\" class=\"data row7 col8\" >101</td>\n",
       "                        <td id=\"T_59978_row7_col9\" class=\"data row7 col9\" >223</td>\n",
       "                        <td id=\"T_59978_row7_col10\" class=\"data row7 col10\" >253</td>\n",
       "                        <td id=\"T_59978_row7_col11\" class=\"data row7 col11\" >248</td>\n",
       "                        <td id=\"T_59978_row7_col12\" class=\"data row7 col12\" >124</td>\n",
       "                        <td id=\"T_59978_row7_col13\" class=\"data row7 col13\" >0</td>\n",
       "                        <td id=\"T_59978_row7_col14\" class=\"data row7 col14\" >0</td>\n",
       "                        <td id=\"T_59978_row7_col15\" class=\"data row7 col15\" >0</td>\n",
       "                        <td id=\"T_59978_row7_col16\" class=\"data row7 col16\" >0</td>\n",
       "                        <td id=\"T_59978_row7_col17\" class=\"data row7 col17\" >0</td>\n",
       "            </tr>\n",
       "            <tr>\n",
       "                        <th id=\"T_59978_level0_row8\" class=\"row_heading level0 row8\" >8</th>\n",
       "                        <td id=\"T_59978_row8_col0\" class=\"data row8 col0\" >0</td>\n",
       "                        <td id=\"T_59978_row8_col1\" class=\"data row8 col1\" >0</td>\n",
       "                        <td id=\"T_59978_row8_col2\" class=\"data row8 col2\" >0</td>\n",
       "                        <td id=\"T_59978_row8_col3\" class=\"data row8 col3\" >0</td>\n",
       "                        <td id=\"T_59978_row8_col4\" class=\"data row8 col4\" >0</td>\n",
       "                        <td id=\"T_59978_row8_col5\" class=\"data row8 col5\" >11</td>\n",
       "                        <td id=\"T_59978_row8_col6\" class=\"data row8 col6\" >166</td>\n",
       "                        <td id=\"T_59978_row8_col7\" class=\"data row8 col7\" >239</td>\n",
       "                        <td id=\"T_59978_row8_col8\" class=\"data row8 col8\" >253</td>\n",
       "                        <td id=\"T_59978_row8_col9\" class=\"data row8 col9\" >253</td>\n",
       "                        <td id=\"T_59978_row8_col10\" class=\"data row8 col10\" >253</td>\n",
       "                        <td id=\"T_59978_row8_col11\" class=\"data row8 col11\" >187</td>\n",
       "                        <td id=\"T_59978_row8_col12\" class=\"data row8 col12\" >30</td>\n",
       "                        <td id=\"T_59978_row8_col13\" class=\"data row8 col13\" >0</td>\n",
       "                        <td id=\"T_59978_row8_col14\" class=\"data row8 col14\" >0</td>\n",
       "                        <td id=\"T_59978_row8_col15\" class=\"data row8 col15\" >0</td>\n",
       "                        <td id=\"T_59978_row8_col16\" class=\"data row8 col16\" >0</td>\n",
       "                        <td id=\"T_59978_row8_col17\" class=\"data row8 col17\" >0</td>\n",
       "            </tr>\n",
       "            <tr>\n",
       "                        <th id=\"T_59978_level0_row9\" class=\"row_heading level0 row9\" >9</th>\n",
       "                        <td id=\"T_59978_row9_col0\" class=\"data row9 col0\" >0</td>\n",
       "                        <td id=\"T_59978_row9_col1\" class=\"data row9 col1\" >0</td>\n",
       "                        <td id=\"T_59978_row9_col2\" class=\"data row9 col2\" >0</td>\n",
       "                        <td id=\"T_59978_row9_col3\" class=\"data row9 col3\" >0</td>\n",
       "                        <td id=\"T_59978_row9_col4\" class=\"data row9 col4\" >0</td>\n",
       "                        <td id=\"T_59978_row9_col5\" class=\"data row9 col5\" >16</td>\n",
       "                        <td id=\"T_59978_row9_col6\" class=\"data row9 col6\" >248</td>\n",
       "                        <td id=\"T_59978_row9_col7\" class=\"data row9 col7\" >250</td>\n",
       "                        <td id=\"T_59978_row9_col8\" class=\"data row9 col8\" >253</td>\n",
       "                        <td id=\"T_59978_row9_col9\" class=\"data row9 col9\" >253</td>\n",
       "                        <td id=\"T_59978_row9_col10\" class=\"data row9 col10\" >253</td>\n",
       "                        <td id=\"T_59978_row9_col11\" class=\"data row9 col11\" >253</td>\n",
       "                        <td id=\"T_59978_row9_col12\" class=\"data row9 col12\" >232</td>\n",
       "                        <td id=\"T_59978_row9_col13\" class=\"data row9 col13\" >213</td>\n",
       "                        <td id=\"T_59978_row9_col14\" class=\"data row9 col14\" >111</td>\n",
       "                        <td id=\"T_59978_row9_col15\" class=\"data row9 col15\" >2</td>\n",
       "                        <td id=\"T_59978_row9_col16\" class=\"data row9 col16\" >0</td>\n",
       "                        <td id=\"T_59978_row9_col17\" class=\"data row9 col17\" >0</td>\n",
       "            </tr>\n",
       "            <tr>\n",
       "                        <th id=\"T_59978_level0_row10\" class=\"row_heading level0 row10\" >10</th>\n",
       "                        <td id=\"T_59978_row10_col0\" class=\"data row10 col0\" >0</td>\n",
       "                        <td id=\"T_59978_row10_col1\" class=\"data row10 col1\" >0</td>\n",
       "                        <td id=\"T_59978_row10_col2\" class=\"data row10 col2\" >0</td>\n",
       "                        <td id=\"T_59978_row10_col3\" class=\"data row10 col3\" >0</td>\n",
       "                        <td id=\"T_59978_row10_col4\" class=\"data row10 col4\" >0</td>\n",
       "                        <td id=\"T_59978_row10_col5\" class=\"data row10 col5\" >0</td>\n",
       "                        <td id=\"T_59978_row10_col6\" class=\"data row10 col6\" >0</td>\n",
       "                        <td id=\"T_59978_row10_col7\" class=\"data row10 col7\" >43</td>\n",
       "                        <td id=\"T_59978_row10_col8\" class=\"data row10 col8\" >98</td>\n",
       "                        <td id=\"T_59978_row10_col9\" class=\"data row10 col9\" >98</td>\n",
       "                        <td id=\"T_59978_row10_col10\" class=\"data row10 col10\" >208</td>\n",
       "                        <td id=\"T_59978_row10_col11\" class=\"data row10 col11\" >253</td>\n",
       "                        <td id=\"T_59978_row10_col12\" class=\"data row10 col12\" >253</td>\n",
       "                        <td id=\"T_59978_row10_col13\" class=\"data row10 col13\" >253</td>\n",
       "                        <td id=\"T_59978_row10_col14\" class=\"data row10 col14\" >253</td>\n",
       "                        <td id=\"T_59978_row10_col15\" class=\"data row10 col15\" >187</td>\n",
       "                        <td id=\"T_59978_row10_col16\" class=\"data row10 col16\" >22</td>\n",
       "                        <td id=\"T_59978_row10_col17\" class=\"data row10 col17\" >0</td>\n",
       "            </tr>\n",
       "    </tbody></table>"
      ],
      "text/plain": [
       "<pandas.io.formats.style.Styler at 0x134fc33d588>"
      ]
     },
     "execution_count": 15,
     "metadata": {},
     "output_type": "execute_result"
    }
   ],
   "source": [
    "img_3_t = tensor(img_3)\n",
    "df = pd.DataFrame(img_3_t[4:15,4:22])\n",
    "df.style.set_properties(**{'font-size':'6pt'}).background_gradient('Greys')"
   ]
  },
  {
   "cell_type": "markdown",
   "id": "746b3ba0-5e28-46ec-bef0-ec14d4205411",
   "metadata": {},
   "source": [
    "- Learning works best when you try to solve problems yourself, rather than just reading somebody else’s answers"
   ]
  },
  {
   "cell_type": "markdown",
   "id": "38e7d8af-9a73-44e4-94be-5f64af8e4e4f",
   "metadata": {},
   "source": [
    "### Baseline Approach \n",
    "Baselien model is a model that you are confident should perform reasonably well. It should be simple to implement and easy to test, so that you can then test each of your improved ideas and make sure they are always better than your baseline. \n",
    "\n",
    "Without starting with a sensible baseline, it is difficult to know whether your super-fancy models are any good.\n",
    "\n",
    "**Simple Baseline Solutions** \n",
    "1. Start with easy-to-implement model\n",
    "2. Download a model for the problem and try to improve it"
   ]
  },
  {
   "cell_type": "markdown",
   "id": "e901da30-87c1-402f-b04f-36c85a1236ad",
   "metadata": {},
   "source": [
    "### Pixel Similarity\n",
    "\n",
    "**Idea**\n",
    "\n",
    "We can  find the average pixel value for every pixel of the 3s, then do the same for the 7s."
   ]
  },
  {
   "cell_type": "code",
   "execution_count": 16,
   "id": "45362122-16a0-44fa-acbd-17671147ce9a",
   "metadata": {},
   "outputs": [
    {
     "data": {
      "text/plain": [
       "(6131, 6265)"
      ]
     },
     "execution_count": 16,
     "metadata": {},
     "output_type": "execute_result"
    }
   ],
   "source": [
    "sevens = [tensor(Image.open(number)) for number in sevens]\n",
    "threes = [tensor(Image.open(number)) for number in threes]\n",
    "len(threes), len(sevens)"
   ]
  },
  {
   "cell_type": "code",
   "execution_count": 17,
   "id": "b88d53a5-d123-4c0f-9c91-e4220fb7efba",
   "metadata": {},
   "outputs": [
    {
     "data": {
      "image/png": "[encoded data removed]",
      "text/plain": [
       "<Figure size 72x72 with 1 Axes>"
      ]
     },
     "metadata": {
      "needs_background": "light"
     },
     "output_type": "display_data"
    }
   ],
   "source": [
    "# look t at the image \n",
    "show_image(threes[1]);"
   ]
  },
  {
   "cell_type": "markdown",
   "id": "c977b43e-ed87-4ed3-8d02-8b07e33f72ac",
   "metadata": {},
   "source": [
    "For **every pixel position, we want to compute the average over all the images of the intensity of that pixel.** To do this, we first combine all the images in this list into a single three-dimensional tensor. The most common way to describe such a tensor is to call it a rank-3 tensor.\n",
    "\n",
    "**Important Note**\n",
    "\n",
    "- Pixel values are `integres` but after calculating the average values we will need `float` data type.\n",
    "- When images are `floats`, the pixel values are expected to be between 0 and 1, so we will also **divide by 255 here**"
   ]
  },
  {
   "cell_type": "code",
   "execution_count": 18,
   "id": "d1164cdd-fa62-4a57-8318-424c9a82224c",
   "metadata": {},
   "outputs": [
    {
     "data": {
      "text/plain": [
       "torch.Size([6131, 28, 28])"
      ]
     },
     "execution_count": 18,
     "metadata": {},
     "output_type": "execute_result"
    }
   ],
   "source": [
    "sevens = torch.stack(sevens).float()/255\n",
    "threes = torch.stack(threes).float()/255\n",
    "threes.shape"
   ]
  },
  {
   "cell_type": "markdown",
   "id": "c7100703-5ae4-4c87-b64d-0ecab3ef8ee4",
   "metadata": {},
   "source": [
    "- The most important attribute of a tensor is its `shape`\n",
    "- The length of a tensor’s shape is its `rank` - **rank is the number of axis or dimensions in a tensor**\n",
    "- `Shape` - the size of each axis of a tensor"
   ]
  },
  {
   "cell_type": "code",
   "execution_count": 19,
   "id": "2d33d2d7-2f1a-4f00-bf73-fcf2270f80f2",
   "metadata": {},
   "outputs": [
    {
     "name": "stdout",
     "output_type": "stream",
     "text": [
      "Tensor Rank:  3\n",
      "Tensor Rank:  3\n"
     ]
    }
   ],
   "source": [
    "print('Tensor Rank: ', len(threes.shape))\n",
    "print('Tensor Rank: ', threes.ndim)"
   ]
  },
  {
   "cell_type": "markdown",
   "id": "df0713cd-1752-462b-b2d4-9b8f47aa0731",
   "metadata": {},
   "source": [
    "Finally, we can compute what the ideal 3 looks like. We calculate the mean of all the image tensors by taking the mean along dimension 0 of our stacked, rank-3 tensor. In other words, for every pixel position, this will compute the average of that pixel over all images. The result will be one value for every pixel position, or a single image.\n",
    "\n",
    "Here it is:"
   ]
  },
  {
   "cell_type": "code",
   "execution_count": 20,
   "id": "2f88bb04-d922-47af-b950-f2528df2a9e4",
   "metadata": {},
   "outputs": [
    {
     "data": {
      "image/png": "[encoded data removed]",
      "text/plain": [
       "<Figure size 72x72 with 1 Axes>"
      ]
     },
     "metadata": {
      "needs_background": "light"
     },
     "output_type": "display_data"
    }
   ],
   "source": [
    "# Avg 3 img - ideal 3 for the current dataset\n",
    "mean_3 = threes.mean(0)\n",
    "show_image(mean_3);"
   ]
  },
  {
   "cell_type": "code",
   "execution_count": 21,
   "id": "ae7114ef-acec-4f87-b0e0-81ca741fc415",
   "metadata": {},
   "outputs": [
    {
     "data": {
      "image/png": "[encoded data removed]",
      "text/plain": [
       "<Figure size 72x72 with 1 Axes>"
      ]
     },
     "metadata": {
      "needs_background": "light"
     },
     "output_type": "display_data"
    }
   ],
   "source": [
    "# Avg 7\n",
    "mean_7 = sevens.mean(0)\n",
    "show_image(mean_7);"
   ]
  },
  {
   "cell_type": "markdown",
   "id": "6d357861-53f0-4bf4-a68d-96547736be00",
   "metadata": {},
   "source": [
    "Research shows that recall and understanding improve dramatically when you are engaged with the learning process by solving problems, experimenting, and trying new ideas yourself."
   ]
  },
  {
   "cell_type": "markdown",
   "id": "ec4d20f0-c223-4111-974d-af9db9dd41cc",
   "metadata": {},
   "source": [
    "Let’s now pick an arbitrary 3 and measure its distance from our “ideal digits.” Now we have to decide how to measure the distances between digits\n",
    "\n",
    "**Ideas**\n",
    "1. Take avg for ideal images and the one that we want to classify. Substract the values and assign that class for which we have the min value\n",
    "2. Use L1/L2 metrics (MAE/RMSE)"
   ]
  },
  {
   "cell_type": "code",
   "execution_count": 22,
   "id": "edba7f72-8a68-4370-a03a-2ba1eef19f5d",
   "metadata": {},
   "outputs": [
    {
     "data": {
      "image/png": "[encoded data removed]",
      "text/plain": [
       "<Figure size 72x72 with 1 Axes>"
      ]
     },
     "metadata": {
      "needs_background": "light"
     },
     "output_type": "display_data"
    }
   ],
   "source": [
    "# Take an img \n",
    "img_3 = threes[1]\n",
    "show_image(img_3);"
   ]
  },
  {
   "cell_type": "code",
   "execution_count": 23,
   "id": "7e657d7f-9d9a-4ffe-9e1b-8e71ad54d2e4",
   "metadata": {},
   "outputs": [],
   "source": [
    "def measure_distances(sel_img, ideal_3, ideal_7):\n",
    "    dist_3_mae = (sel_img - ideal_3).abs().mean()\n",
    "    dist_3_rmse = ((sel_img - ideal_3)**2).mean().sqrt()\n",
    "    \n",
    "    dist_7_mae = (sel_img - ideal_7).abs().mean()\n",
    "    dist_7_rmse = ((sel_img - ideal_7)**2).mean().sqrt()\n",
    "    return [dist_3_mae, dist_3_rmse], [dist_7_mae, dist_7_rmse]"
   ]
  },
  {
   "cell_type": "code",
   "execution_count": 24,
   "id": "eb92ad33-10a1-4cb2-921a-302d6a8b1f7f",
   "metadata": {},
   "outputs": [
    {
     "data": {
      "text/plain": [
       "([tensor(0.1114), tensor(0.2021)], [tensor(0.1586), tensor(0.3021)])"
      ]
     },
     "execution_count": 24,
     "metadata": {},
     "output_type": "execute_result"
    }
   ],
   "source": [
    "measure_distances(\n",
    "    sel_img=img_3,\n",
    "    ideal_3=mean_3,\n",
    "    ideal_7=mean_7\n",
    ")"
   ]
  },
  {
   "cell_type": "markdown",
   "id": "20f9dc1b-0dae-4252-8f1f-284b72cdc6b0",
   "metadata": {},
   "source": [
    "**PyTorch Loss Functions**\n",
    "\n",
    "PyTorch already provides both of these as loss functions. You’ll find these inside `torch.nn.functional`, which the PyTorch team recommends importing as `F`"
   ]
  },
  {
   "cell_type": "code",
   "execution_count": 25,
   "id": "059c5191-0857-413c-93d9-66f713ca0402",
   "metadata": {},
   "outputs": [
    {
     "data": {
      "text/plain": [
       "(tensor(0.1114), tensor(0.2021))"
      ]
     },
     "execution_count": 25,
     "metadata": {},
     "output_type": "execute_result"
    }
   ],
   "source": [
    "# Calculate the same using PyTorch \n",
    "F.l1_loss(img_3.float(), mean_3), F.mse_loss(img_3, mean_3).sqrt()"
   ]
  },
  {
   "cell_type": "markdown",
   "id": "74eb0dee-0763-4dad-99b0-61ecdc9e27e0",
   "metadata": {},
   "source": [
    "### NumPy Arrays and PyTorch Tensors\n",
    "- `NumPy` and `PyTorch` has similar API, **but PyTorch supports GPU, calculating gradients** - critical for DL\n",
    "- `NumPy` arrays and `PyTorch` tensors are thousands of times faster than using pure Python.\n",
    "- `NumPy` and `PyTorch` are wrapper for C\n",
    "- Arrays must have a single datatype!\n",
    "\n",
    "### NumPy and PyTorch Main Difference\n",
    "- NumPy can have `jagged array` - array of arrays where each array can have different shape and its own datatype\n",
    "- PyTorch cannot have `jagged array` - it is always a regularly shaped multidimensional rectangular structure"
   ]
  },
  {
   "cell_type": "code",
   "execution_count": 26,
   "id": "02835b06-6f3a-467f-bcbf-c606e2074a24",
   "metadata": {},
   "outputs": [
    {
     "data": {
      "text/plain": [
       "array([[1, 2, 3],\n",
       "       [4, 5, 6]])"
      ]
     },
     "metadata": {},
     "output_type": "display_data"
    },
    {
     "data": {
      "text/plain": [
       "tensor([[1, 2, 3],\n",
       "        [4, 5, 6]])"
      ]
     },
     "metadata": {},
     "output_type": "display_data"
    }
   ],
   "source": [
    "data = [\n",
    "    [1, 2, 3],\n",
    "    [4, 5, 6]\n",
    "]\n",
    "\n",
    "# NumPy Array (using FastAI)\n",
    "num_arr = array(data)\n",
    "torch_tensor = tensor(data)\n",
    "\n",
    "display(num_arr)\n",
    "display(torch_tensor)"
   ]
  },
  {
   "cell_type": "code",
   "execution_count": 27,
   "id": "f8e7f2d8-c228-48da-a18b-1d10762d03aa",
   "metadata": {},
   "outputs": [
    {
     "data": {
      "text/plain": [
       "'torch.LongTensor'"
      ]
     },
     "execution_count": 27,
     "metadata": {},
     "output_type": "execute_result"
    }
   ],
   "source": [
    "# Torch array type\n",
    "torch_tensor.type()"
   ]
  },
  {
   "cell_type": "markdown",
   "id": "4cc7853c-7360-4d21-8cca-5a9eb41e5419",
   "metadata": {},
   "source": [
    "- datatype automatically changes using math operations"
   ]
  },
  {
   "cell_type": "code",
   "execution_count": 28,
   "id": "6da796e9-8665-4b57-b319-db05c9be6369",
   "metadata": {},
   "outputs": [
    {
     "data": {
      "text/plain": [
       "tensor([[1.5000, 3.0000, 4.5000],\n",
       "        [6.0000, 7.5000, 9.0000]])"
      ]
     },
     "execution_count": 28,
     "metadata": {},
     "output_type": "execute_result"
    }
   ],
   "source": [
    "torch_tensor*1.5"
   ]
  },
  {
   "cell_type": "markdown",
   "id": "5b788772-d595-47cc-b711-3915a17f5fb0",
   "metadata": {},
   "source": [
    "### Baseline Testing \n",
    "Let's test our baseline solution for validation set"
   ]
  },
  {
   "cell_type": "code",
   "execution_count": 30,
   "id": "261ff651-98bb-482a-b407-a99053eec5e2",
   "metadata": {},
   "outputs": [
    {
     "data": {
      "text/plain": [
       "(torch.Size([1010, 28, 28]), torch.Size([1028, 28, 28]))"
      ]
     },
     "execution_count": 30,
     "metadata": {},
     "output_type": "execute_result"
    }
   ],
   "source": [
    "# Download val data\n",
    "val_3_imgs = torch.stack([\n",
    "    tensor(Image.open(number)) for number in (path/'valid'/'3').ls()\n",
    "])\n",
    "\n",
    "val_7_imgs = torch.stack([\n",
    "    tensor(Image.open(number)) for number in (path/'valid'/'7').ls()\n",
    "])\n",
    "\n",
    "# Change datatype\n",
    "val_3_imgs = val_3_imgs.float()/255\n",
    "val_7_imgs = val_7_imgs.float()/255\n",
    "\n",
    "val_3_imgs.shape, val_7_imgs.shape"
   ]
  },
  {
   "cell_type": "code",
   "execution_count": 43,
   "id": "89ee5aca-b0e5-409b-9997-ac7583674c54",
   "metadata": {},
   "outputs": [],
   "source": [
    "# Distance calculation\n",
    "def compute_distance(x, y, metric='rmse'):\n",
    "    if metric=='rmse':\n",
    "        return F.mse_loss(x, y).sqrt()\n",
    "    else:\n",
    "        return F.l1_loss(x, y)"
   ]
  },
  {
   "cell_type": "code",
   "execution_count": 44,
   "id": "9604dc63-a685-44a6-9e52-cddebf454b2c",
   "metadata": {},
   "outputs": [
    {
     "data": {
      "text/plain": [
       "tensor(0.2021)"
      ]
     },
     "execution_count": 44,
     "metadata": {},
     "output_type": "execute_result"
    }
   ],
   "source": [
    "# Single example distance \n",
    "compute_distance(\n",
    "    x=img_3,\n",
    "    y=mean_3,\n",
    "    metric='rmse'\n",
    ")"
   ]
  },
  {
   "cell_type": "markdown",
   "id": "2655974e-cbaf-480e-a0e5-67d400f0efb5",
   "metadata": {},
   "source": [
    "### Distances between all examples \n",
    "- Use loop for val_3_imgs (not fast solution)\n",
    "- Use PyTorch tensor and get the distances for all examples in this tensor once\n",
    "\n",
    "PyTorch is not going to complain that shapes not matching instead it will use `broadcasting`"
   ]
  },
  {
   "cell_type": "code",
   "execution_count": 49,
   "id": "ed151977-f7da-4fa8-bda8-316e298f6d33",
   "metadata": {},
   "outputs": [
    {
     "name": "stderr",
     "output_type": "stream",
     "text": [
      "c:\\users\\vlad\\appdata\\local\\programs\\python\\python37\\lib\\site-packages\\ipykernel_launcher.py:6: UserWarning: Using a target size (torch.Size([28, 28])) that is different to the input size (torch.Size([1010, 28, 28])). This will likely lead to incorrect results due to broadcasting. Please ensure they have the same size.\n",
      "  \n"
     ]
    },
    {
     "data": {
      "text/plain": [
       "(tensor(0.1296), torch.Size([]))"
      ]
     },
     "execution_count": 49,
     "metadata": {},
     "output_type": "execute_result"
    }
   ],
   "source": [
    "val_3_distances = compute_distance(\n",
    "    x=val_3_imgs,\n",
    "    y=mean_3,\n",
    "    metric='mae'\n",
    ")\n",
    "\n",
    "val_3_distances, val_3_distances.shape"
   ]
  },
  {
   "cell_type": "code",
   "execution_count": 50,
   "id": "4604c5b7-d7fe-4601-a134-878033e43a25",
   "metadata": {},
   "outputs": [],
   "source": [
    "# Function that tells if the number is 3\n",
    "def is_3(number, metric='rmse'):\n",
    "    return compute_distance(number, mean_3, metric) < compute_distance(number, mean_7, metric)"
   ]
  },
  {
   "cell_type": "code",
   "execution_count": 51,
   "id": "1d6ba5ed-72d8-403e-9a43-01e26cbdea5a",
   "metadata": {},
   "outputs": [
    {
     "name": "stderr",
     "output_type": "stream",
     "text": [
      "c:\\users\\vlad\\appdata\\local\\programs\\python\\python37\\lib\\site-packages\\ipykernel_launcher.py:6: UserWarning: Using a target size (torch.Size([28, 28])) that is different to the input size (torch.Size([1010, 28, 28])). This will likely lead to incorrect results due to broadcasting. Please ensure they have the same size.\n",
      "  \n"
     ]
    },
    {
     "data": {
      "text/plain": [
       "tensor(True)"
      ]
     },
     "execution_count": 51,
     "metadata": {},
     "output_type": "execute_result"
    }
   ],
   "source": [
    "# Apply to the val set of 3s\n",
    "is_3(val_3_imgs, metric='mae')"
   ]
  },
  {
   "cell_type": "markdown",
   "id": "eef2b870-fe0f-4bd6-b2c8-52058c39cd69",
   "metadata": {},
   "source": [
    "Now we can calculate the accuracy for each of the 3s and 7s, by taking the average of that function for all 3s and its inverse for all 7s:"
   ]
  },
  {
   "cell_type": "code",
   "execution_count": 52,
   "id": "955bf4d5-67fc-483a-bf55-9c64f9f5fb27",
   "metadata": {},
   "outputs": [
    {
     "name": "stdout",
     "output_type": "stream",
     "text": [
      "Accuracy 3s:  tensor(1.)\n",
      "Accuracy 7s:  tensor(1.)\n",
      "Avg Model Accuracy:  tensor(1.)\n"
     ]
    },
    {
     "name": "stderr",
     "output_type": "stream",
     "text": [
      "c:\\users\\vlad\\appdata\\local\\programs\\python\\python37\\lib\\site-packages\\ipykernel_launcher.py:4: UserWarning: Using a target size (torch.Size([28, 28])) that is different to the input size (torch.Size([1010, 28, 28])). This will likely lead to incorrect results due to broadcasting. Please ensure they have the same size.\n",
      "  after removing the cwd from sys.path.\n",
      "c:\\users\\vlad\\appdata\\local\\programs\\python\\python37\\lib\\site-packages\\ipykernel_launcher.py:4: UserWarning: Using a target size (torch.Size([28, 28])) that is different to the input size (torch.Size([1028, 28, 28])). This will likely lead to incorrect results due to broadcasting. Please ensure they have the same size.\n",
      "  after removing the cwd from sys.path.\n"
     ]
    }
   ],
   "source": [
    "accuracy_3s = is_3(val_3_imgs).float().mean()\n",
    "accuracy_7s = (1 - is_3(val_7_imgs).float()).mean()\n",
    "\n",
    "print('Accuracy 3s: ', accuracy_3s)\n",
    "print('Accuracy 7s: ', accuracy_7s)\n",
    "print('Avg Model Accuracy: ', (accuracy_3s + accuracy_7s)/2)"
   ]
  },
  {
   "cell_type": "markdown",
   "id": "5c585deb-300e-4405-b318-97cd9ae1b9a4",
   "metadata": {},
   "source": [
    "This looks like a pretty good start! We’re getting over 90% accuracy on both 3s and 7s, and we’ve seen how to define a metric conveniently using broadcasting. But let’s be honest: **3s and 7s are very different-looking digits.** \n",
    "\n",
    "**We’re classifying only 2 out of the 10** possible digits so far. So we’re going to need to do better!"
   ]
  },
  {
   "cell_type": "markdown",
   "id": "cf040f5a-ba1c-4211-b4ab-80d37f18fa62",
   "metadata": {},
   "source": [
    "### Stochastic Gradient Descend \n",
    "Instead of trying to find the similarity between an image and an “ideal image,” we could instead **look at each individual pixel and come up with a set of weights for each**, such that the highest weights are associated with those pixels most likely to be black for a particular category. \n",
    "\n",
    "For instance, pixels toward the bottom right are not very likely to be activated for a 7. This can be represented as a function and set of weight values for each possible category, for instance, the probability of being the number 8:"
   ]
  },
  {
   "cell_type": "code",
   "execution_count": 53,
   "id": "dcdee3bd-3e3b-43ce-8667-fa4e666f58dc",
   "metadata": {},
   "outputs": [],
   "source": [
    "def proba_eight(x, w): return (x.w).sum()"
   ]
  },
  {
   "attachments": {
    "7b59426c-697a-4a4b-a463-f29e3a81a547.png": {
     "image/png": "[encoded data removed]"
    }
   },
   "cell_type": "markdown",
   "id": "fb5389c8-6772-4f03-816e-2d0123600f9a",
   "metadata": {},
   "source": [
    "Searching for the best vector W is a way to search for the best function for recognizing 8s.\n",
    "\n",
    "### Key Steps for Training All DL Models  \n",
    "1. Initialize the weights\n",
    "2. Make prediction for each example/observation\n",
    "3. Base on these predictions, calculate how good a model is (its loss)\n",
    "4. Calculate the gradient, which measures for each weight how changing that weightwould change the loss\n",
    "5. Change all weights based on the gradient \n",
    "6. Repeat from step 2 to 5 util you decide to stop the training process (metric is good, other rules)\n",
    "\n",
    "![image.png](attachment:7b59426c-697a-4a4b-a463-f29e3a81a547.png)"
   ]
  },
  {
   "cell_type": "markdown",
   "id": "3382bcb2-8af0-4f70-895f-a7f77653cfaa",
   "metadata": {},
   "source": [
    "**Initialize**\n",
    "\n",
    "We initialize the parameters to random values. This may sound surprising. There are certainly other choices we could make, such as initializing them to the percentage of times that pixel is activated for that category—but since we already know that we have a routine to improve these weights, it turns out that just starting with random weights works perfectly well. \n",
    "\n",
    "**Loss**\n",
    "\n",
    "We need a function that will return a number that is small if the performance of the model is good.\n",
    "\n",
    "**Step**\n",
    "\n",
    "Increase the weight by a small amount, and see if the loss goes up or down. Once you find the correct direction, you could then change that amount by a bit more, or a bit less, until you find an amount that works well. However, this is slow! As we will see, the magic of calculus allows\n",
    "us to directly figure out in which direction, and by roughly how much, to change each weight, without having to try all these small changes. The way to do this is by calculating gradients.\n",
    "\n",
    "**Stop**\n",
    "\n",
    "Once we’ve decided how many epochs to train the model for (a few suggestions for this were given in the earlier list), we apply that decision. For our digit classifier, we would keep training until the accuracy of the model started getting worse, or we ran out of time"
   ]
  },
  {
   "cell_type": "markdown",
   "id": "66491d07-df54-4cc1-8264-c9b9d854727e",
   "metadata": {},
   "source": [
    "### Simple Loss Example\n",
    "Let's pretend that our loss - quadratic function "
   ]
  },
  {
   "cell_type": "code",
   "execution_count": 54,
   "id": "dfde29a2-600f-4182-bfd0-d0b2c4b6a119",
   "metadata": {},
   "outputs": [],
   "source": [
    "import matplotlib.pyplot as plt"
   ]
  },
  {
   "cell_type": "code",
   "execution_count": 55,
   "id": "b77f004f-28ad-44b2-8fe9-9648b72a8ea2",
   "metadata": {},
   "outputs": [
    {
     "data": {
      "image/png": "[encoded data removed]",
      "text/plain": [
       "<Figure size 432x288 with 1 Axes>"
      ]
     },
     "metadata": {
      "needs_background": "light"
     },
     "output_type": "display_data"
    }
   ],
   "source": [
    "x_range = np.arange(-2, 2.5, 0.5)\n",
    "def f(x): return x**2\n",
    "\n",
    "plt.plot(x_range, f(x_range))\n",
    "plt.scatter(-1.5, f(-1.5), color='red');"
   ]
  },
  {
   "cell_type": "code",
   "execution_count": 56,
   "id": "d50e8402-32ac-4077-b78b-9550ec7d38c3",
   "metadata": {},
   "outputs": [
    {
     "data": {
      "image/png": "[encoded data removed]",
      "text/plain": [
       "<Figure size 432x288 with 1 Axes>"
      ]
     },
     "metadata": {
      "needs_background": "light"
     },
     "output_type": "display_data"
    }
   ],
   "source": [
    "# 1st step: random weight initialization, loss calculation\n",
    "\n",
    "plt.plot(x_range, f(x_range))\n",
    "plt.scatter(-1.5, f(-1.5), color='red');"
   ]
  },
  {
   "cell_type": "markdown",
   "id": "01b4964c-0624-4352-85de-475e8c844f98",
   "metadata": {},
   "source": [
    "We need to change the weight in the direction of the slope, calculate the loss and adjust the weight again until we are in the function minima.\n",
    "\n",
    "Isaac Newton, who pointed out that we can optimize arbitrary functions in this way. **Regardless of how complicated our functions become,** this basic approach of gradient descent will not significantly change. The only minor changes we will see later in this book are some **handy ways** we can make it faster, by finding better steps.\n",
    "\n",
    "### The Gradients \n",
    "The gradients will tell us how much we have to change each weight to make our model better. The derivative of a function tells you how much a change in its parameters will change its result (**it calculates the change, rather than the value**)\n",
    "\n",
    "When we know how our function will change, we know what we need to do to make it smaller\n",
    "\n",
    "**PyTorch is able to automatically compute the derivative of nearly any function** What’s more, it does it very fast. Most of the time, it will\n",
    "be at least as fast as any derivative function that you can create by hand. Let’s see an example."
   ]
  },
  {
   "cell_type": "raw",
   "id": "993f769e-dc84-4c38-8317-a1f6a4b92942",
   "metadata": {},
   "source": [
    "# let’s pick a tensor value at which we want gradients\n",
    "x = tensor(3).requires_grad()"
   ]
  },
  {
   "cell_type": "markdown",
   "id": "ad78eb53-ceaa-43b7-92de-24b09ef78f77",
   "metadata": {},
   "source": [
    "Method `requires_grad` tells that we want to calculate gradients with respect to that variable at that value.\n",
    "\n",
    "**Important**\n",
    "\n",
    "In deep learning, “gradient” usually means the value of a function’s derivative at a particular\n",
    "argument value. The PyTorch API also **puts the focus on the argument, not the function** you’re actually computing the gradients of."
   ]
  },
  {
   "cell_type": "raw",
   "id": "b1b83108-46f8-4d83-aee3-9512058de661",
   "metadata": {},
   "source": [
    "y = f(x)\n",
    "y"
   ]
  },
  {
   "cell_type": "raw",
   "id": "e042333e-b2f6-458a-aba3-c77239c5181e",
   "metadata": {},
   "source": [
    "# Tell PyTorch to calculate the gradients\n",
    "y.backward() # The “backward” refers to backpropagation"
   ]
  },
  {
   "cell_type": "raw",
   "id": "40085159-5567-41a3-b93c-4040bd552f8f",
   "metadata": {},
   "source": [
    "# View the gradients\n",
    "x.grad"
   ]
  },
  {
   "cell_type": "code",
   "execution_count": 58,
   "id": "6f7771fd-fbd5-4d89-bb57-8d265b3fd7ad",
   "metadata": {},
   "outputs": [
    {
     "data": {
      "text/plain": [
       "tensor([ 3.,  4., 10.], requires_grad=True)"
      ]
     },
     "execution_count": 58,
     "metadata": {},
     "output_type": "execute_result"
    }
   ],
   "source": [
    "# Repeat the steps but using a vector argument\n",
    "val = tensor([3.,4.,10.]).requires_grad_()\n",
    "val"
   ]
  },
  {
   "cell_type": "code",
   "execution_count": 59,
   "id": "7860446b-de8c-4c8a-9067-b0abe5a0053e",
   "metadata": {},
   "outputs": [
    {
     "data": {
      "text/plain": [
       "tensor(125., grad_fn=<SumBackward0>)"
      ]
     },
     "execution_count": 59,
     "metadata": {},
     "output_type": "execute_result"
    }
   ],
   "source": [
    "# Define new function\n",
    "def f(x): return (x**2).sum()\n",
    "y = f(val)\n",
    "y"
   ]
  },
  {
   "cell_type": "code",
   "execution_count": 60,
   "id": "ec611d09-e1d1-4d26-9dad-b8202a4ef3b7",
   "metadata": {},
   "outputs": [
    {
     "data": {
      "text/plain": [
       "tensor([ 6.,  8., 20.])"
      ]
     },
     "execution_count": 60,
     "metadata": {},
     "output_type": "execute_result"
    }
   ],
   "source": [
    "# Find the gradients \n",
    "y.backward()\n",
    "val.grad"
   ]
  },
  {
   "cell_type": "markdown",
   "id": "82b21010-26f2-4435-a424-8610978049fb",
   "metadata": {},
   "source": [
    "### Stepping with a Learning Rate\n",
    "Deciding how to change our parameters based on the values of the gradients is an important part of the deep learning process. Nearly all approaches start with the basic idea of multiplying the gradient by some small number, called the learning rate (LR)\n",
    "\n",
    "- learning rate is often a number between 0.001 and 0.1, but can be any value\n",
    "\n",
    "The weights are adjusted using: `w -= w.grad * LR`"
   ]
  },
  {
   "cell_type": "code",
   "execution_count": 61,
   "id": "b7268f52-6e8a-472b-b618-189abf487f4b",
   "metadata": {},
   "outputs": [
    {
     "data": {
      "text/plain": [
       "tensor([ 6.,  8., 20.])"
      ]
     },
     "execution_count": 61,
     "metadata": {},
     "output_type": "execute_result"
    }
   ],
   "source": [
    "LR = 0.1\n",
    "val.grad "
   ]
  },
  {
   "cell_type": "markdown",
   "id": "465b63f7-b00c-4318-b00b-b4dc01ec54ee",
   "metadata": {},
   "source": [
    "### Learning Rate Value\n",
    "- **Too low:** have to do many steps to converge\n",
    "- **Too big:** it will jump the optima and diverge; It also may bounce"
   ]
  },
  {
   "cell_type": "markdown",
   "id": "061f5f87-df72-4c79-95ef-ea36c75ced7a",
   "metadata": {},
   "source": [
    "### SGD Example \n",
    "Imagine you were measuring the speed of a roller coaster as it went over the top of a hump. It would start fast, and then get slower as it went up the hill; it would be slowest at the top, and it would then speed up again as it went downhill. You want to build a model of how the speed changes over time. If you were measuring the speed manually every second for 20 seconds, it might look something like this"
   ]
  },
  {
   "cell_type": "code",
   "execution_count": 62,
   "id": "77f8c349-5af8-417e-b8ab-ddb16b66b42d",
   "metadata": {},
   "outputs": [
    {
     "data": {
      "text/plain": [
       "tensor([ 0.,  1.,  2.,  3.,  4.,  5.,  6.,  7.,  8.,  9., 10., 11., 12., 13.,\n",
       "        14., 15., 16., 17., 18., 19.])"
      ]
     },
     "execution_count": 62,
     "metadata": {},
     "output_type": "execute_result"
    }
   ],
   "source": [
    "time = torch.arange(0,20).float()\n",
    "time"
   ]
  },
  {
   "cell_type": "code",
   "execution_count": 63,
   "id": "d34619b3-fa3b-434b-8e47-35efd679f844",
   "metadata": {},
   "outputs": [
    {
     "data": {
      "image/png": "[encoded data removed]",
      "text/plain": [
       "<Figure size 432x288 with 1 Axes>"
      ]
     },
     "metadata": {
      "needs_background": "light"
     },
     "output_type": "display_data"
    }
   ],
   "source": [
    "speed = torch.randn(20)*3 + 0.75*(time-9.5)**2 + 1 # bx + ax^2 + c\n",
    "plt.scatter(time, speed);"
   ]
  },
  {
   "cell_type": "markdown",
   "id": "bd72799e-5854-4265-800e-b46bc72cf877",
   "metadata": {},
   "source": [
    "We’ve added a bit of random noise. Using SGD, we can try to find a function that matches our observations. We can’t consider every possible function, so let’s use a guess that it will be quadratic (i.e. a function of the form `a*(time**2)+(b*time)+c`)"
   ]
  },
  {
   "cell_type": "code",
   "execution_count": 64,
   "id": "e9070c0d-6978-41dd-b2c6-d92a31f2ca2f",
   "metadata": {},
   "outputs": [],
   "source": [
    "# Define the assumed function \n",
    "def f(t, params):\n",
    "    a, b, c = params\n",
    "    return a*(t**2) + (b*t) + c"
   ]
  },
  {
   "cell_type": "markdown",
   "id": "c59d5e57-95d2-4763-81d6-7aea03526022",
   "metadata": {},
   "source": [
    "To find the best quadratic function, we need to find only the best values for a, b, and c (weights/parameters)\n",
    "\n",
    "1. We need to define what we mean by “best.” We define this precisely by choosin a loss function, which will return a value based on a prediction and a target, where lower values of the function correspond to “better” predictions. For continuous data, it’s common to use `MSE`"
   ]
  },
  {
   "cell_type": "code",
   "execution_count": 65,
   "id": "ac0db483-bf58-4749-9070-d158b1b43d8b",
   "metadata": {},
   "outputs": [],
   "source": [
    "# Define Loss function\n",
    "def mse(preds, targets):\n",
    "    return ((preds - targets)**2).mean()"
   ]
  },
  {
   "cell_type": "markdown",
   "id": "bf449fdf-9568-4270-acc3-abbf0197d6d2",
   "metadata": {},
   "source": [
    "**1. Initialize the parameters**\n",
    "\n",
    "First, we initialize the parameters to random values and tell PyTorch that we want to track their gradients using requires_grad_:"
   ]
  },
  {
   "cell_type": "code",
   "execution_count": 66,
   "id": "dd99d915-43f4-4a1e-ab74-0fd88fa0ba33",
   "metadata": {},
   "outputs": [
    {
     "data": {
      "text/plain": [
       "tensor([-0.3835,  1.4807,  0.0244], requires_grad=True)"
      ]
     },
     "execution_count": 66,
     "metadata": {},
     "output_type": "execute_result"
    }
   ],
   "source": [
    "params = torch.randn(3).requires_grad_() #  randomly initialize a, b, c\n",
    "params"
   ]
  },
  {
   "cell_type": "markdown",
   "id": "8f370aa6-58ec-42b4-81cf-c70a49ac614e",
   "metadata": {},
   "source": [
    "**2. Calculate the predictions**"
   ]
  },
  {
   "cell_type": "code",
   "execution_count": 67,
   "id": "c3fed90c-583f-4169-a81d-781198048154",
   "metadata": {},
   "outputs": [
    {
     "data": {
      "text/plain": [
       "tensor([ 2.4428e-02,  1.1216e+00,  1.4519e+00,  1.0151e+00, -1.8853e-01,\n",
       "        -2.1591e+00, -4.8967e+00, -8.4012e+00, -1.2673e+01, -1.7711e+01,\n",
       "        -2.3517e+01, -3.0089e+01, -3.7428e+01, -4.5534e+01, -5.4408e+01,\n",
       "        -6.4048e+01, -7.4455e+01, -8.5629e+01, -9.7570e+01, -1.1028e+02],\n",
       "       grad_fn=<AddBackward0>)"
      ]
     },
     "execution_count": 67,
     "metadata": {},
     "output_type": "execute_result"
    }
   ],
   "source": [
    "preds = f(time, params)\n",
    "preds"
   ]
  },
  {
   "cell_type": "code",
   "execution_count": 68,
   "id": "66d946dd-97d6-408a-ae8a-b26d63793ff4",
   "metadata": {},
   "outputs": [
    {
     "data": {
      "image/png": "[encoded data removed]",
      "text/plain": [
       "<Figure size 432x288 with 1 Axes>"
      ]
     },
     "metadata": {
      "needs_background": "light"
     },
     "output_type": "display_data"
    }
   ],
   "source": [
    "# Let's see how close our predictions are to our targets\n",
    "def show_preds(preds, ax=None):\n",
    "    if ax is None: ax=plt.subplots()[1]\n",
    "    ax.scatter(time, speed)\n",
    "    ax.scatter(time, to_np(preds), color='red')\n",
    "    ax.set_ylim(-300,100)\n",
    "    \n",
    "show_preds(preds)"
   ]
  },
  {
   "cell_type": "markdown",
   "id": "a71609aa-781f-4ccb-8e63-b1ca528db201",
   "metadata": {},
   "source": [
    "The predictions are very bad!!!\n",
    "\n",
    "**3. Calculate the loss**"
   ]
  },
  {
   "cell_type": "code",
   "execution_count": 69,
   "id": "1f158626-f337-428a-99ce-403b44ef1c21",
   "metadata": {},
   "outputs": [
    {
     "data": {
      "text/plain": [
       "tensor(5976.6064, grad_fn=<MeanBackward0>)"
      ]
     },
     "execution_count": 69,
     "metadata": {},
     "output_type": "execute_result"
    }
   ],
   "source": [
    "loss = mse(preds, speed)\n",
    "loss"
   ]
  },
  {
   "cell_type": "markdown",
   "id": "cd4c1298-8215-41a7-8879-e840c2a79eb0",
   "metadata": {},
   "source": [
    "Now we need to decrease the loss. To do that, **we’ll need to know the gradients**\n",
    "\n",
    "**4. Calculate the gradients**\n"
   ]
  },
  {
   "cell_type": "code",
   "execution_count": 70,
   "id": "4c908616-4d65-4e8e-8837-8ed281272745",
   "metadata": {},
   "outputs": [
    {
     "data": {
      "text/plain": [
       "tensor([-24381.9922,  -1537.2554,   -120.4224])"
      ]
     },
     "execution_count": 70,
     "metadata": {},
     "output_type": "execute_result"
    }
   ],
   "source": [
    "loss.backward()\n",
    "params.grad"
   ]
  },
  {
   "cell_type": "code",
   "execution_count": 71,
   "id": "ba83e483-1ef0-440c-8e7f-90ca380d33b7",
   "metadata": {},
   "outputs": [
    {
     "data": {
      "text/plain": [
       "tensor([-0.2438, -0.0154, -0.0012])"
      ]
     },
     "execution_count": 71,
     "metadata": {},
     "output_type": "execute_result"
    }
   ],
   "source": [
    "# Multiply the gradients by LR\n",
    "params.grad * 1e-5"
   ]
  },
  {
   "cell_type": "markdown",
   "id": "fc9e0b9d-9a44-4783-b50f-368a925a0f78",
   "metadata": {},
   "source": [
    "**5. Update the Weights**\n",
    "\n",
    "Now we need to update the parameters based on the gradients we just calculated (use the Gradient Descent Rule)"
   ]
  },
  {
   "cell_type": "code",
   "execution_count": 72,
   "id": "e58382ba-e541-4802-85cb-57c9ce60b239",
   "metadata": {},
   "outputs": [
    {
     "name": "stdout",
     "output_type": "stream",
     "text": [
      "Weights Before Update:  tensor([-0.3835,  1.4807,  0.0244])\n",
      "Weights After Update:  tensor([-0.1397,  1.4960,  0.0256])\n"
     ]
    }
   ],
   "source": [
    "LR = 1e-5\n",
    "def update_weights(weights, lr_rate, grad):\n",
    "    return weights - lr_rate * grad\n",
    "\n",
    "print('Weights Before Update: ', params.data)\n",
    "params.data = update_weights(\n",
    "    params.data,\n",
    "    lr_rate=LR,\n",
    "    grad=params.grad\n",
    ")\n",
    "\n",
    "print('Weights After Update: ', params.data)"
   ]
  },
  {
   "cell_type": "markdown",
   "id": "e83b0d87-7010-46af-bf89-5e39818bb544",
   "metadata": {},
   "source": [
    "**Important**\n",
    "\n",
    "After updating the weights, we have new weigths. If we call `params.grad` it will return the old gradients for previos parameters. To get the gradients for new parameters we need to call `params.requires_grad_()` then use `loss.backward()` and only then can get new gradients"
   ]
  },
  {
   "cell_type": "code",
   "execution_count": 73,
   "id": "56c38c24-7538-46b0-91b6-d0be84e500b4",
   "metadata": {},
   "outputs": [
    {
     "data": {
      "text/plain": [
       "tensor(1694.1211, grad_fn=<MeanBackward0>)"
      ]
     },
     "execution_count": 73,
     "metadata": {},
     "output_type": "execute_result"
    }
   ],
   "source": [
    "# let's see if the loss has improved \n",
    "preds = f(time, params)\n",
    "mse(preds, speed)"
   ]
  },
  {
   "cell_type": "markdown",
   "id": "490c49ee-14c7-4e56-89c8-e6e6bc614789",
   "metadata": {},
   "source": [
    "**The loss did decreased**"
   ]
  },
  {
   "cell_type": "code",
   "execution_count": 74,
   "id": "24384beb-bf03-45f5-bc32-da86f6c40ece",
   "metadata": {},
   "outputs": [
    {
     "data": {
      "image/png": "[encoded data removed]",
      "text/plain": [
       "<Figure size 432x288 with 1 Axes>"
      ]
     },
     "metadata": {
      "needs_background": "light"
     },
     "output_type": "display_data"
    }
   ],
   "source": [
    "show_preds(preds)"
   ]
  },
  {
   "cell_type": "markdown",
   "id": "d677d7a2-38a1-4db8-83b2-27256621dd74",
   "metadata": {},
   "source": [
    "The algorithm is iterative. Let's put all together in a single function"
   ]
  },
  {
   "cell_type": "code",
   "execution_count": 75,
   "id": "9f6d7fb5-525c-4996-b337-2e2992b88b75",
   "metadata": {},
   "outputs": [],
   "source": [
    "def run_gd(params, lr_rate, n_repeat, show_loss=True):\n",
    "    for _ in range(n_repeat):\n",
    "        preds = f(time, params)\n",
    "        loss = mse(preds, target)\n",
    "        loss.backward() # tell that we need the gradients for this function\n",
    "        params.data = update_weights( # get new weights \n",
    "            weights=params.data,\n",
    "            grad=params.grad,\n",
    "            lr_rate=lr_rate\n",
    "        )\n",
    "        params.grad = None\n",
    "        if show_loss:\n",
    "            print(loss.item())\n",
    "    return preds"
   ]
  },
  {
   "cell_type": "code",
   "execution_count": 76,
   "id": "5bd99a2d-2b34-420e-84ae-3ec98d02cd3a",
   "metadata": {},
   "outputs": [
    {
     "name": "stdout",
     "output_type": "stream",
     "text": [
      "58152.60546875\n",
      "11564.5888671875\n",
      "2748.70703125\n",
      "1080.4671630859375\n",
      "764.7786865234375\n",
      "705.0343627929688\n",
      "693.7222900390625\n",
      "691.5753173828125\n",
      "691.16259765625\n",
      "691.0779418945312\n"
     ]
    },
    {
     "data": {
      "text/plain": [
       "tensor([-0.5820, -1.6147, -2.1888, -2.3042, -1.9611, -1.1594,  0.1010,  1.8199,\n",
       "         3.9974,  6.6335,  9.7282, 13.2815, 17.2934, 21.7639, 26.6929, 32.0806,\n",
       "        37.9269, 44.2317, 50.9952, 58.2172], grad_fn=<AddBackward0>)"
      ]
     },
     "execution_count": 76,
     "metadata": {},
     "output_type": "execute_result"
    }
   ],
   "source": [
    "target = speed\n",
    "time = torch.arange(0, 20).float()\n",
    "lr_rate = 1e-5\n",
    "\n",
    "# Params initialization\n",
    "params = torch.randn(3).requires_grad_()\n",
    "\n",
    "# Optimize the function \n",
    "run_gd(params, lr_rate, n_repeat=10)"
   ]
  }
 ],
 "metadata": {
  "kernelspec": {
   "display_name": "Python 3",
   "language": "python",
   "name": "python3"
  },
  "language_info": {
   "codemirror_mode": {
    "name": "ipython",
    "version": 3
   },
   "file_extension": ".py",
   "mimetype": "text/x-python",
   "name": "python",
   "nbconvert_exporter": "python",
   "pygments_lexer": "ipython3",
   "version": "3.7.9"
  }
 },
 "nbformat": 4,
 "nbformat_minor": 5
}
