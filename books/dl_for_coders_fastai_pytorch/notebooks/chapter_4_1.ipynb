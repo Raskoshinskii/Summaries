{
 "cells": [
  {
   "cell_type": "markdown",
   "id": "5697cbb9-e09d-42b8-bae6-765f3f4b028b",
   "metadata": {},
   "source": [
    "### MNIST Digit Recognizer"
   ]
  },
  {
   "cell_type": "code",
   "execution_count": 1,
   "id": "9ee16c4a-727c-4bb5-9999-0fbb8aed43cc",
   "metadata": {},
   "outputs": [],
   "source": [
    "from fastai.vision.all import *"
   ]
  },
  {
   "cell_type": "code",
   "execution_count": 2,
   "id": "e75d4f77-7d4b-459c-ad5c-a57a5375ac0f",
   "metadata": {},
   "outputs": [],
   "source": [
    "# imgs location \n",
    "path = untar_data(URLs.MNIST_SAMPLE)"
   ]
  },
  {
   "cell_type": "code",
   "execution_count": 3,
   "id": "ae5fb1a2-5613-459b-9eca-a00f78e3d0ca",
   "metadata": {},
   "outputs": [
    {
     "name": "stdout",
     "output_type": "stream",
     "text": [
      "3s Train Shape:  torch.Size([6131, 28, 28])\n",
      "7s Train Shape:  torch.Size([6265, 28, 28])\n",
      "3s Validation Shape:  torch.Size([1010, 28, 28])\n",
      "7s Validation Shape:  torch.Size([1028, 28, 28])\n"
     ]
    }
   ],
   "source": [
    "# Download train/validation data\n",
    "path = untar_data(URLs.MNIST_SAMPLE)\n",
    "\n",
    "threes_train = torch.stack([\n",
    "    tensor(Image.open(number)) for number in (path/'train'/'3').ls().sorted()\n",
    "])\n",
    "\n",
    "sevens_train = torch.stack([\n",
    "    tensor(Image.open(number)) for number in (path/'train'/'7').ls().sorted()\n",
    "])\n",
    "\n",
    "\n",
    "threes_val = torch.stack([\n",
    "    tensor(Image.open(number)) for number in (path/'valid'/'3').ls().sorted()\n",
    "])\n",
    "\n",
    "sevens_val = torch.stack([\n",
    "    tensor(Image.open(number)) for number in (path/'valid'/'7').ls().sorted()\n",
    "])\n",
    "\n",
    "print('3s Train Shape: ', threes_train.shape)\n",
    "print('7s Train Shape: ', sevens_train.shape)\n",
    "\n",
    "print('3s Validation Shape: ', threes_val.shape)\n",
    "print('7s Validation Shape: ', sevens_val.shape)"
   ]
  },
  {
   "cell_type": "markdown",
   "id": "12ae0d68-7333-416e-821e-6151bba53720",
   "metadata": {},
   "source": [
    "- **Binary classification tasks, classes are balanced**"
   ]
  },
  {
   "cell_type": "code",
   "execution_count": 4,
   "id": "557cff7f-0950-4bf8-997c-85de57930ca8",
   "metadata": {},
   "outputs": [],
   "source": [
    "# Conver to float and scale the imgs (0 - 1)\n",
    "threes_train = threes_train.float()/255\n",
    "sevens_train = sevens_train.float()/255\n",
    "\n",
    "threes_val = threes_val.float()/255\n",
    "sevens_val = sevens_val.float()/255"
   ]
  },
  {
   "cell_type": "code",
   "execution_count": 5,
   "id": "f2096cd5-cabd-4e89-8683-a619931e2e4e",
   "metadata": {},
   "outputs": [
    {
     "name": "stdout",
     "output_type": "stream",
     "text": [
      "Train Tensor Shape:  torch.Size([12396, 784])\n",
      "Validation Tensor Shape:  torch.Size([2038, 784])\n"
     ]
    }
   ],
   "source": [
    "# Concatenate all imgs into a single tensor and change them from a list of matrices to a list of vectors\n",
    "train_x = torch.cat([threes_train, sevens_train]).view(-1, 28*28)\n",
    "val_x = torch.cat([threes_val, sevens_val]).view(-1, 28*28)\n",
    "\n",
    "print('Train Tensor Shape: ', train_x.shape)\n",
    "print('Validation Tensor Shape: ', val_x.shape)"
   ]
  },
  {
   "cell_type": "markdown",
   "id": "cf66865a-b0e4-4280-9de4-544c0a333743",
   "metadata": {},
   "source": [
    "- `view` is PyTorch method that changes the shape of a tensor without changing its contents\n",
    "- `-1` means make this axis as big as necessary to fit all the data"
   ]
  },
  {
   "cell_type": "code",
   "execution_count": 6,
   "id": "c98f88af-834f-4e08-8121-c957d8b252f0",
   "metadata": {},
   "outputs": [],
   "source": [
    "# Because we have only two classes (3s and 7s) - make labels for them as 1 and 0\n",
    "train_y = tensor([1]*threes_train.shape[0] + [0]*sevens_train.shape[0]).unsqueeze(1)\n",
    "val_y = tensor([1]*threes_val.shape[0] + [0]*sevens_val.shape[0]).unsqueeze(1)"
   ]
  },
  {
   "cell_type": "code",
   "execution_count": 7,
   "id": "12a8c8f3-7a91-4bf1-9c93-03ffb6d61e38",
   "metadata": {},
   "outputs": [
    {
     "name": "stdout",
     "output_type": "stream",
     "text": [
      "torch.Size([12396, 784]) torch.Size([12396, 1])\n",
      "torch.Size([2038, 784]) torch.Size([2038, 1])\n"
     ]
    }
   ],
   "source": [
    "# Get the shape \n",
    "print(train_x.shape, train_y.shape)\n",
    "print(val_x.shape, val_y.shape)"
   ]
  },
  {
   "cell_type": "code",
   "execution_count": 8,
   "id": "367a33bc-a6f6-4c51-8a1e-5caf1139b1e9",
   "metadata": {},
   "outputs": [
    {
     "data": {
      "text/plain": [
       "(torch.Size([784]), tensor([1]))"
      ]
     },
     "execution_count": 8,
     "metadata": {},
     "output_type": "execute_result"
    }
   ],
   "source": [
    "# A Dataset in PyTorch is required to return a tuple of (x, y)\n",
    "dset_train = list(zip(train_x, train_y))\n",
    "dset_val = list(zip(val_x, val_y))\n",
    "\n",
    "x, y = dset_train[0] # first observation and its label from train data\n",
    "x.shape, y"
   ]
  },
  {
   "cell_type": "code",
   "execution_count": 9,
   "id": "c8b2ae8a-e928-4e0b-b3b5-f389e216242e",
   "metadata": {},
   "outputs": [
    {
     "name": "stdout",
     "output_type": "stream",
     "text": [
      "Weights Shape:  torch.Size([784])\n"
     ]
    }
   ],
   "source": [
    "# Create a function for weight initialization\n",
    "def init_params(size, std=1.0):\n",
    "    return (torch.randn(size)*std).requires_grad_()\n",
    "\n",
    "weights = init_params(28*28, 1)\n",
    "print('Weights Shape: ', weights.shape)"
   ]
  },
  {
   "cell_type": "markdown",
   "id": "658d3d28-30d3-487a-8af6-b7119bf692c3",
   "metadata": {},
   "source": [
    "**Important**\n",
    "\n",
    "The function `weights*pixels` won’t be flexible enough. It is always equal to 0 when the pixels are equal to 0. You might remember from high school\n",
    "math that the formula for a line is `y=w*x+b`. **We still need the b (bias).** We’ll initialize it to a random number too"
   ]
  },
  {
   "cell_type": "code",
   "execution_count": 10,
   "id": "98e0f3e8-96f2-491f-9b3a-357af369c993",
   "metadata": {},
   "outputs": [
    {
     "data": {
      "text/plain": [
       "tensor([-0.4393], requires_grad=True)"
      ]
     },
     "execution_count": 10,
     "metadata": {},
     "output_type": "execute_result"
    }
   ],
   "source": [
    "bias = init_params(1)\n",
    "bias"
   ]
  },
  {
   "cell_type": "code",
   "execution_count": 11,
   "id": "2d79bfaa-4c2c-43b8-955d-418032a6294b",
   "metadata": {},
   "outputs": [
    {
     "data": {
      "text/plain": [
       "tensor([4.9566], grad_fn=<AddBackward0>)"
      ]
     },
     "execution_count": 11,
     "metadata": {},
     "output_type": "execute_result"
    }
   ],
   "source": [
    "# Prediction for a single img\n",
    "pred = (train_x[0]*weights.T).sum() + bias\n",
    "pred"
   ]
  },
  {
   "cell_type": "markdown",
   "id": "e08b24b5-86a7-40a4-a866-a7c7ebc71f50",
   "metadata": {},
   "source": [
    "### How to Calculate Predictions for Each Image?\n",
    "- `Loop Usage` - very slow \n",
    "- `Matrix Multiplication` - very fast \n",
    "\n",
    "`train_x` is a matrix, `w` is a column-vector (matrix),  `b` is a vector. **Using all these we can get prediction for each image incredibly fast**"
   ]
  },
  {
   "cell_type": "code",
   "execution_count": 12,
   "id": "c5efdb5d-bece-4d00-bc7e-dde8262b52bb",
   "metadata": {},
   "outputs": [
    {
     "data": {
      "text/plain": [
       "tensor([ 4.9566, 12.0457, 12.6466,  ..., 20.3852,  7.5482, -3.0783],\n",
       "       grad_fn=<AddBackward0>)"
      ]
     },
     "execution_count": 12,
     "metadata": {},
     "output_type": "execute_result"
    }
   ],
   "source": [
    "def get_predictions(x, w, b):\n",
    "    return x@w + b # fundamental equation of any DL net\n",
    "\n",
    "preds = get_predictions(\n",
    "    train_x,\n",
    "    weights,\n",
    "    bias\n",
    ")\n",
    "\n",
    "preds"
   ]
  },
  {
   "cell_type": "markdown",
   "id": "3a069037-9a8a-4d09-8ef5-b17d400c57ee",
   "metadata": {},
   "source": [
    "### How to Get the Labels?\n",
    "We have a binary classification problem. So we can say that if the prediction is greater than 0 - it's 3, otherwise 7"
   ]
  },
  {
   "cell_type": "code",
   "execution_count": 13,
   "id": "7f780409-9d56-4b4b-8add-361c9a3b6c56",
   "metadata": {},
   "outputs": [
    {
     "name": "stdout",
     "output_type": "stream",
     "text": [
      "Accuracy:  0.49598419666290283\n"
     ]
    }
   ],
   "source": [
    "is_correct_pred = (preds > 0.0).float() == train_y\n",
    "print('Accuracy: ', is_correct_pred.float().mean().item())"
   ]
  },
  {
   "cell_type": "markdown",
   "id": "b108f764-b50b-43d6-a503-8564265037ba",
   "metadata": {},
   "source": [
    "**Above we got this accuracy using random weights**\n",
    "\n",
    "Now let’s see what the change in accuracy is for a small change in one of the weights:"
   ]
  },
  {
   "cell_type": "code",
   "execution_count": 14,
   "id": "241c5f15-6b31-4a63-b25c-401112a872a7",
   "metadata": {},
   "outputs": [
    {
     "data": {
      "text/plain": [
       "0.49598419666290283"
      ]
     },
     "execution_count": 14,
     "metadata": {},
     "output_type": "execute_result"
    }
   ],
   "source": [
    "weights[0].data *= 1.0001\n",
    "\n",
    "preds = get_predictions(\n",
    "    train_x,\n",
    "    weights,\n",
    "    bias\n",
    ")\n",
    "\n",
    "((preds>0.0).float() == train_y).float().mean().item()"
   ]
  },
  {
   "cell_type": "markdown",
   "id": "633ba3e0-b1c6-452e-bb23-c008505c8917",
   "metadata": {},
   "source": [
    "**Conclusion**\n",
    "\n",
    "To improve the model quality **we need to define the loss function and then get the gradients with respect to the weights.** \n",
    "\n",
    "### Loss Function Choosing\n",
    "\n",
    "So, we need to choose a loss function. The obvious approach would be to use accuracy, which is our metric, as our loss function as well. In this case, we would calculate our prediction for each image, collect these values to calculate an overall accuracy, and then calculate the gradients of each weight with respect to that overall accuracy.\n",
    "\n",
    "Unfortunately, we have a significant technical problem here. \n",
    "- **The gradient of a function is its slope, or its steepness**, \n",
    "\n",
    "It can be defined as rise over run—that is: *how much the value of the function goes up or down, divided by how much we changed\n",
    "the input.*\n",
    "\n",
    "We can write this mathematically as: \n",
    "- `(y_new – y_old) / (x_new – x_old)`\n",
    "\n",
    "This gives a good approximation of the gradient when `x_new` is very similar to `x_old`, meaning that their difference is very small. **But accuracy changes at all only when a prediction changes from a 3 to a 7, or vice versa.**\n",
    "\n",
    "- The problem is that a small change in weights from `x_old` to `x_new` isn’t likely to cause any prediction to change, so\n",
    "`(y_new – y_old)` will almost always be 0. \n",
    "\n",
    "In other words, the gradient is 0 almost everywhere. **A very small change in the value of a weight will often not change the accuracy at all.**\n",
    "This means **it is not useful to use accuracy as a loss function. If we do, most of the time our gradients will be 0**, and the model will not be able to learn from that number.\n",
    "\n",
    "**Instead, we need a loss function that, when our weights result in slightly better predictions, gives us a slightly better loss.** So what does a “slightly better prediction” look like, exactly? Well, in this case, it means that if the correct answer is a 3, the score is a little higher, or if the correct answer is a 7, the score is a little lower.\n",
    "\n",
    "**The loss function receives not the images themselves, but the predictions from the model.** So let’s make one argument, `preds`, of values between 0 and 1, where each value is the prediction that an image is a 3. It is a vector (i.e., a rank-1 tensor) indexed over the images.\n",
    "\n",
    "- **The purpose of the loss function is to measure the difference between predicted values and the true values (targets/labels)**\n",
    "- **Loss must be a function that has a meaningful derivative!**\n",
    "- **The loss function is calculated for each item in our dataset, and then at the end of an epoch, the loss values are all averaged and the overall mean is reported for the epoch.**\n",
    "- **It is important that we learn to focus on the metrics, rather than the loss, when judging the performance of a model.**\n",
    "\n",
    "Let’s therefore make another argument, `targets`, with values of 0 or 1 that tells whether an image actually is a 3 or not. It is also a vector (i.e., another rank-1 tensor) indexed over the images.\n",
    "\n",
    "**Example**\n",
    "\n",
    "Suppose we had three images that we knew were 3, 7, 3. And suppose our model predicted with high confidence (0.9) - 3, with slight confidence (0.4) - 7, and with fair confidence (0.2) - 7. This would mean our loss function would receive these values as its inputs:"
   ]
  },
  {
   "cell_type": "code",
   "execution_count": 15,
   "id": "e233a1f2-d80e-4053-ac07-147e7a472079",
   "metadata": {},
   "outputs": [],
   "source": [
    "# 3 - class_1, 7 - class_0\n",
    "targets = tensor([1, 0, 1]) # 3, 7, 3\n",
    "preds = tensor([0.9, 0.4, 0.2]) # 3, 7, 7"
   ]
  },
  {
   "cell_type": "code",
   "execution_count": 16,
   "id": "c41f12ef-cdb1-4b52-8d33-e071394f4d2f",
   "metadata": {},
   "outputs": [
    {
     "data": {
      "text/plain": [
       "tensor(0.4333)"
      ]
     },
     "execution_count": 16,
     "metadata": {},
     "output_type": "execute_result"
    }
   ],
   "source": [
    "# let's try a loss that measures the distance between predictions and targets:\n",
    "def mnist_loss(predictions, targets):\n",
    "    return torch.where(targets==1, 1 - predictions, predictions).mean() # use mean because we need a scalar for the loss\n",
    "\n",
    "mnist_loss(preds, targets)"
   ]
  },
  {
   "cell_type": "markdown",
   "id": "1fce5c40-3869-4b78-a72d-1fb5b52e05cf",
   "metadata": {},
   "source": [
    "We can see that out loss returns:\n",
    "- low value if prediction is correct and confident\n",
    "- Higher value if the predictions is correct and not so confident \n",
    "- High value if the prediction is incorrect and not so confident \n",
    "- Very high value if the prediction is incorrect and very confident"
   ]
  },
  {
   "cell_type": "code",
   "execution_count": 17,
   "id": "a968f880-5f71-48ac-8a79-59b49767fb63",
   "metadata": {},
   "outputs": [
    {
     "data": {
      "text/plain": [
       "tensor(0.2333)"
      ]
     },
     "execution_count": 17,
     "metadata": {},
     "output_type": "execute_result"
    }
   ],
   "source": [
    "# let's change the last prediction to correct and confident\n",
    "mnist_loss(\n",
    "    tensor([0.9, 0.4, 0.8]), # 3, 7, 3\n",
    "    targets # 3, 7, 3\n",
    ")"
   ]
  },
  {
   "cell_type": "markdown",
   "id": "9fe94587-20df-433d-83e2-2195f12796e1",
   "metadata": {},
   "source": [
    "The loss has decreased. One problem with `mnist_loss` as currently defined is that **it assumes that predictions are always between 0 and 1.** We need to ensure, then, that this is actually the case! As it happens, there is a function that does exactly that . let’s take a look:\n",
    "\n",
    "**Sigmoid**\n",
    "\n",
    "The sigmoid function always outputs a number between 0 and 1."
   ]
  },
  {
   "cell_type": "code",
   "execution_count": 18,
   "id": "05cccd99-cdd4-41c6-9eb7-f4948c21c7a3",
   "metadata": {},
   "outputs": [],
   "source": [
    "from fastbook import *"
   ]
  },
  {
   "cell_type": "code",
   "execution_count": 19,
   "id": "caf678c6-8ca3-4191-99f6-f1b92d9e89c5",
   "metadata": {},
   "outputs": [
    {
     "data": {
      "image/png": "[encoded data removed]",
      "text/plain": [
       "<Figure size 432x288 with 1 Axes>"
      ]
     },
     "metadata": {
      "needs_background": "light"
     },
     "output_type": "display_data"
    }
   ],
   "source": [
    "def sigmoid(x): \n",
    "    return 1 / (1 + torch.exp(-x))\n",
    "\n",
    "plot_function(torch.sigmoid, title='Sigmoid', min=-4, max=4)"
   ]
  },
  {
   "cell_type": "markdown",
   "id": "29988678-3ca0-48f5-a278-fbd21a965250",
   "metadata": {},
   "source": [
    "- this function is smooth and goes up (good for the gradients calculation)"
   ]
  },
  {
   "cell_type": "code",
   "execution_count": 20,
   "id": "c74dd2f7-aea4-44ca-ae76-40150573adad",
   "metadata": {},
   "outputs": [],
   "source": [
    "# Let’s update mnist_loss to first apply sigmoid to the inputs\n",
    "def mnist_loss(predictions, targets):\n",
    "    predictions = sigmoid(predictions)\n",
    "    return torch.where(targets==1, 1 - predictions, predictions).mean()"
   ]
  },
  {
   "cell_type": "markdown",
   "id": "02342527-521f-4847-8ae1-f8e03fee78b1",
   "metadata": {},
   "source": [
    "Now we can be confident our loss function will work, even if the predictions are not between 0 and 1. But usually we ge the probability that is always between 0 and 1 (classifier confidence), then compute the loss."
   ]
  },
  {
   "cell_type": "markdown",
   "id": "b0249308-35cd-4991-a660-2bf34a409f6a",
   "metadata": {},
   "source": [
    "### Gradient Descent and Mini-Batches\n",
    "To take an optimization step, we need to calculate the loss over one or more data items. How many should we use? \n",
    "\n",
    "Usually we average the loss over on n items. The number of data items in the mini-batch is called **batch size**\n",
    "\n",
    "- Mini-Batch solution is good for GPU training\n",
    "- Don't forget to shuffle each mini batch \n",
    "\n",
    "**Large Batch Size**\n",
    "- Get a more accurate and stable estimate of your dataset’s gradients from the loss function\n",
    "- Takes longer to train\n",
    "\n",
    "**Good Batch Size**\n",
    "- Good estimate of the gradients \n",
    "- Optimal training time \n",
    "\n",
    "PyTorch and fastai provide a class that will do the shuffling and mini-batch collation for you, called `DataLoader`"
   ]
  },
  {
   "cell_type": "code",
   "execution_count": 21,
   "id": "c9f562d7-83ad-4f55-9b66-097af035e39f",
   "metadata": {},
   "outputs": [
    {
     "data": {
      "text/plain": [
       "[tensor([ 3, 12,  8, 10,  2]),\n",
       " tensor([ 9,  4,  7, 14,  5]),\n",
       " tensor([ 1, 13,  0,  6, 11])]"
      ]
     },
     "execution_count": 21,
     "metadata": {},
     "output_type": "execute_result"
    }
   ],
   "source": [
    "n_elements = range(15)\n",
    "dl = DataLoader(n_elements, batch_size=5, shuffle=True)\n",
    "list(dl)"
   ]
  },
  {
   "cell_type": "markdown",
   "id": "b0084605-867f-4524-b68f-067fd0424a0b",
   "metadata": {},
   "source": [
    "For training a model, we don’t just want any Python collection, but a collection containing independent and dependent variables (the inputs and targets of the model). \n",
    "\n",
    "A **collection that contains tuples of independent and dependent variables is known in PyTorch as a Dataset.**\n",
    "\n",
    "Here’s an example of an extremely simple Dataset"
   ]
  },
  {
   "cell_type": "code",
   "execution_count": 26,
   "id": "34508fc3-babf-4b7d-9ca2-fe40a063c50a",
   "metadata": {},
   "outputs": [
    {
     "data": {
      "text/plain": [
       "(#26) [(0, 'a'),(1, 'b'),(2, 'c'),(3, 'd'),(4, 'e'),(5, 'f'),(6, 'g'),(7, 'h'),(8, 'i'),(9, 'j')...]"
      ]
     },
     "execution_count": 26,
     "metadata": {},
     "output_type": "execute_result"
    }
   ],
   "source": [
    "ds = L(enumerate(string.ascii_lowercase))\n",
    "ds"
   ]
  },
  {
   "cell_type": "markdown",
   "id": "de74aa7d-e1a0-49ce-925d-ff87e525ebfc",
   "metadata": {},
   "source": [
    "When we pass a Dataset to a DataLoader we will get back many batches that are themselves tuples of tensors representing batches of independent and dependent variables"
   ]
  },
  {
   "cell_type": "code",
   "execution_count": 27,
   "id": "68c06b17-4a88-41c4-be90-ea12a3fe81c4",
   "metadata": {},
   "outputs": [
    {
     "data": {
      "text/plain": [
       "[(tensor([19, 14,  0, 24, 20, 12]), ('t', 'o', 'a', 'y', 'u', 'm')),\n",
       " (tensor([23,  8,  9,  3, 16,  6]), ('x', 'i', 'j', 'd', 'q', 'g')),\n",
       " (tensor([ 4,  7,  1, 13,  2, 22]), ('e', 'h', 'b', 'n', 'c', 'w')),\n",
       " (tensor([ 5, 17, 18, 10, 11, 15]), ('f', 'r', 's', 'k', 'l', 'p')),\n",
       " (tensor([25, 21]), ('z', 'v'))]"
      ]
     },
     "execution_count": 27,
     "metadata": {},
     "output_type": "execute_result"
    }
   ],
   "source": [
    "dl = DataLoader(ds, batch_size=6, shuffle=True)\n",
    "list(dl)"
   ]
  },
  {
   "cell_type": "raw",
   "id": "d692e566-56d1-4cfa-9571-e714e323531a",
   "metadata": {},
   "source": [
    "# for each epoch we do\n",
    "for x, y in dl:\n",
    "    pred = model(x)\n",
    "    loss = loss_func(pred, y)\n",
    "    loss.backward()\n",
    "    parameters -= parameters.grad * lr"
   ]
  },
  {
   "cell_type": "code",
   "execution_count": 39,
   "id": "9fbfc781-3d43-4b39-8534-f03775a3de3d",
   "metadata": {},
   "outputs": [],
   "source": [
    "# Init params \n",
    "weigths = init_params((28*28, 1))\n",
    "bias = init_params(1)"
   ]
  },
  {
   "cell_type": "code",
   "execution_count": 31,
   "id": "1d68d5cc-a6d3-4834-9c56-25ef97007257",
   "metadata": {},
   "outputs": [
    {
     "data": {
      "text/plain": [
       "(torch.Size([256, 784]), torch.Size([256, 1]))"
      ]
     },
     "execution_count": 31,
     "metadata": {},
     "output_type": "execute_result"
    }
   ],
   "source": [
    "# First, create DataLoader from Dataset (train)\n",
    "dl_train = DataLoader(dset_train, batch_size=256)\n",
    "\n",
    "# look at first batch \n",
    "x_dl_train, y_dl_train = first(dl_train)\n",
    "x_dl_train.shape, y_dl_train.shape"
   ]
  },
  {
   "cell_type": "code",
   "execution_count": 41,
   "id": "faf46b4a-24a8-42e9-894e-692d0b5b4acd",
   "metadata": {},
   "outputs": [
    {
     "data": {
      "text/plain": [
       "(torch.Size([256, 784]), torch.Size([256, 1]))"
      ]
     },
     "execution_count": 41,
     "metadata": {},
     "output_type": "execute_result"
    }
   ],
   "source": [
    "# DataLoader for val data \n",
    "dl_val = DataLoader(dset_val, batch_size=256)\n",
    "\n",
    "# look at first batch \n",
    "x_dl_val, y_dl_val = first(dl_val)\n",
    "x_dl_val.shape, y_dl_val.shape"
   ]
  },
  {
   "cell_type": "code",
   "execution_count": null,
   "id": "cc5c7e58-2271-4df7-aca9-9502316eeb1e",
   "metadata": {},
   "outputs": [],
   "source": []
  }
 ],
 "metadata": {
  "kernelspec": {
   "display_name": "Python 3",
   "language": "python",
   "name": "python3"
  },
  "language_info": {
   "codemirror_mode": {
    "name": "ipython",
    "version": 3
   },
   "file_extension": ".py",
   "mimetype": "text/x-python",
   "name": "python",
   "nbconvert_exporter": "python",
   "pygments_lexer": "ipython3",
   "version": "3.7.9"
  }
 },
 "nbformat": 4,
 "nbformat_minor": 5
}
