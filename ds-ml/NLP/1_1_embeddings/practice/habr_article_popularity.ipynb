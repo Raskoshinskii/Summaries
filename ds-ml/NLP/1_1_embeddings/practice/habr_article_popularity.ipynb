{
 "cells": [
  {
   "cell_type": "markdown",
   "metadata": {},
   "source": [
    "### Habr (Article Popularity Prediction)\n",
    "Predict the popularity of a post on Habr based on the content and time of publication. As you know, Habr users can add articles to their favorites. The total number of users who did this is displayed by the number of stars on the article. We will assume that the number of stars given to an article best reflects its popularity.\n",
    "\n",
    "- [Competition Link](https://www.kaggle.com/c/howpop-habrahabr-favs/overview)\n",
    "- [Train](https://disk.yandex.ru/d/hAhCuetI3JPouk)/[Test](https://disk.yandex.ru/d/mLMZZtN63JPouc) datasets for the competition"
   ]
  },
  {
   "cell_type": "code",
   "execution_count": 37,
   "metadata": {},
   "outputs": [],
   "source": [
    "import re\n",
    "import pandas as pd\n",
    "import numpy as np\n",
    "import warnings\n",
    "import pymorphy2\n",
    "import matplotlib.pyplot as plt\n",
    "\n",
    "from typing import Dict, List\n",
    "from collections import defaultdict\n",
    "\n",
    "from nltk.corpus import stopwords\n",
    "from gensim.models import word2vec\n",
    "\n",
    "from sklearn.metrics import mean_squared_error\n",
    "from sklearn.feature_extraction.text import TfidfVectorizer\n",
    "from sklearn.linear_model import Ridge\n",
    "\n",
    "warnings.filterwarnings('ignore')"
   ]
  },
  {
   "cell_type": "markdown",
   "metadata": {},
   "source": [
    "### Data Downloading"
   ]
  },
  {
   "cell_type": "code",
   "execution_count": 2,
   "metadata": {},
   "outputs": [
    {
     "name": "stdout",
     "output_type": "stream",
     "text": [
      "Train Shape:  (172913, 13)\n",
      "Test Shape:  (5405, 12)\n"
     ]
    },
    {
     "data": {
      "text/html": [
       "<div>\n",
       "<style scoped>\n",
       "    .dataframe tbody tr th:only-of-type {\n",
       "        vertical-align: middle;\n",
       "    }\n",
       "\n",
       "    .dataframe tbody tr th {\n",
       "        vertical-align: top;\n",
       "    }\n",
       "\n",
       "    .dataframe thead th {\n",
       "        text-align: right;\n",
       "    }\n",
       "</style>\n",
       "<table border=\"1\" class=\"dataframe\">\n",
       "  <thead>\n",
       "    <tr style=\"text-align: right;\">\n",
       "      <th></th>\n",
       "      <th>_id</th>\n",
       "      <th>date</th>\n",
       "      <th>tags</th>\n",
       "      <th>title</th>\n",
       "      <th>hubs_title</th>\n",
       "      <th>description</th>\n",
       "      <th>name</th>\n",
       "      <th>hub</th>\n",
       "      <th>png</th>\n",
       "      <th>nick</th>\n",
       "      <th>url</th>\n",
       "      <th>content</th>\n",
       "      <th>favs_lognorm</th>\n",
       "    </tr>\n",
       "  </thead>\n",
       "  <tbody>\n",
       "    <tr>\n",
       "      <th>0</th>\n",
       "      <td>https://geektimes.ru/post/21866/</td>\n",
       "      <td>2008-03-17T18:55:00.000Z</td>\n",
       "      <td>['eeepc', 'asus', 'ЭТО', 'эльдорадо', 'ура']</td>\n",
       "      <td>eeePC в продаже. Да. Правда.</td>\n",
       "      <td>Железо</td>\n",
       "      <td>Итак, если 3 дня назад я отписался то что в пр...</td>\n",
       "      <td>Сергей 'pokatusher'</td>\n",
       "      <td>hub/hardware</td>\n",
       "      <td>https://habrastorage.org/getpro/habr/olpicture...</td>\n",
       "      <td>@M_org</td>\n",
       "      <td>https://geektimes.ru/users/M_org</td>\n",
       "      <td>Итак, если 3 дня назад я &lt;a href=\"http://habra...</td>\n",
       "      <td>2.484907</td>\n",
       "    </tr>\n",
       "    <tr>\n",
       "      <th>1</th>\n",
       "      <td>https://habrahabr.ru/company/aladdinrd/blog/30...</td>\n",
       "      <td>2016-06-24T13:02:00.000Z</td>\n",
       "      <td>['Интеграция', 'шифрование', 'Windows', 'Win32...</td>\n",
       "      <td>«Разрубить Гордиев узел» или преодоление пробл...</td>\n",
       "      <td>Системное программирование</td>\n",
       "      <td>Современная операционная система это сложный и...</td>\n",
       "      <td>Аладдин Р.Д.</td>\n",
       "      <td>hub/system_programming</td>\n",
       "      <td>https://habrastorage.org/files/cbd/cf9/5ff/cbd...</td>\n",
       "      <td>NaN</td>\n",
       "      <td>https://habrahabr.ru/company/aladdinrd</td>\n",
       "      <td>Современная операционная система это сложный и...</td>\n",
       "      <td>4.174387</td>\n",
       "    </tr>\n",
       "    <tr>\n",
       "      <th>2</th>\n",
       "      <td>https://geektimes.ru/post/92887/</td>\n",
       "      <td>2010-05-06T10:00:00.000Z</td>\n",
       "      <td>['mc', 'midnight commander', 'diffview', 'merg...</td>\n",
       "      <td>Релиз Midnight Commander 4.7.2 и 4.7.0.5</td>\n",
       "      <td>Чёрная дыра</td>\n",
       "      <td>Спустя 2 месяца упорных трудов вышла новая вер...</td>\n",
       "      <td>Илья Маслаков</td>\n",
       "      <td>hub/closet</td>\n",
       "      <td>https://geektimes.ru/images/logo.png</td>\n",
       "      <td>@smind</td>\n",
       "      <td>https://geektimes.ru/users/smind</td>\n",
       "      <td>Спустя 2 месяца упорных трудов вышла новая вер...</td>\n",
       "      <td>0.000000</td>\n",
       "    </tr>\n",
       "    <tr>\n",
       "      <th>3</th>\n",
       "      <td>https://habrahabr.ru/post/290824/</td>\n",
       "      <td>2015-05-22T11:01:00.000Z</td>\n",
       "      <td>['бизнес-модель', 'бизнес-моделирование']</td>\n",
       "      <td>7 шагов для постройки правильной бизнес-модели</td>\n",
       "      <td>Интернет-маркетинг</td>\n",
       "      <td>Большинство IT предпринимателей сосредотачиваю...</td>\n",
       "      <td>Александр</td>\n",
       "      <td>hub/internetmarketing</td>\n",
       "      <td>https://habrastorage.org/files/50e/211/9a0/50e...</td>\n",
       "      <td>@jasiejames</td>\n",
       "      <td>https://habrahabr.ru/users/jasiejames</td>\n",
       "      <td>&lt;img src=\"https://habrastorage.org/files/50e/2...</td>\n",
       "      <td>3.496508</td>\n",
       "    </tr>\n",
       "    <tr>\n",
       "      <th>4</th>\n",
       "      <td>https://habrahabr.ru/post/190088/</td>\n",
       "      <td>2014-09-04T00:32:00.000Z</td>\n",
       "      <td>['python', 'flask', 'mongodb', 'pet-project']</td>\n",
       "      <td>Thunderargs: практика использования. Часть 2</td>\n",
       "      <td>Программирование</td>\n",
       "      <td>История создания Часть 1  Добрый день. Вкратце...</td>\n",
       "      <td>Данияр Супиев</td>\n",
       "      <td>hub/programming</td>\n",
       "      <td>https://habrahabr.ru/i/habralogo.jpg</td>\n",
       "      <td>@uthunderbird</td>\n",
       "      <td>https://habrahabr.ru/users/uthunderbird</td>\n",
       "      <td>&lt;a href=\"http://habrahabr.ru/post/223041/\"&gt;Ист...</td>\n",
       "      <td>3.688879</td>\n",
       "    </tr>\n",
       "  </tbody>\n",
       "</table>\n",
       "</div>"
      ],
      "text/plain": [
       "                                                 _id  \\\n",
       "0                   https://geektimes.ru/post/21866/   \n",
       "1  https://habrahabr.ru/company/aladdinrd/blog/30...   \n",
       "2                   https://geektimes.ru/post/92887/   \n",
       "3                  https://habrahabr.ru/post/290824/   \n",
       "4                  https://habrahabr.ru/post/190088/   \n",
       "\n",
       "                       date  \\\n",
       "0  2008-03-17T18:55:00.000Z   \n",
       "1  2016-06-24T13:02:00.000Z   \n",
       "2  2010-05-06T10:00:00.000Z   \n",
       "3  2015-05-22T11:01:00.000Z   \n",
       "4  2014-09-04T00:32:00.000Z   \n",
       "\n",
       "                                                tags  \\\n",
       "0       ['eeepc', 'asus', 'ЭТО', 'эльдорадо', 'ура']   \n",
       "1  ['Интеграция', 'шифрование', 'Windows', 'Win32...   \n",
       "2  ['mc', 'midnight commander', 'diffview', 'merg...   \n",
       "3          ['бизнес-модель', 'бизнес-моделирование']   \n",
       "4      ['python', 'flask', 'mongodb', 'pet-project']   \n",
       "\n",
       "                                               title  \\\n",
       "0                       eeePC в продаже. Да. Правда.   \n",
       "1  «Разрубить Гордиев узел» или преодоление пробл...   \n",
       "2           Релиз Midnight Commander 4.7.2 и 4.7.0.5   \n",
       "3     7 шагов для постройки правильной бизнес-модели   \n",
       "4       Thunderargs: практика использования. Часть 2   \n",
       "\n",
       "                   hubs_title  \\\n",
       "0                      Железо   \n",
       "1  Системное программирование   \n",
       "2                 Чёрная дыра   \n",
       "3          Интернет-маркетинг   \n",
       "4            Программирование   \n",
       "\n",
       "                                         description                 name  \\\n",
       "0  Итак, если 3 дня назад я отписался то что в пр...  Сергей 'pokatusher'   \n",
       "1  Современная операционная система это сложный и...         Аладдин Р.Д.   \n",
       "2  Спустя 2 месяца упорных трудов вышла новая вер...        Илья Маслаков   \n",
       "3  Большинство IT предпринимателей сосредотачиваю...            Александр   \n",
       "4  История создания Часть 1  Добрый день. Вкратце...        Данияр Супиев   \n",
       "\n",
       "                      hub                                                png  \\\n",
       "0            hub/hardware  https://habrastorage.org/getpro/habr/olpicture...   \n",
       "1  hub/system_programming  https://habrastorage.org/files/cbd/cf9/5ff/cbd...   \n",
       "2              hub/closet               https://geektimes.ru/images/logo.png   \n",
       "3   hub/internetmarketing  https://habrastorage.org/files/50e/211/9a0/50e...   \n",
       "4         hub/programming               https://habrahabr.ru/i/habralogo.jpg   \n",
       "\n",
       "            nick                                      url  \\\n",
       "0         @M_org         https://geektimes.ru/users/M_org   \n",
       "1            NaN   https://habrahabr.ru/company/aladdinrd   \n",
       "2         @smind         https://geektimes.ru/users/smind   \n",
       "3    @jasiejames    https://habrahabr.ru/users/jasiejames   \n",
       "4  @uthunderbird  https://habrahabr.ru/users/uthunderbird   \n",
       "\n",
       "                                             content  favs_lognorm  \n",
       "0  Итак, если 3 дня назад я <a href=\"http://habra...      2.484907  \n",
       "1  Современная операционная система это сложный и...      4.174387  \n",
       "2  Спустя 2 месяца упорных трудов вышла новая вер...      0.000000  \n",
       "3  <img src=\"https://habrastorage.org/files/50e/2...      3.496508  \n",
       "4  <a href=\"http://habrahabr.ru/post/223041/\">Ист...      3.688879  "
      ]
     },
     "execution_count": 2,
     "metadata": {},
     "output_type": "execute_result"
    }
   ],
   "source": [
    "train_df = pd.read_csv('/home/jovyan/work/data_sets/habr_article_pop_pred/train_content.csv')\n",
    "test_df = pd.read_csv('/home/jovyan/work/data_sets/habr_article_pop_pred/test_content.csv')\n",
    "\n",
    "print('Train Shape: ', train_df.shape)\n",
    "print('Test Shape: ', test_df.shape)\n",
    "\n",
    "train_df.head()"
   ]
  },
  {
   "cell_type": "markdown",
   "metadata": {},
   "source": [
    "### Data Preprocessing\n",
    "First of all let's preprocess the texx (lowercase, stopwords removal, lemmatization, ...). Since all articles are written in Russian, we need to use some tools, one of them is `Pymorphy2`.\n",
    "\n",
    "Pymorphy2 is a Python library for morphological analysis and inflection of Russian words. It allows you to perform tasks such as determining the grammatical attributes of words (e.g., their part of speech, gender, number, case), generating word forms, and lemmatizing words. "
   ]
  },
  {
   "cell_type": "code",
   "execution_count": 3,
   "metadata": {},
   "outputs": [],
   "source": [
    "morph_analyzer = pymorphy2.MorphAnalyzer()\n",
    "\n",
    "# in articles may appear English words\n",
    "stop_words = set(stopwords.words(\"english\")).union(set(stopwords.words(\"russian\")))\n",
    "\n",
    "def preprocess_text(text):\n",
    "    text = re.sub(\"[^а-яА-Яa-zA-Z]\",\" \", text)\n",
    "    words = text.lower().split()\n",
    "    words = [w for w in words if not w in stop_words]\n",
    "    # TODO: some articles have HTML tags that must be removed as well (potential)\n",
    "    words = [morph_analyzer.parse(w)[0].normal_form for w in words]\n",
    "    return words"
   ]
  },
  {
   "cell_type": "code",
   "execution_count": 4,
   "metadata": {},
   "outputs": [
    {
     "name": "stdout",
     "output_type": "stream",
     "text": [
      "Time frame (Train): 2006-01-16 | 2016-12-31\n",
      "Time frame (Test): 2017-01-01 | 2017-04-26\n",
      "CPU times: user 13.2 s, sys: 89.7 ms, total: 13.3 s\n",
      "Wall time: 13.3 s\n"
     ]
    }
   ],
   "source": [
    "%%time\n",
    "\n",
    "# date and time preprocessing\n",
    "train_df['date'] = train_df['date'].apply(pd.to_datetime)\n",
    "train_df['year'] = train_df['date'].apply(lambda x: x.year)\n",
    "train_df['month'] = train_df['date'].apply(lambda x: x.month)\n",
    "\n",
    "test_df['date'] = test_df['date'].apply(pd.to_datetime)\n",
    "test_df['year'] = test_df['date'].apply(lambda x: x.year)\n",
    "test_df['month'] = test_df['date'].apply(lambda x: x.month)\n",
    "\n",
    "print(f\"Time frame (Train): {train_df['date'].min().date()} | {train_df['date'].max().date()}\")\n",
    "print(f\"Time frame (Test): {test_df['date'].min().date()} | {test_df['date'].max().date()}\")"
   ]
  },
  {
   "cell_type": "code",
   "execution_count": 5,
   "metadata": {},
   "outputs": [
    {
     "data": {
      "image/png": "[encoded data removed]",
      "text/plain": [
       "<Figure size 432x288 with 1 Axes>"
      ]
     },
     "metadata": {
      "needs_background": "light"
     },
     "output_type": "display_data"
    }
   ],
   "source": [
    "# look at articles distribution per year\n",
    "articles_dist = train_df.groupby('year')['_id'].nunique()\n",
    "articles_dist.plot(kind='bar')\n",
    "plt.show()"
   ]
  },
  {
   "cell_type": "code",
   "execution_count": 75,
   "metadata": {},
   "outputs": [
    {
     "data": {
      "image/png": "[encoded data removed]",
      "text/plain": [
       "<Figure size 432x288 with 1 Axes>"
      ]
     },
     "metadata": {
      "needs_background": "light"
     },
     "output_type": "display_data"
    }
   ],
   "source": [
    "# target distribution\n",
    "train_df['favs_lognorm'].hist()\n",
    "plt.show()"
   ]
  },
  {
   "cell_type": "markdown",
   "metadata": {},
   "source": [
    "### Train/Test Split\n",
    "- Training data: articles **from 2015**\n",
    "- Validation data: first 4 months of 2016\n",
    "- Other options are possible as well"
   ]
  },
  {
   "cell_type": "code",
   "execution_count": 66,
   "metadata": {},
   "outputs": [],
   "source": [
    "X_train = train_df[train_df['year'] == 2015]\n",
    "X_val = train_df[\n",
    "    (train_df['year'] == 2016) & (train_df['month'] <= 4)\n",
    "]\n",
    "\n",
    "y_train = X_train['favs_lognorm']\n",
    "y_val = X_val['favs_lognorm']\n",
    "\n",
    "X_train = X_train.drop('favs_lognorm', axis=1)\n",
    "X_val = X_val.drop('favs_lognorm', axis=1)"
   ]
  },
  {
   "cell_type": "markdown",
   "metadata": {},
   "source": [
    "### Embeddings Learning / Word2Vec\n",
    "Train word2vec model to get embeddings and train a model on them"
   ]
  },
  {
   "cell_type": "code",
   "execution_count": 69,
   "metadata": {},
   "outputs": [
    {
     "data": {
      "text/html": [
       "<div>\n",
       "<style scoped>\n",
       "    .dataframe tbody tr th:only-of-type {\n",
       "        vertical-align: middle;\n",
       "    }\n",
       "\n",
       "    .dataframe tbody tr th {\n",
       "        vertical-align: top;\n",
       "    }\n",
       "\n",
       "    .dataframe thead th {\n",
       "        text-align: right;\n",
       "    }\n",
       "</style>\n",
       "<table border=\"1\" class=\"dataframe\">\n",
       "  <thead>\n",
       "    <tr style=\"text-align: right;\">\n",
       "      <th></th>\n",
       "      <th>_id</th>\n",
       "      <th>date</th>\n",
       "      <th>tags</th>\n",
       "      <th>title</th>\n",
       "      <th>hubs_title</th>\n",
       "      <th>description</th>\n",
       "      <th>name</th>\n",
       "      <th>hub</th>\n",
       "      <th>png</th>\n",
       "      <th>nick</th>\n",
       "      <th>url</th>\n",
       "      <th>content</th>\n",
       "      <th>year</th>\n",
       "      <th>month</th>\n",
       "    </tr>\n",
       "  </thead>\n",
       "  <tbody>\n",
       "    <tr>\n",
       "      <th>0</th>\n",
       "      <td>https://habrahabr.ru/post/290824/</td>\n",
       "      <td>2015-05-22 11:01:00+00:00</td>\n",
       "      <td>['бизнес-модель', 'бизнес-моделирование']</td>\n",
       "      <td>7 шагов для постройки правильной бизнес-модели</td>\n",
       "      <td>Интернет-маркетинг</td>\n",
       "      <td>Большинство IT предпринимателей сосредотачиваю...</td>\n",
       "      <td>Александр</td>\n",
       "      <td>hub/internetmarketing</td>\n",
       "      <td>https://habrastorage.org/files/50e/211/9a0/50e...</td>\n",
       "      <td>@jasiejames</td>\n",
       "      <td>https://habrahabr.ru/users/jasiejames</td>\n",
       "      <td>&lt;img src=\"https://habrastorage.org/files/50e/2...</td>\n",
       "      <td>2015</td>\n",
       "      <td>5</td>\n",
       "    </tr>\n",
       "    <tr>\n",
       "      <th>1</th>\n",
       "      <td>https://geektimes.ru/post/246882/</td>\n",
       "      <td>2015-03-06 16:40:00+00:00</td>\n",
       "      <td>['dawn', 'ceres', 'церера']</td>\n",
       "      <td>Зонд Dawn вышел на орбиту Цереры</td>\n",
       "      <td>Космонавтика</td>\n",
       "      <td>фото: НАСА  Сегодня зонд Dawn завершил своё по...</td>\n",
       "      <td>Вячеслав Голованов</td>\n",
       "      <td>hub/space</td>\n",
       "      <td>https://habrastorage.org/getpro/geektimes/post...</td>\n",
       "      <td>@SLY_G</td>\n",
       "      <td>https://geektimes.ru/users/SLY_G</td>\n",
       "      <td>&lt;img src=\"https://habrastorage.org/getpro/geek...</td>\n",
       "      <td>2015</td>\n",
       "      <td>3</td>\n",
       "    </tr>\n",
       "    <tr>\n",
       "      <th>2</th>\n",
       "      <td>https://habrahabr.ru/post/264585/</td>\n",
       "      <td>2015-08-12 12:00:00+00:00</td>\n",
       "      <td>['си', 'начинающим']</td>\n",
       "      <td>Будь проще, и люди потянутся к тебе, или как п...</td>\n",
       "      <td>Совершенный код</td>\n",
       "      <td>Я по жизни самоучка: если не считать FORTRAN и...</td>\n",
       "      <td>NaN</td>\n",
       "      <td>hub/complete_code</td>\n",
       "      <td>https://habrastorage.org/getpro/habr/post_imag...</td>\n",
       "      <td>@sim-dev</td>\n",
       "      <td>https://habrahabr.ru/users/sim-dev</td>\n",
       "      <td>&lt;img src=\"https://habrastorage.org/getpro/habr...</td>\n",
       "      <td>2015</td>\n",
       "      <td>8</td>\n",
       "    </tr>\n",
       "    <tr>\n",
       "      <th>3</th>\n",
       "      <td>https://habrahabr.ru/company/audiomania/blog/2...</td>\n",
       "      <td>2015-02-03 12:58:00+00:00</td>\n",
       "      <td>['электронная коммерция', 'amazon']</td>\n",
       "      <td>Что общего у eCommerce и медведя гризли?</td>\n",
       "      <td>Блог компании Аудиомания</td>\n",
       "      <td>За два десятилетия развития электронной коммер...</td>\n",
       "      <td>NaN</td>\n",
       "      <td>company/audiomania</td>\n",
       "      <td>https://habrastorage.org/files/a71/0fd/51d/a71...</td>\n",
       "      <td>NaN</td>\n",
       "      <td>https://habrahabr.ru/company/audiomania/blog/2...</td>\n",
       "      <td>&lt;a href=\"http://megamozg.ru//company/audiomani...</td>\n",
       "      <td>2015</td>\n",
       "      <td>2</td>\n",
       "    </tr>\n",
       "    <tr>\n",
       "      <th>4</th>\n",
       "      <td>https://habrahabr.ru/post/269955/</td>\n",
       "      <td>2015-11-02 10:28:00+00:00</td>\n",
       "      <td>['scala', 'functional programming', 'problems']</td>\n",
       "      <td>Простые Задачи и Функционально-Блондинистый По...</td>\n",
       "      <td>Функциональное программирование</td>\n",
       "      <td>Пару месяцев назад я взяла на себя обязательст...</td>\n",
       "      <td>Мария</td>\n",
       "      <td>hub/funcprog</td>\n",
       "      <td>https://habrastorage.org/files/4e9/8c7/9db/4e9...</td>\n",
       "      <td>@Musia17</td>\n",
       "      <td>https://habrahabr.ru/users/Musia17</td>\n",
       "      <td>&lt;img src=\"https://habrastorage.org/files/4e9/8...</td>\n",
       "      <td>2015</td>\n",
       "      <td>11</td>\n",
       "    </tr>\n",
       "  </tbody>\n",
       "</table>\n",
       "</div>"
      ],
      "text/plain": [
       "                                                 _id  \\\n",
       "0                  https://habrahabr.ru/post/290824/   \n",
       "1                  https://geektimes.ru/post/246882/   \n",
       "2                  https://habrahabr.ru/post/264585/   \n",
       "3  https://habrahabr.ru/company/audiomania/blog/2...   \n",
       "4                  https://habrahabr.ru/post/269955/   \n",
       "\n",
       "                       date                                             tags  \\\n",
       "0 2015-05-22 11:01:00+00:00        ['бизнес-модель', 'бизнес-моделирование']   \n",
       "1 2015-03-06 16:40:00+00:00                      ['dawn', 'ceres', 'церера']   \n",
       "2 2015-08-12 12:00:00+00:00                             ['си', 'начинающим']   \n",
       "3 2015-02-03 12:58:00+00:00              ['электронная коммерция', 'amazon']   \n",
       "4 2015-11-02 10:28:00+00:00  ['scala', 'functional programming', 'problems']   \n",
       "\n",
       "                                               title  \\\n",
       "0     7 шагов для постройки правильной бизнес-модели   \n",
       "1                   Зонд Dawn вышел на орбиту Цереры   \n",
       "2  Будь проще, и люди потянутся к тебе, или как п...   \n",
       "3           Что общего у eCommerce и медведя гризли?   \n",
       "4  Простые Задачи и Функционально-Блондинистый По...   \n",
       "\n",
       "                        hubs_title  \\\n",
       "0               Интернет-маркетинг   \n",
       "1                     Космонавтика   \n",
       "2                  Совершенный код   \n",
       "3         Блог компании Аудиомания   \n",
       "4  Функциональное программирование   \n",
       "\n",
       "                                         description                name  \\\n",
       "0  Большинство IT предпринимателей сосредотачиваю...           Александр   \n",
       "1  фото: НАСА  Сегодня зонд Dawn завершил своё по...  Вячеслав Голованов   \n",
       "2  Я по жизни самоучка: если не считать FORTRAN и...                 NaN   \n",
       "3  За два десятилетия развития электронной коммер...                 NaN   \n",
       "4  Пару месяцев назад я взяла на себя обязательст...               Мария   \n",
       "\n",
       "                     hub                                                png  \\\n",
       "0  hub/internetmarketing  https://habrastorage.org/files/50e/211/9a0/50e...   \n",
       "1              hub/space  https://habrastorage.org/getpro/geektimes/post...   \n",
       "2      hub/complete_code  https://habrastorage.org/getpro/habr/post_imag...   \n",
       "3     company/audiomania  https://habrastorage.org/files/a71/0fd/51d/a71...   \n",
       "4           hub/funcprog  https://habrastorage.org/files/4e9/8c7/9db/4e9...   \n",
       "\n",
       "          nick                                                url  \\\n",
       "0  @jasiejames              https://habrahabr.ru/users/jasiejames   \n",
       "1       @SLY_G                   https://geektimes.ru/users/SLY_G   \n",
       "2     @sim-dev                 https://habrahabr.ru/users/sim-dev   \n",
       "3          NaN  https://habrahabr.ru/company/audiomania/blog/2...   \n",
       "4     @Musia17                 https://habrahabr.ru/users/Musia17   \n",
       "\n",
       "                                             content  year  month  \n",
       "0  <img src=\"https://habrastorage.org/files/50e/2...  2015      5  \n",
       "1  <img src=\"https://habrastorage.org/getpro/geek...  2015      3  \n",
       "2  <img src=\"https://habrastorage.org/getpro/habr...  2015      8  \n",
       "3  <a href=\"http://megamozg.ru//company/audiomani...  2015      2  \n",
       "4  <img src=\"https://habrastorage.org/files/4e9/8...  2015     11  "
      ]
     },
     "execution_count": 69,
     "metadata": {},
     "output_type": "execute_result"
    }
   ],
   "source": [
    "text_data = pd.concat([X_train, X_val], axis=0, ignore_index=True)\n",
    "labels = pd.concat([y_train, y_val], axis=0, ignore_index=True)\n",
    "text_data.head()"
   ]
  },
  {
   "cell_type": "code",
   "execution_count": 44,
   "metadata": {},
   "outputs": [
    {
     "name": "stdout",
     "output_type": "stream",
     "text": [
      "CPU times: user 1h 17min 39s, sys: 3.14 s, total: 1h 17min 42s\n",
      "Wall time: 1h 17min 42s\n"
     ]
    }
   ],
   "source": [
    "%%time\n",
    "\n",
    "# Nan -> 'str'\n",
    "text_data['content_clear'] = text_data['content'].apply(str)\n",
    "\n",
    "# preprocess\n",
    "text_data['content_clear'] = text_data['content_clear'].apply(preprocess_text)"
   ]
  },
  {
   "cell_type": "markdown",
   "metadata": {},
   "source": [
    "**Important**\n",
    "- Preprocessing on such big dataset consumes much RAM -> we **save the clean text after preprocessing and download again**\n",
    "- Better use pickle format"
   ]
  },
  {
   "cell_type": "code",
   "execution_count": 60,
   "metadata": {},
   "outputs": [],
   "source": [
    "# save ask pkl to release the resources\n",
    "text_data['content_clear'].to_pickle('preprocessed_text.pkl')"
   ]
  },
  {
   "cell_type": "markdown",
   "metadata": {},
   "source": [
    "To rellease the resources:\n",
    "- Restart the kernel\n",
    "- del df and use garbage collector"
   ]
  },
  {
   "cell_type": "code",
   "execution_count": 61,
   "metadata": {},
   "outputs": [],
   "source": [
    "# release resources\n",
    "import gc\n",
    "\n",
    "del text_data['content_clear']\n",
    "gc.collect()"
   ]
  },
  {
   "cell_type": "code",
   "execution_count": 9,
   "metadata": {},
   "outputs": [],
   "source": [
    "# read preprocessed text -> tokens to train word2vec\n",
    "clean_text = pd.read_pickle('preprocessed_text.pkl')"
   ]
  },
  {
   "cell_type": "code",
   "execution_count": 14,
   "metadata": {},
   "outputs": [
    {
     "name": "stdout",
     "output_type": "stream",
     "text": [
      "CPU times: user 7min 35s, sys: 3.07 s, total: 7min 38s\n",
      "Wall time: 2min 10s\n"
     ]
    }
   ],
   "source": [
    "%%time\n",
    "\n",
    "# define word2vec model\n",
    "w2v_model = word2vec.Word2Vec(clean_text, vector_size=300, window=3, workers=4)\n",
    "\n",
    "# define vocab and embeddigs\n",
    "embeddings_vocab = dict(zip(w2v_model.wv.index_to_key, w2v_model.wv.vectors))\n",
    "print('Model Vocab Size: ', len(embeddings_vocab.keys()))"
   ]
  },
  {
   "cell_type": "markdown",
   "metadata": {},
   "source": [
    "**Test Trained Word2Vec Model**"
   ]
  },
  {
   "cell_type": "code",
   "execution_count": 25,
   "metadata": {},
   "outputs": [
    {
     "data": {
      "text/plain": [
       "[('scientists', 0.6540507674217224),\n",
       " ('massive', 0.6530531644821167),\n",
       " ('breach', 0.6388026475906372),\n",
       " ('knowledge', 0.636269211769104),\n",
       " ('analyst', 0.6330214738845825),\n",
       " ('teams', 0.6267001628875732),\n",
       " ('visualization', 0.625065267086029),\n",
       " ('visualizing', 0.6241403222084045),\n",
       " ('mining', 0.6225045323371887),\n",
       " ('storing', 0.6192912459373474)]"
      ]
     },
     "execution_count": 25,
     "metadata": {},
     "output_type": "execute_result"
    }
   ],
   "source": [
    "w2v_model.wv.most_similar(positive=['open', 'data','science','best'])"
   ]
  },
  {
   "cell_type": "markdown",
   "metadata": {},
   "source": [
    "- similar words make sense -> model was trained well\n",
    "\n",
    "**Mean Embeddings of Documents**\n",
    "- Apply IDF mean for tokens to get better document embeddings"
   ]
  },
  {
   "cell_type": "code",
   "execution_count": 21,
   "metadata": {},
   "outputs": [],
   "source": [
    "class CustomTfIdfVectorizer():\n",
    "    def __init__(self, embeddings_vocab: Dict[str, np.ndarray]) -> None:\n",
    "        self.embeddings_vocab = embeddings_vocab\n",
    "        self.dim = len(next(iter(self.embeddings_vocab.values())))\n",
    "        self.weight = None\n",
    "\n",
    "\n",
    "    def fit(self, X: List[str]) -> None:\n",
    "        \"\"\"\n",
    "        Computes IDF weights for tokens.\n",
    "        \n",
    "        Important\n",
    "        ---------\n",
    "        Words that are missed in vocab must be as infrequent as any known words.\n",
    "        Thus, the default IDF value for them is max(idf).\n",
    "\n",
    "        Parameters\n",
    "        ----------\n",
    "        X: list\n",
    "            Sentence (i.e. sequence of tokens).\n",
    "        \"\"\"\n",
    "        # fit TfidfVectorizer\n",
    "        tfidf_vectorizer = TfidfVectorizer(analyzer=lambda x: x)\n",
    "        tfidf_vectorizer.fit(X)\n",
    "\n",
    "        max_idf = max(tfidf_vectorizer.idf_) # this weight will have words that are missing in vocab\n",
    "\n",
    "        self.weight = defaultdict(\n",
    "            lambda: max_idf,\n",
    "            [\n",
    "                (w, tfidf_vectorizer.idf_[i]) for w, i in tfidf_vectorizer.vocabulary_.items()\n",
    "            ]\n",
    "        )\n",
    "        return None\n",
    "\n",
    "    def transform(self, X: List[str]) -> np.ndarray:\n",
    "        \"\"\"Returns IDF weighted mean embedding vector of a sentence.\"\"\"\n",
    "        return np.array([\n",
    "            np.mean(\n",
    "                [self.embeddings_vocab[w] * self.weight[w] for w in words if w in self.embeddings_vocab] \n",
    "                or\n",
    "                [np.zeros(self.dim)], axis=0 # if word is missing, it has zero vector and max(idf)\n",
    "            )\n",
    "            for words in X\n",
    "        ])"
   ]
  },
  {
   "cell_type": "code",
   "execution_count": 30,
   "metadata": {},
   "outputs": [],
   "source": [
    "%%time\n",
    "\n",
    "idf_vectorizer = CustomTfIdfVectorizer(embeddings_vocab)\n",
    "idf_vectorizer.fit(clean_text)\n",
    "\n",
    "# get idf mean embeddings for documents\n",
    "idf_mean_embeddings = idf_vectorizer.transform(clean_text)"
   ]
  },
  {
   "cell_type": "code",
   "execution_count": 70,
   "metadata": {},
   "outputs": [],
   "source": [
    "def get_train_val_data(X, y, ratio):\n",
    "    idx = ratio\n",
    "    return X[:idx, :], X[idx:, :], y[:idx], y[idx:]\n",
    "\n",
    "X_train, X_val, y_train, y_val = get_train_val_data(\n",
    "    idf_mean_embeddings, y=labels, ratio=23425\n",
    ")"
   ]
  },
  {
   "cell_type": "markdown",
   "metadata": {},
   "source": [
    "### Model Training\n",
    "**Linear Models**"
   ]
  },
  {
   "cell_type": "code",
   "execution_count": 73,
   "metadata": {},
   "outputs": [
    {
     "name": "stdout",
     "output_type": "stream",
     "text": [
      "Train Error:  0.7630896213765483\n",
      "Validation Error:  0.698094783319037\n",
      "Validation Error (Median Prediction):  [3.36729583 3.36729583 3.36729583 ... 3.36729583 3.36729583 3.36729583]\n"
     ]
    }
   ],
   "source": [
    "ridge_model = Ridge(alpha=1, random_state=23)\n",
    "ridge_model.fit(X_train, y_train)\n",
    "\n",
    "train_preds = ridge_model.predict(X_train)\n",
    "val_preds = ridge_model.predict(X_val)\n",
    "\n",
    "mse_train = mean_squared_error(y_train, train_preds)\n",
    "mse_val = mean_squared_error(y_val, val_preds)\n",
    "y_median = np.ones(len(val_preds))*y_train.median()\n",
    "\n",
    "print('Train Error: ', mse_train)\n",
    "print('Validation Error: ', mse_val)\n",
    "print('Validation Error (Median Prediction): ', y_median)"
   ]
  },
  {
   "cell_type": "markdown",
   "metadata": {},
   "source": [
    "**Neural Net**"
   ]
  },
  {
   "cell_type": "code",
   "execution_count": 76,
   "metadata": {},
   "outputs": [],
   "source": [
    "from keras import regularizers\n",
    "from keras.layers import Activation, Dense, Dropout, Input\n",
    "from keras.models import Model, Sequential\n",
    "from keras.preprocessing.text import Tokenizer\n",
    "from keras.wrappers.scikit_learn import KerasRegressor"
   ]
  },
  {
   "cell_type": "code",
   "execution_count": 79,
   "metadata": {},
   "outputs": [],
   "source": [
    "def baseline_model():\n",
    "    model = Sequential()\n",
    "    model.add(Dense(128, input_dim=X_train.shape[1], kernel_initializer='normal', activation='relu'))\n",
    "    model.add(Dropout(0.2))\n",
    "    model.add(Dense(64, activation='relu'))\n",
    "    model.add(Dropout(0.5))\n",
    "    model.add(Dense(1, kernel_initializer='normal'))\n",
    "\n",
    "    model.compile(loss='mean_squared_error', optimizer='adam')\n",
    "    return model\n",
    "\n",
    "estimator = KerasRegressor(\n",
    "    build_fn=baseline_model,\n",
    "    epochs=20, nb_epoch=20,\n",
    "    batch_size=64,\n",
    "    validation_data=(X_val, y_val),\n",
    "    verbose=2\n",
    ")"
   ]
  },
  {
   "cell_type": "code",
   "execution_count": 80,
   "metadata": {},
   "outputs": [
    {
     "name": "stderr",
     "output_type": "stream",
     "text": [
      "2024-04-13 20:48:41.240534: I tensorflow/compiler/mlir/mlir_graph_optimization_pass.cc:185] None of the MLIR Optimization Passes are enabled (registered 2)\n"
     ]
    },
    {
     "name": "stdout",
     "output_type": "stream",
     "text": [
      "Epoch 1/20\n",
      "367/367 - 1s - loss: 1.7729 - val_loss: 0.7650\n",
      "Epoch 2/20\n",
      "367/367 - 1s - loss: 1.2404 - val_loss: 0.6848\n",
      "Epoch 3/20\n",
      "367/367 - 1s - loss: 1.1565 - val_loss: 0.7024\n",
      "Epoch 4/20\n",
      "367/367 - 1s - loss: 1.0929 - val_loss: 0.7610\n",
      "Epoch 5/20\n",
      "367/367 - 1s - loss: 1.0663 - val_loss: 0.6722\n",
      "Epoch 6/20\n",
      "367/367 - 1s - loss: 1.0120 - val_loss: 0.6737\n",
      "Epoch 7/20\n",
      "367/367 - 1s - loss: 0.9862 - val_loss: 0.6326\n",
      "Epoch 8/20\n",
      "367/367 - 1s - loss: 0.9534 - val_loss: 0.6820\n",
      "Epoch 9/20\n",
      "367/367 - 1s - loss: 0.9185 - val_loss: 0.6269\n",
      "Epoch 10/20\n",
      "367/367 - 1s - loss: 0.8981 - val_loss: 0.6421\n",
      "Epoch 11/20\n",
      "367/367 - 1s - loss: 0.8919 - val_loss: 0.7912\n",
      "Epoch 12/20\n",
      "367/367 - 1s - loss: 0.8635 - val_loss: 0.6467\n",
      "Epoch 13/20\n",
      "367/367 - 1s - loss: 0.8227 - val_loss: 0.6639\n",
      "Epoch 14/20\n",
      "367/367 - 1s - loss: 0.8079 - val_loss: 0.6964\n",
      "Epoch 15/20\n",
      "367/367 - 1s - loss: 0.8060 - val_loss: 0.6174\n",
      "Epoch 16/20\n",
      "367/367 - 1s - loss: 0.7987 - val_loss: 0.6128\n",
      "Epoch 17/20\n",
      "367/367 - 1s - loss: 0.7764 - val_loss: 0.6038\n",
      "Epoch 18/20\n",
      "367/367 - 1s - loss: 0.7791 - val_loss: 0.6039\n",
      "Epoch 19/20\n",
      "367/367 - 1s - loss: 0.7457 - val_loss: 0.6369\n",
      "Epoch 20/20\n",
      "367/367 - 1s - loss: 0.7460 - val_loss: 0.6109\n"
     ]
    },
    {
     "data": {
      "text/plain": [
       "<keras.callbacks.History at 0x7ff4e846ee20>"
      ]
     },
     "execution_count": 80,
     "metadata": {},
     "output_type": "execute_result"
    }
   ],
   "source": [
    "estimator.fit(X_train, y_train)"
   ]
  },
  {
   "cell_type": "code",
   "execution_count": 81,
   "metadata": {},
   "outputs": [
    {
     "name": "stdout",
     "output_type": "stream",
     "text": [
      "367/367 - 0s\n",
      "119/119 - 0s\n",
      "Train Error:  0.6547060014248149\n",
      "Validation Error:  0.6108538912317751\n",
      "Validation Error (Median Prediction):  [3.36729583 3.36729583 3.36729583 ... 3.36729583 3.36729583 3.36729583]\n"
     ]
    }
   ],
   "source": [
    "train_preds = estimator.predict(X_train)\n",
    "val_preds = estimator.predict(X_val)\n",
    "\n",
    "mse_train = mean_squared_error(y_train, train_preds)\n",
    "mse_val = mean_squared_error(y_val, val_preds)\n",
    "y_median = np.ones(len(val_preds))*y_train.median()\n",
    "\n",
    "print('Train Error: ', mse_train)\n",
    "print('Validation Error: ', mse_val)\n",
    "print('Validation Error (Median Prediction): ', y_median)"
   ]
  },
  {
   "cell_type": "markdown",
   "metadata": {},
   "source": [
    "**Results Analysis**\n",
    "- NN provided much better results than Ridge Regression\n",
    "- All the models in the notebook are baseline models"
   ]
  },
  {
   "cell_type": "markdown",
   "metadata": {},
   "source": [
    "### Leaderboard Performance\n",
    "Let's check how well we trained our model.\n",
    "- [Competition Leaderboard](https://www.kaggle.com/c/howpop-habrahabr-favs/leaderboard)"
   ]
  },
  {
   "cell_type": "code",
   "execution_count": null,
   "metadata": {},
   "outputs": [],
   "source": [
    "# preprocess test data -> clean test"
   ]
  },
  {
   "cell_type": "code",
   "execution_count": null,
   "metadata": {},
   "outputs": [],
   "source": [
    "# idf mean for clean test"
   ]
  },
  {
   "cell_type": "code",
   "execution_count": null,
   "metadata": {},
   "outputs": [],
   "source": [
    "# predict "
   ]
  },
  {
   "cell_type": "markdown",
   "metadata": {},
   "source": [
    "### Further Potential\n",
    "We trained a model only on embeddings that allowed drastically reducing dimensionality. However, we have only embedding features and other features can be created as well. For example:\n",
    "- Time related features:\n",
    "    - Month, day, time of day, ...\n",
    "    - Posting Time\n",
    "    \n",
    "- Author features\n",
    "    - N posts \n",
    "    - Average rating\n",
    "    - ...\n",
    "\n",
    "- Content Related Features\n",
    "    - Pictures in article\n",
    "    - How many pictures\n",
    "    - ..."
   ]
  },
  {
   "cell_type": "code",
   "execution_count": null,
   "metadata": {},
   "outputs": [],
   "source": []
  }
 ],
 "metadata": {
  "kernelspec": {
   "display_name": "Python 3 (ipykernel)",
   "language": "python",
   "name": "python3"
  },
  "language_info": {
   "codemirror_mode": {
    "name": "ipython",
    "version": 3
   },
   "file_extension": ".py",
   "mimetype": "text/x-python",
   "name": "python",
   "nbconvert_exporter": "python",
   "pygments_lexer": "ipython3",
   "version": "3.9.7"
  }
 },
 "nbformat": 4,
 "nbformat_minor": 2
}
