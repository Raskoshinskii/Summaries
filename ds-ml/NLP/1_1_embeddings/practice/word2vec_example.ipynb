{
 "cells": [
  {
   "cell_type": "markdown",
   "metadata": {},
   "source": [
    "### Word2Vec Example\n",
    "Let's understand how word2vec works in practice using a real dataset. We will use the same dataset (`spooky author identification`) to practice word2vec."
   ]
  },
  {
   "cell_type": "code",
   "execution_count": 1,
   "metadata": {},
   "outputs": [],
   "source": [
    "import re\n",
    "import nltk.data\n",
    "import warnings\n",
    "import pandas as pd\n",
    "import numpy as np\n",
    "\n",
    "import seaborn as sns\n",
    "import matplotlib.pyplot as plt\n",
    "\n",
    "from typing import Any, List, Union\n",
    "from scipy.sparse.csr import csr_matrix\n",
    "from time import time\n",
    "\n",
    "from nltk.corpus import stopwords\n",
    "from nltk.tokenize import word_tokenize\n",
    "from nltk.stem import WordNetLemmatizer, SnowballStemmer\n",
    "\n",
    "from sklearn.cluster import KMeans\n",
    "\n",
    "from gensim.models import Word2Vec\n",
    "\n",
    "warnings.filterwarnings('ignore')"
   ]
  },
  {
   "cell_type": "code",
   "execution_count": 2,
   "metadata": {},
   "outputs": [],
   "source": [
    "# preprocessing functions\n",
    "\n",
    "def remove_punctuation(text: str) -> str:\n",
    "    import string\n",
    "    translator = str.maketrans('', '', string.punctuation)\n",
    "    return text.translate(translator)\n",
    "\n",
    "\n",
    "def remove_stopwords(text: str, sw: list) -> str:\n",
    "    sw = set(sw)\n",
    "    text = [\n",
    "        word.lower() for word in text.split() if word.lower() not in sw\n",
    "    ]\n",
    "    return \" \".join(text)\n",
    "\n",
    "\n",
    "def remove_numbers(text: str):\n",
    "    text = [\n",
    "        re.sub(r'\\d+(?:\\.\\d+)?', '', word) for word in text.split()\n",
    "    ]\n",
    "    return \" \".join(text)\n",
    "\n",
    "\n",
    "def stem_text(text: str, stemmer: Any) -> str:\n",
    "    text = [\n",
    "        stemmer.stem(word) for word in text.split()\n",
    "    ]\n",
    "    return \" \".join(text)\n",
    "\n",
    "\n",
    "def lemmatize_text(text: str, lemmatizer: Any) -> str:\n",
    "    text = [\n",
    "        lemmatizer.lemmatize(word) for word in text.split()\n",
    "    ]\n",
    "    return \" \".join(text)\n",
    "\n",
    "\n",
    "def get_top_words(vocab: dict, n: int = 10, ascending: bool = False) -> pd.Series:\n",
    "    \"\"\"\n",
    "    Get N top words from word counts (words distribution).\n",
    "\n",
    "    Parameters\n",
    "    ----------\n",
    "    vocab: dict\n",
    "        Word counts (e.g. {'sunny': 10, 'big': 23}).\n",
    "    n: int\n",
    "        Number of words to show (e.g. 10 -> top 10).\n",
    "    ascending: bool\n",
    "        If True, show in ascending order.\n",
    "\n",
    "    Returns\n",
    "    -------\n",
    "    pd.DataFrame\n",
    "        Word counts.\n",
    "\n",
    "    \"\"\"\n",
    "    if ascending:\n",
    "        result = pd.Series(vocab).sort_values()\n",
    "    else:\n",
    "        result = pd.Series(vocab).sort_values(ascending=False)\n",
    "    return result.iloc[:n]\n",
    "\n",
    "\n",
    "def get_pd_fm(sparce_matrix: csr_matrix, vectorizer: Any) -> pd.DataFrame:\n",
    "    \"\"\"\n",
    "    Transforms Sparse CSR matrix into Pandas dense with feature names in columns.\n",
    "\n",
    "    Parameters\n",
    "    ----------\n",
    "    sparce_matrix\n",
    "        Sparce matrix of features.\n",
    "    vectorizer: Any\n",
    "        Used vectorizer for features generation (e.g. 'CountVectorizer', ...).\n",
    "    \n",
    "    Returns\n",
    "    -------\n",
    "    pd.DataFrame\n",
    "        Pandas dense matrix of features.\n",
    "    \"\"\"\n",
    "    return pd.DataFrame(\n",
    "        data=sparce_matrix.todense(),\n",
    "        columns=vectorizer.vocabulary_.keys()\n",
    "    )"
   ]
  },
  {
   "cell_type": "code",
   "execution_count": 3,
   "metadata": {},
   "outputs": [],
   "source": [
    "def preprocess_text(\n",
    "    text: str,\n",
    "    stop_words: List[str],\n",
    "    normalizer: Any\n",
    ") -> str:\n",
    "    \"\"\"Basic preprocessing for text.\"\"\"\n",
    "    # preprocessing\n",
    "    clean_text = remove_punctuation(text)\n",
    "    clean_text = remove_numbers(clean_text)\n",
    "    clean_text = remove_stopwords(clean_text, stop_words)\n",
    "\n",
    "    # text normalization\n",
    "    if re.search(r'.*stemmer', type(normalizer).__name__,  re.IGNORECASE):\n",
    "        clean_text = stem_text(clean_text, normalizer)\n",
    "    \n",
    "    if re.search(r'.*lemma', type(normalizer).__name__,  re.IGNORECASE):\n",
    "        clean_text = lemmatize_text(clean_text, normalizer)\n",
    "\n",
    "    return clean_text"
   ]
  },
  {
   "cell_type": "markdown",
   "metadata": {},
   "source": [
    "### Data Downloading"
   ]
  },
  {
   "cell_type": "code",
   "execution_count": 4,
   "metadata": {},
   "outputs": [
    {
     "name": "stdout",
     "output_type": "stream",
     "text": [
      "Data Shape:  19579\n"
     ]
    },
    {
     "data": {
      "text/html": [
       "<div>\n",
       "<style scoped>\n",
       "    .dataframe tbody tr th:only-of-type {\n",
       "        vertical-align: middle;\n",
       "    }\n",
       "\n",
       "    .dataframe tbody tr th {\n",
       "        vertical-align: top;\n",
       "    }\n",
       "\n",
       "    .dataframe thead th {\n",
       "        text-align: right;\n",
       "    }\n",
       "</style>\n",
       "<table border=\"1\" class=\"dataframe\">\n",
       "  <thead>\n",
       "    <tr style=\"text-align: right;\">\n",
       "      <th></th>\n",
       "      <th>id</th>\n",
       "      <th>text</th>\n",
       "      <th>author</th>\n",
       "    </tr>\n",
       "  </thead>\n",
       "  <tbody>\n",
       "    <tr>\n",
       "      <th>0</th>\n",
       "      <td>id26305</td>\n",
       "      <td>This process, however, afforded me no means of...</td>\n",
       "      <td>EAP</td>\n",
       "    </tr>\n",
       "    <tr>\n",
       "      <th>1</th>\n",
       "      <td>id17569</td>\n",
       "      <td>It never once occurred to me that the fumbling...</td>\n",
       "      <td>HPL</td>\n",
       "    </tr>\n",
       "    <tr>\n",
       "      <th>2</th>\n",
       "      <td>id11008</td>\n",
       "      <td>In his left hand was a gold snuff box, from wh...</td>\n",
       "      <td>EAP</td>\n",
       "    </tr>\n",
       "    <tr>\n",
       "      <th>3</th>\n",
       "      <td>id27763</td>\n",
       "      <td>How lovely is spring As we looked from Windsor...</td>\n",
       "      <td>MWS</td>\n",
       "    </tr>\n",
       "    <tr>\n",
       "      <th>4</th>\n",
       "      <td>id12958</td>\n",
       "      <td>Finding nothing else, not even gold, the Super...</td>\n",
       "      <td>HPL</td>\n",
       "    </tr>\n",
       "  </tbody>\n",
       "</table>\n",
       "</div>"
      ],
      "text/plain": [
       "        id                                               text author\n",
       "0  id26305  This process, however, afforded me no means of...    EAP\n",
       "1  id17569  It never once occurred to me that the fumbling...    HPL\n",
       "2  id11008  In his left hand was a gold snuff box, from wh...    EAP\n",
       "3  id27763  How lovely is spring As we looked from Windsor...    MWS\n",
       "4  id12958  Finding nothing else, not even gold, the Super...    HPL"
      ]
     },
     "execution_count": 4,
     "metadata": {},
     "output_type": "execute_result"
    }
   ],
   "source": [
    "data = pd.read_csv(r'../../data/spooky-author-identification/train.csv')\n",
    "print('Data Shape: ', data.shape[0])\n",
    "\n",
    "data.head()"
   ]
  },
  {
   "cell_type": "markdown",
   "metadata": {},
   "source": [
    "**Important**\n",
    "- `Word2Vec` model **expects single sentences for training** Thus, we need to create sentences from each document.\n",
    "- Sentence splitting **might be tricky** because it's not always clear if a sentence indeed ended. However, we can use set of hard rules (e.g. `.`, `!`, ...)\n",
    "    - For easier sentences splitting use `NLTK's punkt tokenizer`\n",
    "    - Main logic: `Document -> Sentence Splitter -> Sentences -> Preprocess Each Sentence -> Sentence Tokens` \n",
    "    - Obviously `n_sentences` > `n_documents` (might be also equal but rarely)\n",
    "- **Not only words** can be encoded but n_grams as well"
   ]
  },
  {
   "cell_type": "markdown",
   "metadata": {},
   "source": [
    "### Data Preprocessing"
   ]
  },
  {
   "cell_type": "code",
   "execution_count": 5,
   "metadata": {},
   "outputs": [],
   "source": [
    "def text_to_sentences(text: str) -> List[str]:\n",
    "    \"\"\"\n",
    "    Converts text into a list of sentences using nltk punkt tokenizer.\n",
    "    \"\"\"\n",
    "    import nltk.data\n",
    "\n",
    "    # Load the punkt tokenizer\n",
    "    tokenizer = nltk.data.load('tokenizers/punkt/english.pickle')\n",
    "    return tokenizer.tokenize(text.strip())"
   ]
  },
  {
   "cell_type": "code",
   "execution_count": 6,
   "metadata": {},
   "outputs": [
    {
     "data": {
      "text/plain": [
       "['I am doing fine.', 'How are you?', 'Good Thanks!']"
      ]
     },
     "execution_count": 6,
     "metadata": {},
     "output_type": "execute_result"
    }
   ],
   "source": [
    "# sentences example\n",
    "tokenizer = nltk.data.load('tokenizers/punkt/english.pickle')\n",
    "\n",
    "example_sentence = 'I am doing fine. How are you? Good Thanks!'\n",
    "raw_sentences = tokenizer.tokenize(example_sentence.strip())\n",
    "raw_sentences"
   ]
  },
  {
   "cell_type": "markdown",
   "metadata": {},
   "source": [
    "- Each token represents a sentence"
   ]
  },
  {
   "cell_type": "code",
   "execution_count": 7,
   "metadata": {},
   "outputs": [
    {
     "data": {
      "text/plain": [
       "[['fine'], [], ['good', 'thanks']]"
      ]
     },
     "execution_count": 7,
     "metadata": {},
     "output_type": "execute_result"
    }
   ],
   "source": [
    "# preprocess sentences/tokens\n",
    "stop_words = stopwords.words('english')\n",
    "stemmer = SnowballStemmer(language='english')\n",
    "lemmatizer = WordNetLemmatizer()\n",
    "\n",
    "clean_sentences = [\n",
    "    word_tokenize(\n",
    "        preprocess_text(text=sentence, stop_words=stop_words, normalizer=lemmatizer)\n",
    "    )\n",
    "    for sentence in raw_sentences\n",
    "]\n",
    "\n",
    "clean_sentences"
   ]
  },
  {
   "cell_type": "code",
   "execution_count": 8,
   "metadata": {},
   "outputs": [
    {
     "name": "stdout",
     "output_type": "stream",
     "text": [
      "Sentences Splitting Done!\n",
      "Sentences Tokenization Done!\n"
     ]
    }
   ],
   "source": [
    "# put all together\n",
    "tokenizer = nltk.data.load('tokenizers/punkt/english.pickle')\n",
    "stop_words = stopwords.words('english')\n",
    "stemmer = SnowballStemmer(language='english')\n",
    "lemmatizer = WordNetLemmatizer()\n",
    "\n",
    "# get sentences\n",
    "raw_sentences = [\n",
    "    tokenizer.tokenize(sentence.strip()) for sentence in data['text']\n",
    "]\n",
    "print('Sentences Splitting Done!')\n",
    "\n",
    "# preprocess sentences and get tokens\n",
    "clean_sentences = [\n",
    "    word_tokenize(\n",
    "        preprocess_text(text=sentence[0], stop_words=stop_words, normalizer=lemmatizer)\n",
    "    )\n",
    "    for sentence in raw_sentences\n",
    "]\n",
    "print('Sentences Tokenization Done!')"
   ]
  },
  {
   "cell_type": "code",
   "execution_count": 9,
   "metadata": {},
   "outputs": [
    {
     "name": "stdout",
     "output_type": "stream",
     "text": [
      "N Unique Texts:  19579\n",
      "N Unique Sentences:  20210\n"
     ]
    }
   ],
   "source": [
    "\"\"\"\n",
    "After applying NLTK punkt tokenizer our sentences belong to the same list but are split using comma\n",
    "For example, 'I am doing fine. How are you? Good Thanks!' -> ['I am doing fine.', 'How are you?', 'Good Thanks!']\n",
    "\n",
    "Thuse, we need to get len of lists, not the number of lists because we will get this: n_documents == n_sentences\n",
    "\"\"\"\n",
    "n_sentences = sum(list(map(len, raw_sentences)))\n",
    "\n",
    "print('N Unique Texts: ', data['text'].shape[0])\n",
    "print('N Unique Sentences: ', n_sentences)"
   ]
  },
  {
   "cell_type": "markdown",
   "metadata": {},
   "source": [
    "**Interpretation**\n",
    "- We have a bit higher number of sentences than original documents -> Most of the documents have single sentences"
   ]
  },
  {
   "cell_type": "code",
   "execution_count": 10,
   "metadata": {},
   "outputs": [
    {
     "data": {
      "text/plain": [
       "15054    9\n",
       "3759     6\n",
       "18466    6\n",
       "12340    6\n",
       "10206    5\n",
       "        ..\n",
       "6611     1\n",
       "6610     1\n",
       "6609     1\n",
       "6608     1\n",
       "19578    1\n",
       "Name: text, Length: 19579, dtype: int64"
      ]
     },
     "execution_count": 10,
     "metadata": {},
     "output_type": "execute_result"
    }
   ],
   "source": [
    "# have a look at sentences distribution for a text\n",
    "sentences_distr = data['text'].apply(lambda x: len(text_to_sentences(x))).sort_values(ascending=False)\n",
    "sentences_distr"
   ]
  },
  {
   "cell_type": "code",
   "execution_count": 11,
   "metadata": {},
   "outputs": [
    {
     "data": {
      "image/png": "[encoded data removed]",
      "text/plain": [
       "<Figure size 864x432 with 1 Axes>"
      ]
     },
     "metadata": {
      "needs_background": "light"
     },
     "output_type": "display_data"
    }
   ],
   "source": [
    "plt.figure(figsize=(12, 6))\n",
    "sentences_distr.value_counts().plot(kind='bar');"
   ]
  },
  {
   "cell_type": "markdown",
   "metadata": {},
   "source": [
    "**Interpretation**\n",
    "- Most texts have single sentence "
   ]
  },
  {
   "cell_type": "code",
   "execution_count": 12,
   "metadata": {},
   "outputs": [
    {
     "name": "stdout",
     "output_type": "stream",
     "text": [
      "N Text Unique (Single Sentence):  19160\n",
      "N Text Unique (> 2 Sentences):  146\n"
     ]
    }
   ],
   "source": [
    "_sentences_distr = sentences_distr.value_counts()\n",
    "\n",
    "print('N Text Unique (Single Sentence): ', _sentences_distr[1])\n",
    "print('N Text Unique (> 2 Sentences): ', _sentences_distr[2:].sum())"
   ]
  },
  {
   "cell_type": "markdown",
   "metadata": {},
   "source": [
    "**Interpretation**\n",
    "- We don't have many texts that have more than 1 sentece (0.7%) -> we can exclude such texts or only leave texts that have the following sentence length (3, 4)\n"
   ]
  },
  {
   "cell_type": "code",
   "execution_count": 13,
   "metadata": {},
   "outputs": [
    {
     "data": {
      "image/png": "[encoded data removed]",
      "text/plain": [
       "<Figure size 864x432 with 1 Axes>"
      ]
     },
     "metadata": {
      "needs_background": "light"
     },
     "output_type": "display_data"
    }
   ],
   "source": [
    "plt.figure(figsize=(12, 6))\n",
    "_sentences_distr = sentences_distr.value_counts()\n",
    "_sentences_distr[2:].plot(kind='bar');"
   ]
  },
  {
   "cell_type": "code",
   "execution_count": 14,
   "metadata": {},
   "outputs": [
    {
     "data": {
      "text/html": [
       "<div>\n",
       "<style scoped>\n",
       "    .dataframe tbody tr th:only-of-type {\n",
       "        vertical-align: middle;\n",
       "    }\n",
       "\n",
       "    .dataframe tbody tr th {\n",
       "        vertical-align: top;\n",
       "    }\n",
       "\n",
       "    .dataframe thead th {\n",
       "        text-align: right;\n",
       "    }\n",
       "</style>\n",
       "<table border=\"1\" class=\"dataframe\">\n",
       "  <thead>\n",
       "    <tr style=\"text-align: right;\">\n",
       "      <th></th>\n",
       "      <th>id</th>\n",
       "      <th>text</th>\n",
       "      <th>author</th>\n",
       "    </tr>\n",
       "  </thead>\n",
       "  <tbody>\n",
       "    <tr>\n",
       "      <th>0</th>\n",
       "      <td>id26305</td>\n",
       "      <td>This process, however, afforded me no means of...</td>\n",
       "      <td>EAP</td>\n",
       "    </tr>\n",
       "    <tr>\n",
       "      <th>1</th>\n",
       "      <td>id17569</td>\n",
       "      <td>It never once occurred to me that the fumbling...</td>\n",
       "      <td>HPL</td>\n",
       "    </tr>\n",
       "    <tr>\n",
       "      <th>2</th>\n",
       "      <td>id11008</td>\n",
       "      <td>In his left hand was a gold snuff box, from wh...</td>\n",
       "      <td>EAP</td>\n",
       "    </tr>\n",
       "    <tr>\n",
       "      <th>3</th>\n",
       "      <td>id27763</td>\n",
       "      <td>How lovely is spring As we looked from Windsor...</td>\n",
       "      <td>MWS</td>\n",
       "    </tr>\n",
       "    <tr>\n",
       "      <th>4</th>\n",
       "      <td>id12958</td>\n",
       "      <td>Finding nothing else, not even gold, the Super...</td>\n",
       "      <td>HPL</td>\n",
       "    </tr>\n",
       "    <tr>\n",
       "      <th>...</th>\n",
       "      <td>...</td>\n",
       "      <td>...</td>\n",
       "      <td>...</td>\n",
       "    </tr>\n",
       "    <tr>\n",
       "      <th>19574</th>\n",
       "      <td>id17718</td>\n",
       "      <td>I could have fancied, while I looked at it, th...</td>\n",
       "      <td>EAP</td>\n",
       "    </tr>\n",
       "    <tr>\n",
       "      <th>19575</th>\n",
       "      <td>id08973</td>\n",
       "      <td>The lids clenched themselves together as if in...</td>\n",
       "      <td>EAP</td>\n",
       "    </tr>\n",
       "    <tr>\n",
       "      <th>19576</th>\n",
       "      <td>id05267</td>\n",
       "      <td>Mais il faut agir that is to say, a Frenchman ...</td>\n",
       "      <td>EAP</td>\n",
       "    </tr>\n",
       "    <tr>\n",
       "      <th>19577</th>\n",
       "      <td>id17513</td>\n",
       "      <td>For an item of news like this, it strikes us i...</td>\n",
       "      <td>EAP</td>\n",
       "    </tr>\n",
       "    <tr>\n",
       "      <th>19578</th>\n",
       "      <td>id00393</td>\n",
       "      <td>He laid a gnarled claw on my shoulder, and it ...</td>\n",
       "      <td>HPL</td>\n",
       "    </tr>\n",
       "  </tbody>\n",
       "</table>\n",
       "<p>19160 rows × 3 columns</p>\n",
       "</div>"
      ],
      "text/plain": [
       "            id                                               text author\n",
       "0      id26305  This process, however, afforded me no means of...    EAP\n",
       "1      id17569  It never once occurred to me that the fumbling...    HPL\n",
       "2      id11008  In his left hand was a gold snuff box, from wh...    EAP\n",
       "3      id27763  How lovely is spring As we looked from Windsor...    MWS\n",
       "4      id12958  Finding nothing else, not even gold, the Super...    HPL\n",
       "...        ...                                                ...    ...\n",
       "19574  id17718  I could have fancied, while I looked at it, th...    EAP\n",
       "19575  id08973  The lids clenched themselves together as if in...    EAP\n",
       "19576  id05267  Mais il faut agir that is to say, a Frenchman ...    EAP\n",
       "19577  id17513  For an item of news like this, it strikes us i...    EAP\n",
       "19578  id00393  He laid a gnarled claw on my shoulder, and it ...    HPL\n",
       "\n",
       "[19160 rows x 3 columns]"
      ]
     },
     "execution_count": 14,
     "metadata": {},
     "output_type": "execute_result"
    }
   ],
   "source": [
    "# leave only single sentence texts\n",
    "text_data = data[data.index.isin(sentences_distr[sentences_distr == 1].index)]\n",
    "text_data"
   ]
  },
  {
   "cell_type": "code",
   "execution_count": 15,
   "metadata": {},
   "outputs": [
    {
     "name": "stdout",
     "output_type": "stream",
     "text": [
      "Sentences Splitting Done!\n",
      "Sentences Tokenization Done!\n"
     ]
    }
   ],
   "source": [
    "# preprocess again\n",
    "tokenizer = nltk.data.load('tokenizers/punkt/english.pickle')\n",
    "stop_words = stopwords.words('english')\n",
    "stemmer = SnowballStemmer(language='english')\n",
    "lemmatizer = WordNetLemmatizer()\n",
    "\n",
    "# get sentences\n",
    "raw_sentences = [\n",
    "    tokenizer.tokenize(sentence.strip()) for sentence in text_data['text']\n",
    "]\n",
    "print('Sentences Splitting Done!')\n",
    "\n",
    "# preprocess sentences and get tokens\n",
    "clean_sentences = [\n",
    "    word_tokenize(\n",
    "        preprocess_text(text=sentence[0], stop_words=stop_words, normalizer=lemmatizer)\n",
    "    )\n",
    "    for sentence in raw_sentences\n",
    "]\n",
    "print('Sentences Tokenization Done!')"
   ]
  },
  {
   "cell_type": "markdown",
   "metadata": {},
   "source": [
    "### Gensim Parameters\n",
    "- `Architecture`: \n",
    "    - Architecture options are skip-gram (default) or continuous bag of words.\n",
    "- `Training algorithm`:\n",
    "    - Hierarchical softmax (default) or negative sampling.\n",
    "- `Downsampling of frequent words (sample)`:\n",
    "    - The threshold for configuring which higher-frequency words are randomly downsampled. Highly influencial (.001 - .00001)\n",
    "- `Word Vector Dimensionality (size)`: \n",
    "    - Embeddings vectors dimensionality size (50, 300)\n",
    "- `Context / Window Size (window)`: \n",
    "    - How many words of context should the training algorithm take into account? (2, 10)\n",
    "- `Minimum Word Count (min_count)`: \n",
    "    - This helps limit the size of the vocabulary to meaningful words. Ignores all words with total absolute frequency lower than this (10-100)\n",
    "- `Learning Rate (alpha)`\n",
    "    - Neural Net learning rate (0.01, 0.05)\n",
    "- `Learning Rate Decrease (min_alpha)`\n",
    "    - Learning rate will linearly drop to `min_alpha` as training progresses\n",
    "- `Negative Sampling (negative)`\n",
    "    - If > 0, negative sampling will be used, specifies how many \"noise words\" should be drown. (5, 20)"
   ]
  },
  {
   "cell_type": "code",
   "execution_count": 16,
   "metadata": {},
   "outputs": [],
   "source": [
    "# word2vec parameters\n",
    "num_workers = 4 \n",
    "embedding_dim = 300\n",
    "min_word_count = 40 \n",
    "context_window_size = 10\n",
    "downsampling = 1e-3        \n",
    "\n",
    "w2v_model = Word2Vec(\n",
    "    workers=num_workers,\n",
    "    size=embedding_dim,\n",
    "    min_count=min_word_count,\n",
    "    window=context_window_size,\n",
    "    sample=downsampling\n",
    ")"
   ]
  },
  {
   "cell_type": "markdown",
   "metadata": {},
   "source": [
    "**Building Vocabulary Table**\n",
    "- `Word2Vec` requires us to build the vocabulary table (simply digesting all the words and filtering out the unique words, and doing some basic counts on them)"
   ]
  },
  {
   "cell_type": "code",
   "execution_count": 17,
   "metadata": {},
   "outputs": [
    {
     "name": "stdout",
     "output_type": "stream",
     "text": [
      "Time to build Vocab: 0.01 mins\n"
     ]
    }
   ],
   "source": [
    "t = time()\n",
    "\n",
    "w2v_model.build_vocab(clean_sentences, progress_per=10_000)\n",
    "\n",
    "print('Time to build Vocab: {} mins'.format(round((time() - t) / 60, 2)))"
   ]
  },
  {
   "cell_type": "markdown",
   "metadata": {},
   "source": [
    "### Model Training"
   ]
  },
  {
   "cell_type": "code",
   "execution_count": 18,
   "metadata": {},
   "outputs": [
    {
     "name": "stdout",
     "output_type": "stream",
     "text": [
      "Time Taken: 0.09 mins\n"
     ]
    }
   ],
   "source": [
    "t = time()\n",
    "\n",
    "w2v_model.train(\n",
    "    clean_sentences,\n",
    "    total_examples=w2v_model.corpus_count,\n",
    "    epochs=30,\n",
    "    report_delay=1\n",
    ")\n",
    "\n",
    "print('Time Taken: {} mins'.format(round((time() - t) / 60, 2)))"
   ]
  },
  {
   "cell_type": "code",
   "execution_count": 19,
   "metadata": {},
   "outputs": [],
   "source": [
    "# makes model more memory-efficient\n",
    "w2v_model.init_sims(replace=True)"
   ]
  },
  {
   "cell_type": "markdown",
   "metadata": {},
   "source": [
    "### Model Methods"
   ]
  },
  {
   "cell_type": "markdown",
   "metadata": {},
   "source": [
    "**Get Model Vocabulary and Embeddings**"
   ]
  },
  {
   "cell_type": "code",
   "execution_count": 20,
   "metadata": {},
   "outputs": [],
   "source": [
    "def get_w2v_embeddings(model: Any) -> dict:\n",
    "    \"\"\"Get dict of tokens their embeddings.\"\"\"\n",
    "    model_vocab = w2v_model.wv.vocab\n",
    "    return {word: model.wv[word] for word in model_vocab}\n",
    "\n",
    "\n",
    "def sample_from_model_vocab(\n",
    "    model: Any, n_samles: int = 10, random_state: int = 23\n",
    ") -> List[str]:\n",
    "    \"\"\"Sample N random words from model vocab.\"\"\"\n",
    "    model_vocab = pd.Series(w2v_model.wv.vocab.keys())\n",
    "    return model_vocab.sample(n_samles, random_state=random_state).tolist()\n",
    "\n",
    "\n",
    "word_embeddings = get_w2v_embeddings(w2v_model)"
   ]
  },
  {
   "cell_type": "code",
   "execution_count": 21,
   "metadata": {},
   "outputs": [
    {
     "data": {
      "text/plain": [
       "['could',\n",
       " 'frequent',\n",
       " 'gazed',\n",
       " 'hour',\n",
       " 'arm',\n",
       " 'grey',\n",
       " 'ordinary',\n",
       " 'feeling',\n",
       " 'aid',\n",
       " 'horse']"
      ]
     },
     "execution_count": 21,
     "metadata": {},
     "output_type": "execute_result"
    }
   ],
   "source": [
    "# get vocab\n",
    "n_samles = 10\n",
    "words_sample = sample_from_model_vocab(w2v_model, n_samles, random_state=None)\n",
    "words_sample"
   ]
  },
  {
   "cell_type": "code",
   "execution_count": 22,
   "metadata": {},
   "outputs": [
    {
     "data": {
      "text/plain": [
       "['one', 'upon', 'could', 'would', 'time']"
      ]
     },
     "execution_count": 22,
     "metadata": {},
     "output_type": "execute_result"
    }
   ],
   "source": [
    "# another way of getting model vocabulary\n",
    "model_vocab = w2v_model.wv.index2word\n",
    "model_vocab[:5]"
   ]
  },
  {
   "cell_type": "code",
   "execution_count": 23,
   "metadata": {},
   "outputs": [
    {
     "data": {
      "text/plain": [
       "array([-6.7611807e-03,  1.5516772e-02,  6.0099427e-02,  1.6541122e-05,\n",
       "       -4.4299230e-02, -3.7883122e-02, -1.6129525e-02, -2.5902890e-02,\n",
       "        1.0306043e-01, -6.7690209e-02], dtype=float32)"
      ]
     },
     "execution_count": 23,
     "metadata": {},
     "output_type": "execute_result"
    }
   ],
   "source": [
    "# embeddings\n",
    "word_embeddings['run'][:10] # first 10 embedding values"
   ]
  },
  {
   "cell_type": "markdown",
   "metadata": {},
   "source": [
    "**How to Get Most Similar Embedding?**\n",
    "- `Metric`: cosine similarity"
   ]
  },
  {
   "cell_type": "code",
   "execution_count": 24,
   "metadata": {},
   "outputs": [
    {
     "data": {
      "text/plain": [
       "[('adrian', 0.8462410569190979),\n",
       " ('raymond', 0.7869153022766113),\n",
       " ('idris', 0.7616019248962402),\n",
       " ('lord', 0.7060190439224243),\n",
       " ('windsor', 0.6993862986564636)]"
      ]
     },
     "execution_count": 24,
     "metadata": {},
     "output_type": "execute_result"
    }
   ],
   "source": [
    "# single word example (find the most similar vector to a given one)\n",
    "w2v_model.wv.most_similar(positive=[\"perdita\"], topn=5)"
   ]
  },
  {
   "cell_type": "code",
   "execution_count": 25,
   "metadata": {},
   "outputs": [
    {
     "data": {
      "text/plain": [
       "[('winter', 0.7941612005233765),\n",
       " ('summer', 0.7110149264335632),\n",
       " ('spring', 0.690467119216919),\n",
       " ('fled', 0.6837972402572632),\n",
       " ('storm', 0.6812300086021423)]"
      ]
     },
     "execution_count": 25,
     "metadata": {},
     "output_type": "execute_result"
    }
   ],
   "source": [
    "w2v_model.wv.most_similar(positive=[\"england\", \"rain\"], negative=['english'],  topn=5)"
   ]
  },
  {
   "cell_type": "markdown",
   "metadata": {},
   "source": [
    "**Hot to Measure Similarity between Vectors?**"
   ]
  },
  {
   "cell_type": "code",
   "execution_count": 26,
   "metadata": {},
   "outputs": [
    {
     "name": "stdout",
     "output_type": "stream",
     "text": [
      "Sim A:  0.16550495\n",
      "Sim B:  0.37606353\n"
     ]
    }
   ],
   "source": [
    "sim_a = w2v_model.wv.similarity(w1='england', w2='lake')\n",
    "sim_b = w2v_model.wv.similarity(w1='england', w2='english')\n",
    "\n",
    "print('Sim A: ', sim_a)\n",
    "print('Sim B: ', sim_b)"
   ]
  },
  {
   "cell_type": "markdown",
   "metadata": {},
   "source": [
    "**How to Identify Unmatching Words in a Sequence?**"
   ]
  },
  {
   "cell_type": "code",
   "execution_count": 27,
   "metadata": {},
   "outputs": [
    {
     "data": {
      "text/plain": [
       "'lake'"
      ]
     },
     "execution_count": 27,
     "metadata": {},
     "output_type": "execute_result"
    }
   ],
   "source": [
    "w2v_model.wv.doesnt_match(['england', 'english', 'lake'])"
   ]
  },
  {
   "cell_type": "markdown",
   "metadata": {},
   "source": [
    "**How to Save/Load Embeddings?**"
   ]
  },
  {
   "cell_type": "code",
   "execution_count": 28,
   "metadata": {},
   "outputs": [],
   "source": [
    "# model_name = \"spooky_author_embeddings\"\n",
    "# w2v_model.save(model_name)\n",
    "# w2v_model = Word2Vec.load(model_name)"
   ]
  },
  {
   "cell_type": "markdown",
   "metadata": {},
   "source": [
    "### Embeddings Visualization\n",
    "To visualize embeddings we can use the following techniques:\n",
    "- t-sne\n",
    "- UMAP\n",
    "- PCA\n",
    "\n",
    "PCA is a linear (better skip) method whereas t-sne and UMAP are non-linear. \n",
    "\n"
   ]
  },
  {
   "cell_type": "code",
   "execution_count": 29,
   "metadata": {},
   "outputs": [],
   "source": [
    "import numpy as np\n",
    "from sklearn.manifold import TSNE\n",
    "\n",
    "def visualize_word_embeddings(\n",
    "    model: Any,\n",
    "    method: Any,\n",
    "    word: str,\n",
    "    word_list: List[str] = None,\n",
    "    n_similar: int = 0,\n",
    "    n_random: int = 0,\n",
    "    random_state: int = 23\n",
    "):\n",
    "    \"\"\"\n",
    "    Visualizes an embeddings of a target word in comparison with top_n closests and random words.\n",
    "    \"\"\"\n",
    "    # for colorful plotting\n",
    "    colors = ['red']\n",
    "    labels = [word]\n",
    "\n",
    "    embeddings = w2v_model.wv[word].reshape(1, -1)\n",
    "    similar_words = model.wv.most_similar([word], topn=n_similar)\n",
    "    random_words = sample_from_model_vocab(model, n_random, random_state)\n",
    "    \n",
    "    # add most similar words to 'embeddings' \n",
    "    for word in similar_words:\n",
    "        word_embedding = w2v_model.wv[word[0]].reshape(1, -1)\n",
    "        embeddings = np.vstack((embeddings, word_embedding))\n",
    "\n",
    "        colors.append('green')\n",
    "        labels.append(word[0])\n",
    "\n",
    "    if n_random > 0:\n",
    "        # add random words to 'embeddings'\n",
    "        for word in random_words:\n",
    "            word_embedding = w2v_model.wv[word].reshape(1, -1)\n",
    "            embeddings = np.vstack((embeddings, word_embedding))\n",
    "\n",
    "            colors.append('blue')\n",
    "            labels.append(word)\n",
    "\n",
    "    if word_list:\n",
    "        for word in word_list:\n",
    "            word_embedding = w2v_model.wv[word].reshape(1, -1)\n",
    "            embeddings = np.vstack((embeddings, word_embedding))\n",
    "\n",
    "            colors.append('blue')\n",
    "            labels.append(word)\n",
    "\n",
    "    reduced_vectors = method.fit_transform(embeddings)\n",
    "\n",
    "    plot_df = pd.DataFrame({\n",
    "        'x': [x for x in reduced_vectors[:, 0]],\n",
    "        'y': [y for y in reduced_vectors[:, 1]],\n",
    "        'words': labels,\n",
    "        'color': colors\n",
    "    })\n",
    "    \n",
    "    fig, _ = plt.subplots()\n",
    "    fig.set_size_inches(9, 9)\n",
    "    \n",
    "    # main plot\n",
    "    p1 = sns.regplot(\n",
    "        data=plot_df, x=\"x\", y=\"y\",\n",
    "        fit_reg=False, marker=\"o\",\n",
    "        scatter_kws={'s': 40, 'facecolors': plot_df['color']}\n",
    "    )\n",
    "    \n",
    "    # plot annotation\n",
    "    for line in range(0, plot_df.shape[0]):\n",
    "        p1.text(\n",
    "            plot_df[\"x\"][line],\n",
    "            plot_df['y'][line],\n",
    "            plot_df[\"words\"][line],\n",
    "            horizontalalignment='left',\n",
    "            verticalalignment='bottom', size='medium',\n",
    "            color=plot_df['color'][line],\n",
    "            weight='normal'\n",
    "        ).set_size(15)\n",
    "\n",
    "    plt.xlim(reduced_vectors[:, 0].min()-50, reduced_vectors[:, 0].max()+50)\n",
    "    plt.ylim(reduced_vectors[:, 1].min()-50, reduced_vectors[:, 1].max()+50)"
   ]
  },
  {
   "cell_type": "code",
   "execution_count": 30,
   "metadata": {},
   "outputs": [
    {
     "data": {
      "image/png": "[encoded data removed]",
      "text/plain": [
       "<Figure size 648x648 with 1 Axes>"
      ]
     },
     "metadata": {
      "needs_background": "light"
     },
     "output_type": "display_data"
    }
   ],
   "source": [
    "visualize_word_embeddings(\n",
    "    model=w2v_model,\n",
    "    method=TSNE(n_components=2, random_state=0, perplexity=15),\n",
    "    word='england',\n",
    "    n_similar=5,\n",
    "    n_random=10,\n",
    "    random_state=None\n",
    ")"
   ]
  },
  {
   "cell_type": "markdown",
   "metadata": {},
   "source": [
    "### Embeddings Averaging\n",
    "Embeddings averaging allows getting embedding of a \"higher entity\". For example, word embeddings are part of sentences and thus average of a sentence embedding provides embedding of a sentence. Then sentence embeddings can be averaged as well to get document embeddings. \n",
    "This procedure can be done several times depening on what embedding level we would like to get in the end (e.g. sentence, document, document collection, etc.)"
   ]
  },
  {
   "cell_type": "code",
   "execution_count": 31,
   "metadata": {},
   "outputs": [],
   "source": [
    "def get_sentence_embedding(model: Any, sentence: List[str], average=True) -> np.ndarray:\n",
    "    \"\"\"\n",
    "    Gets embeddings of a sentence. If 'average' True, returns sentence embedding (everaged tokens embeddings)\n",
    "\n",
    "    Sentence Embeddings have the following structure:\n",
    "    [\n",
    "        [a, b, c, ...], # token_a embedding\n",
    "        [e, f, g, ...], # token_b embedding \n",
    "        ...\n",
    "    ]\n",
    "\n",
    "    Sentence Embedding (after averaging):\n",
    "    [x, y, z, ...]\n",
    "    \"\"\"\n",
    "    random_word= sample_from_model_vocab(model, n_samles=1, random_state=23) # to get word embedding dim\n",
    "    embeddings_dim = model.wv[random_word].reshape(1, -1).shape[1]\n",
    "    model_vocab = set(model.wv.index2word) # set to process faster\n",
    "\n",
    "    sentence_embeddings = np.zeros((1, embeddings_dim),dtype=\"float32\") # pre-initialize an empty numpy array to store sentence embeddings\n",
    "\n",
    "    # iterate over tokens in a sentence to get embeddings\n",
    "    for word in sentence:\n",
    "        if word in model_vocab: # not all tokens will have embeddings after model training!\n",
    "            word_embedding = model.wv[word].reshape(1, -1)\n",
    "            sentence_embeddings = np.vstack((sentence_embeddings, word_embedding))\n",
    "\n",
    "    if average:\n",
    "        return np.mean(sentence_embeddings[1:, :], axis=0) # average embeddings of a sentence by skipping zero vector\n",
    "    \n",
    "    return sentence_embeddings[1:, :]\n",
    "\n",
    "\n",
    "# def get_document_embedding(model: Any, sentences: List[List[str]], average: bool = True):\n",
    "#     for sentence in sentences:\n",
    "#         get_sentence_embedding(model: Any, sentence: List[str], average=True)\n"
   ]
  },
  {
   "cell_type": "code",
   "execution_count": 32,
   "metadata": {},
   "outputs": [],
   "source": [
    "# test the function\n",
    "sentence_embeddings = get_sentence_embedding(model=w2v_model, sentence=clean_sentences[0], average=False)\n",
    "sentence_embedding = get_sentence_embedding(model=w2v_model, sentence=clean_sentences[0], average=True) # may be worth reshaping .reshape(1, -1)"
   ]
  },
  {
   "cell_type": "code",
   "execution_count": 33,
   "metadata": {},
   "outputs": [
    {
     "data": {
      "text/plain": [
       "((12, 300), (300,))"
      ]
     },
     "execution_count": 33,
     "metadata": {},
     "output_type": "execute_result"
    }
   ],
   "source": [
    "# obtained shapes\n",
    "sentence_embeddings.shape, sentence_embedding.shape"
   ]
  },
  {
   "cell_type": "code",
   "execution_count": 34,
   "metadata": {},
   "outputs": [
    {
     "name": "stdout",
     "output_type": "stream",
     "text": [
      "N Unique Document Embeddings:  19160\n"
     ]
    }
   ],
   "source": [
    "# get sentences embeddings, since each document consists of a single sentence -> get document embeddings\n",
    "document_embeddings = [\n",
    "    get_sentence_embedding(model=w2v_model, sentence=sentence, average=True)\n",
    "    for sentence in clean_sentences\n",
    "]\n",
    "\n",
    "print('N Unique Document Embeddings: ', len(document_embeddings))"
   ]
  },
  {
   "cell_type": "markdown",
   "metadata": {},
   "source": [
    "**Visualize Averaged Embeddings**\n",
    "\n",
    "Let's do simialr task that we've done for **word embeddings** but this time for **document embeddings** to see what documents are the most similar for a given one. Each document has its own id that we can use to distinguish between documents."
   ]
  },
  {
   "cell_type": "code",
   "execution_count": 35,
   "metadata": {},
   "outputs": [
    {
     "data": {
      "text/html": [
       "<div>\n",
       "<style scoped>\n",
       "    .dataframe tbody tr th:only-of-type {\n",
       "        vertical-align: middle;\n",
       "    }\n",
       "\n",
       "    .dataframe tbody tr th {\n",
       "        vertical-align: top;\n",
       "    }\n",
       "\n",
       "    .dataframe thead th {\n",
       "        text-align: right;\n",
       "    }\n",
       "</style>\n",
       "<table border=\"1\" class=\"dataframe\">\n",
       "  <thead>\n",
       "    <tr style=\"text-align: right;\">\n",
       "      <th></th>\n",
       "      <th>author</th>\n",
       "      <th>doc_id</th>\n",
       "      <th>doc_embedding</th>\n",
       "    </tr>\n",
       "  </thead>\n",
       "  <tbody>\n",
       "    <tr>\n",
       "      <th>0</th>\n",
       "      <td>EAP</td>\n",
       "      <td>id26305</td>\n",
       "      <td>[0.020601247, 0.000815552, 0.011412996, 0.0103...</td>\n",
       "    </tr>\n",
       "    <tr>\n",
       "      <th>1</th>\n",
       "      <td>HPL</td>\n",
       "      <td>id17569</td>\n",
       "      <td>[-0.009243343, -0.018183956, -0.0034470204, 0....</td>\n",
       "    </tr>\n",
       "    <tr>\n",
       "      <th>2</th>\n",
       "      <td>EAP</td>\n",
       "      <td>id11008</td>\n",
       "      <td>[0.00012538086, 0.0043259845, 0.021571979, 0.0...</td>\n",
       "    </tr>\n",
       "    <tr>\n",
       "      <th>3</th>\n",
       "      <td>MWS</td>\n",
       "      <td>id27763</td>\n",
       "      <td>[0.048537422, 0.024219256, 0.0016514007, 0.002...</td>\n",
       "    </tr>\n",
       "    <tr>\n",
       "      <th>4</th>\n",
       "      <td>HPL</td>\n",
       "      <td>id12958</td>\n",
       "      <td>[-0.027343541, -0.03192165, -0.008161303, 0.01...</td>\n",
       "    </tr>\n",
       "    <tr>\n",
       "      <th>...</th>\n",
       "      <td>...</td>\n",
       "      <td>...</td>\n",
       "      <td>...</td>\n",
       "    </tr>\n",
       "    <tr>\n",
       "      <th>19574</th>\n",
       "      <td>EAP</td>\n",
       "      <td>id17718</td>\n",
       "      <td>[0.013075388, 0.00959399, -0.023849744, 0.0044...</td>\n",
       "    </tr>\n",
       "    <tr>\n",
       "      <th>19575</th>\n",
       "      <td>EAP</td>\n",
       "      <td>id08973</td>\n",
       "      <td>[0.021230375, -0.10860281, 0.039143827, -0.091...</td>\n",
       "    </tr>\n",
       "    <tr>\n",
       "      <th>19576</th>\n",
       "      <td>EAP</td>\n",
       "      <td>id05267</td>\n",
       "      <td>[-0.013748157, -0.013499972, -0.017352063, -0....</td>\n",
       "    </tr>\n",
       "    <tr>\n",
       "      <th>19577</th>\n",
       "      <td>EAP</td>\n",
       "      <td>id17513</td>\n",
       "      <td>[0.032380674, -0.05636816, 0.022816116, -0.019...</td>\n",
       "    </tr>\n",
       "    <tr>\n",
       "      <th>19578</th>\n",
       "      <td>HPL</td>\n",
       "      <td>id00393</td>\n",
       "      <td>[-0.07760149, -0.018825145, 0.023299098, 0.007...</td>\n",
       "    </tr>\n",
       "  </tbody>\n",
       "</table>\n",
       "<p>19160 rows × 3 columns</p>\n",
       "</div>"
      ],
      "text/plain": [
       "      author   doc_id                                      doc_embedding\n",
       "0        EAP  id26305  [0.020601247, 0.000815552, 0.011412996, 0.0103...\n",
       "1        HPL  id17569  [-0.009243343, -0.018183956, -0.0034470204, 0....\n",
       "2        EAP  id11008  [0.00012538086, 0.0043259845, 0.021571979, 0.0...\n",
       "3        MWS  id27763  [0.048537422, 0.024219256, 0.0016514007, 0.002...\n",
       "4        HPL  id12958  [-0.027343541, -0.03192165, -0.008161303, 0.01...\n",
       "...      ...      ...                                                ...\n",
       "19574    EAP  id17718  [0.013075388, 0.00959399, -0.023849744, 0.0044...\n",
       "19575    EAP  id08973  [0.021230375, -0.10860281, 0.039143827, -0.091...\n",
       "19576    EAP  id05267  [-0.013748157, -0.013499972, -0.017352063, -0....\n",
       "19577    EAP  id17513  [0.032380674, -0.05636816, 0.022816116, -0.019...\n",
       "19578    HPL  id00393  [-0.07760149, -0.018825145, 0.023299098, 0.007...\n",
       "\n",
       "[19160 rows x 3 columns]"
      ]
     },
     "execution_count": 35,
     "metadata": {},
     "output_type": "execute_result"
    }
   ],
   "source": [
    "# document embeddings\n",
    "doc_embeddings = dict(zip(text_data['id'], document_embeddings))\n",
    "\n",
    "# author embeddings\n",
    "author_embeddings = pd.DataFrame({\n",
    "    'author': text_data['author'],\n",
    "    'doc_id': text_data['id'],\n",
    "    'doc_embedding': document_embeddings\n",
    "})\n",
    "\n",
    "author_embeddings"
   ]
  },
  {
   "cell_type": "code",
   "execution_count": 37,
   "metadata": {},
   "outputs": [
    {
     "data": {
      "image/png": "[encoded data removed]",
      "text/plain": [
       "<Figure size 648x648 with 1 Axes>"
      ]
     },
     "metadata": {
      "needs_background": "light"
     },
     "output_type": "display_data"
    }
   ],
   "source": [
    "# plot t-SNE visualization of random subsample\n",
    "n_samples = 25\n",
    "sample_df = author_embeddings.sample(n_samples)\n",
    "sample_df['color'] = sample_df['author'].map(\n",
    "    {'EAP': 'green', 'MWS': 'red', 'HPL': 'blue'}\n",
    ") # for plotting\n",
    "\n",
    "stacked_vectors = np.stack(sample_df['doc_embedding'])\n",
    "tsne = TSNE(n_components=2, random_state=0, perplexity=15)\n",
    "reduced_vectors = tsne.fit_transform(stacked_vectors)\n",
    "\n",
    "fig, ax = plt.subplots(figsize=(18, 8))\n",
    "fig.set_size_inches(9, 9)\n",
    "\n",
    "# plot\n",
    "p1 = sns.regplot(\n",
    "    x=reduced_vectors[:, 0],\n",
    "    y=reduced_vectors[:, 1],\n",
    "    fit_reg=False, marker=\"o\",\n",
    "    ax=ax\n",
    ")\n",
    "\n",
    "# annotation\n",
    "for i in range(0, sample_df.shape[0]):\n",
    "    ax.text(\n",
    "        reduced_vectors[i, 0],\n",
    "        reduced_vectors[i, 1],\n",
    "        sample_df[\"doc_id\"].iloc[i],\n",
    "        color=sample_df['color'].iloc[i],\n",
    "        horizontalalignment='left',\n",
    "        verticalalignment='bottom',\n",
    "        size='medium',\n",
    "        weight='normal'\n",
    "    ).set_size(13)\n",
    "\n",
    "ax.set_xlim([min(reduced_vectors[:, 0]), max(reduced_vectors[:, 0])])\n",
    "ax.set_ylim([min(reduced_vectors[:, 1]), max(reduced_vectors[:, 1])])\n",
    "ax.set_xlabel('Component 1')\n",
    "ax.set_ylabel('Component 2')\n",
    "plt.show()"
   ]
  },
  {
   "cell_type": "markdown",
   "metadata": {},
   "source": [
    "**Interpretation**\n",
    "- We see how different some documents in a vector space\n",
    "- Some documents are more similar to the documents from another author (written about the same but by different authors)\n",
    "- Let's compare text using the plot above in terms of similarity (may be not ideal)"
   ]
  },
  {
   "cell_type": "code",
   "execution_count": 38,
   "metadata": {},
   "outputs": [
    {
     "name": "stdout",
     "output_type": "stream",
     "text": [
      "\n",
      " id01145\n",
      "Despite weakness, hunger, horror, and bewilderment I found myself after a long time able to walk; so started slowly along the muddy road to Rowley.\n",
      "\n",
      " id23849\n",
      "March d the crew of the Emma landed on an unknown island and left six men dead; and on that date the dreams of sensitive men assumed a heightened vividness and darkened with dread of a giant monster's malign pursuit, whilst an architect had gone mad and a sculptor had lapsed suddenly into delirium And what of this storm of April nd the date on which all dreams of the dank city ceased, and Wilcox emerged unharmed from the bondage of strange fever?\n",
      "\n",
      " id12446\n",
      "The door of the cathedral stood invitingly open.\n",
      "\n",
      " id26433\n",
      "Bankers, merchants, and manufacturers, whose trade depended on exports and interchange of wealth, became bankrupt.\n"
     ]
    }
   ],
   "source": [
    "ids = [\n",
    "    'id01145',\n",
    "    'id23849',\n",
    "    'id12446',\n",
    "    'id26433'\n",
    "]\n",
    "\n",
    "for text_id in ids:\n",
    "    doc = text_data[text_data['id'] == text_id]['text'].iloc[0]\n",
    "    print('\\n', text_id)\n",
    "    print(doc)"
   ]
  },
  {
   "cell_type": "markdown",
   "metadata": {},
   "source": [
    "**Important**\n",
    "- Some embeddings may contain NaN values that may lead to NaN vectors after averaging. Thus, use `np.nanmean` or `np.nan_to_num`"
   ]
  },
  {
   "cell_type": "code",
   "execution_count": 39,
   "metadata": {},
   "outputs": [
    {
     "data": {
      "text/html": [
       "<div>\n",
       "<style scoped>\n",
       "    .dataframe tbody tr th:only-of-type {\n",
       "        vertical-align: middle;\n",
       "    }\n",
       "\n",
       "    .dataframe tbody tr th {\n",
       "        vertical-align: top;\n",
       "    }\n",
       "\n",
       "    .dataframe thead th {\n",
       "        text-align: right;\n",
       "    }\n",
       "</style>\n",
       "<table border=\"1\" class=\"dataframe\">\n",
       "  <thead>\n",
       "    <tr style=\"text-align: right;\">\n",
       "      <th></th>\n",
       "      <th>author</th>\n",
       "      <th>embedding</th>\n",
       "    </tr>\n",
       "  </thead>\n",
       "  <tbody>\n",
       "    <tr>\n",
       "      <th>0</th>\n",
       "      <td>EAP</td>\n",
       "      <td>[0.007467883, -0.0131926965, -0.0018916201, -0...</td>\n",
       "    </tr>\n",
       "    <tr>\n",
       "      <th>1</th>\n",
       "      <td>HPL</td>\n",
       "      <td>[0.0041857837, -0.004327952, -0.021617154, -0....</td>\n",
       "    </tr>\n",
       "    <tr>\n",
       "      <th>2</th>\n",
       "      <td>MWS</td>\n",
       "      <td>[0.009015861, -0.0069331313, -0.009206791, -0....</td>\n",
       "    </tr>\n",
       "  </tbody>\n",
       "</table>\n",
       "</div>"
      ],
      "text/plain": [
       "  author                                          embedding\n",
       "0    EAP  [0.007467883, -0.0131926965, -0.0018916201, -0...\n",
       "1    HPL  [0.0041857837, -0.004327952, -0.021617154, -0....\n",
       "2    MWS  [0.009015861, -0.0069331313, -0.009206791, -0...."
      ]
     },
     "execution_count": 39,
     "metadata": {},
     "output_type": "execute_result"
    }
   ],
   "source": [
    "# preprocess embeddings (NaN)\n",
    "author_embeddings['doc_embedding'] = author_embeddings['doc_embedding'].apply(lambda x: np.nan_to_num(x))\n",
    "\n",
    "# everage embeddings\n",
    "_author_embeddings = {}\n",
    "for author in author_embeddings['author'].unique():\n",
    "    stacked_array = np.stack(author_embeddings[author_embeddings['author'] == author]['doc_embedding'])\n",
    "    _author_embeddings[author] = np.mean(stacked_array, axis=0)\n",
    "\n",
    "_author_embeddings = pd.DataFrame({\n",
    "    'author': _author_embeddings.keys(),\n",
    "    'embedding': _author_embeddings.values()\n",
    "})\n",
    "\n",
    "_author_embeddings"
   ]
  },
  {
   "cell_type": "code",
   "execution_count": 40,
   "metadata": {},
   "outputs": [],
   "source": [
    "vec_a = _author_embeddings[_author_embeddings['author'] == 'EAP']['embedding'].iloc[0]\n",
    "vec_b = _author_embeddings[_author_embeddings['author'] == 'HPL']['embedding'].iloc[0]\n",
    "vec_c = _author_embeddings[_author_embeddings['author'] == 'MWS']['embedding'].iloc[0]"
   ]
  },
  {
   "cell_type": "code",
   "execution_count": 41,
   "metadata": {},
   "outputs": [
    {
     "name": "stdout",
     "output_type": "stream",
     "text": [
      "0.5108882188796997\n",
      "0.40170368552207947\n",
      "0.3221212327480316\n"
     ]
    }
   ],
   "source": [
    "from scipy.spatial.distance import cosine\n",
    "\n",
    "a_b_sim = 1 - cosine(vec_a, vec_b)\n",
    "a_c_sim = 1 - cosine(vec_a, vec_c)\n",
    "b_c_sim = 1 - cosine(vec_b, vec_c)\n",
    "\n",
    "print(a_b_sim)\n",
    "print(a_c_sim)\n",
    "print(b_c_sim)"
   ]
  },
  {
   "cell_type": "markdown",
   "metadata": {},
   "source": [
    "### Embeddings Clustering\n",
    "Word2Vec creates clusters of semantically related words, thus, we can cluster embeddings. Any clustering algorthm can be applied. Besides, we can reduce embeddings dimensionality before applying clustering."
   ]
  },
  {
   "cell_type": "markdown",
   "metadata": {},
   "source": [
    "**Words Clustering**"
   ]
  },
  {
   "cell_type": "code",
   "execution_count": 114,
   "metadata": {},
   "outputs": [
    {
     "name": "stdout",
     "output_type": "stream",
     "text": [
      "Vocab Size:  1222\n"
     ]
    }
   ],
   "source": [
    "_word_embeddings = w2v_model.wv.vectors\n",
    "print('Vocab Size: ', _word_embeddings.shape[0])"
   ]
  },
  {
   "cell_type": "code",
   "execution_count": 115,
   "metadata": {},
   "outputs": [
    {
     "name": "stdout",
     "output_type": "stream",
     "text": [
      "Wall time: 6.38 s\n"
     ]
    }
   ],
   "source": [
    "%%time\n",
    "\n",
    "num_clusters = len(model_vocab) // 5\n",
    "kmeans = KMeans(n_clusters=num_clusters)\n",
    "cluster_indx = kmeans.fit_predict(_word_embeddings)"
   ]
  },
  {
   "cell_type": "code",
   "execution_count": 116,
   "metadata": {},
   "outputs": [
    {
     "data": {
      "text/plain": [
       "13     19\n",
       "49     14\n",
       "61     14\n",
       "201    14\n",
       "98     13\n",
       "       ..\n",
       "209     1\n",
       "101     1\n",
       "212     1\n",
       "215     1\n",
       "115     1\n",
       "Length: 244, dtype: int64"
      ]
     },
     "execution_count": 116,
     "metadata": {},
     "output_type": "execute_result"
    }
   ],
   "source": [
    "# get cluster info \n",
    "cluster_dist = np.unique(cluster_indx, return_counts=True)\n",
    "\n",
    "cluster_summary = pd.Series(\n",
    "    data=cluster_dist[1],\n",
    "    index=cluster_dist[0]\n",
    ").sort_values(ascending=False)\n",
    "\n",
    "cluster_summary"
   ]
  },
  {
   "cell_type": "code",
   "execution_count": 117,
   "metadata": {},
   "outputs": [
    {
     "data": {
      "image/png": "[encoded data removed]",
      "text/plain": [
       "<Figure size 2160x720 with 1 Axes>"
      ]
     },
     "metadata": {
      "needs_background": "light"
     },
     "output_type": "display_data"
    }
   ],
   "source": [
    "plt.figure(figsize=(30, 10))\n",
    "cluster_summary.plot(kind='bar')\n",
    "plt.show()"
   ]
  },
  {
   "cell_type": "code",
   "execution_count": 118,
   "metadata": {},
   "outputs": [
    {
     "data": {
      "text/plain": [
       "[13, 49, 61, 201, 98]"
      ]
     },
     "execution_count": 118,
     "metadata": {},
     "output_type": "execute_result"
    }
   ],
   "source": [
    "# look at top N clusters \n",
    "n = 5\n",
    "selected_clusters = cluster_summary.index[:n].tolist()\n",
    "selected_clusters"
   ]
  },
  {
   "cell_type": "code",
   "execution_count": 126,
   "metadata": {},
   "outputs": [
    {
     "name": "stdout",
     "output_type": "stream",
     "text": [
      "\n",
      "Cluster 13\n",
      "\n",
      " ['like' 'around' 'black' 'stood' 'white' 'green' 'heavy' 'red' 'covered'\n",
      " 'huge' 'grey' 'tall' 'slowly' 'thin' 'big' 'thick' 'yellow' 'bearing'\n",
      " 'silver']\n",
      "\n",
      "Cluster 49\n",
      "\n",
      " ['two' 'three' 'nearly' 'minute' 'five' 'four' 'six' 'twenty' 'ten'\n",
      " 'hundred' 'inch' 'eight' 'fifty' 'thirty']\n",
      "\n",
      "Cluster 61\n",
      "\n",
      " ['heart' 'soul' 'despair' 'mine' 'grief' 'frame' 'agony' 'fearful'\n",
      " 'emotion' 'struggle' 'bosom' 'bitter' 'mortal' 'anguish']\n",
      "\n",
      "Cluster 201\n",
      "\n",
      " ['rather' 'mere' 'natural' 'principle' 'extent' 'considered' 'sole'\n",
      " 'possession' 'perfect' 'science' 'conclusion' 'theory' 'difficult'\n",
      " 'intellect']\n",
      "\n",
      "Cluster 98\n",
      "\n",
      " ['beneath' 'vast' 'distance' 'visible' 'top' 'clear' 'bottom' 'edge'\n",
      " 'horizon' 'gigantic' 'summit' 'mass' 'centre']\n"
     ]
    }
   ],
   "source": [
    "# look at words in the clusters\n",
    "for cluster_id in selected_clusters:\n",
    "    words_array = np.array(w2v_model.wv.index2word)\n",
    "    mask = cluster_indx == cluster_id\n",
    "    print(f'\\nCluster {cluster_id}')\n",
    "    print('\\n', words_array[mask])\n"
   ]
  },
  {
   "cell_type": "markdown",
   "metadata": {},
   "source": [
    "- Performance is not ideal but some clusters more or less good (e.g. 49)\n",
    "- The same idea can be applied on embeddings of other dimension (e.g. sentences, documents, ...)\n",
    "\n",
    "**Important**\n",
    "- Obtained centroids from clustering can be used as features for the model or other tasks (i.e. from BoW to Bag of Centroids). In this case instead of using embeddings we use centrods coordinates as features for each word\n",
    "- The main drawback of using clustering and averaging word vectors -> **we loose word order that is important**\n",
    "- The best way to imporve performance of word vectors -> train them on huge dataset (lots of texts). Better use pre-trained models!"
   ]
  },
  {
   "cell_type": "code",
   "execution_count": 144,
   "metadata": {},
   "outputs": [],
   "source": [
    "def word2centroid(word, algorithm,  word_array, clusters):\n",
    "    word_index = np.where(words_array == word)\n",
    "    cluster_id = clusters[word_index]\n",
    "    return kmeans.cluster_centers_[cluster_id]\n",
    "\n",
    "\n",
    "word_centroid = word2centroid(\n",
    "    word='despair',\n",
    "    algorithm=kmeans,\n",
    "    word_array=words_array,\n",
    "    clusters=cluster_indx\n",
    ")"
   ]
  },
  {
   "cell_type": "code",
   "execution_count": null,
   "metadata": {},
   "outputs": [],
   "source": []
  },
  {
   "cell_type": "code",
   "execution_count": null,
   "metadata": {},
   "outputs": [],
   "source": []
  },
  {
   "cell_type": "markdown",
   "metadata": {},
   "source": [
    "### Resources\n",
    "- https://www.kaggle.com/c/word2vec-nlp-tutorial/overview/part-3-more-fun-with-word-vectors\n",
    "- https://www.kaggle.com/code/pierremegret/gensim-word2vec-tutorial#Preprocessing"
   ]
  }
 ],
 "metadata": {
  "kernelspec": {
   "display_name": "Python 3",
   "language": "python",
   "name": "python3"
  },
  "language_info": {
   "codemirror_mode": {
    "name": "ipython",
    "version": 3
   },
   "file_extension": ".py",
   "mimetype": "text/x-python",
   "name": "python",
   "nbconvert_exporter": "python",
   "pygments_lexer": "ipython3",
   "version": "3.7.9"
  }
 },
 "nbformat": 4,
 "nbformat_minor": 2
}
