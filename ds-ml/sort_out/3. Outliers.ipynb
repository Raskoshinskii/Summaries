{
 "cells": [
  {
   "cell_type": "markdown",
   "metadata": {},
   "source": [
    "### Outliers"
   ]
  },
  {
   "cell_type": "markdown",
   "metadata": {},
   "source": [
    "In statistics, an outlier is an observation point that is distant from other observations. It can be due to errors or variance in data (for example, the worst player among others). To deal with outliers we need to first:\n",
    "- Detec Outliers\n",
    "- Get rid of them "
   ]
  },
  {
   "cell_type": "markdown",
   "metadata": {},
   "source": [
    "### Outliers Detection\n",
    "- Box Plots or Scatter Plot\n",
    "- Z - score with conditions\n",
    "- DBSCAN, Isolation Forest"
   ]
  },
  {
   "cell_type": "markdown",
   "metadata": {},
   "source": [
    "### Outliers Deletion\n",
    "- Box Cox\n",
    "- Log Transformation\n",
    "- Random Forest (Stable for outliers)\n",
    "- Fix\n",
    "- Remove\n",
    "- Gaussian Mixture Models (Regression or Classification with different latend states)\n",
    "- Train a classifier for outliers detection and then apply individual regression model for outliers. Finally, combine predictions. Only if there are outliers clusters in target distribution. \n",
    "- Play around with loss functions. For instance, tweedie ( boosting ) which can be applied when target distribution is skewed to the reight or left.\n",
    "\n",
    "### Important\n",
    "Oversampling and Undersampling are not good techniques for regression model because outliers is simply a noise and it's not a good idean to sample more noise in data"
   ]
  }
 ],
 "metadata": {
  "kernelspec": {
   "display_name": "Python 3",
   "language": "python",
   "name": "python3"
  },
  "language_info": {
   "codemirror_mode": {
    "name": "ipython",
    "version": 3
   },
   "file_extension": ".py",
   "mimetype": "text/x-python",
   "name": "python",
   "nbconvert_exporter": "python",
   "pygments_lexer": "ipython3",
   "version": "3.7.9"
  }
 },
 "nbformat": 4,
 "nbformat_minor": 4
}
