{
 "cells": [
  {
   "cell_type": "markdown",
   "metadata": {},
   "source": [
    "### Regression Metrics"
   ]
  },
  {
   "cell_type": "markdown",
   "metadata": {},
   "source": [
    "Let's list the most commonly used metrics in Regression task\n",
    "\n",
    "### Mean Absolute Error ( MAE )\n",
    " - Helps to estimate absolute error\n",
    " - Not easy to interpret how well the task was solved\n",
    " - Insensative to outliers\n",
    "\n",
    "### Mean Squared Error ( MSE )\n",
    "- Penalizes much\n",
    "- Sensative to outliers\n",
    "- Not easy to interpret how well the task was solved\n",
    "\n",
    "### Root Mean Squared Error ( RMSE )\n",
    "- Sensative to ouliers \n",
    "- Easily interpreted \n",
    "- Dimension is equal to Target Variable\n",
    "\n",
    "### Mean Absolute Percentage Error\n",
    "- Easily interpreted\n",
    "\n",
    "### R - Squared \n",
    "- Explained Variance Percentage\n",
    "\n",
    "### Quantile Error\n",
    " - Penalizes for Overcast and undercast\n",
    " \n",
    "https://scikit-learn.org/stable/modules/model_evaluation.html - (sklearn metrics documentation)\n",
    "\n",
    "### Important\n",
    " All scorer objects follow the convention that higher return values are better than lower return values. Thus metrics which measure the distance between the model and the data, like metrics.mean_squared_error, are available as neg_mean_squared_error which return the negated value of the metric"
   ]
  }
 ],
 "metadata": {
  "kernelspec": {
   "display_name": "Python 3",
   "language": "python",
   "name": "python3"
  },
  "language_info": {
   "codemirror_mode": {
    "name": "ipython",
    "version": 3
   },
   "file_extension": ".py",
   "mimetype": "text/x-python",
   "name": "python",
   "nbconvert_exporter": "python",
   "pygments_lexer": "ipython3",
   "version": "3.7.9"
  }
 },
 "nbformat": 4,
 "nbformat_minor": 2
}
