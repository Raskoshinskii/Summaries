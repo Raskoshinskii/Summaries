{
 "cells": [
  {
   "cell_type": "markdown",
   "id": "3ac86260-ad8b-4738-956d-d15d429ba6fe",
   "metadata": {},
   "source": [
    "### Markov Chain for Text Generation\n",
    "Markov chain model is a stochastic model that describes the system as a set of states and transitions between them. Such model can be used for text generation (probably not super accurate). Let's test how good a Markov Chain Model for text generation.\n",
    "\n",
    "We are going to use `markovify` library to generate sentences based on corpus of text"
   ]
  },
  {
   "cell_type": "code",
   "execution_count": 1,
   "id": "58b2f9ef-2fb3-48e6-81b8-ccc2d7dbf2d1",
   "metadata": {
    "tags": []
   },
   "outputs": [],
   "source": [
    "import pandas as pd\n",
    "import markovify"
   ]
  },
  {
   "cell_type": "code",
   "execution_count": 3,
   "id": "dd6c91fb-2388-4825-bfff-255b844eeef1",
   "metadata": {
    "tags": []
   },
   "outputs": [
    {
     "data": {
      "text/html": [
       "<div>\n",
       "<style scoped>\n",
       "    .dataframe tbody tr th:only-of-type {\n",
       "        vertical-align: middle;\n",
       "    }\n",
       "\n",
       "    .dataframe tbody tr th {\n",
       "        vertical-align: top;\n",
       "    }\n",
       "\n",
       "    .dataframe thead th {\n",
       "        text-align: right;\n",
       "    }\n",
       "</style>\n",
       "<table border=\"1\" class=\"dataframe\">\n",
       "  <thead>\n",
       "    <tr style=\"text-align: right;\">\n",
       "      <th></th>\n",
       "      <th>id</th>\n",
       "      <th>text</th>\n",
       "      <th>author</th>\n",
       "    </tr>\n",
       "  </thead>\n",
       "  <tbody>\n",
       "    <tr>\n",
       "      <th>0</th>\n",
       "      <td>id26305</td>\n",
       "      <td>This process, however, afforded me no means of...</td>\n",
       "      <td>EAP</td>\n",
       "    </tr>\n",
       "    <tr>\n",
       "      <th>1</th>\n",
       "      <td>id17569</td>\n",
       "      <td>It never once occurred to me that the fumbling...</td>\n",
       "      <td>HPL</td>\n",
       "    </tr>\n",
       "    <tr>\n",
       "      <th>2</th>\n",
       "      <td>id11008</td>\n",
       "      <td>In his left hand was a gold snuff box, from wh...</td>\n",
       "      <td>EAP</td>\n",
       "    </tr>\n",
       "    <tr>\n",
       "      <th>3</th>\n",
       "      <td>id27763</td>\n",
       "      <td>How lovely is spring As we looked from Windsor...</td>\n",
       "      <td>MWS</td>\n",
       "    </tr>\n",
       "    <tr>\n",
       "      <th>4</th>\n",
       "      <td>id12958</td>\n",
       "      <td>Finding nothing else, not even gold, the Super...</td>\n",
       "      <td>HPL</td>\n",
       "    </tr>\n",
       "  </tbody>\n",
       "</table>\n",
       "</div>"
      ],
      "text/plain": [
       "        id                                               text author\n",
       "0  id26305  This process, however, afforded me no means of...    EAP\n",
       "1  id17569  It never once occurred to me that the fumbling...    HPL\n",
       "2  id11008  In his left hand was a gold snuff box, from wh...    EAP\n",
       "3  id27763  How lovely is spring As we looked from Windsor...    MWS\n",
       "4  id12958  Finding nothing else, not even gold, the Super...    HPL"
      ]
     },
     "execution_count": 3,
     "metadata": {},
     "output_type": "execute_result"
    }
   ],
   "source": [
    "data = pd.read_csv('../../data/spooky-author-identification/train.csv')\n",
    "data.head()"
   ]
  },
  {
   "cell_type": "markdown",
   "id": "5862b47a-e2ea-4900-8c8c-87c6a1b5f182",
   "metadata": {},
   "source": [
    "### Markov Chain Model"
   ]
  },
  {
   "cell_type": "code",
   "execution_count": 6,
   "id": "e33f9176-bfb0-45ba-aa5e-2763ec8dbabc",
   "metadata": {
    "tags": []
   },
   "outputs": [],
   "source": [
    "mc_model = markovify.Text(data['text'])"
   ]
  },
  {
   "cell_type": "code",
   "execution_count": 8,
   "id": "58ddf351-a7db-47d7-8787-a24eddd4d154",
   "metadata": {
    "tags": []
   },
   "outputs": [
    {
     "name": "stdout",
     "output_type": "stream",
     "text": [
      "Young gentlemen piously inclined than before, to the repellently and fiendishly abnormal; he gloated calmly over artificial monstrosities which would eclipse even the least susceptible of analysis.\n",
      "Have you no injury.\n",
      "But having at length she formed her conclusions with the mesmeric influence, was now again determined upon.\n"
     ]
    }
   ],
   "source": [
    "# 3 randomly-generated sentences\n",
    "for i in range(3):\n",
    "    print(mc_model.make_sentence())"
   ]
  },
  {
   "cell_type": "code",
   "execution_count": 30,
   "id": "75f05723-552e-4705-8e66-7cca8118ce79",
   "metadata": {
    "tags": []
   },
   "outputs": [
    {
     "name": "stdout",
     "output_type": "stream",
     "text": [
      "None\n",
      "He was principal of our companionship.\n",
      "My cognizance of the party.\n"
     ]
    }
   ],
   "source": [
    "# 3 randomly-generated sentences (50 characters limit)\n",
    "for i in range(3):\n",
    "    print(mc_model.make_short_sentence(50))"
   ]
  },
  {
   "cell_type": "markdown",
   "id": "0289bc4e-8e56-4457-b194-c3a70c77a814",
   "metadata": {},
   "source": [
    "### Markov Chain Model with More Hidden States\n",
    "State size is a number of words the probability of a next word depends on."
   ]
  },
  {
   "cell_type": "code",
   "execution_count": 52,
   "id": "a98d31fe-12b3-4dbb-a734-2551d4a1276d",
   "metadata": {
    "tags": []
   },
   "outputs": [
    {
     "name": "stdout",
     "output_type": "stream",
     "text": [
      "None\n"
     ]
    }
   ],
   "source": [
    "# define a model with more states\n",
    "mc_model_a = markovify.Text(data['text'], state_size=4)\n",
    "print(mc_model_a.make_sentence())"
   ]
  },
  {
   "cell_type": "markdown",
   "id": "cff2466c-5593-4cb0-a613-e57d21861a73",
   "metadata": {},
   "source": [
    "### Models Ensemble\n"
   ]
  },
  {
   "cell_type": "code",
   "execution_count": 54,
   "id": "b205f7cb-2fa1-40c1-b4d3-f6e6a419446c",
   "metadata": {
    "tags": []
   },
   "outputs": [
    {
     "name": "stdout",
     "output_type": "stream",
     "text": [
      "None\n",
      "And the man listened to the sighs of the gods in the plaintive dawn winds of Lerion.\n",
      "And in front of the fireplace was no vestige of the passion, when the passion had departed.\n"
     ]
    }
   ],
   "source": [
    "mc_model_a = markovify.Text(data['text'], state_size=4)\n",
    "mc_model_b = markovify.Text(data['text'], state_size=4)\n",
    "\n",
    "model_combo = markovify.combine([mc_model_a, mc_model_b], [1.5, 1])\n",
    "\n",
    "for i in range(3):\n",
    "    print(model_combo.make_short_sentence(100))"
   ]
  },
  {
   "cell_type": "markdown",
   "id": "63686cd1-dbde-493d-a301-dc8ebc798dc9",
   "metadata": {},
   "source": [
    "### Character Based Markov Chain Model\n",
    "Generate a sentence based on character level"
   ]
  },
  {
   "cell_type": "markdown",
   "id": "86ed8ab1-8f8d-475f-9886-69b297ed473a",
   "metadata": {
    "tags": []
   },
   "source": [
    "- https://www.kaggle.com/code/selfishgene/generating-sentences-one-letter-at-a-time"
   ]
  },
  {
   "cell_type": "code",
   "execution_count": null,
   "id": "ed734c2d-4f06-4f01-808b-660f632fe18e",
   "metadata": {},
   "outputs": [],
   "source": []
  }
 ],
 "metadata": {
  "kernelspec": {
   "display_name": "Python 3",
   "language": "python",
   "name": "python3"
  },
  "language_info": {
   "codemirror_mode": {
    "name": "ipython",
    "version": 3
   },
   "file_extension": ".py",
   "mimetype": "text/x-python",
   "name": "python",
   "nbconvert_exporter": "python",
   "pygments_lexer": "ipython3",
   "version": "3.7.9"
  }
 },
 "nbformat": 4,
 "nbformat_minor": 5
}
