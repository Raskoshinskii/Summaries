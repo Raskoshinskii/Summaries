{
 "cells": [
  {
   "cell_type": "markdown",
   "metadata": {},
   "source": [
    "### Multicollinearity Problems"
   ]
  },
  {
   "cell_type": "markdown",
   "metadata": {},
   "source": [
    "**Multicollinearity** refers to a scenario when multiple independent variables in a dataset have a strong correlation between other independent variables apart from correlation with a target variable. Multicollinearity is a problem because **independent variables should be independent**\n",
    "\n",
    "A key goal of regression analysis is to isolate the relationship between each independent variable and the dependent variable. The interpretation of a regression coefficient is that it represents the mean change in the dependent variable for each 1 unit change in an independent variable when you hold all of the other independent variables constant.\n",
    "\n",
    "However, when independent variables are correlated, it indicates that changes in one variable are associated with shifts in another variable. The stronger the correlation, the more difficult it is to change one variable without changing another. It becomes difficult for the model to estimate the relationship between each independent variable and the dependent variable independently.\n",
    "\n",
    "### What Problems Does Multicollinearity Case?\n",
    "\n",
    "- The weights of the model can swing wildly based on which other independent variables are in the model. The coefficients become very sensitive to small changes in the model. Thus, their precision is wonky. It weakens the statistical power of a regression model. You might not be able to trust the p-values to identify independent variables that are statistically significant. As a result weights interpretation is hard. \n",
    "\n",
    "However, features that have low VIF values can be trusted. Features that are highly correlated can't be trusted as their coefficients doesn't reflect the reality + their p - values usually high indicating that these feature are not statistically significant.\n",
    "\n",
    "Multicollinearity doesn’t affect the predictions or goodness-of-fit. If you just want to make predictions, the model with severe multicollinearity is just as good!"
   ]
  },
  {
   "cell_type": "markdown",
   "metadata": {},
   "source": [
    "### Perfect Multicollinearity\n",
    "Perfect Multicollinearity is when one or more independent variables have linear relationship with other independent variables. This is simply when the correlation of two explanatory variables is exactly 1."
   ]
  },
  {
   "cell_type": "markdown",
   "metadata": {},
   "source": [
    "### Imperfect Multicollinearity"
   ]
  },
  {
   "cell_type": "markdown",
   "metadata": {},
   "source": [
    "- **High Multicollinearity** - if the correlation is near 0.5 < r < 0.9\n",
    "- **Low Multicollinearity** - if the correlation is less than 0.5"
   ]
  },
  {
   "cell_type": "markdown",
   "metadata": {},
   "source": [
    "### Options on how to deal with Multicollinearity\n",
    "- **PCA** - but model interpretation is decreasing\n",
    "- **VIF** - calculate variance influation factor and conduct **backward elimination algorithm**\n",
    "- **LASSO / Ridge / Elastic Net** - applie regularization\n",
    "- **Feature Combination** - combine highly correlated features\n",
    "- **Feature Removing** - using CorrMatrix, determine a threshold then drop features that exceed the threshold \n",
    "\n",
    "The main pipeline which is often applied is implement features dropping based on correlation matrix and then apply VIF. I've tested it on only one dataset and combination Corr dropping - VIF and only VIF led to the same final number of features. VIF calculation is computationally expensive, thus it is better use combination Corr dropping - VIF.\n",
    "\n",
    "**VIF values can be**:\n",
    "- 1 - No correlation\n",
    "- 1-5 - Moderate Correlation\n",
    "- More than 5 Serious Correlation\n",
    "\n",
    "### Important notes\n",
    "- if number of features is a lot, set threshold 5, otherwise 10"
   ]
  },
  {
   "cell_type": "code",
   "execution_count": null,
   "metadata": {},
   "outputs": [],
   "source": []
  }
 ],
 "metadata": {
  "kernelspec": {
   "display_name": "Python 3",
   "language": "python",
   "name": "python3"
  },
  "language_info": {
   "codemirror_mode": {
    "name": "ipython",
    "version": 3
   },
   "file_extension": ".py",
   "mimetype": "text/x-python",
   "name": "python",
   "nbconvert_exporter": "python",
   "pygments_lexer": "ipython3",
   "version": "3.7.9"
  }
 },
 "nbformat": 4,
 "nbformat_minor": 4
}
