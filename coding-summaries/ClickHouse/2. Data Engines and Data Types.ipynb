{
 "cells": [
  {
   "cell_type": "markdown",
   "id": "f7c2905f-2087-4cbd-a09b-379c0b035aa0",
   "metadata": {},
   "source": [
    "### Data Engines\n",
    "Depending on data operation that we need, we need to choose a proper engine.\n",
    "\n",
    "`MergeTree` is always preprocess the data primalinary and then in a background mode stick them physically on HDD. This is more efficient rather than rewrite the data on HDD during inserting operation.\n",
    "\n",
    "- `MergeTree`: use for efficient big data writing\n",
    "    - Stores data **sorted by primary key**\n",
    "    - Allows operating partitions, if partition key is provided\n",
    "    - Supports data replication\n",
    "    - Supports data sampling\n",
    "    \n",
    "- `Log`: use when we need to only write big batch of data and then read\n",
    "    - Doesn't support indexes\n",
    "    - Data is written always to the end "
   ]
  },
  {
   "cell_type": "markdown",
   "id": "5da4fe13-355b-42cf-806d-ab271c63a26e",
   "metadata": {},
   "source": [
    "### Merge Tree Types\n",
    "- `Replacing Merge Tree`: execute deletion of duplicated records that have the same *sorting key (ключ сортировки)*\n",
    "- `Summing Merge Tree`: records that have the same sorting key are summed and united into a single records\n",
    "- `Collapsing Merge Tree`: ..."
   ]
  },
  {
   "cell_type": "markdown",
   "id": "6b6f02d9-e662-40c6-a41b-f510d5820f38",
   "metadata": {},
   "source": [
    "### Data Types\n",
    "ClickHouse supports many well known data types from other DB. Let's look at only interesting ones:\n",
    "- `String`: string with any length\n",
    "- `FixedString`: string with fixed length\n",
    "- `Array(T)`: array of elements with a type T (array of numbers, array of strings, ...)\n",
    "- `Nullable(TypeName)`: allows a type to be nullable\n",
    "- `Nested(Name 1 TypeName 1, Name 2 TypeName 2, ...)`: nested data types"
   ]
  }
 ],
 "metadata": {
  "kernelspec": {
   "display_name": "Python 3",
   "language": "python",
   "name": "python3"
  },
  "language_info": {
   "codemirror_mode": {
    "name": "ipython",
    "version": 3
   },
   "file_extension": ".py",
   "mimetype": "text/x-python",
   "name": "python",
   "nbconvert_exporter": "python",
   "pygments_lexer": "ipython3",
   "version": "3.7.9"
  }
 },
 "nbformat": 4,
 "nbformat_minor": 5
}
