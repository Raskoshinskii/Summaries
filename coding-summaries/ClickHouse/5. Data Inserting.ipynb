{
 "cells": [
  {
   "cell_type": "markdown",
   "id": "fcf4fbda-4d58-477e-8068-aafab0fbeb11",
   "metadata": {},
   "source": [
    "### INSERT INTO\n",
    "This command sorts incoming data by *primary key* and splits the data into partitions using *partitioning key*\n",
    "\n",
    "**Tips**\n",
    "- **Insert data using big data batches** (> 100k will be nice)\n",
    "- Always group data by *partitioning key* to write all partitions at a time (efficiency)\n",
    "- Better to insert data that is sorted by time column"
   ]
  },
  {
   "cell_type": "code",
   "execution_count": null,
   "id": "a70a1c1b-3f22-4f8b-a53a-0f10343a4241",
   "metadata": {},
   "outputs": [],
   "source": []
  }
 ],
 "metadata": {
  "kernelspec": {
   "display_name": "Python 3",
   "language": "python",
   "name": "python3"
  },
  "language_info": {
   "codemirror_mode": {
    "name": "ipython",
    "version": 3
   },
   "file_extension": ".py",
   "mimetype": "text/x-python",
   "name": "python",
   "nbconvert_exporter": "python",
   "pygments_lexer": "ipython3",
   "version": "3.7.9"
  }
 },
 "nbformat": 4,
 "nbformat_minor": 5
}
