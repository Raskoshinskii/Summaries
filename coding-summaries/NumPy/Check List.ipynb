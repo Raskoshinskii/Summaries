{
 "cells": [
  {
   "cell_type": "markdown",
   "metadata": {},
   "source": [
    "### NumPy Check List"
   ]
  },
  {
   "cell_type": "markdown",
   "metadata": {},
   "source": [
    "1) Simple ndarray creation\n",
    "- create 1d array from a list\n",
    "- create 1d array from a tuple\n",
    "- create 1d array using arange\n",
    "- create 2d array from normal distribution with mean = 0 and std = 1 in two ways\n",
    "- create 3d array from random integers in range 0 - 100\n",
    "- create an array from a list of string numbers. Then convert them into numbers \n",
    "- create an array of ones 3x4\n",
    "- create an empty array with shape equals to array of ones\n",
    "- create 2d array with ones on the main diagonal in 2 ways with shape 3,3"
   ]
  },
  {
   "cell_type": "code",
   "execution_count": 2,
   "metadata": {},
   "outputs": [
    {
     "data": {
      "text/plain": [
       "array([0, 1, 2, 3, 4, 5, 6, 7, 8, 9])"
      ]
     },
     "metadata": {},
     "output_type": "display_data"
    },
    {
     "data": {
      "text/plain": [
       "array([50, 51, 52, 53, 54, 55, 56, 57, 58, 59])"
      ]
     },
     "metadata": {},
     "output_type": "display_data"
    },
    {
     "data": {
      "text/plain": [
       "array([90, 91, 92, 93, 94, 95, 96, 97, 98, 99])"
      ]
     },
     "metadata": {},
     "output_type": "display_data"
    }
   ],
   "source": [
    "import numpy as np\n",
    "\n",
    "my_lst = [i for i in range(10)]\n",
    "my_tuple = tuple([i for i in range(50,60)])\n",
    "\n",
    "arr_from_lst = np.array(my_lst)\n",
    "arr_from_tuple = np.array(my_tuple)\n",
    "arr_from_arange = np.arange(90,100)\n",
    "\n",
    "display(arr_from_lst,arr_from_tuple,arr_from_arange)"
   ]
  },
  {
   "cell_type": "code",
   "execution_count": 27,
   "metadata": {},
   "outputs": [
    {
     "data": {
      "text/plain": [
       "array([[-0.16814581, -2.00087117],\n",
       "       [-1.62700891, -0.99987481],\n",
       "       [-0.71567686, -0.33064997]])"
      ]
     },
     "metadata": {},
     "output_type": "display_data"
    },
    {
     "data": {
      "text/plain": [
       "array([[-0.50243261, -0.61182738],\n",
       "       [ 1.46354552,  2.10853182],\n",
       "       [-1.75343185,  1.77188671]])"
      ]
     },
     "metadata": {},
     "output_type": "display_data"
    },
    {
     "data": {
      "text/plain": [
       "array([[[82,  5, 26],\n",
       "        [52, 52, 38],\n",
       "        [53, 64, 59],\n",
       "        [ 3, 15, 81]],\n",
       "\n",
       "       [[17, 89, 91],\n",
       "        [ 7, 33, 12],\n",
       "        [ 8, 53, 55],\n",
       "        [50, 77,  1]],\n",
       "\n",
       "       [[82, 89, 20],\n",
       "        [32, 32, 57],\n",
       "        [22, 78, 73],\n",
       "        [57, 76, 78]]])"
      ]
     },
     "metadata": {},
     "output_type": "display_data"
    },
    {
     "data": {
      "text/plain": [
       "array([1, 2, 3])"
      ]
     },
     "metadata": {},
     "output_type": "display_data"
    },
    {
     "data": {
      "text/plain": [
       "array([[1., 1., 1., 1.],\n",
       "       [1., 1., 1., 1.],\n",
       "       [1., 1., 1., 1.]])"
      ]
     },
     "metadata": {},
     "output_type": "display_data"
    },
    {
     "data": {
      "text/plain": [
       "array([[1., 1., 1., 1.],\n",
       "       [1., 1., 1., 1.],\n",
       "       [1., 1., 1., 1.]])"
      ]
     },
     "metadata": {},
     "output_type": "display_data"
    },
    {
     "data": {
      "text/plain": [
       "array([[1., 0., 0.],\n",
       "       [0., 1., 0.],\n",
       "       [0., 0., 1.]])"
      ]
     },
     "metadata": {},
     "output_type": "display_data"
    },
    {
     "data": {
      "text/plain": [
       "array([[1., 0., 0.],\n",
       "       [0., 1., 0.],\n",
       "       [0., 0., 1.]])"
      ]
     },
     "metadata": {},
     "output_type": "display_data"
    }
   ],
   "source": [
    "arr_from_dist_2d_1 = np.random.randn(3,2)\n",
    "arr_from_dist_2d_2 = np.random.normal(0,1,(3,2))\n",
    "arr_from_rand_int_3d = np.random.randint(0,100,(3,4,3))\n",
    "\n",
    "arr_from_str = np.array(['1','2','3'])\n",
    "arr_num = arr_from_str.astype(np.int)\n",
    "\n",
    "arr_ones = np.ones((3,4))\n",
    "arr_empty = np.empty_like(arr_ones)\n",
    "\n",
    "arr_iden_1 = np.identity(3)\n",
    "arr_iden_2 = np.eye(3,3)\n",
    "\n",
    "display(arr_from_dist_2d_1,\n",
    "        arr_from_dist_2d_2, \n",
    "        arr_from_rand_int_3d,\n",
    "        arr_num, \n",
    "        arr_ones,\n",
    "        arr_empty,\n",
    "        arr_iden_1,\n",
    "        arr_iden_2)"
   ]
  },
  {
   "cell_type": "markdown",
   "metadata": {},
   "source": [
    "2) NumPy Methods \n",
    "- check data type, dimesnion and shape of an array \n",
    "- change the type of an array \n",
    "- find mean/std and sum of an array \n",
    "- find all unique values in an array \n",
    "- sort an array\n",
    "- check whether values from one array are presented in the second one \n",
    "- transpose an array \n",
    "- find dot product between two two arrays (matrices)\n",
    "- raise to the power of 2 each element in an array \n",
    "- raise to the power of given sequence each element in an array \n",
    "- find min and max values of an array\n",
    "- make element - wise comparison between two arrays and return min element in each position \n",
    "- calculate the square root of an array \n",
    "- checks whether there are missing values in an array \n",
    "- demonstrate difference between floor/ceil/rint \n",
    "- return sign of array elements\n",
    "- make a copy of an array\n",
    "- create a row - vector from 1D array in two ways \n",
    "- create a column - vector from 1D array in two ways\n",
    "- concatenate 2 arrays in two different ways (by columns then by rows)\n",
    "- stacks 2 arrays vertically,horizontaly and in depth \n",
    "- split an array horizontally, vertically and in depth (mention which methods exists for this task)"
   ]
  },
  {
   "cell_type": "code",
   "execution_count": 42,
   "metadata": {},
   "outputs": [
    {
     "data": {
      "text/plain": [
       "4.5"
      ]
     },
     "execution_count": 42,
     "metadata": {},
     "output_type": "execute_result"
    }
   ],
   "source": [
    "arr = np.arange(0,10).reshape(2,5)\n",
    "arr = arr.astype('int64')\n",
    "arr.mean()"
   ]
  },
  {
   "cell_type": "code",
   "execution_count": 106,
   "metadata": {},
   "outputs": [
    {
     "data": {
      "text/plain": [
       "dtype('int32')"
      ]
     },
     "metadata": {},
     "output_type": "display_data"
    },
    {
     "data": {
      "text/plain": [
       "3"
      ]
     },
     "metadata": {},
     "output_type": "display_data"
    },
    {
     "data": {
      "text/plain": [
       "(3, 4, 3)"
      ]
     },
     "metadata": {},
     "output_type": "display_data"
    },
    {
     "data": {
      "text/plain": [
       "array(['1', '2', '3'], dtype='<U11')"
      ]
     },
     "metadata": {},
     "output_type": "display_data"
    },
    {
     "name": "stdout",
     "output_type": "stream",
     "text": [
      "Mean is:47.75\n",
      "Std is: 28.296422035303333\n",
      "Sum is: 1719\n"
     ]
    },
    {
     "data": {
      "text/plain": [
       "array([1.])"
      ]
     },
     "metadata": {},
     "output_type": "display_data"
    },
    {
     "data": {
      "text/plain": [
       "array([[[ 5, 26, 82],\n",
       "        [38, 52, 52],\n",
       "        [53, 59, 64],\n",
       "        [ 3, 15, 81]],\n",
       "\n",
       "       [[17, 89, 91],\n",
       "        [ 7, 12, 33],\n",
       "        [ 8, 53, 55],\n",
       "        [ 1, 50, 77]],\n",
       "\n",
       "       [[20, 82, 89],\n",
       "        [32, 32, 57],\n",
       "        [22, 73, 78],\n",
       "        [57, 76, 78]]])"
      ]
     },
     "metadata": {},
     "output_type": "display_data"
    },
    {
     "data": {
      "text/plain": [
       "array([ True, False,  True])"
      ]
     },
     "metadata": {},
     "output_type": "display_data"
    },
    {
     "data": {
      "text/plain": [
       "array([[1., 0., 0.],\n",
       "       [0., 1., 0.],\n",
       "       [0., 0., 1.]])"
      ]
     },
     "metadata": {},
     "output_type": "display_data"
    },
    {
     "data": {
      "text/plain": [
       "array([[[ 99., 152., 279.],\n",
       "        [ 33., 204., 256.],\n",
       "        [131., 263., 302.]],\n",
       "\n",
       "       [[ 99., 152., 279.],\n",
       "        [ 33., 204., 256.],\n",
       "        [131., 263., 302.]],\n",
       "\n",
       "       [[ 99., 152., 279.],\n",
       "        [ 33., 204., 256.],\n",
       "        [131., 263., 302.]]])"
      ]
     },
     "metadata": {},
     "output_type": "display_data"
    }
   ],
   "source": [
    "display(arr_from_rand_int_3d.dtype,\n",
    "        arr_from_rand_int_3d.ndim,\n",
    "        arr_from_rand_int_3d.shape )\n",
    "\n",
    "arr_str = arr_num.astype(np.str)\n",
    "display(arr_str)\n",
    "\n",
    "print(f'Mean is:{arr_from_rand_int_3d.mean()}'+'\\n'+\n",
    "      f'Std is: {arr_from_rand_int_3d.std()}'+'\\n'+\n",
    "      f'Sum is: {arr_from_rand_int_3d.sum()}' )\n",
    "\n",
    "display(np.unique(arr_ones))\n",
    "\n",
    "arr_from_rand_int_3d.sort()\n",
    "display(arr_from_rand_int_3d)\n",
    "\n",
    "display(np.in1d(arr_num,arr_from_rand_int_3d),\n",
    "        arr_iden_1.T,\n",
    "        np.dot(arr_ones,arr_from_rand_int_3d))"
   ]
  },
  {
   "cell_type": "code",
   "execution_count": 105,
   "metadata": {},
   "outputs": [
    {
     "data": {
      "text/plain": [
       "array([1, 4, 9], dtype=int32)"
      ]
     },
     "metadata": {},
     "output_type": "display_data"
    },
    {
     "data": {
      "text/plain": [
       "array([ 1,  4, 27], dtype=int32)"
      ]
     },
     "metadata": {},
     "output_type": "display_data"
    },
    {
     "name": "stdout",
     "output_type": "stream",
     "text": [
      "Max is :91\n",
      "Min is :1\n",
      "\n"
     ]
    },
    {
     "data": {
      "text/plain": [
       "array([[[1, 2, 3],\n",
       "        [1, 2, 3],\n",
       "        [1, 2, 3],\n",
       "        [1, 2, 3]],\n",
       "\n",
       "       [[1, 2, 3],\n",
       "        [1, 2, 3],\n",
       "        [1, 2, 3],\n",
       "        [1, 2, 3]],\n",
       "\n",
       "       [[1, 2, 3],\n",
       "        [1, 2, 3],\n",
       "        [1, 2, 3],\n",
       "        [1, 2, 3]]])"
      ]
     },
     "metadata": {},
     "output_type": "display_data"
    },
    {
     "data": {
      "text/plain": [
       "array([[[2.23606798, 5.09901951, 9.05538514],\n",
       "        [6.164414  , 7.21110255, 7.21110255],\n",
       "        [7.28010989, 7.68114575, 8.        ],\n",
       "        [1.73205081, 3.87298335, 9.        ]],\n",
       "\n",
       "       [[4.12310563, 9.43398113, 9.53939201],\n",
       "        [2.64575131, 3.46410162, 5.74456265],\n",
       "        [2.82842712, 7.28010989, 7.41619849],\n",
       "        [1.        , 7.07106781, 8.77496439]],\n",
       "\n",
       "       [[4.47213595, 9.05538514, 9.43398113],\n",
       "        [5.65685425, 5.65685425, 7.54983444],\n",
       "        [4.69041576, 8.54400375, 8.83176087],\n",
       "        [7.54983444, 8.71779789, 8.83176087]]])"
      ]
     },
     "metadata": {},
     "output_type": "display_data"
    },
    {
     "name": "stderr",
     "output_type": "stream",
     "text": [
      "c:\\python 3.6.1\\lib\\site-packages\\ipykernel_launcher.py:10: RuntimeWarning: invalid value encountered in sqrt\n",
      "  # Remove the CWD from sys.path while we load stuff.\n"
     ]
    },
    {
     "data": {
      "text/plain": [
       "array([[ True,  True],\n",
       "       [False, False],\n",
       "       [ True, False]])"
      ]
     },
     "metadata": {},
     "output_type": "display_data"
    }
   ],
   "source": [
    "display(np.square(arr_num),\n",
    "        np.power(arr_num,[1,2,3]) )\n",
    "        \n",
    "print(f'Max is :{arr_from_rand_int_3d.max()}'+'\\n'+\n",
    "      f'Min is :{arr_from_rand_int_3d.min()}'+'\\n')\n",
    "\n",
    "display(np.minimum(arr_from_rand_int_3d,arr_num),\n",
    "        np.sqrt(arr_from_rand_int_3d))\n",
    "\n",
    "arr_with_nan = np.sqrt(arr_from_dist_2d_2)\n",
    "display(np.isnan(arr_with_nan))"
   ]
  },
  {
   "cell_type": "code",
   "execution_count": 110,
   "metadata": {},
   "outputs": [
    {
     "data": {
      "text/plain": [
       "76.0"
      ]
     },
     "metadata": {},
     "output_type": "display_data"
    },
    {
     "data": {
      "text/plain": [
       "75.0"
      ]
     },
     "metadata": {},
     "output_type": "display_data"
    },
    {
     "data": {
      "text/plain": [
       "76.0"
      ]
     },
     "metadata": {},
     "output_type": "display_data"
    },
    {
     "data": {
      "text/plain": [
       "array([[-1., -1.],\n",
       "       [ 1.,  1.],\n",
       "       [-1.,  1.]])"
      ]
     },
     "metadata": {},
     "output_type": "display_data"
    },
    {
     "data": {
      "text/plain": [
       "array([[-0.16814581, -2.00087117],\n",
       "       [-1.62700891, -0.99987481],\n",
       "       [-0.71567686, -0.33064997]])"
      ]
     },
     "execution_count": 110,
     "metadata": {},
     "output_type": "execute_result"
    }
   ],
   "source": [
    "value = 75.56\n",
    "display(np.ceil(value),\n",
    "        np.floor(value),\n",
    "        np.rint(value),\n",
    "        np.sign(arr_from_dist_2d_2))\n",
    "\n",
    "copied_arr = arr_from_dist_2d_1.copy()\n",
    "copied_arr"
   ]
  },
  {
   "cell_type": "markdown",
   "metadata": {},
   "source": [
    "3.1) 1D Array Indexation\n",
    "- select the first/last 5 elements \n",
    "- select every third element\n",
    "- reverse the array\n",
    "- every third element in reverse order\n",
    "- from 5th till the beginning with step 2\n",
    "\n",
    "The Array is given below"
   ]
  },
  {
   "cell_type": "code",
   "execution_count": 267,
   "metadata": {},
   "outputs": [
    {
     "data": {
      "text/plain": [
       "array([ 0,  0,  0, 93, 94, 95, 96, 97, 98, 99])"
      ]
     },
     "execution_count": 267,
     "metadata": {},
     "output_type": "execute_result"
    }
   ],
   "source": [
    "arr = arr_from_arange\n",
    "arr"
   ]
  },
  {
   "cell_type": "code",
   "execution_count": 268,
   "metadata": {},
   "outputs": [
    {
     "name": "stdout",
     "output_type": "stream",
     "text": [
      "Original Array :[ 0  0  0 93 94 95 96 97 98 99]\n"
     ]
    },
    {
     "data": {
      "text/plain": [
       "None"
      ]
     },
     "metadata": {},
     "output_type": "display_data"
    },
    {
     "data": {
      "text/plain": [
       "array([ 0,  0,  0, 93, 94])"
      ]
     },
     "metadata": {},
     "output_type": "display_data"
    },
    {
     "data": {
      "text/plain": [
       "array([95, 96, 97, 98, 99])"
      ]
     },
     "metadata": {},
     "output_type": "display_data"
    },
    {
     "data": {
      "text/plain": [
       "array([ 0, 93, 96, 99])"
      ]
     },
     "metadata": {},
     "output_type": "display_data"
    },
    {
     "data": {
      "text/plain": [
       "array([99, 98, 97, 96, 95, 94, 93,  0,  0,  0])"
      ]
     },
     "metadata": {},
     "output_type": "display_data"
    },
    {
     "data": {
      "text/plain": [
       "array([99, 96, 93,  0])"
      ]
     },
     "metadata": {},
     "output_type": "display_data"
    },
    {
     "data": {
      "text/plain": [
       "array([95, 93,  0])"
      ]
     },
     "metadata": {},
     "output_type": "display_data"
    }
   ],
   "source": [
    "display(print(f'Original Array :{arr}'),\n",
    "        arr[:5],\n",
    "        arr[-5:],\n",
    "        arr[::3],\n",
    "        arr[::-1],\n",
    "        arr[::-3],\n",
    "        arr[-5::-2])"
   ]
  },
  {
   "cell_type": "markdown",
   "metadata": {},
   "source": [
    "3.2) 2D Array Indexation\n",
    "- select any column\n",
    "- select each second column \n",
    "- the last 3 elements in each second column\n",
    "- every second row in each second column  \n",
    "\n",
    "The array is given below"
   ]
  },
  {
   "cell_type": "code",
   "execution_count": 171,
   "metadata": {},
   "outputs": [
    {
     "data": {
      "text/plain": [
       "array([[324, 320, 255, 305, 277,  58],\n",
       "       [ 16, 307, 145, 187, 347, 450],\n",
       "       [366, 414, 343, 320, 291, 383],\n",
       "       [434, 379, 459,  89, 449, 367],\n",
       "       [ 34, 331, 194, 227, 373, 132],\n",
       "       [292, 240, 373, 204, 216, 252]])"
      ]
     },
     "execution_count": 171,
     "metadata": {},
     "output_type": "execute_result"
    }
   ],
   "source": [
    "np.random.seed(43)\n",
    "arr = np.random.randint(0,500,(6,6))\n",
    "arr"
   ]
  },
  {
   "cell_type": "code",
   "execution_count": 202,
   "metadata": {},
   "outputs": [
    {
     "data": {
      "text/plain": [
       "array([324,  16, 366, 434,  34, 292])"
      ]
     },
     "metadata": {},
     "output_type": "display_data"
    },
    {
     "data": {
      "text/plain": [
       "array([[324, 255, 277],\n",
       "       [ 16, 145, 347],\n",
       "       [366, 343, 291],\n",
       "       [434, 459, 449],\n",
       "       [ 34, 194, 373],\n",
       "       [292, 373, 216]])"
      ]
     },
     "metadata": {},
     "output_type": "display_data"
    },
    {
     "data": {
      "text/plain": [
       "array([[434, 459, 449],\n",
       "       [ 34, 194, 373],\n",
       "       [292, 373, 216]])"
      ]
     },
     "metadata": {},
     "output_type": "display_data"
    },
    {
     "data": {
      "text/plain": [
       "array([[324, 255, 277],\n",
       "       [366, 343, 291],\n",
       "       [ 34, 194, 373]])"
      ]
     },
     "metadata": {},
     "output_type": "display_data"
    }
   ],
   "source": [
    "display(arr[:,0],\n",
    "        arr[:,::2],\n",
    "        arr[-3:,::2],\n",
    "        arr[::2,::2])"
   ]
  },
  {
   "cell_type": "markdown",
   "metadata": {},
   "source": [
    "3.3) 3D Array Indexation \n",
    "- select first two arrays\n",
    "- select last row from the first array  \n",
    "- select last rows from first two arrays \n",
    "- slice the center of all arrays. The result must have the shape (3x2x3)\n",
    "- last columns of last 2 arrays in reverse order\n",
    "\n",
    "The Array is given below"
   ]
  },
  {
   "cell_type": "code",
   "execution_count": 247,
   "metadata": {},
   "outputs": [
    {
     "data": {
      "text/plain": [
       "array([[[ 5, 26, 82],\n",
       "        [38, 52, 52],\n",
       "        [53, 59, 64],\n",
       "        [ 3, 15, 81]],\n",
       "\n",
       "       [[17, 89, 91],\n",
       "        [ 7, 12, 33],\n",
       "        [ 8, 53, 55],\n",
       "        [ 1, 50, 77]],\n",
       "\n",
       "       [[20, 82, 89],\n",
       "        [32, 32, 57],\n",
       "        [22, 73, 78],\n",
       "        [57, 76, 78]]])"
      ]
     },
     "execution_count": 247,
     "metadata": {},
     "output_type": "execute_result"
    }
   ],
   "source": [
    "arr = arr_from_rand_int_3d\n",
    "arr"
   ]
  },
  {
   "cell_type": "code",
   "execution_count": 248,
   "metadata": {},
   "outputs": [
    {
     "data": {
      "text/plain": [
       "array([[[ 5, 26, 82],\n",
       "        [38, 52, 52],\n",
       "        [53, 59, 64],\n",
       "        [ 3, 15, 81]],\n",
       "\n",
       "       [[17, 89, 91],\n",
       "        [ 7, 12, 33],\n",
       "        [ 8, 53, 55],\n",
       "        [ 1, 50, 77]]])"
      ]
     },
     "metadata": {},
     "output_type": "display_data"
    },
    {
     "data": {
      "text/plain": [
       "array([ 3, 15, 81])"
      ]
     },
     "metadata": {},
     "output_type": "display_data"
    },
    {
     "data": {
      "text/plain": [
       "array([[[38, 52, 52],\n",
       "        [53, 59, 64]],\n",
       "\n",
       "       [[ 7, 12, 33],\n",
       "        [ 8, 53, 55]],\n",
       "\n",
       "       [[32, 32, 57],\n",
       "        [22, 73, 78]]])"
      ]
     },
     "metadata": {},
     "output_type": "display_data"
    },
    {
     "data": {
      "text/plain": [
       "array([[[77],\n",
       "        [55],\n",
       "        [33],\n",
       "        [91]],\n",
       "\n",
       "       [[78],\n",
       "        [78],\n",
       "        [57],\n",
       "        [89]]])"
      ]
     },
     "metadata": {},
     "output_type": "display_data"
    }
   ],
   "source": [
    "display(arr[:2],\n",
    "        arr[0,-1,],\n",
    "        arr[:,1:3,:],\n",
    "        arr[-2:,::-1,-1:]\n",
    "       )"
   ]
  },
  {
   "cell_type": "markdown",
   "metadata": {},
   "source": [
    "Bool Indexation\n",
    "- find all values greater or equla than 40 and find out how many of them\n",
    "- find all values that greater or equal 24 and less or equall 77 and find out how many of them\n",
    "\n",
    "\n",
    "The array is given below "
   ]
  },
  {
   "cell_type": "code",
   "execution_count": 249,
   "metadata": {},
   "outputs": [
    {
     "data": {
      "text/plain": [
       "array([[[ 5, 26, 82],\n",
       "        [38, 52, 52],\n",
       "        [53, 59, 64],\n",
       "        [ 3, 15, 81]],\n",
       "\n",
       "       [[17, 89, 91],\n",
       "        [ 7, 12, 33],\n",
       "        [ 8, 53, 55],\n",
       "        [ 1, 50, 77]],\n",
       "\n",
       "       [[20, 82, 89],\n",
       "        [32, 32, 57],\n",
       "        [22, 73, 78],\n",
       "        [57, 76, 78]]])"
      ]
     },
     "execution_count": 249,
     "metadata": {},
     "output_type": "execute_result"
    }
   ],
   "source": [
    "arr"
   ]
  },
  {
   "cell_type": "code",
   "execution_count": 266,
   "metadata": {},
   "outputs": [
    {
     "data": {
      "text/plain": [
       "array([82, 52, 52, 53, 59, 64, 81, 89, 91, 53, 55, 50, 77, 82, 89, 57, 73,\n",
       "       78, 57, 76, 78])"
      ]
     },
     "metadata": {},
     "output_type": "display_data"
    },
    {
     "data": {
      "text/plain": [
       "21"
      ]
     },
     "metadata": {},
     "output_type": "display_data"
    },
    {
     "data": {
      "text/plain": [
       "array([52, 52, 53, 59, 64, 53, 55, 50, 57, 57])"
      ]
     },
     "metadata": {},
     "output_type": "display_data"
    },
    {
     "data": {
      "text/plain": [
       "10"
      ]
     },
     "metadata": {},
     "output_type": "display_data"
    }
   ],
   "source": [
    "display(arr[arr>=40],\n",
    "        arr[arr>=40].shape[0],\n",
    "         arr[(arr>=40) & (arr<=70)],\n",
    "        arr[(arr>=40) & (arr<=70)].shape[0])"
   ]
  }
 ],
 "metadata": {
  "kernelspec": {
   "display_name": "Python 3",
   "language": "python",
   "name": "python3"
  },
  "language_info": {
   "codemirror_mode": {
    "name": "ipython",
    "version": 3
   },
   "file_extension": ".py",
   "mimetype": "text/x-python",
   "name": "python",
   "nbconvert_exporter": "python",
   "pygments_lexer": "ipython3",
   "version": "3.7.9"
  }
 },
 "nbformat": 4,
 "nbformat_minor": 4
}
