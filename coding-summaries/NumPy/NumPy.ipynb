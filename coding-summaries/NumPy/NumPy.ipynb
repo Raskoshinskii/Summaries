{
 "cells": [
  {
   "cell_type": "markdown",
   "metadata": {},
   "source": [
    "### NumPy \n",
    "NumPy a library for high - productive scientific calculations and data analysis. It provides fast vector operations for data cleaning and reflowing, set selection, different transformations and others.\n",
    "\n",
    "Key element in NumPy is **ndarray object** which represents n - dimensional array. Ndarray is fast and flexible container for huge datasets storage. Arrays allows to execute different operations on whole data blocks as well as scalars. \n",
    "\n",
    "**Ndarray can store only one data type**\n",
    "\n",
    "### Array Creation\n",
    "- **np.array( list )** - creates a NumPy 1D array from a list\n",
    "- **np.array( nested_list )** - creates a multivariate array\n",
    "- **np.arange( shape )** - like range bur returns an array\n",
    "- **np.linspace( interval )** - returns evenly spaced numbers over a specified interval: start (inc) stop (inc) + step\n",
    "- **np.asarray( data, dtype )** transforms given data into ndarray object\n",
    "- **np.full( shape , scalar)** - creates an array with given shape filled with provided scalar value\n",
    "- **np.zeros( shape )** - creates an array with zeroes\n",
    "- **np.ones ( shape )** - creates an array with ones\n",
    "- **np.emty ( shape )** - creates an empty array, not necessearily zeroes\n",
    "- **np.emty_like( arr )** - takes another array,takes into account its dimension and creates an empty array with the dimension \n",
    "- **np.ones_like( arr )** - similar to np.emty_like ( )\n",
    "- **np.eye( shape )** - creates 2d array with one on the main diagonal \n",
    "- **np.identity( shape )** - creates 2d array with one on the main diagonal \n",
    "- **arr[ np.newaxis, : ]** - creates a row vector using 1D array\n",
    "- **arr[ : , np.newaxis ]** - creates a column vector using 1D array \n",
    "\n",
    "### Array Creation using Random\n",
    "There are some differences between methods in this module which must be known\n",
    "- **np.random.rand( shape )** - random samples from Normal Distribution in range 0 (inc) - 1 (excl)\n",
    "- **np.random.randint( shape )** - random integers from low (inc), high (exc)\n",
    "- **np.random.randn( shape )** - random samples from Normal Distribution with mean = 0 and std = 1\n",
    "- **np.random.normal( shape )** - random samples from Normal Distribution where mean and std can be customized\n",
    "- **np.random.random( shape )** - similar to np.random.rand( )\n",
    "- **np.random.choice( arr, size )** - randomly selects samples from 1D array according to provided size\n",
    "\n",
    "### Array Data Types\n",
    "**dtype** is a special object which contains necessary information of ndarray for data interpretation.\n",
    "\n",
    "**Each array** can have **only one data type**\n",
    "\n",
    "All available types can be obtained from the following command: **np.ctypes( )** - list all types\n",
    "- **int8, uint8** -   1byte, 8 digit postions (unsigned takes only positive values)\n",
    "- **int16, uint16** - 2 bytes, 16 digit postitions\n",
    "- **int32, uint32** - 4 bytes, 32 digit positions\n",
    "- **int64, uint64** - 8 bytes, 64 digit positions\n",
    "- **float16** - half - precision - floating - point\n",
    "- **float32** - one precision - floating point\n",
    "- **float64** - double precision - floating - point \n",
    "- **float128** - Extended precision floating point\n",
    "- **complex64,128,256** - complex numbers\n",
    "- **bool** - True/False\n",
    "- **string_** - string type with fixed length \n",
    "- **unicode_** -unicode type for strings with fixed length \n",
    "\n",
    "Some methods:\n",
    "- **arr.dtype** - returns data type  \n",
    "- **arr.astype( type )** changes a type of an array\n",
    "\n",
    "### Array Indexation\n",
    "**1D Array** <br>\n",
    "Behaves like an ordinary list. Indexation is the same. All slicing of an array are **views**!!\n",
    "\n",
    "**Views are not copies, thus any changes in views changes original array. It is very important**\n",
    "- **arr[ : : ]** - only rows slicing \n",
    "\n",
    "**2d Array** <br>\n",
    "Has 2 dimensions 0 - axis (rows), 1 - axis (columns)\n",
    "- **arr[ : :, : : ]** - rows and columns slicing\n",
    "\n",
    "**3D Array**<br>\n",
    "Has 3 dimensions depth (how many arrays to choose), rows and columns\n",
    "- **arr[ : :,: :, : : ]** - depth, rows and columns slicing \n",
    "\n",
    "For Multidimensional arrays number of axes is proportional to the dimension \n",
    "\n",
    "### Bool Indexation \n",
    "Returns a result accoridng to a provided condition. **Always returns a copy**. This method is also called boolean masks.\n",
    "It is interresting but when we provide a statement, for example x < 3, NumPy interpretes it as np.less(x, 3). Thus, it operates **ufunctions** inside.\n",
    "\n",
    "Operators are: & (and) | (or) ^ (xor) ~ (not) and they operate seprate bits inside **each object** whereas and,or,xor operate on the whole object\n",
    "- **arr[ condition ]** \n",
    "- **np.where( condition, val_1, val_2 )** - substitute values according to specified condition. If True val_1, otherwise val_2\n",
    "- **np.count_nonzero( condition )** - can be used to count number of True statements. np.sum() is more preferable\n",
    "- **np.all / any ( )** - checks if all or any elements are True\n",
    "\n",
    "\n",
    "### Fancy Indexing \n",
    "The main difference is that it takes an **array of indexes** and final shape will be equal to the shape of indexes array.\n",
    "**Always creates a new array**\n",
    "1D Array:\n",
    "- **arr[ arr( indexes ) ]** - selects elemetns according to provided array of indexes.\n",
    "2D Array:\n",
    "- **arr[ arr( rows_idxs ), arr( columns_idxs ) ]** - selects elements according to the following combination (row_idx,col_idx)...\n",
    "Fancy Indexing can be combined with ordinary indexes\n",
    "- **arr[ indx, arr( indxs ) ]** - selects elements according to the following combination (indx, arr[0]), (indx,arr[1])...\n",
    "\n",
    "\n",
    "- **arr[ [rows_idxs ] ] [:, [ cols_idxs ] ]** - combination is different (row_1,col_1), (row_1,col_2)...\n",
    "- **arr[ np.ix_( [ rows_idxs ], [ cols_idxs ] )]** similar to above method\n",
    "\n",
    "### Array Dimension Methods \n",
    "- **arr.shape** - returns shape \n",
    "- **arr.ndim** - returns dimension of an array \n",
    "- **arr.size** - returns number of variables in an array\n",
    "- **arr.T** - transposes an array \n",
    "- **arr.reshape( )** - reshapes an array. If one of the axes equals **-1** then appropriate shape will be computed aoutomatically\n",
    "- **arr.ravel( arr )** - flattens an array of any dimension into 1D array\n",
    "- **np.swapaxes( )** - swaps two axes \n",
    "\n",
    "### Array Cloning / Copying\n",
    "- **np.copysign( signs )** - copies signs from a provided array\n",
    "- **np.repeat( arr, times )** - returns 1D array from an array of any dimension where each element will be repeated according to times param \n",
    "- **arr.copy( )** - copies an array\n",
    "\n",
    "### Array Unification Methods\n",
    "- **np.stack( arrays )** - stacks several arrays into a big one \n",
    "- **np.concatenate( [ arrays ], axis )** concatenates several arrays\n",
    "- **np.vstack( [ arrays ] )** concatenates along columns (1 axis )\n",
    "- **np.hstack( [ arrays ] )** - concatenates along rows ( 0 axis )\n",
    "- **np.dstack( [ arrays ] )** - concatenates along depth or 3d axis ( 2 axis ) \n",
    "\n",
    "### Array Splitting Methods \n",
    "- **np.split( arr, axis )** - splits an array into multiple sub-arrays according to provided axis\n",
    "- **np.hsplit( arr )** - splits an array into multiple sub-arrays horizontally (column-wise, axis = 1) \n",
    "- **np.vsplit( arr )** - splits an array into multiple sub-arrays vertically (row-wise, axis = 0) \n",
    "- **np.dsplit( arr )** - splits an array into multiple sub-arrays along the 3d axis ( depth )\n",
    "\n",
    "### Array Methods \n",
    "- **arr.sort( )** - sorted array\n",
    "- **arr.unique( )** - returns only unique values\n",
    "- **np.in1d ( )** - checks if values from one array are presented in another  \n",
    "- **arr.itemsize( )** - returns how much **each array elemet** takes up memory in bytes\n",
    "- **arr.nbytes( )** - returns how much the whole array takes up memory in bytes\n",
    "- **np.at( )** - applies provided operator for provided element indexes\n",
    "\n",
    "### Array Sorting \n",
    "- **np.searchsorted( arr , values)** - returns indexes of where elements should be inserted to maintain array order \n",
    "- **np.sort( arr, axis )** - sorts an array. It uses quicksort by default, complexity O[NlogN]. Axis = 0 sorts by columns\n",
    "- **np.argsort( arr )** - returns indexes of sorted array \n",
    "- **np.partition( arr, val_indx )** - read docum\n",
    "\n",
    "### Transpose\n",
    "It changes the form of matrix\n",
    "- **arr.T** - transpose operation\n",
    "- **arr.transpose()** - transpose oeration\n",
    "- **np.dot( mtrx_1, matrx_2 )** - dot product of 2 matrices\n",
    "\n",
    "### Ufunctions\n",
    "Cycles in Python are incredibly slow. This is due to the fact that data type of a result of any operation must be checked before saving. This leads to slowness.Luckily, NumPy arrays must have a certain data type when initializing and data is vectorized.\n",
    "Vector operations in NumPy are realized by **universal functions ufunc**. \n",
    "These functions executes element-wise operations, incredibly fast and can be applied to arrays of any dimension.\n",
    "There are several types of ufunctions **unary** and **binary**\n",
    "\n",
    "Typical **binary** mathematical operations such as: **+,-,*,/,//** (element - wise)\n",
    "- **np.add / substract / multiply / devide( arr, value, out )** - out can be used to save the results in a created array instead of temporary, **it saves memory**\n",
    "- **np.floor_divide( )** - similart to a // b\n",
    "- **np.maximum( x, y )** - element - wise comparison between arrays\n",
    "- **np.ufunc.reduce( arr )** - reduces dimension by one, by applying ufunc along one axis (dim - 1)\n",
    "- **np.ufunc.accumulate( arr)** - accumulates the result of applying the ufunc to all elements\n",
    "- **np.cumsum( arr )** - returns the cumulative sum of the elements along a given axis\n",
    "- **np.cumprod( arr )** - returns the cumulative product of the elements along a given axis\n",
    "- **np.ufunc.outer( arr_1, arr_2 )** - applies an ufunc to all pairs (a, b).\n",
    "\n",
    "Simple **unary** operations: sign change (-x), raising to the power and % \n",
    "- **np.negative( arr )** - changes signs\n",
    "- **np.power( arr, value or list_of_powers )** - raises an array to the given power or list of powers\n",
    "- **np.mod( arr )** - similar to a % b\n",
    "- **np.abs( )** - returns absolute value\n",
    "- **np.absolute( )** - similar to np.abs\n",
    "- **np.square( )** - computes square of each element\n",
    "- **np.sqrt( arr )** - square root\n",
    "\n",
    "- **np.sign( )** - returns sign of each elemet\n",
    "- **np.exp( arr )** - exponent of x\n",
    "- **np.2exp( arr )** - e^2x\n",
    "- **np.sin / cos / tan( arr )** - computes trigonometric functions of an array\n",
    "- **np.log, log10, log2, log1p** - understandable \n",
    "- **np.ceil( )** - round operation. Next whole number\n",
    "- **np.floor( )** - round operation \n",
    "- **np.rint( )**- rounds till the closest int \n",
    "- **np.isnan( )** - checks NaN values \n",
    "\n",
    "### Aggregation Functions\n",
    "- **arr.sum / prod / mean / median / std / var ( axis )** - typical operations.**Axis determines how values will be aggregated** . **axis = 0  is columns**\n",
    "- **arr.min / max ( )** - returns max and min element of an array\n",
    "- **arr.argmin / argmax ( )** - returns an index of min or max element \n",
    "- **np.percentile( )** - computes quantiles of the elements\n",
    "\n",
    "!! In order to not include **NaN values** provide nan before any of above commands. For example, **arr.nansum**\n",
    "\n",
    "### Array Broadcasting\n",
    "Broadcastig allows to apply binary operations such as addition,division and so on to arrays of different shape. For example, we want to add two arrays with different shape arr_1 (3,0) and arr_2 (3,3). In this case, we can imagine that arr_1 transforms into arr (3,3) with the same values in each row and then being added. Actually, transformation is not happening, it is just a convinience for our brain.\n",
    "\n",
    "There are rules which must be followed:\n",
    "- If **dimension** of two arrays is different, array with less dimension is being brodcasted with the same values to the equal shape\n",
    "- If **shape** of two arrays is not equal, axis with less dimension is being extended till it mathces dimension of another array.\n",
    "- If shapes still different, an error occurs\n"
   ]
  },
  {
   "cell_type": "code",
   "execution_count": 1,
   "metadata": {},
   "outputs": [],
   "source": [
    "import numpy as np"
   ]
  },
  {
   "cell_type": "markdown",
   "metadata": {},
   "source": [
    "### Array Creation"
   ]
  },
  {
   "cell_type": "code",
   "execution_count": 75,
   "metadata": {},
   "outputs": [
    {
     "data": {
      "text/plain": [
       "[1, 2, 6, 10]"
      ]
     },
     "metadata": {},
     "output_type": "display_data"
    },
    {
     "data": {
      "text/plain": [
       "array([[10, 23,  1],\n",
       "       [20, 11,  6]])"
      ]
     },
     "metadata": {},
     "output_type": "display_data"
    },
    {
     "data": {
      "text/plain": [
       "array([1., 2., 3.], dtype=float32)"
      ]
     },
     "metadata": {},
     "output_type": "display_data"
    },
    {
     "data": {
      "text/plain": [
       "array([[1., 1., 1.],\n",
       "       [1., 1., 1.],\n",
       "       [1., 1., 1.]])"
      ]
     },
     "metadata": {},
     "output_type": "display_data"
    },
    {
     "data": {
      "text/plain": [
       "array([[0., 0., 0.],\n",
       "       [0., 0., 0.],\n",
       "       [0., 0., 0.]])"
      ]
     },
     "metadata": {},
     "output_type": "display_data"
    },
    {
     "data": {
      "text/plain": [
       "array([[0., 0., 0.],\n",
       "       [0., 0., 0.],\n",
       "       [0., 0., 0.]])"
      ]
     },
     "metadata": {},
     "output_type": "display_data"
    },
    {
     "data": {
      "text/plain": [
       "array([-964267536,        358, -964294136,        358, -969345232])"
      ]
     },
     "metadata": {},
     "output_type": "display_data"
    },
    {
     "data": {
      "text/plain": [
       "array([[0., 0.],\n",
       "       [0., 0.]])"
      ]
     },
     "metadata": {},
     "output_type": "display_data"
    },
    {
     "data": {
      "text/plain": [
       "array([[1., 0., 0.],\n",
       "       [0., 1., 0.],\n",
       "       [0., 0., 1.]])"
      ]
     },
     "metadata": {},
     "output_type": "display_data"
    },
    {
     "data": {
      "text/plain": [
       "array([[1., 0., 0.],\n",
       "       [0., 1., 0.],\n",
       "       [0., 0., 1.]])"
      ]
     },
     "metadata": {},
     "output_type": "display_data"
    }
   ],
   "source": [
    "# Univariate Array Creation \n",
    "lst = [1,2,6,10]\n",
    "array = np.array(lst)\n",
    "display(lst)\n",
    "\n",
    "# Mulivariate Array Creation\n",
    "nested_lst = [[10,23,1],[20,11,6]]\n",
    "array_nested = np.array(nested_lst)\n",
    "display(array_nested)\n",
    "\n",
    "# Transformation into array\n",
    "data = ['1','2','3']\n",
    "array = np.asarray(data, dtype = np.float32 )\n",
    "display(array)\n",
    "\n",
    "# Array with only ones creation\n",
    "ones = np.ones((3,3))\n",
    "display(ones)\n",
    "\n",
    "# Array with only zeroes creation\n",
    "zeros = np.zeros((3,3))\n",
    "display(zeros)\n",
    "\n",
    "# Empty Array Creation\n",
    "empty = np.empty((3,3))\n",
    "display(empty)\n",
    "\n",
    "# Emty_like\n",
    "array = np.arange(5)\n",
    "empty = np.empty_like(array)\n",
    "display(empty)\n",
    "\n",
    "# Zeroes_like\n",
    "array = np.ones((2,2))\n",
    "zeroes = np.zeros_like(array)\n",
    "display(zeroes)\n",
    "\n",
    "# Identity\n",
    "identity = np.identity(3)\n",
    "display(identity)\n",
    "\n",
    "# Eye\n",
    "eye = np.eye(3,3)\n",
    "display(eye)"
   ]
  },
  {
   "cell_type": "markdown",
   "metadata": {},
   "source": [
    "### Array Dimensions Methods "
   ]
  },
  {
   "cell_type": "code",
   "execution_count": 98,
   "metadata": {},
   "outputs": [
    {
     "data": {
      "text/plain": [
       "3"
      ]
     },
     "metadata": {},
     "output_type": "display_data"
    },
    {
     "data": {
      "text/plain": [
       "(3, 4, 3)"
      ]
     },
     "metadata": {},
     "output_type": "display_data"
    },
    {
     "data": {
      "text/plain": [
       "array([54, 35, 58, 75, 99, 38, 88, 72,  5, 64, 13, 41,  6, 58, 44, 11, 98,\n",
       "       10, 15, 31, 33, 51,  7, 58,  9, 15, 35, 61, 99, 70, 47, 71, 18, 35,\n",
       "        0, 40])"
      ]
     },
     "metadata": {},
     "output_type": "display_data"
    },
    {
     "data": {
      "text/plain": [
       "array([[[54, 35],\n",
       "        [58, 75],\n",
       "        [99, 38],\n",
       "        [88, 72],\n",
       "        [ 5, 64],\n",
       "        [13, 41]],\n",
       "\n",
       "       [[ 6, 58],\n",
       "        [44, 11],\n",
       "        [98, 10],\n",
       "        [15, 31],\n",
       "        [33, 51],\n",
       "        [ 7, 58]],\n",
       "\n",
       "       [[ 9, 15],\n",
       "        [35, 61],\n",
       "        [99, 70],\n",
       "        [47, 71],\n",
       "        [18, 35],\n",
       "        [ 0, 40]]])"
      ]
     },
     "metadata": {},
     "output_type": "display_data"
    }
   ],
   "source": [
    "# Initial 3D array\n",
    "arr = np.random.randint(0,100,(3,4,3))\n",
    "\n",
    "display(arr.ndim,\n",
    "        arr.shape,\n",
    "        arr.ravel(),\n",
    "        arr.reshape(3,-1,2))"
   ]
  },
  {
   "cell_type": "markdown",
   "metadata": {},
   "source": [
    "### Array Indexation \n",
    "1D Array"
   ]
  },
  {
   "cell_type": "code",
   "execution_count": 114,
   "metadata": {},
   "outputs": [
    {
     "name": "stdout",
     "output_type": "stream",
     "text": [
      "Original array:[0 1 2 3 4 5 6 7 8 9]\n"
     ]
    },
    {
     "data": {
      "text/plain": [
       "array([5, 6, 7, 8, 9])"
      ]
     },
     "metadata": {},
     "output_type": "display_data"
    },
    {
     "data": {
      "text/plain": [
       "array([5, 6, 7])"
      ]
     },
     "metadata": {},
     "output_type": "display_data"
    },
    {
     "name": "stdout",
     "output_type": "stream",
     "text": [
      "Original slice :[1 2 3]\n",
      "Modified slice: [   1 1000 1000]\n",
      "Original array:[   0    1 1000 1000    4    5    6    7    8    9]\n"
     ]
    }
   ],
   "source": [
    "array = np.arange(10)\n",
    "print('Original array:'+str(array))\n",
    "\n",
    "# Slicing Demonstration\n",
    "display(array[5:])\n",
    "display(array[5:8])\n",
    "\n",
    "# Important note!\n",
    "array_slice = array[1:4]\n",
    "print('Original slice :'+str(array_slice))\n",
    "array_slice[1:] = 1000\n",
    "print('Modified slice: '+str(array_slice))\n",
    "# Slice is not copy. All changes in the sice will affect original array\n",
    "print('Original array:'+str(array))"
   ]
  },
  {
   "cell_type": "markdown",
   "metadata": {},
   "source": [
    "2D Array"
   ]
  },
  {
   "cell_type": "code",
   "execution_count": 138,
   "metadata": {},
   "outputs": [
    {
     "name": "stdout",
     "output_type": "stream",
     "text": [
      "[7 8 9]\n",
      "5\n",
      "5\n",
      "\n",
      "\n",
      "[[5 6]\n",
      " [8 9]]\n",
      "\n",
      "\n",
      "[[2 3]\n",
      " [5 6]\n",
      " [8 9]]\n"
     ]
    }
   ],
   "source": [
    "# 2D Array\n",
    "arr = np.array([[1,2,3],[4,5,6],[7,8,9]])\n",
    "\n",
    "# Simple Selection\n",
    "print(arr[2])\n",
    "print(arr[1,1])\n",
    "print(arr[1][1])\n",
    "print('\\n')\n",
    "\n",
    "# 2D Array Slicing \n",
    "print(arr[1:,1:])\n",
    "print('\\n')\n",
    "print(arr[:,1:])"
   ]
  },
  {
   "cell_type": "markdown",
   "metadata": {},
   "source": [
    "3D Array"
   ]
  },
  {
   "cell_type": "code",
   "execution_count": 134,
   "metadata": {},
   "outputs": [
    {
     "name": "stdout",
     "output_type": "stream",
     "text": [
      "[[[ 1  2  3]\n",
      "  [ 4  5  6]]\n",
      "\n",
      " [[ 7  8  9]\n",
      "  [10 11 12]]]\n",
      "(2, 2, 3)\n",
      "2\n",
      "8\n"
     ]
    }
   ],
   "source": [
    "# 3D Array. It has dimension 2x2x3\n",
    "arr = np.array( [ [[1,2,3],[4,5,6]],\n",
    "                [[7,8,9],[10,11,12]] ])\n",
    "print(arr)\n",
    "print(arr.shape)\n",
    "print(arr[0][0][1])\n",
    "print(arr[1][0][1])"
   ]
  },
  {
   "cell_type": "markdown",
   "metadata": {},
   "source": [
    "### Bool Indexation "
   ]
  },
  {
   "cell_type": "code",
   "execution_count": 163,
   "metadata": {},
   "outputs": [
    {
     "name": "stdout",
     "output_type": "stream",
     "text": [
      "[ True False False  True False False False]\n",
      "\n",
      "\n",
      "[[-1.0856306   0.99734545  0.2829785  -1.50629471]\n",
      " [ 1.49138963 -0.638902   -0.44398196 -0.43435128]]\n",
      "\n",
      "\n",
      "0\n",
      "\n",
      "\n",
      "Original Slice: [[-1.0856306   0.99734545  0.2829785  -1.50629471]\n",
      " [ 1.49138963 -0.638902   -0.44398196 -0.43435128]]\n"
     ]
    }
   ],
   "source": [
    "names = np.array(['Bob','Joe','Will','Bob','Will','Joe','Joe'])\n",
    "data = np.random.randn(names.shape[0],4)\n",
    "\n",
    "print(names == 'Bob')\n",
    "print('\\n')\n",
    "condition = names == 'Bob'\n",
    "# Now, according to above condition we will select rows with True condition \n",
    "selection = data[condition]\n",
    "print(selection)\n",
    "print('\\n')\n",
    "new_sel = selection[0,:] \n",
    "new_sel = 0\n",
    "print(new_sel)\n",
    "print('\\n')\n",
    "print('Original Slice: '+str(selection))"
   ]
  },
  {
   "cell_type": "code",
   "execution_count": 175,
   "metadata": {},
   "outputs": [
    {
     "data": {
      "text/plain": [
       "array([[0.        , 0.99734545, 0.2829785 , 0.        ],\n",
       "       [0.        , 1.65143654, 0.        , 0.        ],\n",
       "       [1.26593626, 0.        , 0.        , 0.        ],\n",
       "       [1.49138963, 0.        , 0.        , 0.        ],\n",
       "       [2.20593008, 2.18678609, 1.0040539 , 0.3861864 ],\n",
       "       [0.73736858, 1.49073203, 0.        , 1.17582904],\n",
       "       [0.        , 0.        , 0.9071052 , 0.        ]])"
      ]
     },
     "execution_count": 175,
     "metadata": {},
     "output_type": "execute_result"
    }
   ],
   "source": [
    "# Set values below zero to zero \n",
    "data[data<0]= 0\n",
    "data"
   ]
  },
  {
   "cell_type": "markdown",
   "metadata": {},
   "source": [
    "### Fancy Indexing "
   ]
  },
  {
   "cell_type": "code",
   "execution_count": 183,
   "metadata": {},
   "outputs": [
    {
     "data": {
      "text/plain": [
       "array([[ 0,  1,  2,  3],\n",
       "       [ 4,  5,  6,  7],\n",
       "       [ 8,  9, 10, 11],\n",
       "       [12, 13, 14, 15],\n",
       "       [16, 17, 18, 19],\n",
       "       [20, 21, 22, 23],\n",
       "       [24, 25, 26, 27],\n",
       "       [28, 29, 30, 31]])"
      ]
     },
     "execution_count": 183,
     "metadata": {},
     "output_type": "execute_result"
    }
   ],
   "source": [
    "arr = np.arange(32).reshape(8,4)\n",
    "arr"
   ]
  },
  {
   "cell_type": "code",
   "execution_count": 194,
   "metadata": {},
   "outputs": [
    {
     "name": "stdout",
     "output_type": "stream",
     "text": [
      "[[ 0  1  2  3]\n",
      " [ 8  9 10 11]\n",
      " [16 17 18 19]\n",
      " [24 25 26 27]]\n",
      "\n",
      "\n",
      "[ 4 23 29 10]\n",
      "\n",
      "\n",
      "[[ 4  7  5  6]\n",
      " [20 23 21 22]\n",
      " [28 31 29 30]\n",
      " [ 8 11  9 10]]\n",
      "\n",
      "\n",
      "[[ 4  7  5  6]\n",
      " [20 23 21 22]\n",
      " [28 31 29 30]\n",
      " [ 8 11  9 10]]\n"
     ]
    }
   ],
   "source": [
    "# Rows Selection \n",
    "\n",
    "print(arr[[0,2,4,6]])\n",
    "print('\\n')\n",
    "\n",
    "print(arr[ [1,5,7,2],[0,3,1,2] ]) \n",
    "print('\\n')\n",
    "\n",
    "print(arr[[1,5,7,2]][:,[0,3,1,2]])\n",
    "print('\\n')\n",
    "\n",
    "print(arr[np.ix_([1,5,7,2],[0,3,1,2])])"
   ]
  },
  {
   "cell_type": "markdown",
   "metadata": {},
   "source": [
    "### Transpose"
   ]
  },
  {
   "cell_type": "code",
   "execution_count": 199,
   "metadata": {},
   "outputs": [
    {
     "name": "stdout",
     "output_type": "stream",
     "text": [
      "[[ 0  1  2  3  4  5]\n",
      " [ 6  7  8  9 10 11]]\n",
      "\n",
      "\n",
      "[[ 0  6]\n",
      " [ 1  7]\n",
      " [ 2  8]\n",
      " [ 3  9]\n",
      " [ 4 10]\n",
      " [ 5 11]]\n"
     ]
    }
   ],
   "source": [
    "arr = np.arange(12).reshape(2,6)\n",
    "print(arr)\n",
    "print('\\n')\n",
    "print(arr.T)"
   ]
  },
  {
   "cell_type": "code",
   "execution_count": 226,
   "metadata": {},
   "outputs": [
    {
     "data": {
      "text/plain": [
       "array([[ 0,  1,  2,  3,  4],\n",
       "       [ 5,  6,  7,  8,  9],\n",
       "       [10, 11, 12, 13, 14]])"
      ]
     },
     "metadata": {},
     "output_type": "display_data"
    },
    {
     "data": {
      "text/plain": [
       "array([[ 0.88389311,  0.19586502,  0.35753652],\n",
       "       [-2.34326191, -1.08483259,  0.55969629],\n",
       "       [ 0.93946935, -0.97848104,  0.50309684],\n",
       "       [ 0.40641447,  0.32346101, -0.49341088],\n",
       "       [-0.79201679, -0.84236793, -1.27950266]])"
      ]
     },
     "metadata": {},
     "output_type": "display_data"
    }
   ],
   "source": [
    "matrx_1 = np.arange(15).reshape(3,5)\n",
    "matrx_2 = np.random.randn(5,3)\n",
    "display(matrx_1)\n",
    "display(matrx_2)"
   ]
  },
  {
   "cell_type": "code",
   "execution_count": 228,
   "metadata": {},
   "outputs": [
    {
     "data": {
      "text/plain": [
       "array([[ -2.41314696,  -5.44088338,  -5.03235332],\n",
       "       [ -6.94065579, -17.37266104,  -6.79527281],\n",
       "       [-11.46816461, -29.30443869,  -8.5581923 ]])"
      ]
     },
     "execution_count": 228,
     "metadata": {},
     "output_type": "execute_result"
    }
   ],
   "source": [
    "dot_prod = np.dot(matrx_1,matrx_2)\n",
    "dot_prod"
   ]
  },
  {
   "cell_type": "code",
   "execution_count": 233,
   "metadata": {},
   "outputs": [
    {
     "data": {
      "text/plain": [
       "array([[[ 0,  1,  2,  3],\n",
       "        [ 4,  5,  6,  7]],\n",
       "\n",
       "       [[ 8,  9, 10, 11],\n",
       "        [12, 13, 14, 15]]])"
      ]
     },
     "execution_count": 233,
     "metadata": {},
     "output_type": "execute_result"
    }
   ],
   "source": [
    "arr = np.arange(16).reshape((2,2,4))\n",
    "arr"
   ]
  },
  {
   "cell_type": "markdown",
   "metadata": {},
   "source": [
    "### Arrays Unification"
   ]
  },
  {
   "cell_type": "code",
   "execution_count": 22,
   "metadata": {},
   "outputs": [
    {
     "data": {
      "text/plain": [
       "array([[ 0,  1,  2,  3],\n",
       "       [ 4,  5,  6,  7],\n",
       "       [30, 31, 32, 33],\n",
       "       [34, 35, 36, 37]])"
      ]
     },
     "metadata": {},
     "output_type": "display_data"
    },
    {
     "data": {
      "text/plain": [
       "array([[ 0,  1,  2,  3, 30, 31, 32, 33],\n",
       "       [ 4,  5,  6,  7, 34, 35, 36, 37]])"
      ]
     },
     "metadata": {},
     "output_type": "display_data"
    },
    {
     "data": {
      "text/plain": [
       "array([[ 0,  1,  2,  3],\n",
       "       [ 4,  5,  6,  7],\n",
       "       [30, 31, 32, 33],\n",
       "       [34, 35, 36, 37]])"
      ]
     },
     "metadata": {},
     "output_type": "display_data"
    },
    {
     "data": {
      "text/plain": [
       "array([[ 0,  1,  2,  3, 30, 31, 32, 33],\n",
       "       [ 4,  5,  6,  7, 34, 35, 36, 37]])"
      ]
     },
     "metadata": {},
     "output_type": "display_data"
    },
    {
     "data": {
      "text/plain": [
       "array([[[ 0, 30],\n",
       "        [ 1, 31],\n",
       "        [ 2, 32],\n",
       "        [ 3, 33]],\n",
       "\n",
       "       [[ 4, 34],\n",
       "        [ 5, 35],\n",
       "        [ 6, 36],\n",
       "        [ 7, 37]]])"
      ]
     },
     "metadata": {},
     "output_type": "display_data"
    }
   ],
   "source": [
    "# Arrays Creation \n",
    "arr_1 = np.arange(8).reshape(2,4)\n",
    "arr_2 = np.arange(30,38).reshape(2,4)\n",
    "\n",
    "# Concatenate along rows (axis = 0)\n",
    "con_row_arr = np.concatenate([arr_1, arr_2])\n",
    "\n",
    "# Concatenate along columns (axis = 1)\n",
    "con_col_arr = np.concatenate([arr_1, arr_2],axis=1)\n",
    "\n",
    "# vstack\n",
    "v_stacked_arr = np.vstack([arr_1, arr_2])\n",
    "\n",
    "# hstack \n",
    "h_stacked_arr = np.hstack([arr_1, arr_2])\n",
    "\n",
    "# dstack\n",
    "d_stacked_arr = np.dstack([arr_1, arr_2])\n",
    "\n",
    "display(con_row_arr,con_col_arr,\n",
    "        v_stacked_arr,h_stacked_arr,d_stacked_arr)"
   ]
  },
  {
   "cell_type": "markdown",
   "metadata": {},
   "source": [
    "### Array Splitting "
   ]
  },
  {
   "cell_type": "code",
   "execution_count": 35,
   "metadata": {},
   "outputs": [
    {
     "name": "stdout",
     "output_type": "stream",
     "text": [
      "Upper array is:\n",
      " [[0 1 2 3]\n",
      " [4 5 6 7]]\n",
      " Lower array is:\n",
      " [[30 31 32 33]\n",
      " [34 35 36 37]]\n",
      "\n",
      "\n",
      "Upper array is:\n",
      " [[ 0  1]\n",
      " [ 4  5]\n",
      " [30 31]\n",
      " [34 35]]\n",
      " Lower array is:\n",
      " [[ 2  3]\n",
      " [ 6  7]\n",
      " [32 33]\n",
      " [36 37]]\n",
      "\n",
      "\n",
      "Left array is:\n",
      " [[0 1]\n",
      " [5 6]]\n",
      " Centred array is:\n",
      "[[2 3]\n",
      " [7 8]]\n",
      " Right array is:\n",
      "[[4]\n",
      " [9]]\n",
      "\n",
      "\n",
      "Inner array is:\n",
      " [[[0]\n",
      "  [1]\n",
      "  [2]\n",
      "  [3]]\n",
      "\n",
      " [[4]\n",
      "  [5]\n",
      "  [6]\n",
      "  [7]]]\n",
      " Outer array is:\n",
      " [[[30]\n",
      "  [31]\n",
      "  [32]\n",
      "  [33]]\n",
      "\n",
      " [[34]\n",
      "  [35]\n",
      "  [36]\n",
      "  [37]]]\n"
     ]
    }
   ],
   "source": [
    "# vsplit\n",
    "upper, lower = np.vsplit(v_stacked_arr,2)\n",
    "print(f'Upper array is:\\n {upper}\\n Lower array is:\\n {lower}')\n",
    "print('\\n')\n",
    "\n",
    "# hsplit\n",
    "left, right = np.hsplit(v_stacked_arr,2)\n",
    "print(f'Upper array is:\\n {left}\\n Lower array is:\\n {right}')\n",
    "print('\\n')\n",
    "\n",
    "# Can split not only by a number but by necessary sequence\n",
    "arr = np.arange(10).reshape(2,5)\n",
    "left, centred, right = np.hsplit(arr,[2,4])\n",
    "print(f'Left array is:\\n {left}\\n Centred array is:\\n{centred}\\n Right array is:\\n{right}')\n",
    "print('\\n')\n",
    "\n",
    "# dsplit \n",
    "inner, outer = np.dsplit(d_stacked_arr,2)\n",
    "print(f'Inner array is:\\n {inner}\\n Outer array is:\\n {outer}')"
   ]
  },
  {
   "cell_type": "code",
   "execution_count": 35,
   "metadata": {},
   "outputs": [
    {
     "data": {
      "text/plain": [
       "(3,)"
      ]
     },
     "metadata": {},
     "output_type": "display_data"
    },
    {
     "data": {
      "text/plain": [
       "(1, 3)"
      ]
     },
     "metadata": {},
     "output_type": "display_data"
    },
    {
     "data": {
      "text/plain": [
       "(1, 3)"
      ]
     },
     "metadata": {},
     "output_type": "display_data"
    },
    {
     "data": {
      "text/plain": [
       "(3, 1)"
      ]
     },
     "metadata": {},
     "output_type": "display_data"
    },
    {
     "data": {
      "text/plain": [
       "(3, 1)"
      ]
     },
     "metadata": {},
     "output_type": "display_data"
    }
   ],
   "source": [
    "# Create a row vector from an array using reshape\n",
    "arr = np.array([1,2,3])\n",
    "row_vec = arr.reshape(1,3)\n",
    "display(arr.shape,row_vec.shape)\n",
    "\n",
    "# Create a row vector from an array using new axis\n",
    "row_vec = arr[np.newaxis,:]\n",
    "display(row_vec.shape)\n",
    "\n",
    "# Create a column vector from an array \n",
    "col_vec = arr.reshape(3,1)\n",
    "display(col_vec.shape)\n",
    "\n",
    "# Create a column vector from an array  using new axis\n",
    "col_vec = arr[:,np.newaxis]\n",
    "display(col_vec.shape)"
   ]
  },
  {
   "cell_type": "markdown",
   "metadata": {},
   "source": [
    "### Ufunctions\n",
    "Binary functions"
   ]
  },
  {
   "cell_type": "code",
   "execution_count": 71,
   "metadata": {},
   "outputs": [
    {
     "name": "stdout",
     "output_type": "stream",
     "text": [
      "3628800\n",
      "[ 1  3  6 10 15 21 28 36 45 55]\n"
     ]
    },
    {
     "data": {
      "text/plain": [
       "55"
      ]
     },
     "metadata": {},
     "output_type": "display_data"
    },
    {
     "data": {
      "text/plain": [
       "3628800"
      ]
     },
     "metadata": {},
     "output_type": "display_data"
    },
    {
     "data": {
      "text/plain": [
       "array([ 1,  3,  6, 10, 15, 21, 28, 36, 45, 55], dtype=int32)"
      ]
     },
     "metadata": {},
     "output_type": "display_data"
    },
    {
     "data": {
      "text/plain": [
       "array([      1,       2,       6,      24,     120,     720,    5040,\n",
       "         40320,  362880, 3628800], dtype=int32)"
      ]
     },
     "metadata": {},
     "output_type": "display_data"
    }
   ],
   "source": [
    "# Reduce\n",
    "arr = np.arange(1,11)\n",
    "print(np.multiply.reduce(arr))\n",
    "\n",
    "# accumulate\n",
    "print(np.add.accumulate(arr))\n",
    "\n",
    "# sum, prod, cumsum, cumprod\n",
    "display(np.sum(arr),\n",
    "        np.prod(arr),\n",
    "        np.cumsum(arr),\n",
    "        np.cumproduct(arr))"
   ]
  },
  {
   "cell_type": "markdown",
   "metadata": {},
   "source": [
    "### Array broadcasting "
   ]
  },
  {
   "cell_type": "code",
   "execution_count": 107,
   "metadata": {},
   "outputs": [
    {
     "name": "stdout",
     "output_type": "stream",
     "text": [
      "First array shape: (4,)\n",
      "Second array shape:(4, 1)\n",
      "Broadcasting result:\n",
      "[[0 1 2 3]\n",
      " [1 2 3 4]\n",
      " [2 3 4 5]\n",
      " [3 4 5 6]]\n",
      "Final Shape:(4, 4)\n"
     ]
    }
   ],
   "source": [
    "arr_1 = np.arange(4)\n",
    "arr_2 = np.arange(4)[:,np.newaxis]\n",
    "brdcs_arr = arr_1 + arr_2\n",
    "print(f'First array shape: {arr_1.shape}\\nSecond array shape:{arr_2.shape}'+'\\n'+\n",
    "      f'Broadcasting result:\\n{brdcs_arr}\\nFinal Shape:{brdcs_arr.shape}')"
   ]
  },
  {
   "cell_type": "markdown",
   "metadata": {},
   "source": [
    "### Fancy Indexing\n",
    "1D"
   ]
  },
  {
   "cell_type": "code",
   "execution_count": 97,
   "metadata": {},
   "outputs": [
    {
     "data": {
      "text/plain": [
       "array([48, 68, 59, 27])"
      ]
     },
     "metadata": {},
     "output_type": "display_data"
    },
    {
     "data": {
      "text/plain": [
       "array([[ 2, 27],\n",
       "       [68, 28],\n",
       "       [68,  2]])"
      ]
     },
     "metadata": {},
     "output_type": "display_data"
    }
   ],
   "source": [
    "arr = np.random.randint(0,101,10)\n",
    "\n",
    "indx_1 = [5,4,0,1] # the first shape\n",
    "indx_2 = np.random.randint(0,6,(3,2)) # the second shape\n",
    "\n",
    "display(arr[indx_1],arr[indx_2])"
   ]
  },
  {
   "cell_type": "markdown",
   "metadata": {},
   "source": [
    "2D"
   ]
  },
  {
   "cell_type": "code",
   "execution_count": 100,
   "metadata": {},
   "outputs": [
    {
     "data": {
      "text/plain": [
       "array([19, 82, 14, 15, 30])"
      ]
     },
     "metadata": {},
     "output_type": "display_data"
    },
    {
     "data": {
      "text/plain": [
       "array([[19,  5, 15],\n",
       "       [15, 15, 82],\n",
       "       [65, 15, 19]])"
      ]
     },
     "metadata": {},
     "output_type": "display_data"
    }
   ],
   "source": [
    "arr = np.random.randint(0,101,(3,4))\n",
    "# The first shape\n",
    "rows_1 = [0,2,1,2,0]\n",
    "cols_1 = [1,3,2,1,3]\n",
    "# The second shape\n",
    "rows_2 = np.random.randint(0,3,(3,3))\n",
    "cols_2 = np.random.randint(0,4,(3,3))\n",
    "display(arr[rows_1,cols_1],arr[rows_2,cols_2])"
   ]
  },
  {
   "cell_type": "markdown",
   "metadata": {},
   "source": [
    "Combination of Fancy Indexing and Ordinary Indexing"
   ]
  },
  {
   "cell_type": "code",
   "execution_count": 103,
   "metadata": {},
   "outputs": [
    {
     "data": {
      "text/plain": [
       "array([[47, 19, 14, 30],\n",
       "       [43, 15, 14,  5],\n",
       "       [65, 15, 22, 82]])"
      ]
     },
     "metadata": {},
     "output_type": "display_data"
    },
    {
     "data": {
      "text/plain": [
       "array([65, 22])"
      ]
     },
     "metadata": {},
     "output_type": "display_data"
    }
   ],
   "source": [
    "indx = 2\n",
    "arr_indx = [0,2]\n",
    "display(arr,arr[2,arr_indx])"
   ]
  },
  {
   "cell_type": "code",
   "execution_count": 109,
   "metadata": {},
   "outputs": [],
   "source": [
    "x = np.random.rand(100)\n",
    "\n",
    "bins = np.linspace(-5,5,20)\n",
    "counts = np.zeros_like(bins)\n",
    "\n",
    "i = np.searchsorted(bins,x)"
   ]
  },
  {
   "cell_type": "markdown",
   "metadata": {},
   "source": [
    "### Array Sorting "
   ]
  },
  {
   "cell_type": "code",
   "execution_count": 133,
   "metadata": {},
   "outputs": [
    {
     "data": {
      "text/plain": [
       "array([0, 1, 2, 3, 4, 5, 6, 7, 8, 9])"
      ]
     },
     "metadata": {},
     "output_type": "display_data"
    },
    {
     "data": {
      "text/plain": [
       "5"
      ]
     },
     "metadata": {},
     "output_type": "display_data"
    },
    {
     "data": {
      "text/plain": [
       "array([4, 1, 9], dtype=int64)"
      ]
     },
     "metadata": {},
     "output_type": "display_data"
    }
   ],
   "source": [
    "# np.searchsorted()\n",
    "arr = np.arange(10)\n",
    "\n",
    "# what will be the index if i want to insert a value and preserve the array order?\n",
    "indx = np.searchsorted(arr,5,side='left')\n",
    "\n",
    "# in case of several values\n",
    "indxs = np.searchsorted(arr,[4,1,9],side='left')\n",
    "display(arr,indx,indxs)"
   ]
  },
  {
   "cell_type": "markdown",
   "metadata": {},
   "source": [
    "Insertion Sort (Complexity N^2)"
   ]
  },
  {
   "cell_type": "code",
   "execution_count": 155,
   "metadata": {},
   "outputs": [
    {
     "name": "stdout",
     "output_type": "stream",
     "text": [
      "[51 67 46 42 43 43 52 62 45 53]\n"
     ]
    },
    {
     "data": {
      "text/plain": [
       "array([42, 43, 43, 45, 46, 51, 52, 53, 62, 67])"
      ]
     },
     "execution_count": 155,
     "metadata": {},
     "output_type": "execute_result"
    }
   ],
   "source": [
    "# np.argmin()\n",
    "np.random.seed(12)\n",
    "arr = np.random.randint(40,77,10)\n",
    "print(arr)\n",
    "\n",
    "def inser_sort(arr):\n",
    "    for i in range(len(arr)):\n",
    "        swap_elem = i + np.argmin(arr[i:])\n",
    "        arr[i],arr[swap_elem] = arr[swap_elem], arr[i]\n",
    "    return arr\n",
    "\n",
    "inser_sort(arr)"
   ]
  },
  {
   "cell_type": "markdown",
   "metadata": {},
   "source": [
    "Random Sorting ( Complexity N*N!) almost not used"
   ]
  },
  {
   "cell_type": "code",
   "execution_count": 176,
   "metadata": {},
   "outputs": [
    {
     "data": {
      "text/plain": [
       "[2, 5, 10, 23, 12]"
      ]
     },
     "execution_count": 176,
     "metadata": {},
     "output_type": "execute_result"
    }
   ],
   "source": [
    "def bogosort(arr):\n",
    "    while np.any(arr[:-1] > arr[1:]):\n",
    "        np.random.shuffle(arr)\n",
    "    return arr\n",
    "arr = [2,5,10,23,12]\n",
    "bogosort(arr)"
   ]
  },
  {
   "cell_type": "code",
   "execution_count": 207,
   "metadata": {},
   "outputs": [
    {
     "name": "stdout",
     "output_type": "stream",
     "text": [
      "Original array:\n",
      " [[51 67 46 89]\n",
      " [42 43 43 52]\n",
      " [88 62 89 92]\n",
      " [45 53 65 74]]\n",
      "Sorted by columns:\n",
      " [[42 43 43 52]\n",
      " [45 53 46 74]\n",
      " [51 62 65 89]\n",
      " [88 67 89 92]]\n",
      "Sorted by rows:\n",
      " [[46 51 67 89]\n",
      " [42 43 43 52]\n",
      " [62 88 89 92]\n",
      " [45 53 65 74]]\n",
      "Sorted array indexes by columns:\n",
      " [[1 1 1 1]\n",
      " [3 3 0 3]\n",
      " [0 2 3 0]\n",
      " [2 0 2 2]]\n",
      "Sorted array indexes by rows:\n",
      " [[2 0 1 3]\n",
      " [0 1 2 3]\n",
      " [1 0 2 3]\n",
      " [0 1 2 3]]\n",
      "\n",
      "\n",
      "1D Array is:\n",
      " [11 10  0 21  8 12 13 18  3]\n",
      "Partitioned 1D Array is:\n",
      " [ 0  3  8 10 11 12 13 18 21]\n",
      "\n",
      "\n",
      "2D Array is:\n",
      " [[ 62 100  35  33  30]\n",
      " [ 63  96  18  86  50]\n",
      " [ 80  84   6  73  45]\n",
      " [ 30  32  27  59  89]]\n",
      "Partitioned 2D Array is:\n",
      " [[ 30  33  35 100  62]\n",
      " [ 18  50  63  86  96]\n",
      " [  6  45  73  80  84]\n",
      " [ 27  30  32  59  89]]\n"
     ]
    }
   ],
   "source": [
    "np.random.seed(12)\n",
    "arr = np.random.randint(40,99,(4,4))\n",
    "print('Original array:\\n', arr)\n",
    "\n",
    "# np.sort()\n",
    "print('Sorted by columns:\\n',np.sort(arr,axis=0))\n",
    "print('Sorted by rows:\\n',np.sort(arr,axis=1))\n",
    "\n",
    "# np.argsort()\n",
    "print('Sorted array indexes by columns:\\n', np.argsort(arr,axis=0))\n",
    "print('Sorted array indexes by rows:\\n',np.argsort(arr,axis=1))\n",
    "print('\\n')\n",
    "\n",
    "# np.partition()\n",
    "\n",
    "# Simple 1D Array \n",
    "arr_1d = np.random.randint(0,22,9)\n",
    "print('1D Array is:\\n',arr_1d)\n",
    "print('Partitioned 1D Array is:\\n',np.partition(arr_1d,4))\n",
    "print('\\n')\n",
    "\n",
    "# 2D Array\n",
    "arr_2d = np.random.randint(0,101,(4,5))\n",
    "print('2D Array is:\\n',arr_2d)\n",
    "print('Partitioned 2D Array is:\\n',np.partition(arr_2d,2,axis=1))"
   ]
  }
 ],
 "metadata": {
  "kernelspec": {
   "display_name": "Python 3",
   "language": "python",
   "name": "python3"
  },
  "language_info": {
   "codemirror_mode": {
    "name": "ipython",
    "version": 3
   },
   "file_extension": ".py",
   "mimetype": "text/x-python",
   "name": "python",
   "nbconvert_exporter": "python",
   "pygments_lexer": "ipython3",
   "version": "3.6.1"
  }
 },
 "nbformat": 4,
 "nbformat_minor": 2
}
