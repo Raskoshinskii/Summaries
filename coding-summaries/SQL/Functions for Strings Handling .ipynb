{
 "cells": [
  {
   "cell_type": "markdown",
   "metadata": {},
   "source": [
    "### Working With Strings in PostgreSQL\n",
    "\n",
    "### String Concatnation\n",
    "```Concatenation Operator ||```\n",
    "\n",
    "``` SELECT 'my_name' || ' ' || 'my_surname' as concatenated_string;``` - custom **string concatenation**\n",
    "<br>\n",
    "``` SELECT <col_name> || ' ' || <col_name> as my_string;``` - **columns concatenation**\n",
    "<br>\n",
    "``` SELECT <col_name> || NULL as res_str;``` - the result will be ```NULL``` \n",
    "\n",
    "### CONCAT\n",
    "This function accepts a list of arguments that must have the follofing formats (**char, varchar, or text**). **It ignores NULL values**\n",
    "\n",
    "```CONCAT(str_1, str_2, ...);```\n",
    "\n",
    "\n",
    "### CONCAT_WS\n",
    "Stands for **WITH SEPARATOR**. The same as CONCAT.\n",
    "```CONCAT(separator, str_1, str_2, ...);```\n",
    "\n",
    "- More info: https://www.postgresqltutorial.com/postgresql-concat-function/"
   ]
  },
  {
   "cell_type": "markdown",
   "metadata": {},
   "source": [
    "### Letter Case in Strings\n",
    "- ```LOWER(string)``` - converts to lower case format\n",
    "- ```UPPER(string)``` - converts to upper case format\n",
    "- ```INITCAP(string)``` - capitalizes text"
   ]
  },
  {
   "cell_type": "markdown",
   "metadata": {},
   "source": [
    "### Substring Extraction\n",
    "### LEFT\n",
    "It returns the first n characters in a string. If ```n``` is **negative**, all character **except** the last ```n``` characters will be returned.\n",
    "\n",
    "```LEFT(str, n)``` (e.g. ```LEFT('ABC', 1) -> 'A'```)\n",
    "- More info: https://www.postgresqltutorial.com/postgresql-left/\n",
    "\n",
    "### Right\n",
    "It returns the last ```n``` characters in a string. If ```n``` is **negative**, all characters **except** the first ```n``` characters will be returned.\n",
    "\n",
    "```RIGHT(str, n)``` (e.g. ```RIGHT('Hello`, 2) -> 'lo'```)\n",
    "- More info: https://www.postgresqltutorial.com/postgresql-right/\n",
    "\n",
    "### SUBSTRING\n",
    "Extracts substring. There are several options of this function\n",
    "\n",
    "```SUBSTRING(string, start_position, length)``` - extracts a substring from **start_idx** according to provided **length**\n",
    "- ```SUBSTRING(string, from start_position for length)``` \n",
    "\n",
    "Regular Expressions can be provided as well:\n",
    "- ```SUBSTRING(string, FROM pattern)```\n",
    "- ```SUBSTRING(string, pattern)```\n",
    "<br><br>\n",
    "- More info: https://www.postgresqltutorial.com/postgresql-substring/"
   ]
  },
  {
   "cell_type": "markdown",
   "metadata": {},
   "source": [
    "### String Splitting\n",
    "### SPLIT_PART\n",
    "Splits a string on a specified delimiter and returns the nth substring.\n",
    "\n",
    "```SPLIT_PART(string, delimiter, position)```\n",
    "- More info: https://www.postgresqltutorial.com/postgresql-split_part/"
   ]
  },
  {
   "cell_type": "markdown",
   "metadata": {},
   "source": [
    "### Substring Index\n",
    "### POSITION\n",
    "Returns the **first** index of a substring in a string. It's **case-sensitive**\n",
    "```POSITION(substring in string)```\n",
    "- More info: https://www.postgresqltutorial.com/postgresql-position/"
   ]
  },
  {
   "cell_type": "markdown",
   "metadata": {},
   "source": [
    "### Adding New Symbols in a String \n",
    "### LPAD\n",
    "Pads a string on the left to a specified length with a sequence of characters.\n",
    "```LPAD(string, length, symbol)```\n",
    "- More info: https://www.postgresqltutorial.com/postgresql-lpad/\n",
    "\n",
    "### RPAD\n",
    "Similar to ```LPAD``` but pads from the right"
   ]
  },
  {
   "cell_type": "markdown",
   "metadata": {},
   "source": [
    "### String Trimming and Replacing\n",
    "### TRIM \n",
    "Removes the longest string that contains spaces or a particular character from a string. The following options of ```trim``` function can be used:\n",
    "- ```LTRIM(string, character)``` -  removes all characters, spaces by default, from the beginning of a string.\n",
    "- ```RTRIM(string, character)``` -  removes all characters, spaces by default, from the end of a string.\n",
    "- ```BTRIM(string, character)``` -   is the combination of the ```LTRIM()``` and ```RTRIM()``` functions.\n",
    "- ```TRIM([LEADING | TRAILING | BOTH] [characters] FROM string)``` - ordinary usage \n",
    "<br><br>\n",
    "- More info: https://www.postgresqltutorial.com/postgresql-trim-function/\n",
    "\n",
    "### REPLACE\n",
    "Searches and replaces a substring with a new substring in a string. If the ```old_text``` appears multiple times in the string, all of its occurrences will be replaced.\n",
    "\n",
    "```REPLACE(string, old_text, new_text)```\n",
    "\n",
    "### REGEXP_REPLACE\n",
    "Allows replacing substrings that match a regular expression.\n",
    "\n",
    "```REGEXP_REPLACE(source, pattern, new_text [,flags])```\n",
    "\n",
    "### TRANSLATE\n",
    "Given a set of characters, the ```TRANSLATE()``` function replaces any characters in the source string that match the set with the characters in the new_set.\n",
    "\n",
    "```TRANSLATE(source, set, new_set)```\n",
    "\n",
    "- More info: https://www.postgresqltutorial.com/postgresql-replace/"
   ]
  }
 ],
 "metadata": {
  "kernelspec": {
   "display_name": "Python 3",
   "language": "python",
   "name": "python3"
  },
  "language_info": {
   "codemirror_mode": {
    "name": "ipython",
    "version": 3
   },
   "file_extension": ".py",
   "mimetype": "text/x-python",
   "name": "python",
   "nbconvert_exporter": "python",
   "pygments_lexer": "ipython3",
   "version": "3.7.9"
  }
 },
 "nbformat": 4,
 "nbformat_minor": 4
}
