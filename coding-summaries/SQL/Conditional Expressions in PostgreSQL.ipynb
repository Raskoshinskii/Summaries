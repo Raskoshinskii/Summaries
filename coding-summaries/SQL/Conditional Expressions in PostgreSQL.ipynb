{
 "cells": [
  {
   "cell_type": "markdown",
   "metadata": {},
   "source": [
    "### Conditional Expressions in PostgreSQL\n",
    "### CASE\n",
    "The PostgreSQL ```CASE``` expression is the same as ```IF/ELSE``` statement in other programming languages. It allows you to add if-else logic to the query to form a powerful query.\n",
    "\n",
    "```CASE``` is an expression, thus it can be used in any places where an expression can be used:\n",
    "- ```SELECT```\n",
    "- ```WHERE```\n",
    "- ```GROUP BY```\n",
    "- ```HAVING```\n",
    "- ```AGGREG FUNC```\n",
    "\n",
    "**Example**\n",
    "```\n",
    "CASE\n",
    "    WHEN cond_1 THEN res_1\n",
    "    WHEN cond_2 THEN res_2\n",
    "ELSE\n",
    "    else_result\n",
    "END as <alias>\n",
    "```\n",
    "\n",
    "- More info: https://www.postgresqltutorial.com/postgresql-case/\n",
    "\n",
    "### COALESCE\n",
    "It returns the first **non-null argument. It accepts an unlimited number of arguments**. It's commonly used to substitute a null value.\n",
    "\n",
    "```COALESCE (arg_1, arg_2, ...);```\n",
    "- More info: https://www.postgresqltutorial.com/postgresql-coalesce/\n",
    "\n",
    "### NULLIF\n",
    "It returns a **null value** if ```arg_1``` equals to ```arg_2```, otherwise it returns ```arg_1```.\n",
    "\n",
    "```NULLIF (arg_1, arg_2);```\n",
    "\n",
    "- More info: https://www.postgresqltutorial.com/postgresql-nullif/"
   ]
  }
 ],
 "metadata": {
  "kernelspec": {
   "display_name": "Python 3",
   "language": "python",
   "name": "python3"
  },
  "language_info": {
   "codemirror_mode": {
    "name": "ipython",
    "version": 3
   },
   "file_extension": ".py",
   "mimetype": "text/x-python",
   "name": "python",
   "nbconvert_exporter": "python",
   "pygments_lexer": "ipython3",
   "version": "3.7.9"
  }
 },
 "nbformat": 4,
 "nbformat_minor": 4
}
