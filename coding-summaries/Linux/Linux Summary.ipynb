{
 "cells": [
  {
   "cell_type": "markdown",
   "metadata": {},
   "source": [
    "### Linux Summary \n",
    "\n",
    "All commands in Linux are executed using a **bash** terminal. Before typing any command you will see the following line. For example:```vlad@MyLinux:~$```.\n",
    "\n",
    "This command can be interpreted in this way: ```user_name@server_name:~$```\n",
    "- ```~``` says that we are in **home directory**\n",
    "- ```$``` says that not root user is used\n",
    "- ```#``` appears instead of ```$``` when **root** user is used\n",
    "\n",
    "Not all commands can be executed. Some commands that are connected with system files usually require administrator rights in Linux it's ```sudo``` keyword.```sudo``` stands for **substitute user and do or superuser do.** \n",
    "\n",
    "### General Commands \n",
    "- ```uptime```- shows **current time, up time, number of users, computer load**\n",
    "- ```uname``` - shows the system name \n",
    "- ```lscpu``` - shows info about the CPU\n",
    "- ```ls``` - shows files and directories in current directory (```-a``` flag shows hidden files and folders)\n",
    "- ```ls -l``` - the same as previos command. It has long format\n",
    "- ```echo some_text``` - just prints a text \n",
    "- ```man -k command_word``` - finds all commands that have a provided word (```man: manual, k: keyword```)\n",
    "- ```locate command or file_name``` - retunrs where a command or a file located is\n",
    "- ```ps```- returns current processes\n",
    "- ```fg``` - returns in **foreground mode**\n",
    "- ```wc file_name``` - returns info about number of words in a file\n",
    "- ```sort file_name``` - sorts a file (it doesn't change the file!)\n",
    "- ```cut -d \"symbol\" -f number file_name``` - cuts a text file according to a provided delimeter\n",
    "- ```command 1 | command 2 | ... ``` - commands can be united using ```|``` symbol\n",
    "\n",
    "### Getting Info Commands\n",
    "- ```info command``` - returns info about a command\n",
    "- ```whatis command``` - returns short description about a command\n",
    "- ```whereis command or file_name``` - retunrs where a command is located"
   ]
  },
  {
   "cell_type": "markdown",
   "metadata": {},
   "source": [
    "### Directory Tree in Linux\n",
    "<br>\n",
    "<img src=\"img/linux-directory-structure.png\" alt=\"drawing\" width=\"500\"/>\n",
    "<br>\n",
    "The directory tree in Linux can be described like in the picture above\n",
    "\n",
    "- ```root or /``` - the main directory from which all other directories start\n",
    "- ```bin/``` - contains the executable programs (executable binaries) for providing minimal functionality (e.g. system booting and reparing)\n",
    "- ```dev/``` - a file system for devices (e.g. a keyboard, mouse, hdd, ssd ...) all hardware devices attached to a machine\n",
    "- ```etc/``` - contains all configuration files (etcetera folder)\n",
    "- ```usr/``` - contains all the user binaries, their documentation, libraries, header files, etc\n",
    "- ```home/``` - contains files for a given user of the system\n",
    "- ```lib/``` - a **library files directory** which contains all helpful library files used by the system, apps and processes\n",
    "- ```sbin/``` - contains executables for system maintenance and/or administrative tasks (can be executed by the root user)\n",
    "- ```temp/``` - puts files for a temporary time (contnet automatically removed on reboot in most Debian based OS)\n",
    "- ```var/``` - contains things that are prone to change, such as websites, temporary files (/var/tmp) and databases (variable)\n",
    "\n",
    "The following path can be defined in Linux:\n",
    "- **Absolute:** starts from forward slash ```/../```\n",
    "- **Relative:** starts from dir name ```a/b/```"
   ]
  },
  {
   "cell_type": "markdown",
   "metadata": {},
   "source": [
    "### Commands For Working With Directories\n",
    "- ```cd /``` - returns into the root directory\n",
    "- ```.``` - means the current directory\n",
    "- ```..``` - means the previous directory\n",
    "- ```cd dir_name or path``` - sets a provided directory as current\n",
    "- ```pwd``` - prints current working directory\n",
    "- ```cd ../..``` - comes back on two directories \n",
    "- ```cd ~``` - returns into the home directory"
   ]
  },
  {
   "cell_type": "markdown",
   "metadata": {},
   "source": [
    "### Commands For Working With Files and Directories\n",
    "### Files Reading\n",
    "- ```cat file_name``` - prints file content (stands for **catenate**)\n",
    "- ```more file_name``` - prints file content (viewer)\n",
    "- ```less file_name``` - prints file content (viewer)\n",
    "\n",
    "### Files and Directories Creation\n",
    "- ```touch file_name``` - creates an empty file\n",
    "- ```echo > file_name``` - creates a file with an empty string\n",
    "- ```mkdir dir_name``` - creates a directory\n",
    "- ```mkdir existing_dir_name new_dir``` - creates a new directory in an existing directory\n",
    "- ```mkdir -p x/y/z``` - allows creating directory trees\n",
    "\n",
    "### Files and Directories Copying\n",
    "- ```cp file_name destination``` - copies a file into a provided path\n",
    "- ```cp file_name? -v destination``` - ? means any symbol but **only one** (e.g. ```cp my_file?.txt -v temp```) \n",
    "- ```cp -R dir_name destination``` - copies a directory into another one\n",
    "\n",
    "### Files and Directories Removing\n",
    "- ```rm file_name``` - removes a certain file\n",
    "- ```rm destination file_name``` - removes a certain file in a certain directory \n",
    "- ```rmdir dir_name``` - removes a directory (only an empty directory will be removed)\n",
    "- ```rm -R dir_name``` - removes a directory \n",
    "\n",
    "### Files and Directories Renaming\n",
    "- ```mv old_file_name new_file_name``` - renames a file using ```mv``` command\n",
    "- ```mv old_dir_name new_dir_name``` - renames a directory\n",
    "\n",
    "\n",
    "### Files and Directories Moving\n",
    "- ```mv file_name/dir_name destination``` - moves a file into a provided directory\n",
    "\n",
    "### Files Searching\n",
    "- ```find path -name \"file_name\"``` - searches certain files in a certain directory\n",
    "- ```find . -type f -iname \"*.php\"``` - find is case sensitive\n",
    "\n",
    "### Files Editing\n",
    "- ```gedit file_name``` - opens a file in a text editor\n",
    "- ```nano file_name``` - opens a file using nano text editor\n",
    "- ```pico file_name``` - the same as nano\n",
    "- ```vim file_name``` - opens a file using vim"
   ]
  },
  {
   "cell_type": "markdown",
   "metadata": {},
   "source": [
    "### Input/Output Redirection\n",
    "There are several options:\n",
    "1. Rewrites original file or creates if a file doesn't exist: ```command_1 > file_name``` (e.g. sort names.txt > names.txt)\n",
    "2. Appends new info in a file: ```command_1 >> file_name``` (e.g. sort numbers.txt >> names.txt)"
   ]
  },
  {
   "cell_type": "markdown",
   "metadata": {},
   "source": [
    "### Text Searching in Files (Grep function)\n",
    "This command searches a certain text in files\n",
    "- ```grep string path_to_search or file_name``` - searches a certain word in a path (e.g. ```grep linux ./*```)\n",
    "- ```grep string -i path_to_search or file_name``` - ```-i``` means case insensitive\n",
    "- ```grep -E \"reg_exp\" path_to_search or file_name``` - searches a pattern string using a reg_exp\n",
    "\n",
    "### Combination of Grep and Find \n",
    "- ```find . -type f -iname \"*.php\" -exec grep -i -n \"function\"```"
   ]
  },
  {
   "cell_type": "markdown",
   "metadata": {},
   "source": [
    "### Archives in Linux (Files and Directories)\n",
    "- ```tar cf arc_name file or dir names``` - archives file/files/directory or directories\n",
    "- ```tar tf arc_name``` - returns the content of an archive\n",
    "- ```tar xf arc_name``` - extracts an archive\n",
    "- ```zip -r arc_name file or dir names``` - uses zip archives\n",
    "- ```unzip arc_name``` - unzips an archive\n",
    "\n",
    "### Files Compression and Unconpression\n",
    "For files compression the following commands are used: ```gzip bzip2 xz```. This command can be applied **only on files**\n",
    "\n",
    "For files uncompression the following commands are used: ```gunzip bunzip2 unxz```\n",
    "\n",
    "**Important**\n",
    "- ```f letter``` - always must be in the end\n",
    "- ```c letter``` - stands for create\n",
    "- ```x letter``` - stands for extract"
   ]
  },
  {
   "cell_type": "markdown",
   "metadata": {},
   "source": [
    "### Directories and  Files Permissions\n",
    "All files and directories have permissions. For example, a file created with ```sudo``` command can be changed only by ```root``` user. To be able to change this file from other users, permission of the file must be changes. To view a file permission use:\n",
    "- ```ls -l``` - lists all files and directories in a long format\n",
    "\n",
    "A file or a directory have the following permission structure:\n",
    "<br>\n",
    "<img src=\"img/perm_types.png\" alt=\"drawing\" width=\"500\"/>\n",
    "<br>\n",
    "\n",
    "\n",
    "To **change a file/directory** permission use: ```chmod```\n",
    "\n",
    "To **change an owner of a file/directory** use: ```chown``` \n",
    "<br>\n",
    "<img src=\"img/perm.png\" alt=\"drawing\" width=\"500\"/>\n",
    "<br>\n"
   ]
  },
  {
   "cell_type": "markdown",
   "metadata": {},
   "source": [
    "### Commands for working with users\n",
    "- ```whoami``` - returns the current user name\n",
    "- ```su user_name``` - switches a user\n",
    "- ```id``` - returns all ids for the current user\n",
    "- ```id user_name``` - returns all ids for another user\n",
    "- ```last``` - who logged-in lately\n",
    "- ```who``` - who loggedin\n",
    "- ```w``` - returns info about what logged in user are doing\n",
    "\n",
    "**New User/Group Creation/Deletion**\n",
    "A new user can be created only using a user with admin rights\n",
    "- ```sudo useradd -m user_name``` - creates a user \n",
    "- ```sudo passwd user_name``` - creates a password for a user\n",
    "- ```sudo userdel -r user_name``` - deletes a user and all its files\n",
    "- ```sudo groupadd group_name``` - creates a group\n",
    "- ```sudo groupdel group_name``` - deletes a group\n",
    "- ```sudo usermod -aG group_name``` - adds a user into a group\n",
    "- ```sudo deluser user_name group_name``` - deletes a user from a group\n",
    "\n",
    "**Changing owners/groups of files/directories**\n",
    "- ```sudo chown curr_usr:new_usr file_name``` - changes an owner of a file\n",
    "- ```sudo chown -R usr_name:usr_name path``` - changes an owner of all files in a directory\n",
    "- ```sudo chown user_name file_name or dir_name``` - changes an owner of a file or a directory\n",
    "- ```sudo chgrp group_name file_name or dir_name``` - changes a group  of a file of a directory\n",
    "\n",
    "**Changing permissions of files**\n",
    "All files have 3 rights group: ```user - u, group - g and others - o```\n",
    "\n",
    "Also, the following rights can be given:\n",
    "- ```x``` - execute (files creation and deletion)\n",
    "- ```w``` - write\n",
    "- ```r``` - read\n",
    "- ```t``` - operations can be executed only by permitted users\n",
    "\n",
    "**Examples**\n",
    "- ```chmod o+x file_name``` - gives the group others only execute rights \n",
    "- ```chmod g-w file_name``` - gives the group group only write rights\n",
    "- ```chmod ugo=r``` - gives all three groups only read rights"
   ]
  },
  {
   "cell_type": "markdown",
   "metadata": {},
   "source": [
    "### Advanced Packaging Tool or apt\n",
    "```apt``` is just a package manager for Linux. It is responsible for packages **installing, updating, deleting and searching.** This package manager is used in **Ubuntu and Debian distributives.** Distinguish the following commands ```apt-get``` and ```apt```. List of all repositories is stored in: ```/etc/apt/sources.list```. All apt commands must be run using ```sudo```. This package manager works only with ```.deb``` file extensions\n",
    "\n",
    "### Difference between apt and apt-get\n",
    "```apt``` appeared as an alternative to ```apt-get```. It has the same functionality as ```apt-get``` and it's much easier to work with ```apt``` However, ```apt-get``` is more flexible as it has aditional commands.\n",
    "\n",
    "### Commands\n",
    "- ```sudo apt {action} {packages} {additional params}``` - the main syntaxis of ```apt``` command \n",
    "- ```sudo apt update``` - updates list of packages (knows that new packages updates are available)\n",
    "- ```sudo apt upgrade``` - only updates packages to new versions. It neither deletes nor installs other packages\n",
    "- ```sudo apt full-upgrade``` - updates packages as well as deletes and installs new ones\n",
    "\n",
    "#### Package Installation\n",
    "- ```sudo apt install {pkg_name}``` - installs a package\n",
    "- ```sudo apt install {pkg_name_1} {pkg_name_2} ... {pkg_name_n}``` - installs several packages\n",
    "- ```sudo apt install {pkg_name}={version}``` - installs a certain package version\n",
    "- ```sudo dpkg -i path``` - unpakcs and installs downloaded ```.deb``` files\n",
    "\n",
    "#### Package Deletion\n",
    "- ```sudo apt remove {pkg_name}``` - removes a package\n",
    "- ```sudo apt purge {pkg_name}``` - removes a package and its configuration\n",
    "- ```sudo apt autoremove``` - removes all package dependencies \n",
    "\n",
    "#### Packages List\n",
    "- ```apt list--{condition}``` - list packages according to a certain condition\n",
    "- ```apt list--installed``` - lists only installed packages\n",
    "- ```apt list--upgradable``` - lists packages that requires updates\n",
    "- ```apt list--all-versions``` - lists packages available for the current system\n",
    "\n",
    "#### Packages Searching \n",
    "- ```apt search {word}``` - searches a package according to a provided word\n",
    "- ```apt search--names-only {word}``` - searches by names of a package\n",
    "- ```apt show {pkg_name}``` - returns info about a package (version, size, dependencies and so on)\n"
   ]
  },
  {
   "cell_type": "markdown",
   "metadata": {},
   "source": [
    "### Symbolic Links\n",
    "It's a file that using as a link a certain place (e.g. dir or file). To create a symbolic link use:\n",
    "- ```ls -s absolute_path_destination link_path_location``` - creates a symbolic link for a file or a directory\n"
   ]
  },
  {
   "cell_type": "markdown",
   "metadata": {},
   "source": [
    "### Processes, Memory and the System\n",
    "- ```top``` - invokes Linux task manager\n",
    "- ```free -h``` - returns info about RAM\n",
    "- ```ps``` - returns current processes\n",
    "- ```ps -u username``` - return processes of a user\n",
    "- ```sudo reboot now``` - reboots the system \n",
    "- ```sudo shutdown now``` - shutdowns the system"
   ]
  },
  {
   "cell_type": "markdown",
   "metadata": {},
   "source": [
    "### Net commands \n",
    "- ```ifconfig``` - info about Networking\n",
    "- ```ip addr show``` - shows IP address\n",
    "- ```route``` - shows packages routes\n",
    "- ```ssh server_name``` - connects to a server"
   ]
  },
  {
   "cell_type": "markdown",
   "metadata": {},
   "source": [
    "### Scripts\n",
    "All scripts in Linux has **sh extension**. To be able to run a script it must have a privilage:```x```:\n",
    "- ```chmod a+x my_script.sh```\n",
    "\n",
    "Example of a script file:"
   ]
  },
  {
   "cell_type": "raw",
   "metadata": {},
   "source": [
    "The first row always must be like below\n",
    "#! /bin/bash \n",
    "Then an ordinary linux command can be defined here\n",
    "commands...\n",
    "\n",
    "Variables in a script must be defines without spaces:\n",
    "my_pc='user_pc'\n",
    "\n",
    "A script result can be saved into a variable:\n",
    "myOS=`command`"
   ]
  },
  {
   "cell_type": "markdown",
   "metadata": {},
   "source": [
    "In order to use variables use:\n",
    "- ```$0, $1...$n```"
   ]
  },
  {
   "cell_type": "markdown",
   "metadata": {},
   "source": [
    "### If statement"
   ]
  },
  {
   "cell_type": "raw",
   "metadata": {},
   "source": [
    "if [condition]; then\n",
    "    command\n",
    "elif [condition]; then\n",
    "    command\n",
    "else\n",
    "    command\n",
    "fi # means end of if statement  "
   ]
  },
  {
   "cell_type": "markdown",
   "metadata": {},
   "source": [
    "### Case command"
   ]
  },
  {
   "cell_type": "raw",
   "metadata": {},
   "source": [
    "case variable in\n",
    "    value) command;;\n",
    "    value) command;;\n",
    "    ....\n",
    "esac # means end of case command"
   ]
  },
  {
   "cell_type": "markdown",
   "metadata": {},
   "source": [
    "### Read command"
   ]
  },
  {
   "cell_type": "raw",
   "metadata": {},
   "source": [
    "read -p \"Enter a value here:\" variable # saves typed value into a variable"
   ]
  },
  {
   "cell_type": "markdown",
   "metadata": {},
   "source": [
    "### While and For Cycles"
   ]
  },
  {
   "cell_type": "raw",
   "metadata": {},
   "source": [
    "# while example\n",
    "\n",
    "COUNTER=0\n",
    "\n",
    "while [ $COUNTER -lt 10 ]; do\n",
    "    command\n",
    "    COUNTER=$(($COUNTER+1)) # or let COUNTER=COUNTER+1 or let COUNTER+=1\n",
    "done #ends the while cycle\n",
    "\n",
    "# for example\n",
    "\n",
    "for myfile in `command`; do\n",
    "    command\n",
    "done\n",
    "\n",
    "for x in {1..10}; do\n",
    "    command \n",
    "done  \n",
    "\n",
    "for (( i=1; i<=10; i++ )); do\n",
    "    command\n",
    "done "
   ]
  },
  {
   "cell_type": "markdown",
   "metadata": {},
   "source": [
    "### Functions \n"
   ]
  },
  {
   "cell_type": "raw",
   "metadata": {},
   "source": [
    "myFunction()\n",
    "{\n",
    "    command\n",
    "}"
   ]
  }
 ],
 "metadata": {
  "kernelspec": {
   "display_name": "Python 3",
   "language": "python",
   "name": "python3"
  },
  "language_info": {
   "codemirror_mode": {
    "name": "ipython",
    "version": 3
   },
   "file_extension": ".py",
   "mimetype": "text/x-python",
   "name": "python",
   "nbconvert_exporter": "python",
   "pygments_lexer": "ipython3",
   "version": "3.7.9"
  }
 },
 "nbformat": 4,
 "nbformat_minor": 4
}
