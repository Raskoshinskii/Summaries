{
 "cells": [
  {
   "cell_type": "markdown",
   "metadata": {},
   "source": [
    "### List of  practical question for Pandas "
   ]
  },
  {
   "cell_type": "code",
   "execution_count": 1,
   "metadata": {},
   "outputs": [],
   "source": [
    "import pandas as pd\n",
    "import numpy as np"
   ]
  },
  {
   "cell_type": "markdown",
   "metadata": {},
   "source": [
    "### Series Object\n",
    "1) Create a Series by:\n",
    "- **using a List** \n",
    "- **using a Dictionary**\n",
    "- **using NumPy**\n",
    "- **using dates as indexes**"
   ]
  },
  {
   "cell_type": "code",
   "execution_count": null,
   "metadata": {},
   "outputs": [],
   "source": [
    "# Done "
   ]
  },
  {
   "cell_type": "markdown",
   "metadata": {},
   "source": [
    "2) Select values from a Series:\n",
    "- **first 5 using .iloc[]**\n",
    "- **last 5 using .loc[]**\n",
    "- **from any start element to any end element with any tep**\n",
    "- **every second element from the first 5 elements**\n",
    "- **every second element starting from 4th element**\n",
    "- **every 3d element in reverse order**\n",
    "- **every 2d element starting from 4th element in reverse order**\n",
    "- **last 4 elements except the last one**"
   ]
  },
  {
   "cell_type": "code",
   "execution_count": 43,
   "metadata": {},
   "outputs": [],
   "source": [
    "# Done"
   ]
  },
  {
   "cell_type": "markdown",
   "metadata": {},
   "source": [
    "3) Demonstrate Series methods:\n",
    "- **get only values of a Sereis, then only indexes**\n",
    "- **get size of a Sereis in 3 different ways**\n",
    "- **create a copy of a Series**\n",
    "- **find an index of max value in a Series**\n",
    "- **find 5 largest values in a Series**\n",
    "- **reindex a Series in 2 different ways**\n",
    "- **check if all elemets meet a certain condition (>10)**\n",
    "- **demonstrate data alighnment**\n",
    "- **concat 2 Serieses and rearange indexes**"
   ]
  },
  {
   "cell_type": "code",
   "execution_count": 86,
   "metadata": {},
   "outputs": [],
   "source": [
    "# Done"
   ]
  },
  {
   "cell_type": "markdown",
   "metadata": {},
   "source": [
    "### DataFrame Object\n",
    "1) Create a DataFrame by:\n",
    "- **using NumPy**\n",
    "- **NumPy n-dimensional array**\n",
    "- **Dictionary**\n",
    "- **CSV - file**\n",
    "- **Several Serieses**\n",
    "- **Dictionary with Series**"
   ]
  },
  {
   "cell_type": "code",
   "execution_count": null,
   "metadata": {},
   "outputs": [],
   "source": [
    "# Done "
   ]
  },
  {
   "cell_type": "markdown",
   "metadata": {},
   "source": [
    "2) Selection in a DataFrame\n",
    "- **select a column/columns**\n",
    "- **select rows by labels/indexes**\n",
    "- **find a scalar values by using row and column in 2 different ways**\n",
    "- **demonstrate slicing**\n",
    "- **demonstrate logical selection**\n",
    "- **get index of a  value in a row**"
   ]
  },
  {
   "cell_type": "code",
   "execution_count": 144,
   "metadata": {},
   "outputs": [],
   "source": [
    "# Done"
   ]
  },
  {
   "cell_type": "markdown",
   "metadata": {},
   "source": [
    "3) Demonstrate DataFrame methods:\n",
    "- **find column names**\n",
    "- **rename a column**\n",
    "- **add a new column in 2 different ways**\n",
    "- **delete a column in 3 different ways**\n",
    "- **add a new row**\n",
    "- **delete a row**\n",
    "- **reset all indexes and set new ones**\n",
    "- **find duplicate values**\n",
    "- **count values in a DF or a column**\n",
    "- **get data type of a column**\n",
    "- **make a sample from a DataFrame**\n",
    "- **find number of values that don't equal to 0**\n",
    "- **create NaN values in a DataFrame**\n",
    "- **Drop a column/row if it has at least 2 NaN values**\n",
    "- **fill NaN values by mean value of a column**\n",
    "- **concat 2 Data Frames by row and column**\n",
    "- **add a new row to a Data Frame**\n",
    "- **rearange columns of a Data Frame**\n",
    "- **merge 2 Data Frames using differen joins**\n",
    "- **Rotate a DataFrame**\n",
    "- **Melt a DataFrame**"
   ]
  },
  {
   "cell_type": "code",
   "execution_count": null,
   "metadata": {},
   "outputs": [],
   "source": [
    "# Done"
   ]
  }
 ],
 "metadata": {
  "kernelspec": {
   "display_name": "Python 3",
   "language": "python",
   "name": "python3"
  },
  "language_info": {
   "codemirror_mode": {
    "name": "ipython",
    "version": 3
   },
   "file_extension": ".py",
   "mimetype": "text/x-python",
   "name": "python",
   "nbconvert_exporter": "python",
   "pygments_lexer": "ipython3",
   "version": "3.6.1"
  }
 },
 "nbformat": 4,
 "nbformat_minor": 2
}
