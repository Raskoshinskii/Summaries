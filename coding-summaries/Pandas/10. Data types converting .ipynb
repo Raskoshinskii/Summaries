{
 "cells": [
  {
   "cell_type": "markdown",
   "metadata": {},
   "source": [
    "### Data types converting \n",
    "In Pandas you have 4 main options by using:\n",
    "\n",
    "### to_numeric( )\n",
    "- **pd.to_numeric( s/df, errors = ' coerce / ignore ' )** - converts non - numeric types (e. g. strings) to a suitable numeric type. \n",
    "**Only** can be applied to a **1D array or Series object**. If some values cannot be changed then provide **error parameter** \n",
    "- **downcasting** - to save memory provide **pd.to_numeric( s/df , downcast = ' integer ' )** will use the smallest possible int for the column and will save the memory\n",
    "- **df[ [ 'list_of_col' ] ].apply(pd.to_numeric)** - allows to convert several columns\n",
    "\n",
    "### astype( )\n",
    "- **df/s.astype( )** - converts (almost) any type to (almost) any other type. **If a column contains NaN values, an error will be raised** thus provide parameter **errors = ' ignore '**\n",
    "\n",
    "### infer_objects( )\n",
    "- **df.infer_objects( )** - converts columns with object dtype to a more specific type\n",
    "\n",
    "### convert_dtypes( )\n",
    "- **convert_dtypes( )** - converts DataFrame columns to the \"best possible\" dtype that supports pd.NA"
   ]
  },
  {
   "cell_type": "code",
   "execution_count": 1,
   "metadata": {},
   "outputs": [],
   "source": [
    "import pandas as pd\n",
    "import numpy as np"
   ]
  },
  {
   "cell_type": "code",
   "execution_count": 23,
   "metadata": {},
   "outputs": [
    {
     "name": "stdout",
     "output_type": "stream",
     "text": [
      "Original Data type: object\n",
      "a    int64\n",
      "c    int64\n",
      "dtype: object\n"
     ]
    }
   ],
   "source": [
    "df = pd.DataFrame({'a':list('1234'),\n",
    "                   'b':[91,92,93,94],\n",
    "                   'c':['1998','2002','1995','1998']})\n",
    "\n",
    "print('Original Data type: '+str(df['a'].dtype))\n",
    "\n",
    "# to_numeric()\n",
    "df['a'] = pd.to_numeric(df['a'])\n",
    "df[['a','c']] = df[['a','c']].apply(pd.to_numeric)\n",
    "print(df[['a','c']].dtypes)"
   ]
  },
  {
   "cell_type": "code",
   "execution_count": 27,
   "metadata": {},
   "outputs": [
    {
     "name": "stdout",
     "output_type": "stream",
     "text": [
      "   a   b     c\n",
      "0  1  91  1998\n",
      "1  2  92  2002\n",
      "2  3  93  1995\n",
      "3  4  94  1998\n",
      "   a     b     c\n",
      "0  1  91.0  1998\n",
      "1  2  92.0  2002\n",
      "2  3  93.0  1995\n",
      "3  4  94.0  1998\n"
     ]
    }
   ],
   "source": [
    "# astype()\n",
    "print(df.astype(int)) # converts the whole DataFrame to int type\n",
    "print(df.astype({'a':int,'b':float,'c':int})) # can indicate a column and to which type to transform"
   ]
  },
  {
   "cell_type": "code",
   "execution_count": 35,
   "metadata": {},
   "outputs": [
    {
     "name": "stdout",
     "output_type": "stream",
     "text": [
      "a    object\n",
      "b    object\n",
      "dtype: object\n"
     ]
    }
   ],
   "source": [
    "# infer_objects()\n",
    "df = pd.DataFrame({'a':[7,4,3],'b':['3','2','1']},dtype='object')\n",
    "print(df.dtypes)\n",
    "\n",
    "#df = df.infer_objects() # the methods inderstands that a column has real integers whereas b doesn't \n",
    "                        # thus, it converts a column to int data type\n",
    "#df.dtypes\n"
   ]
  }
 ],
 "metadata": {
  "kernelspec": {
   "display_name": "Python 3",
   "language": "python",
   "name": "python3"
  },
  "language_info": {
   "codemirror_mode": {
    "name": "ipython",
    "version": 3
   },
   "file_extension": ".py",
   "mimetype": "text/x-python",
   "name": "python",
   "nbconvert_exporter": "python",
   "pygments_lexer": "ipython3",
   "version": "3.6.1"
  }
 },
 "nbformat": 4,
 "nbformat_minor": 2
}
