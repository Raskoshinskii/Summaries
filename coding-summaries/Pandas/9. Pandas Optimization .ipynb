{
 "cells": [
  {
   "cell_type": "markdown",
   "metadata": {},
   "source": [
    "### Pandas Optimization \n",
    "Main ideas how to optimize calculations in Pandasa <br>\n",
    "Firstly, optimize a Python code. Here are some tips:\n",
    "- **get rid of cycles** - they slowly work and in most cases we can solve a problem without them\n",
    "- **use .apply( )** - it works much faster rather than .iterrows()\n",
    "- **vectorize your calculations** - Vectorization is a process when operations are used on the whole arrays\n",
    "- **use NumPy** - vector operations that use NumPy is much faster\n",
    "- **use Cython**\n",
    "- **use Numba library**\n",
    "- **use pd.eval()** - library **Numexpr** must be preinstalled. Use only **when nrows > 10k**\n",
    "\n",
    "Ususally, when **data size** is not big **< 100 MB** it doesn't lead to problems with performance.<br> \n",
    "Pandas **groups columns** that have **the same data types into blocks** \n",
    "- **IntBlock** - contains columns that have integers\n",
    "- **ObjectBlock** - contains columns that have strings\n",
    "- **FloatBlock** - contains columns that have float numbers\n",
    "Then we can use some useful functions for memory estimation:\n",
    "- **pd.select_dtypes(include = [ type ] )** selects columns with provided data types \n",
    "- **pd.memory_usage( deep = True )** - returns info about memory usage \n",
    "\n",
    "To **downcast a memory usage** it's recommended to use subtypes. For example, instead of **int64** use **int8**.\n",
    "- **pd.to_numeric()** to downcast numeric data types\n",
    "- **Object type into Category using pd.astype()** - remember, **Category type doesn't support arithmetic operations** because it is no longer a number "
   ]
  },
  {
   "cell_type": "code",
   "execution_count": null,
   "metadata": {},
   "outputs": [],
   "source": []
  }
 ],
 "metadata": {
  "kernelspec": {
   "display_name": "Python 3",
   "language": "python",
   "name": "python3"
  },
  "language_info": {
   "codemirror_mode": {
    "name": "ipython",
    "version": 3
   },
   "file_extension": ".py",
   "mimetype": "text/x-python",
   "name": "python",
   "nbconvert_exporter": "python",
   "pygments_lexer": "ipython3",
   "version": "3.6.1"
  }
 },
 "nbformat": 4,
 "nbformat_minor": 2
}
