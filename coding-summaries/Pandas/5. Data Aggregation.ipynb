{
 "cells": [
  {
   "cell_type": "markdown",
   "metadata": {},
   "source": [
    "### Data Aggregation \n",
    "Data aggregation is a process of data grouping. Then each group is being analyzed and can be processed by different functions<br>\n",
    "In Data Analysis a technique which is called **Split-Apply-Comb** is commonly used\n",
    "- **Split** - each data fragment is splitted into many small fragments according to special conditions\n",
    "- **Apply** - each fragment is being processed by different functions. For example: .mean() or .std()\n",
    "- **Comb** - All results are being combined as a whole<br>\n",
    "\n",
    "After splitting the data the following operations can be applied:\n",
    "- **Aggregation** - calculate final statistics. For example: mean or number of elements in a group\n",
    "- **Transformation** - executes computations by groups or elements\n",
    "- **Filtration** - groups deletion according to calculations\n",
    "\n",
    "### Grouping by \n",
    "- **df.groupby( [ column_names ] )** - groups by columns. **Returns intermidiate description of grouping**\n",
    "- **df.groupby( level = [ list of num ] or [ list of labels ] )** - groups by hierarchical index/indexes\n",
    "- **gb.ngroups** - returns number of groups \n",
    "- **gb.groups** - returns groups and their values\n",
    "- **gb.size()** - returns the size of each group\n",
    "- **gb.count()** - returns the number of elements in each group\n",
    "- **gb.get_group( ' group_name ' )** - retrieves provided groups\n",
    "- **gb.nth( row_num )** - retrieves nrow from each group (every first,third...)\n",
    "- **gb.sort_values(' col_name ', ascending = False )** - sort values of a group\n",
    "\n",
    "To print groups it is necessary to create a special function<br>\n",
    "All groups are sorted by ASC to change the order provide parameter **sort = False**\n",
    "\n",
    "### Aggregation Functions\n",
    "- **gb.agg( function )** - applies a provided function to each column. **agg( )** is a link to the applied function. **agg( ) and aggregate( )** are the same<br>\n",
    "- **gb.agg ( [ func_1, func_n ] )** - a list of functions can be provided\n",
    "- **gb.agg ( { 'col_name_1' : func_1, 'col_name_n': func_n } )** - applies an exact function for an exact column\n",
    "- **gb.agg( ' new_name ' = pd.NamedAgg( column = ' col_name ', aggfunc = ' min ' )** -can change final column name and apply a function\n",
    "\n",
    "Many functions can be applied for aggregation ( gb.count(),gb.median() ). **For more info look up in the documentation**\n",
    "\n",
    "### Transformation\n",
    "Method **.transform()** applies a function to all values in a DataFrame in **each group**\n",
    "- **gb.transform( func )** - applies a function to each value in columns. **Func** can be any,usually, **lambda** \n",
    "\n",
    "### Filtration \n",
    "With the help of method **.filter( )** can decide which values will be removed from final result.<br>\n",
    "It is necessary to provide a **function** which has to return either **True** or **False**. Thus, if the function returns **True** for a **group**, then the group will be in a final result, otherwise the group excludes.\n",
    "- **gb.filter( function )** - applies a function to a group and filters it. **Function usually is lambda**\n",
    "\n",
    "**gb** - GroupBy object"
   ]
  },
  {
   "cell_type": "code",
   "execution_count": 3,
   "metadata": {},
   "outputs": [
    {
     "data": {
      "text/html": [
       "<div>\n",
       "<style scoped>\n",
       "    .dataframe tbody tr th:only-of-type {\n",
       "        vertical-align: middle;\n",
       "    }\n",
       "\n",
       "    .dataframe tbody tr th {\n",
       "        vertical-align: top;\n",
       "    }\n",
       "\n",
       "    .dataframe thead th {\n",
       "        text-align: right;\n",
       "    }\n",
       "</style>\n",
       "<table border=\"1\" class=\"dataframe\">\n",
       "  <thead>\n",
       "    <tr style=\"text-align: right;\">\n",
       "      <th></th>\n",
       "      <th>interval</th>\n",
       "      <th>sensor</th>\n",
       "      <th>axis</th>\n",
       "      <th>reading</th>\n",
       "    </tr>\n",
       "  </thead>\n",
       "  <tbody>\n",
       "    <tr>\n",
       "      <th>0</th>\n",
       "      <td>0</td>\n",
       "      <td>accel</td>\n",
       "      <td>Z</td>\n",
       "      <td>0.0</td>\n",
       "    </tr>\n",
       "    <tr>\n",
       "      <th>1</th>\n",
       "      <td>0</td>\n",
       "      <td>accel</td>\n",
       "      <td>Y</td>\n",
       "      <td>0.5</td>\n",
       "    </tr>\n",
       "    <tr>\n",
       "      <th>2</th>\n",
       "      <td>0</td>\n",
       "      <td>accel</td>\n",
       "      <td>X</td>\n",
       "      <td>1.0</td>\n",
       "    </tr>\n",
       "    <tr>\n",
       "      <th>3</th>\n",
       "      <td>1</td>\n",
       "      <td>accel</td>\n",
       "      <td>Z</td>\n",
       "      <td>0.1</td>\n",
       "    </tr>\n",
       "    <tr>\n",
       "      <th>4</th>\n",
       "      <td>1</td>\n",
       "      <td>accel</td>\n",
       "      <td>Y</td>\n",
       "      <td>0.4</td>\n",
       "    </tr>\n",
       "  </tbody>\n",
       "</table>\n",
       "</div>"
      ],
      "text/plain": [
       "   interval sensor axis  reading\n",
       "0         0  accel    Z      0.0\n",
       "1         0  accel    Y      0.5\n",
       "2         0  accel    X      1.0\n",
       "3         1  accel    Z      0.1\n",
       "4         1  accel    Y      0.4"
      ]
     },
     "execution_count": 3,
     "metadata": {},
     "output_type": "execute_result"
    }
   ],
   "source": [
    "path = 'D:/ML/Books/Learning_Pandas_russian_translation-1-master/Notebooks/Data/sensors.csv'\n",
    "data = pd.read_csv(path)\n",
    "data.head()"
   ]
  },
  {
   "cell_type": "code",
   "execution_count": 82,
   "metadata": {},
   "outputs": [
    {
     "data": {
      "text/plain": [
       "0     0.0\n",
       "1     0.5\n",
       "2     1.0\n",
       "3     0.1\n",
       "4     0.4\n",
       "5     0.9\n",
       "6     0.2\n",
       "7     0.3\n",
       "8     0.8\n",
       "9     0.3\n",
       "10    0.2\n",
       "11    0.7\n",
       "Name: reading, dtype: float64"
      ]
     },
     "execution_count": 82,
     "metadata": {},
     "output_type": "execute_result"
    }
   ],
   "source": [
    "grouped_data = data.groupby(['sensor'])\n",
    "grouped_data.get_group('accel')['reading']"
   ]
  },
  {
   "cell_type": "code",
   "execution_count": null,
   "metadata": {},
   "outputs": [],
   "source": []
  },
  {
   "cell_type": "code",
   "execution_count": 2,
   "metadata": {},
   "outputs": [],
   "source": [
    "import pandas as pd\n",
    "import numpy as np"
   ]
  },
  {
   "cell_type": "code",
   "execution_count": 29,
   "metadata": {},
   "outputs": [
    {
     "data": {
      "text/html": [
       "<div>\n",
       "<style scoped>\n",
       "    .dataframe tbody tr th:only-of-type {\n",
       "        vertical-align: middle;\n",
       "    }\n",
       "\n",
       "    .dataframe tbody tr th {\n",
       "        vertical-align: top;\n",
       "    }\n",
       "\n",
       "    .dataframe thead th {\n",
       "        text-align: right;\n",
       "    }\n",
       "</style>\n",
       "<table border=\"1\" class=\"dataframe\">\n",
       "  <thead>\n",
       "    <tr style=\"text-align: right;\">\n",
       "      <th></th>\n",
       "      <th>interval</th>\n",
       "      <th>sensor</th>\n",
       "      <th>axis</th>\n",
       "      <th>reading</th>\n",
       "    </tr>\n",
       "  </thead>\n",
       "  <tbody>\n",
       "    <tr>\n",
       "      <th>0</th>\n",
       "      <td>0</td>\n",
       "      <td>accel</td>\n",
       "      <td>Z</td>\n",
       "      <td>0.0</td>\n",
       "    </tr>\n",
       "    <tr>\n",
       "      <th>1</th>\n",
       "      <td>0</td>\n",
       "      <td>accel</td>\n",
       "      <td>Y</td>\n",
       "      <td>0.5</td>\n",
       "    </tr>\n",
       "    <tr>\n",
       "      <th>2</th>\n",
       "      <td>0</td>\n",
       "      <td>accel</td>\n",
       "      <td>X</td>\n",
       "      <td>1.0</td>\n",
       "    </tr>\n",
       "    <tr>\n",
       "      <th>3</th>\n",
       "      <td>1</td>\n",
       "      <td>accel</td>\n",
       "      <td>Z</td>\n",
       "      <td>0.1</td>\n",
       "    </tr>\n",
       "    <tr>\n",
       "      <th>4</th>\n",
       "      <td>1</td>\n",
       "      <td>accel</td>\n",
       "      <td>Y</td>\n",
       "      <td>0.4</td>\n",
       "    </tr>\n",
       "  </tbody>\n",
       "</table>\n",
       "</div>"
      ],
      "text/plain": [
       "   interval sensor axis  reading\n",
       "0         0  accel    Z      0.0\n",
       "1         0  accel    Y      0.5\n",
       "2         0  accel    X      1.0\n",
       "3         1  accel    Z      0.1\n",
       "4         1  accel    Y      0.4"
      ]
     },
     "execution_count": 29,
     "metadata": {},
     "output_type": "execute_result"
    }
   ],
   "source": [
    "path = 'D:/ML/Books/Learning_Pandas_russian_translation-1-master/Notebooks/Data/sensors.csv'\n",
    "data = pd.read_csv(path)\n",
    "data.head()"
   ]
  },
  {
   "cell_type": "markdown",
   "metadata": {},
   "source": [
    "### Group by"
   ]
  },
  {
   "cell_type": "code",
   "execution_count": 30,
   "metadata": {},
   "outputs": [
    {
     "name": "stdout",
     "output_type": "stream",
     "text": [
      "2\n",
      "\n",
      "{'accel': Int64Index([0, 1, 2, 3, 4, 5, 6, 7, 8, 9, 10, 11], dtype='int64'), 'orientation': Int64Index([12, 13, 14, 15, 16, 17, 18, 19, 20, 21, 22, 23], dtype='int64')}\n"
     ]
    }
   ],
   "source": [
    "# Group By\n",
    "grouped_data = data.groupby('sensor')\n",
    "\n",
    "# Can see how many groups in a variable \n",
    "print(grouped_data.ngroups)\n",
    "\n",
    "# Can see what are groups and thei values\n",
    "groups = grouped_data.groups\n",
    "print('\\n'+str(groups))"
   ]
  },
  {
   "cell_type": "code",
   "execution_count": 31,
   "metadata": {},
   "outputs": [
    {
     "name": "stdout",
     "output_type": "stream",
     "text": [
      "accel\n",
      "   interval sensor axis  reading\n",
      "0         0  accel    Z      0.0\n",
      "1         0  accel    Y      0.5\n",
      "2         0  accel    X      1.0\n",
      "3         1  accel    Z      0.1\n",
      "4         1  accel    Y      0.4\n",
      "orientation\n",
      "    interval       sensor axis  reading\n",
      "12         0  orientation    Z      0.0\n",
      "13         0  orientation    Y      0.1\n",
      "14         0  orientation    X      0.0\n",
      "15         1  orientation    Z      0.0\n",
      "16         1  orientation    Y      0.2\n"
     ]
    }
   ],
   "source": [
    "# Create a function for groups reading\n",
    "def print_groups(group_object,row_num = 5):\n",
    "    for name, group in group_object:\n",
    "        print(name)\n",
    "        print(group[:row_num])\n",
    "\n",
    "# See the content of each group\n",
    "print_groups(grouped_data)"
   ]
  },
  {
   "cell_type": "code",
   "execution_count": 32,
   "metadata": {},
   "outputs": [
    {
     "name": "stdout",
     "output_type": "stream",
     "text": [
      "sensor\n",
      "accel          12\n",
      "orientation    12\n",
      "dtype: int64\n",
      "\n",
      "             interval  axis  reading\n",
      "sensor                              \n",
      "accel              12    12       12\n",
      "orientation        12    12       12\n",
      "\n",
      "    interval       sensor axis  reading\n",
      "12         0  orientation    Z      0.0\n",
      "13         0  orientation    Y      0.1\n",
      "14         0  orientation    X      0.0\n",
      "15         1  orientation    Z      0.0\n",
      "16         1  orientation    Y      0.2\n",
      "\n",
      "             interval axis  reading\n",
      "sensor                             \n",
      "accel               0    X      1.0\n",
      "orientation         0    X      0.0\n"
     ]
    }
   ],
   "source": [
    "# The size of groups \n",
    "print(grouped_data.size())\n",
    "\n",
    "# The number of elements in each group \n",
    "print('\\n'+str(grouped_data.count()))\n",
    "\n",
    "# Retrieve exact group \n",
    "print('\\n'+str(grouped_data.get_group('orientation').head()))\n",
    "\n",
    "# Retrieve nrow from each group\n",
    "print('\\n'+str(grouped_data.nth(2))) # every row which has index 2"
   ]
  },
  {
   "cell_type": "code",
   "execution_count": 34,
   "metadata": {},
   "outputs": [
    {
     "name": "stdout",
     "output_type": "stream",
     "text": [
      "('accel', 'X')\n",
      "    interval sensor axis  reading\n",
      "2          0  accel    X      1.0\n",
      "5          1  accel    X      0.9\n",
      "8          2  accel    X      0.8\n",
      "11         3  accel    X      0.7\n",
      "('accel', 'Y')\n",
      "    interval sensor axis  reading\n",
      "1          0  accel    Y      0.5\n",
      "4          1  accel    Y      0.4\n",
      "7          2  accel    Y      0.3\n",
      "10         3  accel    Y      0.2\n",
      "('accel', 'Z')\n",
      "   interval sensor axis  reading\n",
      "0         0  accel    Z      0.0\n",
      "3         1  accel    Z      0.1\n",
      "6         2  accel    Z      0.2\n",
      "9         3  accel    Z      0.3\n",
      "('orientation', 'X')\n",
      "    interval       sensor axis  reading\n",
      "14         0  orientation    X      0.0\n",
      "17         1  orientation    X      0.1\n",
      "20         2  orientation    X      0.2\n",
      "23         3  orientation    X      0.3\n",
      "('orientation', 'Y')\n",
      "    interval       sensor axis  reading\n",
      "13         0  orientation    Y      0.1\n",
      "16         1  orientation    Y      0.2\n",
      "19         2  orientation    Y      0.3\n",
      "22         3  orientation    Y      0.4\n",
      "('orientation', 'Z')\n",
      "    interval       sensor axis  reading\n",
      "12         0  orientation    Z      0.0\n",
      "15         1  orientation    Z      0.0\n",
      "18         2  orientation    Z      0.0\n",
      "21         3  orientation    Z      0.0\n"
     ]
    }
   ],
   "source": [
    "# Grouping by several columns\n",
    "grouped_data = data.groupby(['sensor','axis'])\n",
    "print_groups(grouped_data)"
   ]
  },
  {
   "cell_type": "code",
   "execution_count": 42,
   "metadata": {},
   "outputs": [
    {
     "name": "stdout",
     "output_type": "stream",
     "text": [
      "             interval  reading\n",
      "sensor axis                   \n",
      "accel  Z            0      0.0\n",
      "       Y            0      0.5\n",
      "       X            0      1.0\n",
      "       Z            1      0.1\n",
      "       Y            1      0.4\n",
      "('accel', 'X')\n",
      "             interval  reading\n",
      "sensor axis                   \n",
      "accel  X            0      1.0\n",
      "       X            1      0.9\n",
      "       X            2      0.8\n",
      "       X            3      0.7\n",
      "('accel', 'Y')\n",
      "             interval  reading\n",
      "sensor axis                   \n",
      "accel  Y            0      0.5\n",
      "       Y            1      0.4\n",
      "       Y            2      0.3\n",
      "       Y            3      0.2\n",
      "('accel', 'Z')\n",
      "             interval  reading\n",
      "sensor axis                   \n",
      "accel  Z            0      0.0\n",
      "       Z            1      0.1\n",
      "       Z            2      0.2\n",
      "       Z            3      0.3\n",
      "('orientation', 'X')\n",
      "                  interval  reading\n",
      "sensor      axis                   \n",
      "orientation X            0      0.0\n",
      "            X            1      0.1\n",
      "            X            2      0.2\n",
      "            X            3      0.3\n",
      "('orientation', 'Y')\n",
      "                  interval  reading\n",
      "sensor      axis                   \n",
      "orientation Y            0      0.1\n",
      "            Y            1      0.2\n",
      "            Y            2      0.3\n",
      "            Y            3      0.4\n",
      "('orientation', 'Z')\n",
      "                  interval  reading\n",
      "sensor      axis                   \n",
      "orientation Z            0      0.0\n",
      "            Z            1      0.0\n",
      "            Z            2      0.0\n",
      "            Z            3      0.0\n"
     ]
    }
   ],
   "source": [
    "# Grouping by indexes\n",
    "hierarchical = data.copy()\n",
    "hierarchical = hierarchical.set_index(['sensor','axis'])\n",
    "print(hierarchical.head())\n",
    "\n",
    "grouped = hierarchical.groupby(level=['sensor','axis'])\n",
    "print_groups(grouped)"
   ]
  },
  {
   "cell_type": "markdown",
   "metadata": {},
   "source": [
    "### Aggregation Functions"
   ]
  },
  {
   "cell_type": "code",
   "execution_count": 51,
   "metadata": {},
   "outputs": [
    {
     "name": "stdout",
     "output_type": "stream",
     "text": [
      "\n",
      "                  interval  reading\n",
      "sensor      axis                   \n",
      "accel       X          1.5     0.85\n",
      "            Y          1.5     0.35\n",
      "            Z          1.5     0.15\n",
      "orientation X          1.5     0.15\n",
      "            Y          1.5     0.25\n",
      "\n",
      "                 interval           reading          \n",
      "                      sum       std     sum       std\n",
      "sensor      axis                                     \n",
      "accel       X           6  1.290994     3.4  0.129099\n",
      "            Y           6  1.290994     1.4  0.129099\n",
      "            Z           6  1.290994     0.6  0.129099\n",
      "orientation X           6  1.290994     0.6  0.129099\n",
      "            Y           6  1.290994     1.0  0.129099\n",
      "\n",
      "                  interval  reading\n",
      "sensor      axis                   \n",
      "accel       X            4     0.85\n",
      "            Y            4     0.35\n",
      "            Z            4     0.15\n",
      "orientation X            4     0.15\n",
      "            Y            4     0.25\n",
      "            Z            4     0.00\n",
      "\n",
      "sensor       axis\n",
      "accel        X       0.85\n",
      "             Y       0.35\n",
      "             Z       0.15\n",
      "orientation  X       0.15\n",
      "             Y       0.25\n",
      "             Z       0.00\n",
      "Name: reading, dtype: float64\n"
     ]
    }
   ],
   "source": [
    "# Aggregation Functions \n",
    "print('\\n'+str(grouped.agg(np.mean).head()))\n",
    "\n",
    "# List of aggregation functions\n",
    "print('\\n'+str(grouped.agg([np.sum,np.std]).head()))\n",
    "\n",
    "# Can apply exact function for exact column by using Dictionary\n",
    "print('\\n'+str(grouped.agg({'interval':len,'reading': np.mean})))\n",
    "\n",
    "# Aggregation for exact column \n",
    "print('\\n'+str(grouped['reading'].mean()))"
   ]
  },
  {
   "cell_type": "markdown",
   "metadata": {},
   "source": [
    "### Transformation"
   ]
  },
  {
   "cell_type": "code",
   "execution_count": 53,
   "metadata": {},
   "outputs": [
    {
     "data": {
      "text/html": [
       "<div>\n",
       "<style scoped>\n",
       "    .dataframe tbody tr th:only-of-type {\n",
       "        vertical-align: middle;\n",
       "    }\n",
       "\n",
       "    .dataframe tbody tr th {\n",
       "        vertical-align: top;\n",
       "    }\n",
       "\n",
       "    .dataframe thead th {\n",
       "        text-align: right;\n",
       "    }\n",
       "</style>\n",
       "<table border=\"1\" class=\"dataframe\">\n",
       "  <thead>\n",
       "    <tr style=\"text-align: right;\">\n",
       "      <th></th>\n",
       "      <th>Label</th>\n",
       "      <th>Values</th>\n",
       "      <th>Values_2</th>\n",
       "      <th>Other</th>\n",
       "    </tr>\n",
       "  </thead>\n",
       "  <tbody>\n",
       "    <tr>\n",
       "      <th>V</th>\n",
       "      <td>A</td>\n",
       "      <td>0</td>\n",
       "      <td>5</td>\n",
       "      <td>foo</td>\n",
       "    </tr>\n",
       "    <tr>\n",
       "      <th>W</th>\n",
       "      <td>C</td>\n",
       "      <td>1</td>\n",
       "      <td>6</td>\n",
       "      <td>bar</td>\n",
       "    </tr>\n",
       "    <tr>\n",
       "      <th>X</th>\n",
       "      <td>B</td>\n",
       "      <td>2</td>\n",
       "      <td>7</td>\n",
       "      <td>baz</td>\n",
       "    </tr>\n",
       "    <tr>\n",
       "      <th>Y</th>\n",
       "      <td>A</td>\n",
       "      <td>3</td>\n",
       "      <td>8</td>\n",
       "      <td>fiz</td>\n",
       "    </tr>\n",
       "    <tr>\n",
       "      <th>Z</th>\n",
       "      <td>C</td>\n",
       "      <td>4</td>\n",
       "      <td>9</td>\n",
       "      <td>buz</td>\n",
       "    </tr>\n",
       "  </tbody>\n",
       "</table>\n",
       "</div>"
      ],
      "text/plain": [
       "  Label  Values  Values_2 Other\n",
       "V     A       0         5   foo\n",
       "W     C       1         6   bar\n",
       "X     B       2         7   baz\n",
       "Y     A       3         8   fiz\n",
       "Z     C       4         9   buz"
      ]
     },
     "execution_count": 53,
     "metadata": {},
     "output_type": "execute_result"
    }
   ],
   "source": [
    "data = pd.DataFrame({'Label':list('ACBAC'),\n",
    "                     'Values':np.arange(5),\n",
    "                     'Values_2':np.arange(5,10),\n",
    "                     'Other':['foo','bar','baz','fiz','buz']}, index= list('VWXYZ'))\n",
    "data"
   ]
  },
  {
   "cell_type": "code",
   "execution_count": 57,
   "metadata": {},
   "outputs": [
    {
     "data": {
      "text/html": [
       "<div>\n",
       "<style scoped>\n",
       "    .dataframe tbody tr th:only-of-type {\n",
       "        vertical-align: middle;\n",
       "    }\n",
       "\n",
       "    .dataframe tbody tr th {\n",
       "        vertical-align: top;\n",
       "    }\n",
       "\n",
       "    .dataframe thead th {\n",
       "        text-align: right;\n",
       "    }\n",
       "</style>\n",
       "<table border=\"1\" class=\"dataframe\">\n",
       "  <thead>\n",
       "    <tr style=\"text-align: right;\">\n",
       "      <th></th>\n",
       "      <th>Values</th>\n",
       "      <th>Values_2</th>\n",
       "    </tr>\n",
       "  </thead>\n",
       "  <tbody>\n",
       "    <tr>\n",
       "      <th>V</th>\n",
       "      <td>10</td>\n",
       "      <td>15</td>\n",
       "    </tr>\n",
       "    <tr>\n",
       "      <th>W</th>\n",
       "      <td>11</td>\n",
       "      <td>16</td>\n",
       "    </tr>\n",
       "    <tr>\n",
       "      <th>X</th>\n",
       "      <td>12</td>\n",
       "      <td>17</td>\n",
       "    </tr>\n",
       "    <tr>\n",
       "      <th>Y</th>\n",
       "      <td>13</td>\n",
       "      <td>18</td>\n",
       "    </tr>\n",
       "    <tr>\n",
       "      <th>Z</th>\n",
       "      <td>14</td>\n",
       "      <td>19</td>\n",
       "    </tr>\n",
       "  </tbody>\n",
       "</table>\n",
       "</div>"
      ],
      "text/plain": [
       "   Values  Values_2\n",
       "V      10        15\n",
       "W      11        16\n",
       "X      12        17\n",
       "Y      13        18\n",
       "Z      14        19"
      ]
     },
     "execution_count": 57,
     "metadata": {},
     "output_type": "execute_result"
    }
   ],
   "source": [
    "# Let's group the data and apply transformation (add 10 to each column values )\n",
    "grouped_data = data.groupby('Label')\n",
    "transformed_data = grouped_data.transform(lambda val: val+10)\n",
    "transformed_data"
   ]
  },
  {
   "cell_type": "code",
   "execution_count": 60,
   "metadata": {},
   "outputs": [
    {
     "data": {
      "text/html": [
       "<div>\n",
       "<style scoped>\n",
       "    .dataframe tbody tr th:only-of-type {\n",
       "        vertical-align: middle;\n",
       "    }\n",
       "\n",
       "    .dataframe tbody tr th {\n",
       "        vertical-align: top;\n",
       "    }\n",
       "\n",
       "    .dataframe thead th {\n",
       "        text-align: right;\n",
       "    }\n",
       "</style>\n",
       "<table border=\"1\" class=\"dataframe\">\n",
       "  <thead>\n",
       "    <tr style=\"text-align: right;\">\n",
       "      <th></th>\n",
       "      <th>Values</th>\n",
       "    </tr>\n",
       "  </thead>\n",
       "  <tbody>\n",
       "    <tr>\n",
       "      <th>0</th>\n",
       "      <td>10.0</td>\n",
       "    </tr>\n",
       "    <tr>\n",
       "      <th>1</th>\n",
       "      <td>20.0</td>\n",
       "    </tr>\n",
       "    <tr>\n",
       "      <th>2</th>\n",
       "      <td>11.0</td>\n",
       "    </tr>\n",
       "    <tr>\n",
       "      <th>3</th>\n",
       "      <td>21.0</td>\n",
       "    </tr>\n",
       "    <tr>\n",
       "      <th>4</th>\n",
       "      <td>12.0</td>\n",
       "    </tr>\n",
       "    <tr>\n",
       "      <th>5</th>\n",
       "      <td>22.0</td>\n",
       "    </tr>\n",
       "  </tbody>\n",
       "</table>\n",
       "</div>"
      ],
      "text/plain": [
       "   Values\n",
       "0    10.0\n",
       "1    20.0\n",
       "2    11.0\n",
       "3    21.0\n",
       "4    12.0\n",
       "5    22.0"
      ]
     },
     "execution_count": 60,
     "metadata": {},
     "output_type": "execute_result"
    }
   ],
   "source": [
    "# Dealing with Missing values \n",
    "df = pd.DataFrame({'Label':list('ABABAB'),\n",
    "                   'Values':[10,20,11,np.nan,12,22]})\n",
    "grouped_df = df.groupby('Label')\n",
    "\n",
    "filled_df = grouped_df.transform(lambda col: col.fillna(col.mean()))\n",
    "filled_df"
   ]
  },
  {
   "cell_type": "markdown",
   "metadata": {},
   "source": [
    "### Filtration"
   ]
  },
  {
   "cell_type": "code",
   "execution_count": 72,
   "metadata": {},
   "outputs": [
    {
     "name": "stdout",
     "output_type": "stream",
     "text": [
      "  Label  Values\n",
      "0     A     1.0\n",
      "1     A     2.0\n",
      "2     B     3.0\n",
      "3     C     4.0\n",
      "4     C     NaN\n",
      "5     C     8.0\n",
      "\n",
      "  Label  Values\n",
      "0     A     1.0\n",
      "1     A     2.0\n",
      "3     C     4.0\n",
      "4     C     NaN\n",
      "5     C     8.0\n",
      "\n",
      "  Label  Values\n",
      "0     A     1.0\n",
      "1     A     2.0\n",
      "2     B     3.0\n"
     ]
    }
   ],
   "source": [
    "df = pd.DataFrame({'Label':list('AABCCC'),\n",
    "                   'Values':[1,2,3,4,np.nan,8]})\n",
    "print(df)\n",
    "\n",
    "# Get rid of groups with only one value\n",
    "f = lambda x: x.Values.count()>1\n",
    "print('\\n'+str(df.groupby('Label').filter(f)))\n",
    "\n",
    "# Get rid of groups with NaN values\n",
    "f = lambda x: x.Values.isnull().sum() == 0\n",
    "print('\\n'+str(df.groupby('Label').filter(f)))"
   ]
  },
  {
   "cell_type": "code",
   "execution_count": 80,
   "metadata": {},
   "outputs": [
    {
     "data": {
      "text/html": [
       "<div>\n",
       "<style scoped>\n",
       "    .dataframe tbody tr th:only-of-type {\n",
       "        vertical-align: middle;\n",
       "    }\n",
       "\n",
       "    .dataframe tbody tr th {\n",
       "        vertical-align: top;\n",
       "    }\n",
       "\n",
       "    .dataframe thead th {\n",
       "        text-align: right;\n",
       "    }\n",
       "</style>\n",
       "<table border=\"1\" class=\"dataframe\">\n",
       "  <thead>\n",
       "    <tr style=\"text-align: right;\">\n",
       "      <th></th>\n",
       "      <th>Label</th>\n",
       "      <th>Values</th>\n",
       "    </tr>\n",
       "  </thead>\n",
       "  <tbody>\n",
       "    <tr>\n",
       "      <th>3</th>\n",
       "      <td>C</td>\n",
       "      <td>4.0</td>\n",
       "    </tr>\n",
       "    <tr>\n",
       "      <th>4</th>\n",
       "      <td>C</td>\n",
       "      <td>NaN</td>\n",
       "    </tr>\n",
       "    <tr>\n",
       "      <th>5</th>\n",
       "      <td>C</td>\n",
       "      <td>8.0</td>\n",
       "    </tr>\n",
       "  </tbody>\n",
       "</table>\n",
       "</div>"
      ],
      "text/plain": [
       "  Label  Values\n",
       "3     C     4.0\n",
       "4     C     NaN\n",
       "5     C     8.0"
      ]
     },
     "execution_count": 80,
     "metadata": {},
     "output_type": "execute_result"
    }
   ],
   "source": [
    "# Get rid of groups where avg values is less than 2.0\n",
    "grouped = df.groupby('Label')\n",
    "group_mean = grouped.mean().mean()\n",
    "f = lambda x: abs(x.Values.mean() - group_mean) > 2.0\n",
    "grouped.filter(f)"
   ]
  }
 ],
 "metadata": {
  "kernelspec": {
   "display_name": "Python 3",
   "language": "python",
   "name": "python3"
  },
  "language_info": {
   "codemirror_mode": {
    "name": "ipython",
    "version": 3
   },
   "file_extension": ".py",
   "mimetype": "text/x-python",
   "name": "python",
   "nbconvert_exporter": "python",
   "pygments_lexer": "ipython3",
   "version": "3.6.1"
  }
 },
 "nbformat": 4,
 "nbformat_minor": 2
}
