{
 "cells": [
  {
   "cell_type": "markdown",
   "metadata": {},
   "source": [
    "### Module Jinja\n",
    "It is a tempalte engine which is more powerful than F - strings. It is often used for HTML templates creation. \n",
    "- { % % } - template specifier;\n",
    "- { { variable } } - an expression for a template;\n",
    "- { ## } - comments"
   ]
  },
  {
   "cell_type": "code",
   "execution_count": 2,
   "metadata": {},
   "outputs": [
    {
     "name": "stdout",
     "output_type": "stream",
     "text": [
      "I am VLAD and I am 24 years old\n"
     ]
    }
   ],
   "source": [
    "from jinja2 import Template\n",
    "\n",
    "# Example \n",
    "name = 'Vlad'\n",
    "age = 24\n",
    "\n",
    "template = Template('I am {{ n.upper() }} and I am {{ a }} years old')\n",
    "\n",
    "# arguments n and a are keys of a dictionary\n",
    "message = template.render(n = name, a = age)\n",
    "print(message)"
   ]
  },
  {
   "cell_type": "markdown",
   "metadata": {},
   "source": [
    "### Raw Format\n",
    "In order **not to render ( raw format )** a template use blocks {% raw %}\n",
    "- { % raw % }...{ % endraw % }"
   ]
  },
  {
   "cell_type": "code",
   "execution_count": 7,
   "metadata": {},
   "outputs": [
    {
     "name": "stdout",
     "output_type": "stream",
     "text": [
      "\n",
      "Hi my name is {{ name }}\n",
      "and I am {{ age }} years old\n",
      "\n"
     ]
    }
   ],
   "source": [
    "message = \"\"\"\n",
    "{% raw %}Hi my name is {{ name }}\n",
    "and I am {{ age }} years old\n",
    "{% endraw %}\n",
    "\"\"\"\n",
    "tempalte = Template(message)\n",
    "message = tempalte.render(name = 'Value', age = 24)\n",
    "print(message)"
   ]
  },
  {
   "cell_type": "markdown",
   "metadata": {},
   "source": [
    "### Characters Escape\n",
    "There are several options to escape characters:\n",
    "- Template(' { {key | e} } '\n",
    "- import escape (preferable)"
   ]
  },
  {
   "cell_type": "code",
   "execution_count": 10,
   "metadata": {},
   "outputs": [
    {
     "name": "stdout",
     "output_type": "stream",
     "text": [
      "\n",
      "&lt;a href=&#39;#&#39;&gt; my_link &lt;/a&gt;\n",
      "\n",
      "\n"
     ]
    }
   ],
   "source": [
    "# Using Template\n",
    "text = \"\"\"\n",
    "<a href='#'> my_link </a>\n",
    "\n",
    "\"\"\"\n",
    "template = Template('{{link | e}}')\n",
    "text = template.render(link = text)\n",
    "print(text)"
   ]
  },
  {
   "cell_type": "code",
   "execution_count": 13,
   "metadata": {},
   "outputs": [
    {
     "name": "stdout",
     "output_type": "stream",
     "text": [
      "\n",
      "&lt;a href=&#39;#&#39;&gt; my_link &lt;/a&gt;\n",
      "\n",
      "\n"
     ]
    }
   ],
   "source": [
    "# Using module escape\n",
    "from jinja2 import escape\n",
    "\n",
    "text = \"\"\"\n",
    "<a href='#'> my_link </a>\n",
    "\n",
    "\"\"\"\n",
    "message = escape(text)\n",
    "print(message)"
   ]
  },
  {
   "cell_type": "markdown",
   "metadata": {},
   "source": [
    "### Cycle For"
   ]
  },
  {
   "cell_type": "raw",
   "metadata": {},
   "source": [
    "- {% for expression -%}\n",
    "    <code>\n",
    "  {% endfor %}"
   ]
  },
  {
   "cell_type": "code",
   "execution_count": 42,
   "metadata": {},
   "outputs": [
    {
     "name": "stdout",
     "output_type": "stream",
     "text": [
      "<select name = 'cities'>\n",
      "<option value = \"5\">New York</option> \n",
      "<option value = \"15\">Rome</option> \n",
      "<option value = \"31\">Berlin</option> \n",
      "<option value = \"9\">Moscow</option> \n",
      "</select> \n"
     ]
    }
   ],
   "source": [
    "cities = [{'id':5, 'city':'New York'},\n",
    "          {'id':15,'city':'Rome'},\n",
    "          {'id':31,'city':'Berlin'},\n",
    "          {'id':9, 'city':'Moscow'} ]\n",
    "\n",
    "choice = \"\"\"<select name = 'cities'>\n",
    "{% for city in cities -%}\n",
    "    <option value = \"{{city.id}}\">{{city.city}}</option> \n",
    "{% endfor -%}\n",
    "</select> \"\"\"\n",
    "\n",
    "template = Template(choice) # we separately create the template and a message\n",
    "message = template.render(cities = cities)\n",
    "print(message)"
   ]
  },
  {
   "cell_type": "markdown",
   "metadata": {},
   "source": [
    "To control the spaces in the final output use - (minus) before/after %"
   ]
  },
  {
   "cell_type": "markdown",
   "metadata": {},
   "source": [
    "### IF Statement"
   ]
  },
  {
   "cell_type": "raw",
   "metadata": {},
   "source": [
    "{% if <condition> %}\n",
    "    <code if true>\n",
    "{% elif <condition> %}\n",
    "    <code if true>\n",
    "...\n",
    "{% else %}\n",
    "    <code>\n",
    "{% endif %}"
   ]
  },
  {
   "cell_type": "code",
   "execution_count": 49,
   "metadata": {},
   "outputs": [
    {
     "name": "stdout",
     "output_type": "stream",
     "text": [
      "<select name=\"citites\">\n",
      "New York has id less than 10\n",
      "<option value = '15'>Rome</option>\n",
      "We found Berlin!!!\n",
      "Moscow has id less than 10\n",
      "</select>\n"
     ]
    }
   ],
   "source": [
    "choice = \"\"\"<select name=\"citites\">\n",
    "{% for city in cities -%}\n",
    "{% if city.city == 'Berlin' -%}\n",
    "    We found {{city.city}}!!!\n",
    "{% elif city.id < 10 -%}\n",
    "    {{city.city}} has id less than 10\n",
    "{% else -%}\n",
    "    <option value = '{{city.id}}'>{{city.city}}</option>\n",
    "{% endif -%}\n",
    "{% endfor -%}\n",
    "</select>\n",
    "\"\"\"\n",
    "template = Template(choice)\n",
    "message = template.render(cities = cities)\n",
    "print(message)"
   ]
  },
  {
   "cell_type": "markdown",
   "metadata": {},
   "source": [
    "### Filters\n",
    "There are several options how filters can be defined:\n",
    "- { { variable | filter(attribute = attr_name)} };\n",
    "- { % filter <filter_name> % } \\<text\\> { % endfilter % }\n",
    "\n",
    "All filters can be found here:\n",
    "- https://jinja.palletsprojects.com/en/2.11.x/templates/"
   ]
  },
  {
   "cell_type": "code",
   "execution_count": 6,
   "metadata": {},
   "outputs": [
    {
     "name": "stdout",
     "output_type": "stream",
     "text": [
      "Sum price of all cars 109300\n"
     ]
    }
   ],
   "source": [
    "cars = [\n",
    "    \n",
    "    {'model':'Audi','price':23000},\n",
    "    {'model':'Ferrari','price':44000},\n",
    "    {'model':'BMW','price':21000},\n",
    "    {'model':'Fiat','price':21300}\n",
    "    \n",
    "]\n",
    "\n",
    "template = \"\"\"Sum price of all cars {{cars | sum(attribute = 'price')}}\"\"\"\n",
    "template = Template(template)\n",
    "message = template.render(cars = cars)\n",
    "print(message)"
   ]
  },
  {
   "cell_type": "code",
   "execution_count": 8,
   "metadata": {},
   "outputs": [
    {
     "name": "stdout",
     "output_type": "stream",
     "text": [
      "Sum of the list 15\n"
     ]
    }
   ],
   "source": [
    "# Another option\n",
    "my_lst = [1,2,3,4,5]\n",
    "template = \"\"\"Sum of the list {{digits | sum }}\"\"\"\n",
    "template = Template(template)\n",
    "message = template.render(digits = my_lst)\n",
    "print(message)"
   ]
  },
  {
   "cell_type": "code",
   "execution_count": 23,
   "metadata": {},
   "outputs": [
    {
     "name": "stdout",
     "output_type": "stream",
     "text": [
      "VLAD\n",
      "NICK\n",
      "IVAN\n",
      "\n"
     ]
    }
   ],
   "source": [
    "# Another option of using Filter\n",
    "persons = [\n",
    "    \n",
    "    {'name':'Vlad','age':18,'weight':78.5},\n",
    "    {'name':'Nick','age':28,'weight':82.6},\n",
    "    {'name':'Ivan','age':34,'weight':94.5}\n",
    "    \n",
    "]\n",
    "\n",
    "template = \"\"\"\n",
    "{%- for user in users -%}\n",
    "{% filter upper %}{{user.name}}{% endfilter %}\n",
    "{% endfor -%}\n",
    "\n",
    "\"\"\"\n",
    "template = Template(template)\n",
    "message = template.render(users = persons)\n",
    "print(message)"
   ]
  },
  {
   "cell_type": "markdown",
   "metadata": {},
   "source": [
    "### Macro\n",
    "Macro can be defined once and then used many times"
   ]
  },
  {
   "cell_type": "raw",
   "metadata": {},
   "source": [
    "{% macro <macro_name>(attributes)%}\n",
    "    <code>\n",
    "{% endmacro %}"
   ]
  },
  {
   "cell_type": "code",
   "execution_count": 38,
   "metadata": {},
   "outputs": [
    {
     "name": "stdout",
     "output_type": "stream",
     "text": [
      "\n",
      "<p><input type='text' name='username' value='' size='20'>\n",
      "<p><input type='text' name='email' value='' size='20'>\n",
      "<p><input type='text' name='password' value='' size='20'>\n",
      "\n"
     ]
    }
   ],
   "source": [
    "html = \"\"\"\n",
    "{% macro input(name, value='', type='text', size=20) -%}\n",
    "    <input type='{{ type }}' name='{{ name }}' value='{{ value |e }}' size='{{ size }}'>\n",
    "{%- endmacro -%}\n",
    "\n",
    "<p>{{ input('username') }}\n",
    "<p>{{ input('email') }}\n",
    "<p>{{ input('password') }}\n",
    "\n",
    "\"\"\"\n",
    "\n",
    "template = Template(html)\n",
    "message = template.render()\n",
    "print(message)"
   ]
  },
  {
   "cell_type": "markdown",
   "metadata": {},
   "source": [
    "### Inner Macro"
   ]
  },
  {
   "cell_type": "raw",
   "metadata": {},
   "source": [
    "{% call[(params)] <outer_macro_name> %}\n",
    "<inner template>\n",
    "{% endcall %}"
   ]
  },
  {
   "cell_type": "code",
   "execution_count": 68,
   "metadata": {},
   "outputs": [
    {
     "name": "stdout",
     "output_type": "stream",
     "text": [
      "<ul>\n",
      "<li>Vlad\n",
      "<li>Nick\n",
      "<li>Ivan\n",
      "</ul>\n"
     ]
    }
   ],
   "source": [
    "# Create first main macro without inner macro\n",
    "persons = [\n",
    "    \n",
    "    {'name':'Vlad','age':18,'weight':78.5},\n",
    "    {'name':'Nick','age':28,'weight':82.6},\n",
    "    {'name':'Ivan','age':34,'weight':94.5}\n",
    "    \n",
    "]\n",
    "\n",
    "\n",
    "html = \"\"\"\n",
    "{%- macro user_list(users) -%}\n",
    "<ul>\n",
    "{% for user in users  -%}\n",
    "    <li>{{ user.name }}\n",
    "{% endfor -%}\n",
    "</ul>\n",
    "{%- endmacro -%}\n",
    "\n",
    "{{user_list(users)}}\n",
    "\"\"\"\n",
    "\n",
    "template = Template(html)\n",
    "message = template.render(users = persons)\n",
    "print(message)"
   ]
  },
  {
   "cell_type": "code",
   "execution_count": 71,
   "metadata": {},
   "outputs": [
    {
     "name": "stdout",
     "output_type": "stream",
     "text": [
      "<ul>\n",
      "<li>Vlad <ul>\n",
      "    <li>age: 18\n",
      "    <li>weight: 78.5\n",
      "    </ul>\n",
      "<li>Nick <ul>\n",
      "    <li>age: 28\n",
      "    <li>weight: 82.6\n",
      "    </ul>\n",
      "<li>Ivan <ul>\n",
      "    <li>age: 34\n",
      "    <li>weight: 94.5\n",
      "    </ul>\n",
      "</ul>\n",
      "\n"
     ]
    }
   ],
   "source": [
    "# With inner macro\n",
    "persons = [\n",
    "    \n",
    "    {'name':'Vlad','age':18,'weight':78.5},\n",
    "    {'name':'Nick','age':28,'weight':82.6},\n",
    "    {'name':'Ivan','age':34,'weight':94.5}\n",
    "    \n",
    "]\n",
    "\n",
    "html = \"\"\"\n",
    "{%- macro user_list(users) -%}\n",
    "<ul>\n",
    "{% for user in users -%}\n",
    "    <li>{{ user.name }} {{ caller(user) }}\n",
    "{% endfor -%}\n",
    "</ul>\n",
    "{% endmacro -%}\n",
    "\n",
    "{% call(user) user_list(users) -%}\n",
    "    <ul>\n",
    "    <li>age: {{ user.age }}\n",
    "    <li>weight: {{ user.weight }}\n",
    "    </ul>\n",
    "{%- endcall -%}\n",
    "\n",
    "\"\"\"\n",
    "template = Template(html)\n",
    "message = template.render(users = persons)\n",
    "print(message)"
   ]
  },
  {
   "cell_type": "markdown",
   "metadata": {},
   "source": [
    "### Templates Loader: FileSystemLoader, PackageLoader, DictLoader, FunctionLoader "
   ]
  }
 ],
 "metadata": {
  "kernelspec": {
   "display_name": "Python 3",
   "language": "python",
   "name": "python3"
  },
  "language_info": {
   "codemirror_mode": {
    "name": "ipython",
    "version": 3
   },
   "file_extension": ".py",
   "mimetype": "text/x-python",
   "name": "python",
   "nbconvert_exporter": "python",
   "pygments_lexer": "ipython3",
   "version": "3.7.9"
  }
 },
 "nbformat": 4,
 "nbformat_minor": 4
}
