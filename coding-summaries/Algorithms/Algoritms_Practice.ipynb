{
 "cells": [
  {
   "cell_type": "markdown",
   "metadata": {},
   "source": [
    "### List Sum and List Length\n",
    "Write a function that finds the sum of a list "
   ]
  },
  {
   "cell_type": "code",
   "execution_count": 55,
   "metadata": {
    "tags": []
   },
   "outputs": [],
   "source": [
    "import random\n",
    "import numpy as np\n",
    "\n",
    "from typing import List, Union\n",
    "from scipy import stats"
   ]
  },
  {
   "cell_type": "code",
   "execution_count": 47,
   "metadata": {
    "tags": []
   },
   "outputs": [],
   "source": [
    "# option A\n",
    "def get_sum(arr: Union[List, np.ndarray]):\n",
    "    \"\"\"\n",
    "    Find the sum of a list.\n",
    "    \"\"\"\n",
    "    if len(arr) == 0:\n",
    "        return 0\n",
    "    else:\n",
    "        return arr[0] + get_sum(arr[1:])\n",
    "    \n",
    "# option B\n",
    "def get_sum(arr: Union[List, np.ndarray]):\n",
    "    \"\"\"\n",
    "    Find the sum of a list.\n",
    "    \"\"\"\n",
    "    if len(arr) == 0:\n",
    "        return 0\n",
    "    else:\n",
    "        _sum = 0\n",
    "        for val in arr: _sum += val\n",
    "        return _sum\n",
    "\n",
    "# testing \n",
    "arr_a = [random.randint(1, 10) for _ in range(10)]\n",
    "assert(sum(arr_a) == get_sum(arr_a))"
   ]
  },
  {
   "cell_type": "markdown",
   "metadata": {},
   "source": [
    "### Fibonaci Sequence \n",
    "Write a function that finds the sum of n Fibonaci elements "
   ]
  },
  {
   "cell_type": "code",
   "execution_count": 10,
   "metadata": {},
   "outputs": [
    {
     "name": "stdout",
     "output_type": "stream",
     "text": [
      "Fibonaci Sequence of 10 elements\n",
      "1 1 2 3 5 8 13 21 34 55 "
     ]
    }
   ],
   "source": [
    "# Fibonaci Sequence \n",
    "def generate_fibonaci(n: int):\n",
    "    a, b = 0, 1\n",
    "    for i in range(n):\n",
    "        a, b = b, a + b\n",
    "        print(a, end=' ')\n",
    "    \n",
    "n = 10 \n",
    "print(f'Fibonaci Sequence of {n} elements') \n",
    "generate_fibonaci(n)"
   ]
  },
  {
   "cell_type": "code",
   "execution_count": 12,
   "metadata": {},
   "outputs": [
    {
     "name": "stdout",
     "output_type": "stream",
     "text": [
      "Sum Fibonaci Sequence of 5 elements:  3\n"
     ]
    }
   ],
   "source": [
    "# Fibonaci Sequence Sum\n",
    "def fib_seq_sum(n: int):\n",
    "    if n == 1:\n",
    "        return 0\n",
    "    elif n < 2:\n",
    "        return 1\n",
    "    else:\n",
    "        return fib_seq_sum(n-1) + fib_seq_sum(n-2)\n",
    "n = 5\n",
    "print(f'Sum Fibonaci Sequence of {n} elements: ', fib_seq_sum(n)) "
   ]
  },
  {
   "cell_type": "markdown",
   "metadata": {},
   "source": [
    "### Find Mode\n",
    "Write a function that finds a mode of an array"
   ]
  },
  {
   "cell_type": "code",
   "execution_count": 74,
   "metadata": {
    "tags": []
   },
   "outputs": [
    {
     "name": "stdout",
     "output_type": "stream",
     "text": [
      "Sorted A:  [4, 15, 27, 44, 88]\n",
      "Mode A:  27\n",
      "Sorted B:  [6, 16, 39, 41, 48, 52, 70, 71, 74, 80]\n",
      "Mode B:  50.0\n"
     ]
    }
   ],
   "source": [
    "def get_mode(arr: Union[List, np.ndarray]):\n",
    "    \"\"\"\n",
    "    Find mode of a list. \n",
    "    ! Array sorting is implemented using a built-in function.\n",
    "    \"\"\"\n",
    "    n = len(arr)\n",
    "    arr = sorted(arr)\n",
    "    indx = int(n / 2)\n",
    "    if n % 2 == 0:\n",
    "        return (1/2) * (arr[indx-1] + arr[indx])\n",
    "    else:\n",
    "        return arr[indx]\n",
    "    \n",
    "# testing \n",
    "arr_a = np.random.randint(1, 100, 5)\n",
    "arr_b = [random.randint(1, 100) for _ in range(10)]\n",
    "\n",
    "print('Sorted A: ', sorted(arr_a))\n",
    "print('Mode A: ', get_mode(arr_a))\n",
    "print('Sorted B: ', sorted(arr_b))\n",
    "print('Mode B: ', get_mode(arr_b))"
   ]
  },
  {
   "cell_type": "markdown",
   "metadata": {},
   "source": [
    "### String Validator\n",
    "You are given a string .\n",
    "Your task is to find out **if the string contains any:** \n",
    "- Alphanumeric characters\n",
    "- Alphabetical characters \n",
    "- Digits\n",
    "- Lowercase \n",
    "- Uppercase characters"
   ]
  },
  {
   "cell_type": "code",
   "execution_count": 63,
   "metadata": {},
   "outputs": [
    {
     "name": "stdout",
     "output_type": "stream",
     "text": [
      "True True True True True "
     ]
    }
   ],
   "source": [
    "my_str = 'qA2'\n",
    "\n",
    "func_options = ['isalnum', 'isalpha', 'isdigit', 'islower', 'isupper']\n",
    "for func in func_options:\n",
    "    print(any(eval('letter.' + func + '()') for letter in my_str), end=' ')"
   ]
  }
 ],
 "metadata": {
  "kernelspec": {
   "display_name": "Python 3",
   "language": "python",
   "name": "python3"
  },
  "language_info": {
   "codemirror_mode": {
    "name": "ipython",
    "version": 3
   },
   "file_extension": ".py",
   "mimetype": "text/x-python",
   "name": "python",
   "nbconvert_exporter": "python",
   "pygments_lexer": "ipython3",
   "version": "3.7.9"
  }
 },
 "nbformat": 4,
 "nbformat_minor": 4
}
