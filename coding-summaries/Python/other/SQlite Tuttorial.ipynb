{
 "cells": [
  {
   "cell_type": "code",
   "execution_count": 7,
   "metadata": {},
   "outputs": [],
   "source": [
    "import sqlite3 as sq\n",
    "import os "
   ]
  },
  {
   "cell_type": "code",
   "execution_count": 4,
   "metadata": {},
   "outputs": [],
   "source": [
    "os.chdir(r'D:\\ML\\Tutorials\\Data Bases\\SQLite')\n",
    "\n",
    "con = sq.connect('saper.db') # if there is no connection, it will be created\n",
    "\n",
    "# For accessing DB and making queries we have to create an object: cursor \n",
    "cur = con.cursor() # Creates an instance of Cursor class (i.e. instance has API)\n",
    "\n",
    "# Connecting must be always closed\n",
    "con.close()"
   ]
  },
  {
   "cell_type": "markdown",
   "metadata": {},
   "source": [
    "Above methods isn't save. Use the context manager!"
   ]
  },
  {
   "cell_type": "markdown",
   "metadata": {},
   "source": [
    "### Table Creation and Deletion"
   ]
  },
  {
   "cell_type": "code",
   "execution_count": 21,
   "metadata": {},
   "outputs": [],
   "source": [
    "with sq.connect('saper.db') as con:\n",
    "    cur = con.cursor()\n",
    "    \n",
    "    cur.execute(\n",
    "        \"\"\"\n",
    "        CREATE TABLE IF NOT EXISTS users(\n",
    "            name TEXT,\n",
    "            sex INTEGER,\n",
    "            age INTEGER,\n",
    "            score INTEGER )\n",
    "    \n",
    "        \"\"\") \n",
    "    \n",
    "# For Deletion: cur.execute(\"\"\" DROP TABLE users \"\"\")"
   ]
  },
  {
   "cell_type": "markdown",
   "metadata": {},
   "source": [
    "### Some Rules\n",
    "- SQL Commands: **capital letters;**\n",
    "- Field: **lowercase letters;**\n",
    "\n",
    "- For Creation Provide: ```IF NOT EXISTS```\n",
    "- For Delition Provide: ```IF EXISTS```"
   ]
  },
  {
   "cell_type": "code",
   "execution_count": 47,
   "metadata": {},
   "outputs": [],
   "source": [
    "# It is not convenient to wtite context manager each time.\n",
    "# Let's create the func\n",
    "\n",
    "def execute_query(query, con_name, is_table = True, n_entries = 1):\n",
    "    \"\"\"\n",
    "    is_table: Only Table commands (INSERT, DROP, UPDATE...)\n",
    "    n_entries: Number of entries to be returned\n",
    "    \n",
    "    \"\"\"\n",
    "    with sq.connect(con_name) as con:\n",
    "        cur = con.cursor()\n",
    "        if is_table:\n",
    "            cur.execute(query)  \n",
    "        else:\n",
    "            cur.execute(query)\n",
    "            res = cur.fetchmany(n_entries)\n",
    "            return res"
   ]
  },
  {
   "cell_type": "markdown",
   "metadata": {},
   "source": [
    "### Fields Limiters\n",
    "Can define limits for fields. They are:\n",
    "- ```IF EXISTS```\n",
    "- ```IF NOT EXISTS```\n",
    "- ```NOT NULL```\n",
    "- ```DEFAULT value```\n",
    "- ```PRIMARY KEY```\n",
    "- ```AUTOINCREMENT```"
   ]
  },
  {
   "cell_type": "code",
   "execution_count": 29,
   "metadata": {},
   "outputs": [],
   "source": [
    "con_name = 'saper.db'\n",
    "qr = \"\"\" DROP TABLE IF EXISTS users \"\"\"\n",
    "execute_query(qr, con_name)"
   ]
  },
  {
   "cell_type": "code",
   "execution_count": 30,
   "metadata": {},
   "outputs": [],
   "source": [
    "qr = \"\"\"\n",
    "\n",
    "CREATE TABLE IF NOT EXISTS users(\n",
    "   user_id INTEGER PRIMARY KEY AUTOINCREMENT,\n",
    "   name TEXT NOT NULL,\n",
    "   sex TEXT DEFAULT 'Male',\n",
    "   age INTEGER DEFAULT 24,\n",
    "   score INTEGER )\n",
    "   \n",
    "\"\"\"\n",
    "\n",
    "execute_query(qr, con_name)"
   ]
  },
  {
   "cell_type": "markdown",
   "metadata": {},
   "source": [
    "### Inserting Values Into a Table\n",
    "There are several options for inserting values into a table:\n",
    "- ```INSERT INTO table_name (field_name_1...) VALUES (val_1...) or subquery```\n",
    "- ```INSERT INTO table_name VALUES (val_1...) or subquery```"
   ]
  },
  {
   "cell_type": "code",
   "execution_count": 39,
   "metadata": {},
   "outputs": [],
   "source": [
    "query = \"\"\"\n",
    "\n",
    "INSERT INTO users (name, sex, age, score) VALUES\n",
    "    ('Milisa', 'Female', 19, 340),\n",
    "    ('Stive','Male', 24, 1340),\n",
    "    ('Kate', 'Female', 14, 2340),\n",
    "    ('Tim', 'Male', 29, 3340)\n",
    "\n",
    "\"\"\"\n",
    "\n",
    "execute_query(query, con_name)"
   ]
  },
  {
   "cell_type": "markdown",
   "metadata": {},
   "source": [
    "However, it isn't obligatory to provide default values. They can be ommited. But for multiple inserting we have to provide all values"
   ]
  },
  {
   "cell_type": "markdown",
   "metadata": {},
   "source": [
    "### Simple SELECT\n",
    "After a query has been executed, it returns a cursor object that has the following methods:\n",
    "- ```cur.fetchall()``` - returns all entries ( not a good idea to use because problems with memory may appear);\n",
    "- ```cur.fetchmany(size)``` - returns only provided number of entris;\n",
    "- ```cur.fetchone()``` - returns only one entry;"
   ]
  },
  {
   "cell_type": "code",
   "execution_count": 48,
   "metadata": {},
   "outputs": [
    {
     "data": {
      "text/plain": [
       "[('Clark', 'Male', 18)]"
      ]
     },
     "execution_count": 48,
     "metadata": {},
     "output_type": "execute_result"
    }
   ],
   "source": [
    "query = \"\"\"\n",
    "\n",
    "SELECT name, sex, age\n",
    "FROM users \n",
    "WHERE age < 20 and sex == 'Male' and score BETWEEN 300 and 500\n",
    "ORDER BY score DESC\n",
    "LIMIT 1\n",
    "\n",
    "\"\"\"\n",
    "\n",
    "execute_query(query, con_name, is_table = False)"
   ]
  },
  {
   "cell_type": "markdown",
   "metadata": {},
   "source": [
    "### Values Update and Deletion\n"
   ]
  },
  {
   "cell_type": "markdown",
   "metadata": {},
   "source": [
    "- ```UPDATE table_name SET (field_name_1...) = (value_1...) WHERE condition or subquery```\n",
    "- ```DELETE FROM table_name WHERE condition or subquery``` \n",
    "\n",
    "Single Entry Update"
   ]
  },
  {
   "cell_type": "code",
   "execution_count": 49,
   "metadata": {},
   "outputs": [],
   "source": [
    "query = \"\"\"\n",
    "UPDATE users SET (name, age) = ('Vladd', 18) WHERE user_id == 1\n",
    "\n",
    "\"\"\"\n",
    "execute_query(query, con_name, is_table = True)"
   ]
  },
  {
   "cell_type": "markdown",
   "metadata": {},
   "source": [
    "Multiple Entries Update"
   ]
  },
  {
   "cell_type": "code",
   "execution_count": 51,
   "metadata": {},
   "outputs": [],
   "source": [
    "# Have to change the function a bit\n",
    "def execute_query(query, con_name, records, is_table = True, n_entries = 1):\n",
    "    \"\"\"\n",
    "    is_table: Only Table commands (INSERT, DROP, UPDATE...)\n",
    "    n_entries: Number of entries to be returned\n",
    "    \n",
    "    \"\"\"\n",
    "    with sq.connect(con_name) as con:\n",
    "        cur = con.cursor()\n",
    "        if is_table:\n",
    "            cur.executemany(query, records)  \n",
    "        else:\n",
    "            cur.execute(query)\n",
    "            res = cur.fetchmany(n_entries)\n",
    "            return res"
   ]
  },
  {
   "cell_type": "code",
   "execution_count": 54,
   "metadata": {},
   "outputs": [],
   "source": [
    "query = \"\"\"\n",
    "\n",
    "UPDATE users SET (name, sex, age) = (?, ?, ?) WHERE user_id = ?\n",
    "\n",
    "\"\"\"\n",
    "records = [('Vlad', 'Male', 24, 1), ('Oleg', 'Male', 18, 2), ('Tifony', 'Female', 24, 8)]\n",
    "execute_query(query, con_name, records)"
   ]
  },
  {
   "cell_type": "markdown",
   "metadata": {},
   "source": [
    "### Entry Deletion"
   ]
  },
  {
   "cell_type": "code",
   "execution_count": 57,
   "metadata": {},
   "outputs": [],
   "source": [
    "query = \"\"\"\n",
    "\n",
    "DELETE FROM users WHERE user_id = ?\n",
    "\n",
    "\"\"\"\n",
    "user_ids = [(1,),(3,),(6,)]\n",
    "execute_query(query, con_name, user_ids)"
   ]
  },
  {
   "cell_type": "markdown",
   "metadata": {},
   "source": [
    "### Methods sqlite3 or API"
   ]
  },
  {
   "cell_type": "markdown",
   "metadata": {},
   "source": [
    "- ```con.commit()``` - saves all changes into a database;\n",
    "- ```con.close()``` - closes the current connection;\n",
    "- ```con.rollback()``` - rolls back all changes if an error occurs;\n",
    "- ```con.row_factory = sq.Row``` - results of a query will be returning Row object ( which is a dict );\n",
    "- ```con.iterdump()``` - returns a list of SQL queries of how the current DB was created ( can be used to restore a DB )"
   ]
  },
  {
   "cell_type": "markdown",
   "metadata": {},
   "source": [
    "- ```cur.execute(query)```\n",
    "- ```cur.executemany(query)```\n",
    "- ```cur.executescript(query)``` - executes a query like a SQL query;\n",
    "- ```cur.lastrowid``` - returns an id of the last entry/record;\n",
    "- ```cur.fetchall()``` - returns all results of a query as an ordered list;\n",
    "- ```cur.fetchmany(size)``` - returns a results of a query according to the provided size;\n",
    "- ```cur.fetchone()``` - returns only one result of a query;"
   ]
  },
  {
   "cell_type": "markdown",
   "metadata": {},
   "source": [
    "- ```img = sq.Binary(img)``` - transforms an image into a special SQlite Object; \n",
    "- ```con = sq.connect( ':memory:' )``` - creates a temp DB into RAM"
   ]
  }
 ],
 "metadata": {
  "kernelspec": {
   "display_name": "Python 3",
   "language": "python",
   "name": "python3"
  },
  "language_info": {
   "codemirror_mode": {
    "name": "ipython",
    "version": 3
   },
   "file_extension": ".py",
   "mimetype": "text/x-python",
   "name": "python",
   "nbconvert_exporter": "python",
   "pygments_lexer": "ipython3",
   "version": "3.7.9"
  }
 },
 "nbformat": 4,
 "nbformat_minor": 4
}
