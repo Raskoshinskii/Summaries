{
 "cells": [
  {
   "cell_type": "markdown",
   "metadata": {},
   "source": [
    "### Бинарный поиск"
   ]
  },
  {
   "attachments": {
    "01.jpg": {
     "image/jpeg": "[encoded data removed]"
    }
   },
   "cell_type": "markdown",
   "metadata": {},
   "source": [
    "Бинарный поиск (также известен как метод деления пополам и дихотомия) — классический алгоритм поиска элемента в отсортированном массиве.\n",
    "Если у нас есть массив, содержащий упорядоченную последовательность данных, то очень эффективен двоичный поиск.\n",
    "Бинарный поиск позволяет найти данный элемент в отсортированном массиве или определить, что он не встречается в данном массиве\n",
    "за O(log n) действий, где n - количество элементов в массиве.\n",
    "### Алгоритм \n",
    "1) Находится средний элемент последовательности. Для этого первый и последний элементы связываются с переменными, а средний вычисляется.\n",
    "\n",
    "2) Средний элемент сравнивается с искомым значение. В зависимости от того, больше оно или меньше среднего элемента, дальнейший поиск будет происходить лишь в левой или правой половинах массива. Если значение среднего элемента окажется равным искомому, то поиск завершен.\n",
    "\n",
    "3) Одна из границ исследуемой последовательности становится равной предыдущему или последующему среднему элементу из п.2.\n",
    "\n",
    "4) Снова находится средний элемент, теперь уже в «выбранной» половине. Описанный выше алгоритм повторяется уже для данной последовательности.\n",
    "![01.jpg](attachment:01.jpg)"
   ]
  },
  {
   "cell_type": "code",
   "execution_count": 67,
   "metadata": {},
   "outputs": [
    {
     "name": "stdout",
     "output_type": "stream",
     "text": [
      "23\n",
      "1.75 µs ± 21.2 ns per loop (mean ± std. dev. of 7 runs, 1000000 loops each)\n"
     ]
    }
   ],
   "source": [
    "def binfind(array,x,left,right):\n",
    "    \"\"\"\n",
    "    array - sorted list\n",
    "    x - searching value\n",
    "    left - index of left boundary\n",
    "    right - index of right boudary\n",
    "    \n",
    "    \"\"\"\n",
    "    \n",
    "    if left > right or len(array) == 0:\n",
    "        return None\n",
    "    middle = (left+right) // 2 # find average value of a list \n",
    "    if array[middle] == x:\n",
    "        return middle          # if find from the first attempt, return searching value  \n",
    "    elif (array[middle]<x):    # if searching value is bigger then we need to change left boundary\n",
    "        return binfind(array,x,middle+1,right) # recursively return searching value\n",
    "    else: # similarly, only need to change right boundary\n",
    "        return binfind(array,x,left,middle-1)\n",
    "    \n",
    "values = [i for i in range(101)]\n",
    "\n",
    "print(binfind(values,23,0,len(values)))\n",
    "%timeit binfind(values,23,0,len(values))"
   ]
  },
  {
   "cell_type": "markdown",
   "metadata": {},
   "source": [
    "### Линейный поиск"
   ]
  },
  {
   "cell_type": "markdown",
   "metadata": {},
   "source": [
    "Простейший алгоритм поиска элемента в списке, также известен, как метод перебора или \"грубой силы\". \n",
    "Работает за время O(n), где n - длина списка на входе (понятно и по названию алгоритма)\n",
    "\n",
    "Самый простой алгоритм (и самый неправильный), который приходит в голову - это создать переменную result, которой заранее присвоим значение None, а далее в цикле for пройтись по всем индексам и сравнить элементы с искомым значением (lst[index] = x), и если данное условие выполняется, то result = index. Как многие догадались, поиск в массиве будет продолжаться, даже после нахождения искомого индекса (не самое элегентное решение, тем более, если элементов в списке будет очень много)"
   ]
  },
  {
   "cell_type": "code",
   "execution_count": 66,
   "metadata": {
    "scrolled": true
   },
   "outputs": [
    {
     "name": "stdout",
     "output_type": "stream",
     "text": [
      "14\n",
      "1.19 µs ± 283 ns per loop (mean ± std. dev. of 7 runs, 1000000 loops each)\n"
     ]
    }
   ],
   "source": [
    "lst = [x for x in range(26)]\n",
    "\n",
    "def linear_search(array,x):\n",
    "    \"\"\"\n",
    "    Find an element in a list\n",
    "    array - a list\n",
    "    x - searching variable\n",
    "    \n",
    "    \"\"\"\n",
    "    i,length = 0, len(array)\n",
    "    while i<length and x!= array[i]:\n",
    "        i+=1\n",
    "    return i if i<len(array) else None\n",
    "\n",
    "print(linear_search(lst,14))\n",
    "%timeit linear_search(lst,14)"
   ]
  },
  {
   "cell_type": "markdown",
   "metadata": {},
   "source": [
    "Но смущает то, что процедура выполняет по 2 проверки на каждой итерации - не вышли ли мы за границы списка и проверка равенства. Проще говоря, условие i < len(lst) из while надо бы убрать. Поместим элемент x в конец списка и будем точно уверены, что найдем искомый индекс. Если мы найдем “заменитель” (его еще называют ограничителем или барьером), то x в списке нет.\n",
    "### Оптимизированный вариант"
   ]
  },
  {
   "cell_type": "code",
   "execution_count": 65,
   "metadata": {},
   "outputs": [
    {
     "name": "stdout",
     "output_type": "stream",
     "text": [
      "3\n",
      "421 ns ± 9.52 ns per loop (mean ± std. dev. of 7 runs, 1000000 loops each)\n"
     ]
    }
   ],
   "source": [
    "def linear_search(array,x):\n",
    "    lst.append(x)\n",
    "    i = 0\n",
    "    while x!= array[i]:\n",
    "        i+=1\n",
    "    return i if i<( len(array)-1) else None\n",
    "\n",
    "print(linear_search(lst,3))\n",
    "%timeit linear_search(lst,3)"
   ]
  },
  {
   "cell_type": "markdown",
   "metadata": {},
   "source": [
    "### Алгоритмы сортировки\n",
    "#### Heap Sort"
   ]
  },
  {
   "cell_type": "markdown",
   "metadata": {},
   "source": [
    "Используем реализацию структуры данных \"куча\" из библиотеки heapq.\n",
    "Для сортировки нам понадобятся методы heappush и heappop - для вставки элемента в структуру и удаления элемента структры с сохраненим инварианта этой структуры данных - значения дочерних элементво меньше значения родительского элемента.\n",
    "Реализация алгоритма очень проста: из кучи последовательно извлекается максимальный (корневой) элемент и записывается в конец списка, пока куча не опустеет. Сложность алгоритма - O(n*log(n)), где n - длина списка на входе."
   ]
  },
  {
   "cell_type": "code",
   "execution_count": 64,
   "metadata": {},
   "outputs": [
    {
     "name": "stdout",
     "output_type": "stream",
     "text": [
      "[0, 1, 2, 3, 4, 5, 6, 7, 8, 9]\n",
      "2.8 µs ± 34.5 ns per loop (mean ± std. dev. of 7 runs, 100000 loops each)\n"
     ]
    }
   ],
   "source": [
    "import heapq\n",
    "def heapsort(array):\n",
    "    h = []\n",
    "    for value in array:\n",
    "        heapq.heappush(h, value)\n",
    "    return [heapq.heappop(h) for i in range(len(h))]\n",
    "\n",
    "print(heapsort([1, 3, 5, 7, 9, 2, 4, 6, 8, 0]))\n",
    "%timeit heapsort([1, 3, 5, 7, 9, 2, 4, 6, 8, 0])"
   ]
  },
  {
   "cell_type": "markdown",
   "metadata": {},
   "source": [
    "### QuickSort\n",
    "Один из самых известных алгоритмов сортировки, также известный как qsort. \n",
    "Без рандомизации может выглядеть очень лаконично"
   ]
  },
  {
   "cell_type": "code",
   "execution_count": 68,
   "metadata": {},
   "outputs": [
    {
     "name": "stdout",
     "output_type": "stream",
     "text": [
      "[0, 1, 2, 3, 4, 5, 6, 7, 8, 9]\n",
      "6.79 µs ± 20.4 ns per loop (mean ± std. dev. of 7 runs, 100000 loops each)\n"
     ]
    }
   ],
   "source": [
    "def quick_sort(arr):\n",
    "    if len(arr) <= 1:\n",
    "        return arr\n",
    "    else:\n",
    "        return quick_sort([x for x in arr[1:] if x < arr[0]]) + \\\n",
    "               [arr[0]] + \\\n",
    "               quick_sort([x for x in arr[1:] if x >= arr[0]])\n",
    "\n",
    "print(quick_sort([1, 3, 5, 7, 9, 2, 4, 6, 8, 0]))\n",
    "%timeit quick_sort([1, 3, 5, 7, 9, 2, 4, 6, 8, 0])"
   ]
  },
  {
   "cell_type": "markdown",
   "metadata": {},
   "source": [
    "### For more info look up here: \n",
    "https://github.com/Yorko/python_intro/blob/master/python_lesson3_data_structures1/lesson3_part2_search_sort.ipynb"
   ]
  }
 ],
 "metadata": {
  "kernelspec": {
   "display_name": "Python 3",
   "language": "python",
   "name": "python3"
  },
  "language_info": {
   "codemirror_mode": {
    "name": "ipython",
    "version": 3
   },
   "file_extension": ".py",
   "mimetype": "text/x-python",
   "name": "python",
   "nbconvert_exporter": "python",
   "pygments_lexer": "ipython3",
   "version": "3.6.1"
  }
 },
 "nbformat": 4,
 "nbformat_minor": 2
}
