{
 "cells": [
  {
   "cell_type": "markdown",
   "id": "ceb9ab5f-0b98-45b1-917c-d0ba50b6da4a",
   "metadata": {},
   "source": [
    "### Файлы\n",
    "#### Методы для работы с файлами\n",
    "- **file.close()** - закрывает открытый файл \n",
    "- **file.closed()** - Возвращает True если файл был закрыт\n",
    "- **file.mode()** - Возвращает режим доступа, с которым был открыт файл\n",
    "- **file.name()** - Возвращает имя файла\n",
    "- **file.softspace()** - Возвращает False если при выводе содержимого файла следует отдельно добавлять пробел\n",
    "- **file.write(str)** - Записывает любую строку в открытый файл \n",
    "- **file.read(size)** - Чтение символов (по умолчанию считает все символы)\n",
    "- **file.readline()** - Построчное чтение ( можно указать размер строк)\n",
    "- **file.readlines()** - Чтение всех строк\n",
    "- **file.tell()** - Указывает позицию указателя (или место где мы находимся в файле)\n",
    "- **file.seek(offset,[from])** - Переход на нужную позицию ( from: 0 - начало файла,1 - текущая позиция,2 - конец файла) \n",
    "- **file.decode()/file.encode()** - кодирование/декодирование файла\n",
    "- **os.rename(file,new_name)** - переименовывание файла\n",
    "- **file.isatty()** - возвращает True, если файл привязан к терминалу\n",
    "- **file.next()** - возвращает следующую строку файла\n",
    "- **file.flush()** - очищает внутренний буфер\n",
    "- **file.fileno()** - возвращает целочисленный дескриптор файла\n",
    "- **file.seekable()** - проверяет, поддерживает ли файл случайный доступ. Возвращает True, если да\n",
    "- **file.truncate(n)** - уменьшает размер файл. Если n указано, то файл обрезается до n байт, если нет — до текущей позиции\n",
    "- **file.writelines()** - добавляет последовательность строк в файл\n",
    "!!! Для расширенной работы с файлами необходимо использовать билиотеку **os**\n",
    "\n",
    "#### Режимы работы с файлами \n",
    "- **w** - запись (удалит всю информацию в файле и запишет новую).Если файла не существует, то он будет создан \n",
    "- **w+** - режим чтения и записи \n",
    "- **a** - добавление новой информации (append). Добавит новую информацию в конец файла\n",
    "- **a+** - добавление и чтение\n",
    "- **r** - только режим чтения файла\n",
    "- **r+** - режим чтения и записи "
   ]
  },
  {
   "cell_type": "code",
   "execution_count": null,
   "id": "8cb43b4b-3e50-46f7-819b-f0b52400c1ed",
   "metadata": {},
   "outputs": [],
   "source": [
    "credit_file = open('C:/Users/vladislav/Python files/debts.txt','r')\n",
    "for line in credit_file:\n",
    "    line = line.strip().split(',')\n",
    "    print(line)\n",
    "credit_file.close()"
   ]
  },
  {
   "cell_type": "code",
   "execution_count": null,
   "id": "2bef5e0a-1e0e-47e0-8784-c91cecc9667c",
   "metadata": {},
   "outputs": [],
   "source": [
    "credit_file = open('C:/Users/vladislav/Python files/debts.txt','r')\n",
    "first_line = credit_file.readline()\n",
    "\n",
    "credit_dict = {}\n",
    "\n",
    "for line in credit_file:\n",
    "    last_name, age, debt, occupation = line.strip().split(',')\n",
    "    credit_dict[last_name] = (int(age),int(debt),occupation)\n",
    "\n",
    "print(credit_dict)\n",
    "credit_file.close()"
   ]
  },
  {
   "cell_type": "code",
   "execution_count": null,
   "id": "5eb62f83-aeb7-47ec-a926-056900eef654",
   "metadata": {},
   "outputs": [],
   "source": [
    "line = ''\n",
    "while line != 'stop':\n",
    "    line = input('Input new debt information: ').strip()\n",
    "    if line == 'stop':\n",
    "        break\n",
    "    else:\n",
    "        last_name, age, debt, occupation = line.split(',')\n",
    "        credit_dict[last_name] = (int(age),int(debt),occupation)\n",
    "print(credit_dict)"
   ]
  },
  {
   "cell_type": "code",
   "execution_count": null,
   "id": "e721061f-82eb-4bc1-86d8-71147b57ec50",
   "metadata": {},
   "outputs": [],
   "source": []
  }
 ],
 "metadata": {
  "kernelspec": {
   "display_name": "Python 3",
   "language": "python",
   "name": "python3"
  },
  "language_info": {
   "codemirror_mode": {
    "name": "ipython",
    "version": 3
   },
   "file_extension": ".py",
   "mimetype": "text/x-python",
   "name": "python",
   "nbconvert_exporter": "python",
   "pygments_lexer": "ipython3",
   "version": "3.7.9"
  }
 },
 "nbformat": 4,
 "nbformat_minor": 5
}
