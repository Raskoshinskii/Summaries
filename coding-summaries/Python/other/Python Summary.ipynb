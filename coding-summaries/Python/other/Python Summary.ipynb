{
 "cells": [
  {
   "cell_type": "markdown",
   "metadata": {},
   "source": [
    "### Python Summary\n",
    "Main point that we must rememebr when working with Python\n",
    "\n",
    "- Variables are links to objects (Int, Str, List...)\n",
    "- If a varibale(link) isn't connected with any object, it's deleted by garbage-collector;\n",
    "- Raising to power is working from the right to the left! (e.g. 2\\**3\\**4 ~ 2\\**81);\n",
    "- If - elif - elif - ... - else;\n",
    "- Ternary operator: value if value ... else ... (this is how it looks);\n",
    "- None or empty string ~ False, all the rest is True (numbers, True, values...);\n",
    "- Range operator may be considered like that \\[...\\)\\;\n",
    "- Mutuable elements inside a tuple can be changed;\n",
    "- Whenever you see this: 1, ~ it's a tuple (thus when a function returns multiple variables, it returns a tuple);\n",
    "- If we set values with * operator ~ data is packing. If we provide data with * operator, data is unpacking;\n",
    "- Global variables must be capitalized;\n",
    "- Cycles don't define scope of variables!\n",
    "- Keyword **nonlocal** means that this variables will refer to a variable with higher scope of variables;"
   ]
  },
  {
   "cell_type": "markdown",
   "metadata": {},
   "source": [
    "### Generators and Iterators"
   ]
  },
  {
   "cell_type": "markdown",
   "metadata": {},
   "source": [
    "- Generator is an iterator whose elements can be iterated onle once;\n",
    "- Iterator is an object that supports the function next() for selecting the next element;\n",
    "- Iterating Object - is an object allowing iterating over all elements (e.g list);"
   ]
  },
  {
   "cell_type": "code",
   "execution_count": 2,
   "metadata": {},
   "outputs": [
    {
     "data": {
      "text/plain": [
       "1"
      ]
     },
     "execution_count": 2,
     "metadata": {},
     "output_type": "execute_result"
    }
   ],
   "source": [
    "my_list = [1,2,3,4]\n",
    "\n",
    "# To conver a list into iterator use iter()\n",
    "my_iter = iter(my_list)\n",
    "\n",
    "next(my_iter)"
   ]
  },
  {
   "cell_type": "markdown",
   "metadata": {},
   "source": [
    "- We need iterators and generators because they don't store into memory all values. They generate them when it's needed;\n",
    "- The main idea of generators: save memory;"
   ]
  },
  {
   "cell_type": "code",
   "execution_count": 7,
   "metadata": {},
   "outputs": [
    {
     "data": {
      "text/plain": [
       "<generator object <genexpr> at 0x00000137F2C65CC8>"
      ]
     },
     "execution_count": 7,
     "metadata": {},
     "output_type": "execute_result"
    }
   ],
   "source": [
    "# This is not going to work (takes up much memory)\n",
    "#my_list = [x for x in range(10**12)]\n",
    "\n",
    "# This is going to wotk \n",
    "gen = (x for x in range(10**12))\n",
    "gen"
   ]
  },
  {
   "cell_type": "markdown",
   "metadata": {},
   "source": [
    "- gen: iterator because it supports the next()\n",
    "- (x for x in range(10\\**12)): generator expression"
   ]
  },
  {
   "cell_type": "code",
   "execution_count": 8,
   "metadata": {},
   "outputs": [
    {
     "name": "stdout",
     "output_type": "stream",
     "text": [
      "0\n",
      "1\n",
      "2\n",
      "3\n",
      "4\n"
     ]
    }
   ],
   "source": [
    "# To iterate generator we have to use for:\n",
    "for val in gen:\n",
    "    print(val)\n",
    "    if val>= 4:\n",
    "        break"
   ]
  },
  {
   "cell_type": "code",
   "execution_count": 9,
   "metadata": {},
   "outputs": [
    {
     "name": "stdout",
     "output_type": "stream",
     "text": [
      "5\n",
      "6\n"
     ]
    }
   ],
   "source": [
    "# Running iteration again, we start from 5. Because generator allows  iteration only once\n",
    "for val in gen:\n",
    "    print(val)\n",
    "    if val >=6:\n",
    "        break"
   ]
  },
  {
   "cell_type": "markdown",
   "metadata": {},
   "source": [
    "### Generator Functions \n",
    "We need them in oreder not to keep iterable elements in lists. Iterating through many elements leads to takin up much memory.\n",
    "\n",
    "Generator Functions use a keyword **yeild.** Yeild returns a value and freezes a current state of a function. Next iteration starts from the next element after yeilded value."
   ]
  },
  {
   "cell_type": "markdown",
   "metadata": {},
   "source": [
    "### Functions map, filter and zip\n",
    "### Map (func, *iterables)\n",
    "Allows applying a certain function for each element of a collection\n",
    "- Prove only a reference to the function in map;\n",
    "- Often func is lambda;\n",
    "- Map is an generator object (i.e. it returns generator);\n",
    "- Func must take in only one argument because it will be iterating)"
   ]
  },
  {
   "cell_type": "code",
   "execution_count": 16,
   "metadata": {},
   "outputs": [
    {
     "data": {
      "text/plain": [
       "<map at 0x137f32fdc88>"
      ]
     },
     "execution_count": 16,
     "metadata": {},
     "output_type": "execute_result"
    }
   ],
   "source": [
    "# Will get a generator\n",
    "my_lst = [1,2,3]\n",
    "res = map(lambda x: x**2, my_lst)\n",
    "res"
   ]
  },
  {
   "cell_type": "code",
   "execution_count": 17,
   "metadata": {},
   "outputs": [
    {
     "data": {
      "text/plain": [
       "[1, 4, 9]"
      ]
     },
     "execution_count": 17,
     "metadata": {},
     "output_type": "execute_result"
    }
   ],
   "source": [
    "# Will conver a generator into a list\n",
    "my_lst = [1,2,3]\n",
    "res = list(map(lambda x: x**2, my_lst))\n",
    "res"
   ]
  },
  {
   "cell_type": "code",
   "execution_count": 20,
   "metadata": {},
   "outputs": [
    {
     "name": "stdout",
     "output_type": "stream",
     "text": [
      "[1, 4, 9]\n"
     ]
    }
   ],
   "source": [
    "# To prove that map returns a genrator object, have a look\n",
    "def sq(x):\n",
    "    return x**2\n",
    "\n",
    "res_1 = (sq(x) for x in my_lst)\n",
    "print(list(res_1))"
   ]
  },
  {
   "cell_type": "code",
   "execution_count": 29,
   "metadata": {},
   "outputs": [
    {
     "data": {
      "text/plain": [
       "['VLAD', 'MAX', 'NASTIA']"
      ]
     },
     "execution_count": 29,
     "metadata": {},
     "output_type": "execute_result"
    }
   ],
   "source": [
    "# This example is also cool\n",
    "my_lst = ['Vlad', 'Max', 'Nastia']\n",
    "\n",
    "res = list(map(str.upper, my_lst))\n",
    "res"
   ]
  },
  {
   "cell_type": "markdown",
   "metadata": {},
   "source": [
    "### Filter(func, *iterables)\n",
    "Returns elements for which the func returns True\n",
    "- Lambda func are preferable here!"
   ]
  },
  {
   "cell_type": "code",
   "execution_count": 23,
   "metadata": {},
   "outputs": [
    {
     "data": {
      "text/plain": [
       "['Vlad', 'Nastia']"
      ]
     },
     "execution_count": 23,
     "metadata": {},
     "output_type": "execute_result"
    }
   ],
   "source": [
    "my_lst = ['Vlad', 'Max', 'Nastia']\n",
    "\n",
    "def more_than_3(value):\n",
    "    if len(value)>3:\n",
    "        return value\n",
    "    \n",
    "res = list(filter(more_than_3, my_lst))\n",
    "res"
   ]
  },
  {
   "cell_type": "markdown",
   "metadata": {},
   "source": [
    "### Zip (*iterables)\n",
    "- Allows joining ordered collection elements;\n",
    "- The final result depends on the elemetns length of each collection"
   ]
  },
  {
   "cell_type": "code",
   "execution_count": 35,
   "metadata": {},
   "outputs": [
    {
     "data": {
      "text/plain": [
       "[(1, 4, 'a'), (2, 5, 's'), (3, 6, 'd')]"
      ]
     },
     "execution_count": 35,
     "metadata": {},
     "output_type": "execute_result"
    }
   ],
   "source": [
    "lst_1 = [1,2,3]\n",
    "lst_2 = [4,5,6]\n",
    "text = 'asdasdasd'\n",
    "\n",
    "res = list(zip(lst_1, lst_2, text))\n",
    "res"
   ]
  },
  {
   "cell_type": "markdown",
   "metadata": {},
   "source": [
    "### Functions sorted() vs .sort()\n",
    "- .sort() can be applied only to lists and it changes the original list!\n",
    "- sorted() can be applied to ordered collections (str, tuples...);\n",
    "- sorted() always returns a list!\n",
    "- mixed data types can't be sorted!"
   ]
  },
  {
   "cell_type": "markdown",
   "metadata": {},
   "source": [
    "- both function have an argument reverse that controls the sorting operation: True ASC and False:DESC"
   ]
  },
  {
   "cell_type": "code",
   "execution_count": 37,
   "metadata": {},
   "outputs": [
    {
     "name": "stdout",
     "output_type": "stream",
     "text": [
      "[7, 10, 100]\n",
      "[' ', ' ', ' ', ' ', 'a', 'a', 'e', 'g', 'h', 'h', 'i', 'i', 'i', 'l', 'm', 'n', 'n', 'n', 'o', 'p', 'r', 't', 'y']\n"
     ]
    }
   ],
   "source": [
    "my_tuple = (100,10,7)\n",
    "my_text = 'hi i am learning python'\n",
    "\n",
    "print(sorted(my_tuple))\n",
    "print(sorted(my_text))"
   ]
  },
  {
   "cell_type": "code",
   "execution_count": 39,
   "metadata": {},
   "outputs": [
    {
     "name": "stdout",
     "output_type": "stream",
     "text": [
      "[100, 10, 7]\n"
     ]
    }
   ],
   "source": [
    "print(sorted(my_tuple, reverse = True))"
   ]
  },
  {
   "cell_type": "markdown",
   "metadata": {},
   "source": [
    "- sorted() allows creating own sorting functions. It is called sorting using keys!\n"
   ]
  },
  {
   "cell_type": "code",
   "execution_count": 41,
   "metadata": {},
   "outputs": [
    {
     "data": {
      "text/plain": [
       "['New York', 'Chicago', 'Moscow', 'Rome']"
      ]
     },
     "execution_count": 41,
     "metadata": {},
     "output_type": "execute_result"
    }
   ],
   "source": [
    "cities = ['Chicago', 'New York', 'Rome', 'Moscow']\n",
    "\n",
    "res = sorted(cities, key = lambda x: len(x), reverse = True)\n",
    "res"
   ]
  },
  {
   "cell_type": "markdown",
   "metadata": {},
   "source": [
    "### Try - except - else - finally\n",
    "- block **try:** here we place critical code (critical because errors are probable)\n",
    "- block **except:** here we process exceptions (e.g ValueError, TypeError and so on);\n",
    "- block **else:** will be executed if no exceptions have occured;\n",
    "- block **finally:** will be always executed though errors/exceptions have occured;\n"
   ]
  },
  {
   "cell_type": "markdown",
   "metadata": {},
   "source": [
    "### Files\n",
    "We start working with files with the help of the function **open( file_path, mode, encoding ).**\n",
    "File Object is iterable and returns a new line on each iteration!\n",
    "\n",
    "By default open() opens files in reading mode. The main modes:\n",
    "- 'r' - reading\n",
    "- 'w' - writing (deletes info if exists and writes new one. If a file doesn't exist, creates it);\n",
    "- 'a' - appends new info to the end of a file (doesn't delete previous info)\n",
    "\n",
    "File inside has a so-called file position. Every time we read a file, it changes its position.\n",
    "- **file.seek(position)** # controls the file position;\n",
    "- **file.tell()** # returns a current position of a file position;\n",
    "- **file.readline()** # row-wise reading;\n",
    "- **file.readlines()** # reads all rows with all line breaks\n",
    "\n",
    "File must be always closed after processing!\n",
    "- Release memory\n",
    "- Prevents data loss. When a file was closed, it saves written info in a file.\n",
    "\n",
    "When working with files context managers are often used. Context manager starts with a keyword **with**\n",
    "It automatically closes a file.\n",
    "\n",
    "For writing the following functions are used:\n",
    "- **file.write(text)**\n",
    "- **file.writelines(text)**\n",
    "\n",
    "It is important to know in which mode we are working with a file:\n",
    "- If mode is read: we can't write\n",
    "- If mode is write: we can't read\n",
    "\n",
    "To solve above problems use:\n",
    "- 'a+' can append and read\n",
    "- 'w+' can write and read"
   ]
  },
  {
   "cell_type": "markdown",
   "metadata": {},
   "source": [
    "### Packages and Modules\n",
    "It is different terms\n",
    "\n",
    "Package is a specially organized subcatalog which includes a set of modules.\n",
    "\n",
    "**\\_\\_init__.py** must be in each module. Its presence means that a current catalog is a package. In **\\_\\_init__.py** initializes the package if it's needed (may be empty). Inside we can define the attribute **\\_\\_all__ = [ module_names ]** which will be called when we import all modules from a package.\n",
    "\n",
    "pip is Python Package Manager"
   ]
  },
  {
   "cell_type": "code",
   "execution_count": 100,
   "metadata": {},
   "outputs": [
    {
     "name": "stdout",
     "output_type": "stream",
     "text": [
      "['This is a new line\\n', 'This is the second lineNew text\\n', 'New text']\n"
     ]
    }
   ],
   "source": [
    "generated_text = 'This is a new line\\nThis is the second line'\n",
    "new_text = '\\nNew text'\n",
    "\n",
    "with open('C:/Users/vlad/Desktop/working_files/my_file.txt', 'r+') as file:\n",
    "    text = file.readlines()\n",
    "    #file.write(new_text)\n",
    "    print(text)"
   ]
  }
 ],
 "metadata": {
  "kernelspec": {
   "display_name": "Python 3",
   "language": "python",
   "name": "python3"
  },
  "language_info": {
   "codemirror_mode": {
    "name": "ipython",
    "version": 3
   },
   "file_extension": ".py",
   "mimetype": "text/x-python",
   "name": "python",
   "nbconvert_exporter": "python",
   "pygments_lexer": "ipython3",
   "version": "3.7.9"
  }
 },
 "nbformat": 4,
 "nbformat_minor": 4
}
