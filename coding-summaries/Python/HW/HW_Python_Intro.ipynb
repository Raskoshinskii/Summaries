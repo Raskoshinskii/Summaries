{
 "cells": [
  {
   "cell_type": "markdown",
   "id": "29db8172-bfdb-4db3-aad6-fe4ab10e4b55",
   "metadata": {},
   "source": [
    "### Home Work 1 (Python Intro)"
   ]
  },
  {
   "cell_type": "markdown",
   "id": "15b3c526-c57c-424e-81ed-e37bee9a5148",
   "metadata": {},
   "source": [
    "### Задание 1\n",
    "Предположим вы хотите создать программу которая собирает информацию о учениках, изучающих Python. Ваша программа должна задавать интересущие вопросы и сохранять результат в переменные (например: имя, фамилия, возраст). \n",
    "\n",
    "Незабудьте учесть тип переменных и преобразовать их (возраст, стаж программирования).Число вопросов произвольное"
   ]
  },
  {
   "cell_type": "code",
   "execution_count": null,
   "id": "ed84ee19-cd5c-4ce6-8729-e295de9023c0",
   "metadata": {},
   "outputs": [],
   "source": [
    "# Код "
   ]
  },
  {
   "cell_type": "markdown",
   "id": "72390a81-249f-46b5-b98c-35c2fec70d78",
   "metadata": {},
   "source": [
    "### Задание 2\n",
    "Напишите программу которая считывает числа с клавиатуры и затем дублирует введенное число n раз"
   ]
  },
  {
   "cell_type": "code",
   "execution_count": null,
   "id": "26626146-458e-4dc2-9180-360775a8041e",
   "metadata": {},
   "outputs": [],
   "source": [
    "# Код "
   ]
  },
  {
   "cell_type": "markdown",
   "id": "25da13a2-0834-4354-98c2-9f2eb2d3a732",
   "metadata": {},
   "source": [
    "### Задание 3\n",
    "Напишите программу которая считывает два сообщения (либой текст) и выводит их длину "
   ]
  },
  {
   "cell_type": "code",
   "execution_count": null,
   "id": "dc755fd1-5458-434e-9ce9-191199f3e328",
   "metadata": {},
   "outputs": [],
   "source": [
    "# Код "
   ]
  },
  {
   "cell_type": "markdown",
   "id": "23ba99d8-919c-495c-853d-e2110b37aeb7",
   "metadata": {},
   "source": [
    "### Задание 4\n",
    "Напишите программу которая считвает число с клавиатуры и выводит тоже самое число но в формате str если оно четное, если нет - тоже число только дублирующееся n раз (n - любое)\n",
    "\n",
    "Пример\n",
    "- `number = 5 -> 55555 (n = 5)`\n",
    "- `number = 10 -> '10'`"
   ]
  },
  {
   "cell_type": "code",
   "execution_count": null,
   "id": "e2f1efe8-69d3-4bdf-969a-bb4af8248ff7",
   "metadata": {},
   "outputs": [],
   "source": [
    "# Код "
   ]
  }
 ],
 "metadata": {
  "kernelspec": {
   "display_name": "Python 3",
   "language": "python",
   "name": "python3"
  },
  "language_info": {
   "codemirror_mode": {
    "name": "ipython",
    "version": 3
   },
   "file_extension": ".py",
   "mimetype": "text/x-python",
   "name": "python",
   "nbconvert_exporter": "python",
   "pygments_lexer": "ipython3",
   "version": "3.7.9"
  }
 },
 "nbformat": 4,
 "nbformat_minor": 5
}
