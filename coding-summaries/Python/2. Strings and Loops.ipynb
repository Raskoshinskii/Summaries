{
 "cells": [
  {
   "cell_type": "markdown",
   "metadata": {
    "jp-MarkdownHeadingCollapsed": true,
    "tags": []
   },
   "source": [
    "### 1. Строки и Основные Методы"
   ]
  },
  {
   "cell_type": "markdown",
   "metadata": {
    "tags": []
   },
   "source": [
    "**Основные Методы**\n",
    "- **str.upper( )** - возводит строку в верхний регистр\n",
    "- **str.lower( )** - возводит строку в нижний регистр\n",
    "- **str.capitalize( )** -  начало строки начинается с заглавной буквы\n",
    "- **str.title( )** - каждое новое слово в строке пишется с заглавной буквы\n",
    "</br>\n",
    "\n",
    "- **str.index( )** - возвращает индекс элемента строки (ищет слева на право)\n",
    "- **str.rindex( )**  - аналог, но ищет справа на лево\n",
    "- **str.find( )**  - возвращает индекс первого вхождения в строке\n",
    "- **str.rfind( )**  - аналог, но ищет справа на лево\n",
    "</br>\n",
    "- **len( str )** - возвращает длину строки\n",
    "- **str.split( symbol )**  - разбивает строку согласно параметру\n",
    "- **join( list_of_strings )**  - создает строку из поледовательности строк\n",
    "- **replace( what_replace, new_symbol )**  - замена подстроки строкой\n",
    "- **strip( delimeter )** - удаляет символы слева и справа из строки согласно параметру \n",
    "</br>\n",
    "- **isdigit( )** - проверяет если строка полностью состоит из цифр\n",
    "- **isalpha( )** - проверяет если строка полностью состоит из букв\n",
    "- **isalnum( )** - проверяет если строка состоит из букв и цифр\n",
    "- **islower( )** - проверяет если вся строка в нижнем регистре\n",
    "- **isupper( )** - проверяет если вся строка в верхнем регистре\n",
    "- **istitle( )** - проверяет если каждое новое слово в строке пишется с заглавной буквы\n",
    "- **isspace( )** - проверяет если строка полностью состоит из пробелов\n",
    "</br>\n",
    "- **endswith( )** - проверяет если строка заканчивается с какой то последовательности\n",
    "- **startswith( )** - проверяет если строка начинается с какой то последовательности\n",
    "\n",
    "**Хитрость**\n",
    "- Как найти только уникальные элементы строки `(''.join(set(str) )`"
   ]
  },
  {
   "cell_type": "markdown",
   "metadata": {},
   "source": [
    "**upper, lower, title, capitalize**"
   ]
  },
  {
   "cell_type": "code",
   "execution_count": 8,
   "metadata": {},
   "outputs": [
    {
     "name": "stdout",
     "output_type": "stream",
     "text": [
      "КУРС ПО PYTHON\n",
      "курс по python\n",
      "Курс По Python\n",
      "Курс по python\n"
     ]
    }
   ],
   "source": [
    "name = 'курс по python'\n",
    "print(name.upper())\n",
    "print(name.lower())\n",
    "print(name.title())\n",
    "print(name.capitalize())"
   ]
  },
  {
   "cell_type": "markdown",
   "metadata": {},
   "source": [
    "**Конкатенация строк**\n",
    "\n",
    "Строки можно складывать (склеивать) друг с другом"
   ]
  },
  {
   "cell_type": "code",
   "execution_count": 9,
   "metadata": {},
   "outputs": [
    {
     "name": "stdout",
     "output_type": "stream",
     "text": [
      "Василий Иванов изучает python\n"
     ]
    }
   ],
   "source": [
    "first_name = 'Василий'\n",
    "last_name = 'Иванов'\n",
    "full_name = first_name + ' ' + last_name\n",
    "message = full_name.title() + ' изучает python'\n",
    "print(message)"
   ]
  },
  {
   "cell_type": "markdown",
   "metadata": {},
   "source": [
    "**strip**"
   ]
  },
  {
   "cell_type": "code",
   "execution_count": 10,
   "metadata": {},
   "outputs": [
    {
     "name": "stdout",
     "output_type": "stream",
     "text": [
      "-Василий -\n",
      "- Василий-\n",
      "-Василий-\n"
     ]
    }
   ],
   "source": [
    "name = ' Василий '\n",
    "\n",
    "print('-' + name.lstrip() + '-')\n",
    "print('-' + name.rstrip() + '-')\n",
    "print('-' + name.strip() + '-')"
   ]
  },
  {
   "cell_type": "markdown",
   "metadata": {},
   "source": [
    "**split**"
   ]
  },
  {
   "cell_type": "code",
   "execution_count": 12,
   "metadata": {},
   "outputs": [
    {
     "name": "stdout",
     "output_type": "stream",
     "text": [
      "['Я', 'бы', 'хотел', 'изучить', 'python']\n"
     ]
    }
   ],
   "source": [
    "message = 'Я бы хотел изучить python'\n",
    "print(message.split(' '))"
   ]
  },
  {
   "cell_type": "markdown",
   "metadata": {},
   "source": [
    "**index and find** "
   ]
  },
  {
   "cell_type": "code",
   "execution_count": 13,
   "metadata": {},
   "outputs": [
    {
     "name": "stdout",
     "output_type": "stream",
     "text": [
      "Index:  11\n",
      "Rindex:  11\n",
      "Find:  11\n",
      "RFind:  11\n"
     ]
    }
   ],
   "source": [
    "print('Index: ', message.index('изучить'))\n",
    "print('Rindex: ', message.rindex('изучить'))\n",
    "print('Find: ', message.find('изучить'))\n",
    "print('RFind: ', message.rfind('изучить'))"
   ]
  },
  {
   "cell_type": "markdown",
   "metadata": {},
   "source": [
    "**join**"
   ]
  },
  {
   "cell_type": "code",
   "execution_count": 16,
   "metadata": {},
   "outputs": [
    {
     "name": "stdout",
     "output_type": "stream",
     "text": [
      "Я изучаю python\n"
     ]
    }
   ],
   "source": [
    "full_sentence = ' '.join(['Я', 'изучаю', 'python'])\n",
    "print(full_sentence)"
   ]
  },
  {
   "cell_type": "markdown",
   "metadata": {},
   "source": [
    "**replace and strip**"
   ]
  },
  {
   "cell_type": "code",
   "execution_count": 20,
   "metadata": {},
   "outputs": [
    {
     "name": "stdout",
     "output_type": "stream",
     "text": [
      "Replace:  ***Он бы хотел изучить python%%%\n",
      "Strip:  Он бы хотел изучить python\n"
     ]
    }
   ],
   "source": [
    "message = '***Я бы хотел изучить python%%%'\n",
    "print('Replace: ', message.replace('Я','Он'))\n",
    "print('Strip: ', message.strip('*%').replace('Я', 'Он'))"
   ]
  },
  {
   "cell_type": "markdown",
   "metadata": {},
   "source": [
    "**isdigit, isalpha, isalnum, ...**"
   ]
  },
  {
   "cell_type": "code",
   "execution_count": 21,
   "metadata": {},
   "outputs": [
    {
     "name": "stdout",
     "output_type": "stream",
     "text": [
      "False\n",
      "False\n",
      "False\n",
      "False\n",
      "False\n",
      "False\n"
     ]
    }
   ],
   "source": [
    "print(message.isalpha())\n",
    "print(message.isalnum())\n",
    "print(message.islower())\n",
    "print(message.isupper())\n",
    "print(message.istitle())\n",
    "print(message.isspace())"
   ]
  },
  {
   "cell_type": "markdown",
   "metadata": {},
   "source": [
    "**startswith and endswith**"
   ]
  },
  {
   "cell_type": "code",
   "execution_count": 24,
   "metadata": {},
   "outputs": [
    {
     "name": "stdout",
     "output_type": "stream",
     "text": [
      "True\n",
      "False\n"
     ]
    }
   ],
   "source": [
    "message = 'Я бы хотел изучить python'\n",
    "print(message.startswith('Я бы хотел'))\n",
    "print(message.endswith('изучить'))"
   ]
  },
  {
   "cell_type": "markdown",
   "metadata": {
    "jp-MarkdownHeadingCollapsed": true,
    "tags": []
   },
   "source": [
    "### 2. Форматирование Строк"
   ]
  },
  {
   "cell_type": "markdown",
   "metadata": {},
   "source": [
    "Существует несколко методов форматирования строк:\n",
    "- метод format()\n",
    "- %\n",
    "- f-strings (ф-строки)"
   ]
  },
  {
   "cell_type": "code",
   "execution_count": 4,
   "metadata": {},
   "outputs": [
    {
     "name": "stdout",
     "output_type": "stream",
     "text": [
      "Модель ferrari стоит 200000$\n"
     ]
    }
   ],
   "source": [
    "# format\n",
    "car = 'ferrari'\n",
    "price = 200000\n",
    "print('Модель {0} стоит {1}$'.format(car, price))"
   ]
  },
  {
   "cell_type": "code",
   "execution_count": 5,
   "metadata": {},
   "outputs": [
    {
     "name": "stdout",
     "output_type": "stream",
     "text": [
      "Модель ferrari стоит 200000\n"
     ]
    }
   ],
   "source": [
    "# %\n",
    "print('Модель %s стоит %d' %(car, price))"
   ]
  },
  {
   "cell_type": "code",
   "execution_count": 6,
   "metadata": {},
   "outputs": [
    {
     "name": "stdout",
     "output_type": "stream",
     "text": [
      "Модель ferrari стоит 200000\n"
     ]
    }
   ],
   "source": [
    "# f-strings \n",
    "print(f'Модель {car} стоит {price}')"
   ]
  },
  {
   "cell_type": "markdown",
   "metadata": {},
   "source": [
    "**Отступы**\n",
    "\n",
    "- \"  \" - space\n",
    "- \"\\t\" - tabulation \n",
    "- \"\\n\" - new line"
   ]
  },
  {
   "cell_type": "code",
   "execution_count": 7,
   "metadata": {},
   "outputs": [
    {
     "name": "stdout",
     "output_type": "stream",
     "text": [
      "\tСтрока с табудяцией\n",
      "\n",
      "Строка на новой строке\n"
     ]
    }
   ],
   "source": [
    "print('\\tСтрока с табудяцией')\n",
    "print('\\nСтрока на новой строке')"
   ]
  },
  {
   "cell_type": "markdown",
   "metadata": {
    "jp-MarkdownHeadingCollapsed": true,
    "tags": []
   },
   "source": [
    "### 3. Срез Строки"
   ]
  },
  {
   "attachments": {
    "467336c9-6ef1-4c15-b695-f4120b7a7cb7.png": {
     "image/png": "[encoded data removed]"
    }
   },
   "cell_type": "markdown",
   "metadata": {},
   "source": [
    "Очень полезно уметь осуществлять срез/индексацию строки. Например, выбрать только первые/последние n - символов строки, перевернуть строку ...\n",
    "\n",
    "![image.png](attachment:467336c9-6ef1-4c15-b695-f4120b7a7cb7.png)\n",
    "\n",
    "**Важно**\n",
    "- Общий формат стреза строки имеет вид: `str[start_index : end_index : step]`\n",
    "- Если не указан начальный индекс и указан конечный - это аналогично условию: с самого начала строки и до конечного\n",
    "- Если указан начальный индекс и не указан конечный - это аналогично условию: c начального и да самого конца строки"
   ]
  },
  {
   "cell_type": "code",
   "execution_count": 29,
   "metadata": {},
   "outputs": [
    {
     "name": "stdout",
     "output_type": "stream",
     "text": [
      "Первые 3 символов строки:  это\n",
      "Последние 3 символов строки:  ока\n",
      "Строка справа налево (перевернутая строка):  акортс яавотсет отэ\n",
      "C 3 символа и доконца:   тестовая строка\n"
     ]
    }
   ],
   "source": [
    "n = 3\n",
    "my_str = 'это тестовая строка'\n",
    "\n",
    "print(f'Первые {n} символов строки: ', my_str[:n])\n",
    "print(f'Последние {n} символов строки: ', my_str[-n:])\n",
    "print('Строка справа налево (перевернутая строка): ', my_str[::-1])\n",
    "print('C 3 символа и доконца: ', my_str[3:])"
   ]
  },
  {
   "cell_type": "markdown",
   "metadata": {},
   "source": [
    "Для работы со строками очень полезно владеть регулярными выражениями - Regular Expressions"
   ]
  },
  {
   "cell_type": "markdown",
   "metadata": {},
   "source": [
    "- https://realpython.com/python-strings/ (более подробно о строках в python)"
   ]
  },
  {
   "cell_type": "markdown",
   "metadata": {
    "jp-MarkdownHeadingCollapsed": true,
    "tags": []
   },
   "source": [
    "### 4. Циклы и Операторы break, continue "
   ]
  },
  {
   "cell_type": "markdown",
   "metadata": {},
   "source": [
    "В Python существует два основных цикла - `for` and `while`, а операторы `break` и `continue` могут используются в обоих циклах и служат для управления логикой цикла \n",
    "\n",
    "**Цикл for**\n",
    "\n",
    "Обычно используется когда нам необходимо \"пробежаться по како-либо\" последовательности элементов/данных"
   ]
  },
  {
   "cell_type": "raw",
   "metadata": {},
   "source": [
    "# Общая структура\n",
    "for <имя_итерирруемой_переменной> in <последовательность>: \n",
    "    дальнейшие действия"
   ]
  },
  {
   "cell_type": "code",
   "execution_count": 33,
   "metadata": {},
   "outputs": [
    {
     "name": "stdout",
     "output_type": "stream",
     "text": [
      "p y t h o n "
     ]
    }
   ],
   "source": [
    "# Строка является последовательнотью символов, поэтому можно использовать цикл for \n",
    "message = 'python'\n",
    "for symbol in message:\n",
    "    print(symbol, end=' ')"
   ]
  },
  {
   "cell_type": "markdown",
   "metadata": {},
   "source": [
    "- https://realpython.com/python-for-loop/ (более подробо о цикле for в python)"
   ]
  },
  {
   "cell_type": "markdown",
   "metadata": {},
   "source": [
    "**Цикл While**\n",
    "\n",
    "Цикл выполняется до тех пор пока истино некоторое условие. Как только условие нарушается, цикл прекращает работу. При использовании данного цикла обычно всегда задается переменная с некоторым начальным значением, затем от итерации к итерации ее значение изменяется до тех пор пока не нарушится истинность условия цикла while"
   ]
  },
  {
   "cell_type": "code",
   "execution_count": 34,
   "metadata": {},
   "outputs": [
    {
     "name": "stdout",
     "output_type": "stream",
     "text": [
      "Текущее значение переменной counter:  1\n",
      "Текущее значение переменной counter:  2\n",
      "Текущее значение переменной counter:  3\n",
      "Текущее значение переменной counter:  4\n"
     ]
    }
   ],
   "source": [
    "# Самый простой пример с counter (счетчик)\n",
    "counter = 1\n",
    "while counter < 5:\n",
    "    print('Текущее значение переменной counter: ', counter)\n",
    "    counter += 1"
   ]
  },
  {
   "cell_type": "markdown",
   "metadata": {},
   "source": [
    "**Оператор break**\n",
    "\n",
    "Используется чтобы прекраить цикл. Как только встречается команда break в цикле, цикл прекращает свою работу "
   ]
  },
  {
   "cell_type": "code",
   "execution_count": 41,
   "metadata": {},
   "outputs": [
    {
     "name": "stdout",
     "output_type": "stream",
     "text": [
      "Текущее значение: 1 Текущая сумма 1\n",
      "Текущее значение: 2 Текущая сумма 3\n",
      "Текущее значение: 3 Текущая сумма 6\n",
      "Текущее значение: 4 Текущая сумма 10\n",
      "Текущее значение: 5 Текущая сумма 15\n",
      "Текущее значение: 6 Текущая сумма 21\n"
     ]
    }
   ],
   "source": [
    "# Предположим мы хотим чтобы цикл выводил значения только \n",
    "numbers = range(1, 10) # создадим последовательност значений\n",
    "sum = 0\n",
    "for value in numbers:\n",
    "    if sum < 20:\n",
    "        sum += value\n",
    "        print(f'Текущее значение: {value} Текущая сумма {sum}')\n",
    "    else:\n",
    "        break"
   ]
  },
  {
   "cell_type": "markdown",
   "metadata": {},
   "source": [
    "**Оператор continue**\n",
    "\n",
    "В отличие от оператора break, continue лишь перестает выполнять дальнейшие команды следующее после него и преходит к следующему элементу в цикле"
   ]
  },
  {
   "cell_type": "code",
   "execution_count": 42,
   "metadata": {},
   "outputs": [
    {
     "name": "stdout",
     "output_type": "stream",
     "text": [
      "2 четное\n",
      "4 четное\n",
      "6 четное\n",
      "8 четное\n"
     ]
    }
   ],
   "source": [
    "numbers = range(1, 10)\n",
    "for value in numbers:\n",
    "    if value % 2 == 0:\n",
    "        print(f'{value} четное')\n",
    "    else:\n",
    "        continue "
   ]
  },
  {
   "cell_type": "markdown",
   "metadata": {},
   "source": [
    "- https://realpython.com/python-while-loop/ (более подробно о цикле while в python)"
   ]
  }
 ],
 "metadata": {
  "kernelspec": {
   "display_name": "Python 3",
   "language": "python",
   "name": "python3"
  },
  "language_info": {
   "codemirror_mode": {
    "name": "ipython",
    "version": 3
   },
   "file_extension": ".py",
   "mimetype": "text/x-python",
   "name": "python",
   "nbconvert_exporter": "python",
   "pygments_lexer": "ipython3",
   "version": "3.7.9"
  }
 },
 "nbformat": 4,
 "nbformat_minor": 4
}
