{
 "cells": [
  {
   "cell_type": "markdown",
   "metadata": {
    "tags": []
   },
   "source": [
    "### 1. Определение Функции"
   ]
  },
  {
   "cell_type": "markdown",
   "metadata": {},
   "source": [
    "Функция представляет из себя блок кода который выполняет какую то определенную логику, например, сортирует значения, находит минимальное или максимальное и.т.д. Также у функции имеются аргументы/параметры, предающие функции гибкость и многофункциональность. Например, аргумент, определяющий в каком поряке сортировать значения.\n",
    "\n",
    "**Зачем нужны функции?**\n",
    "\n",
    "Основная идея - эффективное переиспользование кода. Например, представим что мы работаем над проектом в котором нужно постоянно искать строку с наименьшей длиной. Каждый раз копировать и вставлять один и тотже код очень неэффективное решение. Мы можем совершить ошибку при копировании, да и код будет сложно читать. Одно из основных правл программирования - DRY (Don't Repeat Yourself - не повтаряйся)"
   ]
  },
  {
   "cell_type": "raw",
   "metadata": {},
   "source": [
    "# общий синтаксис определения функции в python\n",
    "def <название_функции>(args):\n",
    "    логика\n",
    "    return <значение/значения>"
   ]
  },
  {
   "cell_type": "markdown",
   "metadata": {},
   "source": [
    "- `def` - оператор говорящий, что мы определяем функцию\n",
    "- `<название_функции>` - название обычно должно быть коротким, глагол, в нижнем регистре, если слов несколько - соединены нижним подчеркиванием _\n",
    "- `(args)` - список аргументов (например sort='asc' - сортировка по возрастанию)\n",
    "- `return` - оператор, говорящий что функция что-то возвращает (любое значение/значения или ничего)\n",
    "- Тело функции (все что внутри блока `def`) всегда должно иметь 4 отступа (правило python)"
   ]
  },
  {
   "cell_type": "raw",
   "metadata": {},
   "source": [
    "# так определять функцию нельзя\n",
    "def <название_функции>(args):\n",
    "логика\n",
    "return <значение/значения>"
   ]
  },
  {
   "cell_type": "code",
   "execution_count": 8,
   "metadata": {},
   "outputs": [
    {
     "name": "stdout",
     "output_type": "stream",
     "text": [
      "5 в степени 7: 8\n"
     ]
    }
   ],
   "source": [
    "# Пример определения функции, возводящей значение в любую степень\n",
    "def power(value, degree):\n",
    "    return value**degree\n",
    "\n",
    "powered_value = power(value=2, degree=3) # вызываем функцию\n",
    "print(f'{value} в степени {degree}: {powered_value}')"
   ]
  },
  {
   "cell_type": "markdown",
   "metadata": {
    "tags": []
   },
   "source": [
    "### 2. Аргументы Функции"
   ]
  },
  {
   "cell_type": "markdown",
   "metadata": {},
   "source": [
    "Аргументы функции нужны как входящие параметры, которые затем используются внутри функции (премножаются, вычитаются, учавствуют в логике). Без аргументом функции бы не могли существовать\n",
    "\n",
    "**Аргументы с начальными значениями**\n",
    "\n",
    "В функции можно определять аргументы, принимающие определенные начальные значения. Например, в предыдущем примере у нас есть такой аргумент `degree`, принимающий начальное значение 2"
   ]
  },
  {
   "cell_type": "code",
   "execution_count": 10,
   "metadata": {},
   "outputs": [
    {
     "data": {
      "text/plain": [
       "25"
      ]
     },
     "execution_count": 10,
     "metadata": {},
     "output_type": "execute_result"
    }
   ],
   "source": [
    "value = 5\n",
    "power(value, 2) # нет необходимости передавать аргумент degree, он уже определен и равен 2"
   ]
  },
  {
   "cell_type": "markdown",
   "metadata": {},
   "source": [
    "**Позиционные и именованные аргументы** \n",
    "- Позиционные аргументы - аргументы не имеющие начальных значений (например, аргумент `value` функции `power`)\n",
    "- Именованные аргументы - аргументы принимающие какие то начальные значения (аргумент `degree`)\n",
    "\n",
    "**Важное правило** - позиционные аргументы всегда определяются первыми в функции и лишь затем именованные"
   ]
  },
  {
   "cell_type": "code",
   "execution_count": 5,
   "metadata": {},
   "outputs": [
    {
     "ename": "SyntaxError",
     "evalue": "positional argument follows keyword argument (<ipython-input-5-c15e3f9cde5b>, line 2)",
     "output_type": "error",
     "traceback": [
      "\u001b[1;36m  File \u001b[1;32m\"<ipython-input-5-c15e3f9cde5b>\"\u001b[1;36m, line \u001b[1;32m2\u001b[0m\n\u001b[1;33m    power(degree=2, value)\u001b[0m\n\u001b[1;37m                   ^\u001b[0m\n\u001b[1;31mSyntaxError\u001b[0m\u001b[1;31m:\u001b[0m positional argument follows keyword argument\n"
     ]
    }
   ],
   "source": [
    "# пример неправильной расстановки аргументов \n",
    "power(degree=2, value)"
   ]
  },
  {
   "cell_type": "markdown",
   "metadata": {},
   "source": [
    "**args and kwargs**\n",
    "\n",
    "Часто, мы можем не знать сколько именованных или позиционных аргументов нам необходимо в функции или может мы хотим, чтобы функция принимала неограниченное число именованных или позиционных аргументов. В таком случаем необходимо обратиться к операторам `*` и `**` \n",
    "\n",
    "**args**\n",
    "\n",
    "Аргумент `*args` приимает неограниченное число позиционных аргументов (оператор `*` говорит о том, что необходимо распоковать элементы последовательности для аргумента args). Иными словами, когда мы передаем неограниченную последовательность из позиционных аргументов, то они все сохраняются в кортеж."
   ]
  },
  {
   "cell_type": "code",
   "execution_count": 13,
   "metadata": {},
   "outputs": [
    {
     "name": "stdout",
     "output_type": "stream",
     "text": [
      "(1, 2, 'a', '!')\n"
     ]
    }
   ],
   "source": [
    "# такая форма записи сохранит переменные в кортеж\n",
    "args = 1, 2, 'a', '!'\n",
    "print(args)"
   ]
  },
  {
   "cell_type": "markdown",
   "metadata": {},
   "source": [
    " Мы специально создали именованный аргумент `show_args` чтобы смотреть, что в итоге хранится в `args`"
   ]
  },
  {
   "cell_type": "code",
   "execution_count": 10,
   "metadata": {},
   "outputs": [],
   "source": [
    "# определим функцию с неограниченным числом позиционных аргументов (параметр *args)\n",
    "def create_string(*args, show_args=True): \n",
    "    if show_args:\n",
    "        print(args)\n",
    "    string = ' '.join([str(arg) for arg in args])\n",
    "    return string"
   ]
  },
  {
   "cell_type": "code",
   "execution_count": 12,
   "metadata": {},
   "outputs": [
    {
     "name": "stdout",
     "output_type": "stream",
     "text": [
      "('m', 'assa', '1111', 777)\n",
      "Полученная строка:  m assa 1111 777\n"
     ]
    }
   ],
   "source": [
    "string = create_string('m', 'assa', '1111', 777)\n",
    "print('Полученная строка: ', string)"
   ]
  },
  {
   "cell_type": "code",
   "execution_count": 15,
   "metadata": {},
   "outputs": [
    {
     "name": "stdout",
     "output_type": "stream",
     "text": [
      "('Я', 'изучаю', 'python', '!')\n",
      "Полученная строка:  Я изучаю python !\n"
     ]
    }
   ],
   "source": [
    "# Пример с распоковкой значений\n",
    "seq = 'Я', 'изучаю', 'python', '!'\n",
    "string = create_string(*seq) # каждый элемент принимает свою позицию согласну индексу в кортеже \n",
    "print('Полученная строка: ', string)"
   ]
  },
  {
   "cell_type": "markdown",
   "metadata": {},
   "source": [
    "Функция `create_string` принимает **неограниченное число позиционных аргументов** (причем любого типа) и создает строку из них. Такая функция очень гибка, так как мы не зависим от последовательности символов и их типа. Это круто!"
   ]
  },
  {
   "cell_type": "markdown",
   "metadata": {},
   "source": [
    "**kwargs**\n",
    "\n",
    "Аргумент `**kwargs` приимает неограниченное число именованных аргументов (оператор `**` говорит о том, что необходимо распоковать элементы последовательности для аргумента kwargs)"
   ]
  },
  {
   "cell_type": "code",
   "execution_count": 38,
   "metadata": {},
   "outputs": [],
   "source": [
    "def shows_message(**kwargs):\n",
    "    if 'show_kwargs' in kwargs.keys(): print(kwargs)\n",
    "    escape = ['!', '%', '$', True, False] # не используем данные значения в строке\n",
    "    message = ' '.join([value for value in kwargs.values() if value not in escape])\n",
    "    print(message)"
   ]
  },
  {
   "cell_type": "code",
   "execution_count": 39,
   "metadata": {},
   "outputs": [
    {
     "name": "stdout",
     "output_type": "stream",
     "text": [
      "{'a': 'Я', 'b': 'изучаю', 'c': 'python', 'd': '!', 'e': '%', 'show_kwargs': True}\n",
      "Я изучаю python\n"
     ]
    }
   ],
   "source": [
    "shows_message(a='Я', b='изучаю', c='python', d='!', e='%', show_kwargs=True)"
   ]
  },
  {
   "cell_type": "code",
   "execution_count": 40,
   "metadata": {},
   "outputs": [
    {
     "name": "stdout",
     "output_type": "stream",
     "text": [
      "Я изучаю python\n"
     ]
    }
   ],
   "source": [
    "# пример с распоковкой значений\n",
    "params = {\n",
    "    'a': 'Я',\n",
    "    'b': 'изучаю',\n",
    "    'c': 'python',\n",
    "    'd': '!',\n",
    "    'e': '%'\n",
    "}\n",
    "\n",
    "shows_message(**params)"
   ]
  },
  {
   "cell_type": "markdown",
   "metadata": {},
   "source": [
    "- https://realpython.com/defining-your-own-python-function/ (более подробно о функциях в python)"
   ]
  },
  {
   "cell_type": "markdown",
   "metadata": {
    "tags": []
   },
   "source": [
    "### 3. Встроенные Функции "
   ]
  },
  {
   "cell_type": "markdown",
   "metadata": {},
   "source": [
    "В python по умолчанию существуют уже встроенные функции (built-ins). Рассмотрим их\n",
    "\n",
    "**min, max, sum**"
   ]
  },
  {
   "cell_type": "code",
   "execution_count": 44,
   "metadata": {},
   "outputs": [
    {
     "name": "stdout",
     "output_type": "stream",
     "text": [
      "Минимальное значение:  -20\n",
      "Максимальное значение:  111\n",
      "Сумма списка:  115\n"
     ]
    }
   ],
   "source": [
    "lst = [1, 20, -5, 8, 111, -20]\n",
    "\n",
    "print('Минимальное значение: ', min(lst))\n",
    "print('Максимальное значение: ', max(lst))\n",
    "print('Сумма списка: ', sum(lst))"
   ]
  },
  {
   "cell_type": "markdown",
   "metadata": {},
   "source": [
    "**len**"
   ]
  },
  {
   "cell_type": "code",
   "execution_count": 42,
   "metadata": {},
   "outputs": [
    {
     "name": "stdout",
     "output_type": "stream",
     "text": [
      "Длина списка:  6\n"
     ]
    }
   ],
   "source": [
    "print('Длина списка: ', len(lst))"
   ]
  },
  {
   "cell_type": "markdown",
   "metadata": {},
   "source": [
    "**type**\n"
   ]
  },
  {
   "cell_type": "code",
   "execution_count": 43,
   "metadata": {},
   "outputs": [
    {
     "data": {
      "text/plain": [
       "(list, str, bool)"
      ]
     },
     "execution_count": 43,
     "metadata": {},
     "output_type": "execute_result"
    }
   ],
   "source": [
    "type(lst), type('a'), type(True)"
   ]
  },
  {
   "cell_type": "markdown",
   "metadata": {},
   "source": [
    "**round**"
   ]
  },
  {
   "cell_type": "code",
   "execution_count": 46,
   "metadata": {},
   "outputs": [
    {
     "name": "stdout",
     "output_type": "stream",
     "text": [
      "Округленное число:  13\n"
     ]
    }
   ],
   "source": [
    "value = 12.565\n",
    "print('Округленное число: ', round(value))"
   ]
  },
  {
   "cell_type": "markdown",
   "metadata": {},
   "source": [
    "- https://docs.python.org/3/library/functions.html (более подробный список встроенных функций python)"
   ]
  },
  {
   "cell_type": "markdown",
   "metadata": {
    "jp-MarkdownHeadingCollapsed": true,
    "tags": []
   },
   "source": [
    "### 4. Lambda Функции"
   ]
  },
  {
   "cell_type": "markdown",
   "metadata": {},
   "source": [
    "Лямда функции в python - небольшие функции которые обычно используются один раз в каком то участке кода для решения определнной задачи. Важно помнить, что мы не можем использовать такие команды как: `return, pass, assert, raise`. В анализе данных такие функции очень часто используются в библиотеке `pandas` для очень быстрых трансформаций данных и избежания циклов."
   ]
  },
  {
   "cell_type": "raw",
   "metadata": {},
   "source": [
    "# синтаксис определения lambda функции\n",
    "lambda <аргумент_1, аргумент_2,>: <логика/код/тело> (передаваемые аргументы)"
   ]
  },
  {
   "cell_type": "code",
   "execution_count": 48,
   "metadata": {},
   "outputs": [
    {
     "data": {
      "text/plain": [
       "<function __main__.<lambda>(x, y)>"
      ]
     },
     "execution_count": 48,
     "metadata": {},
     "output_type": "execute_result"
    }
   ],
   "source": [
    "# lambda функция складывающая 2 числа \n",
    "lambda x, y: x + y # так мы определили функцию"
   ]
  },
  {
   "cell_type": "code",
   "execution_count": 49,
   "metadata": {},
   "outputs": [
    {
     "data": {
      "text/plain": [
       "30"
      ]
     },
     "execution_count": 49,
     "metadata": {},
     "output_type": "execute_result"
    }
   ],
   "source": [
    "# 1-й способ передачи аргументов\n",
    "(lambda x, y: x + y)(10,20) "
   ]
  },
  {
   "cell_type": "code",
   "execution_count": 53,
   "metadata": {},
   "outputs": [
    {
     "data": {
      "text/plain": [
       "30"
      ]
     },
     "execution_count": 53,
     "metadata": {},
     "output_type": "execute_result"
    }
   ],
   "source": [
    "# 2-й способ передачи аргументов\n",
    "add_two_values = (lambda x, y: x + y)\n",
    "add_two_values(10, 20)"
   ]
  },
  {
   "cell_type": "code",
   "execution_count": 54,
   "metadata": {},
   "outputs": [
    {
     "data": {
      "text/plain": [
       "130"
      ]
     },
     "execution_count": 54,
     "metadata": {},
     "output_type": "execute_result"
    }
   ],
   "source": [
    "# неограниченное число позиционных аргументов\n",
    "get_sum = lambda *args: sum(args)\n",
    "get_sum(10, 20, 100)"
   ]
  },
  {
   "cell_type": "markdown",
   "metadata": {},
   "source": [
    "**Вложенные lambda функци**"
   ]
  },
  {
   "cell_type": "code",
   "execution_count": 69,
   "metadata": {},
   "outputs": [
    {
     "name": "stdout",
     "output_type": "stream",
     "text": [
      "3\n",
      "4950\n"
     ]
    }
   ],
   "source": [
    "# 1-ая функция (принимает последовательность из любых элементов (int, str, ...) и возвращает список чисел)\n",
    "make_int = lambda val_lst: [int(val) for val in val_lst]\n",
    "\n",
    "# 2-ая функция (принимает неограниченное число позиционных аргументов и функцию)\n",
    "# в нашем случае данная функция преобразует все последовательность элементов к одному типу данных - int\n",
    "get_sum = lambda *args, func: sum(func(args))\n",
    "\n",
    "# вложенная lambda фнукция \n",
    "print(get_sum(1, 2, func=make_int))\n",
    "\n",
    "values = [x for x in range(100)]\n",
    "print(get_sum(*values, func=make_int))"
   ]
  },
  {
   "cell_type": "markdown",
   "metadata": {},
   "source": [
    " - https://realpython.com/python-lambda/ (больше о lmbda функциях)"
   ]
  },
  {
   "cell_type": "markdown",
   "metadata": {
    "jp-MarkdownHeadingCollapsed": true,
    "tags": []
   },
   "source": [
    "### 5. Функции map, filter, zip"
   ]
  },
  {
   "cell_type": "markdown",
   "metadata": {},
   "source": [
    "Рассмотрим еще ряд полезных встроенных функций в Python\n",
    "\n",
    "**map**\n",
    "\n",
    "Данная функция обычно принимfает коллекцию объектов и функцию которая последовательно применяется к элементам коллекции (`map(func, iterables)`)\n",
    "- func: принимаемая функция\n",
    "- iterables: коллеекция/последовательность объектов к которым нужно применить функцию"
   ]
  },
  {
   "cell_type": "code",
   "execution_count": 4,
   "metadata": {},
   "outputs": [
    {
     "name": "stdout",
     "output_type": "stream",
     "text": [
      "Исходный список значений:  [1, 2, 3, 4, 5, 6, 7, 8, 9, 10]\n",
      "Четные значения списка:  <map object at 0x0000018C6F1EE188>\n"
     ]
    }
   ],
   "source": [
    "# Пусть нам необходимо вывести толко четные элементы списка\n",
    "lst = list(range(1,11))\n",
    "print('Исходный список значений: ', lst)\n",
    "\n",
    "def get_even(val):\n",
    "    if val % 2 == 0: return val\n",
    "\n",
    "evens = map(get_even, lst) # передаем ссылку на функцию (без скобок)\n",
    "print('Четные значения списка: ', evens)"
   ]
  },
  {
   "cell_type": "markdown",
   "metadata": {},
   "source": [
    "Мы получили ссылку на результат функции, а не сам результат. По умолчанию фунция map возвращает map объект, обычно результат функции map дополнительно преобразуют к типу list "
   ]
  },
  {
   "cell_type": "code",
   "execution_count": 5,
   "metadata": {},
   "outputs": [
    {
     "name": "stdout",
     "output_type": "stream",
     "text": [
      "Четные значения списка:  [None, 2, None, 4, None, 6, None, 8, None, 10]\n"
     ]
    }
   ],
   "source": [
    "evens = list(map(get_even, lst))\n",
    "print('Четные значения списка: ', evens)"
   ]
  },
  {
   "cell_type": "markdown",
   "metadata": {},
   "source": [
    "**filter**\n",
    "\n",
    "Данная функция аналогична функции map за тем исключением, что фильтрует последовательность и возвращает только те элементы которые имеет True"
   ]
  },
  {
   "cell_type": "code",
   "execution_count": 10,
   "metadata": {},
   "outputs": [
    {
     "name": "stdout",
     "output_type": "stream",
     "text": [
      "Исходный список:  ['ferrati', 'bmw', 'fiat', 'mclaren']\n",
      "Отфильтрованный список:  ['bmw', 'fiat']\n"
     ]
    }
   ],
   "source": [
    "# Пусть необходимо вывести только те элементы, длина строки которых меньше 4\n",
    "car_names = ['ferrati', 'bmw', 'fiat', 'mclaren']\n",
    "print('Исходный список: ', car_names)\n",
    "\n",
    "def get_names(name, lenght=4):\n",
    "    if len(name) <= 4: return name\n",
    "\n",
    "print('Отфильтрованный список: ', list(filter(get_names, car_names)))"
   ]
  },
  {
   "cell_type": "markdown",
   "metadata": {},
   "source": [
    "**zip**\n",
    "\n",
    "Функцияя zip позволяет \"склеивать\" элементы последовательности друг с другом поэлементно "
   ]
  },
  {
   "cell_type": "code",
   "execution_count": 12,
   "metadata": {},
   "outputs": [
    {
     "name": "stdout",
     "output_type": "stream",
     "text": [
      "Соединенные (zip) списки:  [('ferrati', '2020', 100000), ('bmw', '2022', 78000), ('fiat', '2019', 30000), ('mclaren', '2022', 350000)]\n"
     ]
    }
   ],
   "source": [
    "car_names = ['ferrati', 'bmw', 'fiat', 'mclaren']\n",
    "years = ['2020', '2022', '2019', '2022']\n",
    "prices = [100000, 78000, 30000, 350000]\n",
    "\n",
    "print('Соединенные (zip) списки: ', list(zip(car_names, years, prices)))"
   ]
  }
 ],
 "metadata": {
  "kernelspec": {
   "display_name": "Python 3",
   "language": "python",
   "name": "python3"
  },
  "language_info": {
   "codemirror_mode": {
    "name": "ipython",
    "version": 3
   },
   "file_extension": ".py",
   "mimetype": "text/x-python",
   "name": "python",
   "nbconvert_exporter": "python",
   "pygments_lexer": "ipython3",
   "version": "3.7.9"
  }
 },
 "nbformat": 4,
 "nbformat_minor": 4
}
