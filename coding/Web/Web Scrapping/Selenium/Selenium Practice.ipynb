{
 "cells": [
  {
   "cell_type": "markdown",
   "metadata": {},
   "source": [
    "### Simple Web Page Opening \n",
    "**Methods**\n",
    "- ```browser.get('url')``` - opens a page"
   ]
  },
  {
   "cell_type": "code",
   "execution_count": 65,
   "metadata": {},
   "outputs": [],
   "source": [
    "# Selenium \n",
    "from selenium import webdriver\n",
    "\n",
    "PATH = 'C:\\Program Files (x86)\\chromedriver.exe'\n",
    "browser = webdriver.Chrome(PATH)\n",
    "\n",
    "browser.get('https://www.avito.ru/permskiy_kray') # get opens any web page"
   ]
  },
  {
   "cell_type": "markdown",
   "metadata": {},
   "source": [
    "### Typing and Submiting the Search Field\n",
    "**Methods**\n",
    "- ```element.send_keys('text here')``` - sends data into an input field \n",
    "- ```element.send_keys(Keys.RETURN)``` - submits data to a field"
   ]
  },
  {
   "cell_type": "code",
   "execution_count": 66,
   "metadata": {},
   "outputs": [],
   "source": [
    "# Searching sth on a page\n",
    "from selenium import webdriver\n",
    "from selenium.webdriver.common.keys import Keys # gives access to different keys (buttons such as enter, esc ...)\n",
    "import time\n",
    "\n",
    "PATH = 'C:\\Program Files (x86)\\chromedriver.exe'\n",
    "browser = webdriver.Chrome(PATH)\n",
    "browser.get('https://www.avito.ru/permskiy_kray')\n",
    "\n",
    "# Find searching Field \n",
    "search_field = browser.find_element_by_id(\"search\")\n",
    "\n",
    "# String Typing\n",
    "item_name = 'iPhone 12'\n",
    "search_field.send_keys(item_name) # Types the item_name\n",
    "search_field.send_keys(Keys.RETURN) # Submits the search field and hits Enter (RETURN)\n",
    "\n",
    "time.sleep(5) # To see the result\n",
    "browser.quit() # Closes the browser"
   ]
  },
  {
   "cell_type": "markdown",
   "metadata": {},
   "source": [
    "### Typing and HTML Getting\n",
    "**Methods**\n",
    "- ```browser.find_element_by_id()``` - finds an element by a certain parameter"
   ]
  },
  {
   "cell_type": "code",
   "execution_count": 11,
   "metadata": {},
   "outputs": [
    {
     "name": "stdout",
     "output_type": "stream",
     "text": [
      "Phones Found: 56\n"
     ]
    }
   ],
   "source": [
    "from selenium import webdriver\n",
    "from selenium.webdriver.common.by import By\n",
    "from selenium.webdriver.support.ui import WebDriverWait\n",
    "from selenium.webdriver.support import expected_conditions as EC\n",
    "from selenium.webdriver.common.keys import Keys\n",
    "\n",
    "# Page opening\n",
    "PATH = 'C:\\Program Files (x86)\\chromedriver.exe'\n",
    "browser = webdriver.Chrome(PATH)\n",
    "browser.get('https://www.avito.ru/permskiy_kray')\n",
    "\n",
    "# Searching\n",
    "search_field = browser.find_element_by_id(\"search\")\n",
    "item_name = 'iPhone 12'\n",
    "search_field.send_keys(item_name) \n",
    "search_field.send_keys(Keys.RETURN)\n",
    "\n",
    "'''\n",
    "It will take some time to download the page, and we will have to wait.\n",
    "Fortuantely, there is a way to wait until a certain HTML element will appear on the page.\n",
    "'''\n",
    "\n",
    "# Define Target Blocks for data retrieving \n",
    "target_div_class_name = 'items-items-38oUm'\n",
    "target_class_name = 'iva-item-titleStep-2bjuh'\n",
    "\n",
    "# All Extracted Phone Names\n",
    "phone_names = []\n",
    "\n",
    "# We have to make sure that elements exist before accessing them. For this purpose, we use:\n",
    "try:\n",
    "    # First Find The Main Block\n",
    "    target_div = WebDriverWait(browser, 10).until(\n",
    "        EC.presence_of_element_located((By.CLASS_NAME, target_div_class_name))\n",
    "    )\n",
    "    \n",
    "    # Iterate and get the names\n",
    "    phones = target_div.find_elements_by_class_name(target_class_name)\n",
    "    for phone in phones:\n",
    "        phone_names.append(phone.text)\n",
    "          \n",
    "finally:\n",
    "    browser.quit()\n",
    "\n",
    "print(f'Phones Found: {len(phone_names)}')"
   ]
  },
  {
   "cell_type": "code",
   "execution_count": 12,
   "metadata": {},
   "outputs": [
    {
     "data": {
      "text/plain": [
       "['iPhone 7 32gb Rose Gold (б/у) оригинал',\n",
       " 'iPhone 7 32gb Black (чёрный матовый)',\n",
       " 'iPhone 5s/6/6s/7/8/Х/Хr/Хs/SE 2020',\n",
       " 'iPhone 6s 64 (все цвета). Гарантия',\n",
       " 'Apple iphon 12 mini 64 Gb чёрный',\n",
       " 'iPhone Х 64gb Silver (б/у) оригинал',\n",
       " 'iPhone 7 - 128gb Black (гарантия)',\n",
       " 'iPhone X 64gb Silver',\n",
       " 'iPhone Х 64gb Silver (б/у) оригинал',\n",
       " 'iPhone 5s/6/6s/7/8/Х/Хr/Хs/SE 2020',\n",
       " 'iPhone 12',\n",
       " 'iPhone 5s/6/6s/7/8/Х/Хr/Хs/11/SE 2020',\n",
       " 'IPhone12,iPhone11,XSMax,XS,XR,X,SE,7',\n",
       " 'iPhone 5s/6/6s/7/8/Х/Хr/Хs/11/SE 2020',\n",
       " 'iPhone 6s 64 (все цвета). Гарантия',\n",
       " 'iPhone 5s/6/6s/7/8/Х/Хr/11/11 PRO/SE 2020',\n",
       " 'iPhone 12 Green 128gb',\n",
       " 'iPhone 12 Новый',\n",
       " 'iPhone 12 (ростест, новый на гарантии)',\n",
       " 'iPhone 12 pro max',\n",
       " 'iPhone 5s/6/6s/7/8/Х/Хr/11/11 PRO/SE 2020',\n",
       " 'Айфон 12/Pro/Max',\n",
       " 'iPhone 12 NEW',\n",
       " 'iPhone 12 (64) чек/гарантия',\n",
       " 'iPhone 12 Mini (ростест, новый на гарантии)',\n",
       " 'iPhone 12 PRO MAX 256 gb. Новый. рст',\n",
       " 'iPhone 12 Pro 128GB',\n",
       " 'iPhone 12 128Gb Red рст Новый',\n",
       " 'iPhone X 64gb как новые. Гарантия',\n",
       " 'iPhone 12 64gb, 128gb Новый',\n",
       " 'iPhone 8 64/256 Red',\n",
       " 'iPhone 12',\n",
       " 'iPhone 12 Mini',\n",
       " 'iPhone 12 mini 128GB',\n",
       " 'iPhone 12 чёрный 64 гб',\n",
       " 'iPhone 12 PRO 128gb новый',\n",
       " 'iPhone 8 64gb Black',\n",
       " 'iPhone 12 pro max новый',\n",
       " 'iPhone 12 pro/ pro max все модели рст',\n",
       " 'iPhone 12, 12 pro, 12 pro max',\n",
       " 'iPhone 12',\n",
       " 'iPhone 12 Mini 64gb Black',\n",
       " 'iPhone 12 pro 128',\n",
       " 'iPhone X 64gb Silver',\n",
       " 'iPhone 12 mini 128gb черный',\n",
       " 'iPhone 12 128',\n",
       " 'iPhone 12 mini на 256gb',\n",
       " 'iPhone 12 pro max',\n",
       " 'iPhone 12 Pro',\n",
       " 'iPhone 12 PRO MAX Graphite 128GB Ростест+Чек',\n",
       " 'iPhone 12 64gb, white, новый, рст',\n",
       " 'iPhone 12 128 Black',\n",
       " 'iPhone 12 Pro Max 128Gb Ростест Новый',\n",
       " 'iPhone 12 pro max новый',\n",
       " 'iPhone 12 Pro Max 128Gb в наличии Новые',\n",
       " 'iPhone 12 mini 64gb']"
      ]
     },
     "execution_count": 12,
     "metadata": {},
     "output_type": "execute_result"
    }
   ],
   "source": [
    "phone_names"
   ]
  },
  {
   "cell_type": "markdown",
   "metadata": {},
   "source": [
    "### Page Navigating and Elements Clicking\n",
    "**Methods**\n",
    "- ```driver.back()``` - goes to the previos page\n",
    "- ```driver.forward()``` - goes to the previos (after applying back)\n",
    "- ```driver.find_find_element_by_id().click()``` - finds an element and clicks on it\n",
    "- ```element.clear()```- clears a field (to make sure that it's empty before data inserting)\n",
    "- ```browser.page_source``` - returns the current HTML "
   ]
  },
  {
   "cell_type": "code",
   "execution_count": 88,
   "metadata": {},
   "outputs": [],
   "source": [
    "from selenium import webdriver\n",
    "from selenium.webdriver.support.ui import WebDriverWait\n",
    "from selenium.webdriver.support import expected_conditions as EC\n",
    "from selenium.webdriver.common.by import By\n",
    "import time\n",
    "from selenium.webdriver.common.keys import Keys \n",
    "\n",
    "\n",
    "# Page Accessing \n",
    "PATH = 'C:\\Program Files (x86)\\chromedriver.exe'\n",
    "browser = webdriver.Chrome(PATH)\n",
    "browser.get('https://www.himalayandatabase.com/index.html')\n",
    "\n",
    "# Clicking the link 'Himalayan Database Online'\n",
    "db_page = browser.find_element_by_link_text('Himalayan Database Online').click()\n",
    "\n",
    "# Now, we have to make sure that elements exist before accessing them\n",
    "# Button that we need to click on isn't unique, thus we are suing xpath\n",
    "element_xpath = './/button[@class=\"modal-button2\"][contains(., \"Display Expeditions\")]'\n",
    "\n",
    "try:\n",
    "    element = WebDriverWait(browser, 10).until(\n",
    "        EC.visibility_of_element_located((By.XPATH, element_xpath))\n",
    "    )\n",
    "    \n",
    "    element.click()\n",
    "    \n",
    "    search_field = WebDriverWait(browser, 10).until(\n",
    "        EC.presence_of_element_located((By.ID, 'Peak_ID'))\n",
    "    )\n",
    "    \n",
    "    peak_id = 'EVER'\n",
    "    search_field.send_keys(peak_id) \n",
    "    search_field.send_keys(Keys.RETURN)\n",
    "    \n",
    "    time.sleep(2)\n",
    "\n",
    "finally:\n",
    "    browser.quit()"
   ]
  },
  {
   "cell_type": "markdown",
   "metadata": {},
   "source": [
    "### Action Chains \n",
    "Example is based on the game **Cookie Clicker**"
   ]
  },
  {
   "cell_type": "code",
   "execution_count": 14,
   "metadata": {},
   "outputs": [],
   "source": [
    "from selenium import webdriver\n",
    "from selenium.webdriver.common.action_chains import ActionChains\n",
    "\n",
    "PATH = 'C:\\Program Files (x86)\\chromedriver.exe'\n",
    "browser = webdriver.Chrome(PATH)\n",
    "browser.get('https://orteil.dashnet.org/cookieclicker/')\n",
    "\n",
    "# The page takes some time to download,thus we have to wait some time\n",
    "browser.implicitly_wait(5)\n",
    "\n",
    "# Obtain The main Elements\n",
    "cookie = browser.find_element_by_id('bigCookie')\n",
    "cookie_count = browser.find_element_by_id('cookies')\n",
    "\n",
    "# To See All Available Updates (make a list starting from the most expensive update)\n",
    "upgrades = [browser.find_element_by_id('productPrice' + str(i)) for i in range(1,-1,-1)]\n",
    "\n",
    "# Perform the Action (Clicking)\n",
    "actions = ActionChains(browser)\n",
    "actions.click(cookie)\n",
    "\n",
    "cliks_count = 40\n",
    "for click in range(cliks_count):\n",
    "    actions.perform()\n",
    "    current_cookies_count = int(cookie_count.text.split(' ')[0])\n",
    "    for upgrade in upgrades:\n",
    "        price = int(upgrade.text)\n",
    "        if price <= current_cookies_count:\n",
    "            buying_upgrade_action = ActionChains(browser)\n",
    "            buying_upgrade_action.move_to_element(upgrade)\n",
    "            buying_upgrade_action.click()\n",
    "            buying_upgrade_action.perform()\n",
    "            \n",
    "browser.quit()"
   ]
  }
 ],
 "metadata": {
  "kernelspec": {
   "display_name": "Python 3",
   "language": "python",
   "name": "python3"
  },
  "language_info": {
   "codemirror_mode": {
    "name": "ipython",
    "version": 3
   },
   "file_extension": ".py",
   "mimetype": "text/x-python",
   "name": "python",
   "nbconvert_exporter": "python",
   "pygments_lexer": "ipython3",
   "version": "3.7.9"
  }
 },
 "nbformat": 4,
 "nbformat_minor": 4
}
