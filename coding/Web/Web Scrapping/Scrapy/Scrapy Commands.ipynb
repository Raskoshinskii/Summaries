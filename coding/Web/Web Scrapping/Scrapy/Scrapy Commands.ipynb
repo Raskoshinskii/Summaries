{
 "cells": [
  {
   "cell_type": "markdown",
   "metadata": {},
   "source": [
    "### Scrapy Commands \n",
    "- ```scrapy startproject proj_name``` - creates all necessary files (run the command in the app folder)\n",
    "- ```scrapy crawl spider_name``` - runs a spider (run the command in the app folder)\n",
    "- ```scrapy crawl spider_name -o file_name``` - outputs a spider's result into a file\n",
    "- ```scrapy shell``` - to work in a cmd\n",
    "- ```scrapy crawl spider_name``` - runs a spider\n",
    "\n",
    "To run a spider, switch to a project folder and execute a script. The main benefit of Scrapy that you can easily output the scraped data in almost any format.\n",
    "\n",
    "### Scrapy Shell\n",
    "- ```fetch('url')``` - access a page\n",
    "- ```response``` - shows all the responses\n",
    "- ```response.css('css_selector_here')``` - access an html element using CSS selector (returns all found tags)\n",
    "- ```response.css('css_selector_here').get()``` - returns the first found element \n",
    "- ```variable = response.css('css_selector_here')``` - result can be saved into a variable.\n",
    "- ```variable.css('css_selector_here::text').get()``` - returns the first element within a variable and extracts the text\n",
    "- ```variable.css('css_selector_here::text').getall()``` - returns the text from all found tags\n",
    "- ```variable.css('css_selector_here').attrib['attr_name']``` - returns an attribute value\n",
    "\n",
    "To get the info from the page ```Xpath``` or ```CSS Selectors``` can be used. Everything is saved in a response variable.\n",
    "To Create a Spider open a project folder and create a new file in spiders folder (e.g. my_spider.py). For more info check a project folder.\n",
    "\n",
    "### Some Pipeline Examples\n",
    "- ```Scraped Data -> Item Containers (Items file) -> Output (JSON, CSV, ... files)```\n",
    "- ```Scraped Data -> Item Containers (Items file) -> Pipeline -> Database (MySQL, MongoDB...)```\n"
   ]
  }
 ],
 "metadata": {
  "kernelspec": {
   "display_name": "Python 3",
   "language": "python",
   "name": "python3"
  },
  "language_info": {
   "codemirror_mode": {
    "name": "ipython",
    "version": 3
   },
   "file_extension": ".py",
   "mimetype": "text/x-python",
   "name": "python",
   "nbconvert_exporter": "python",
   "pygments_lexer": "ipython3",
   "version": "3.7.9"
  }
 },
 "nbformat": 4,
 "nbformat_minor": 4
}
