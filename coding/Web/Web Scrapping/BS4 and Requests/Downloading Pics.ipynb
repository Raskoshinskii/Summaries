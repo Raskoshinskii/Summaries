{
 "cells": [
  {
   "cell_type": "code",
   "execution_count": 39,
   "metadata": {},
   "outputs": [],
   "source": [
    "import requests\n",
    "import fake_useragent\n",
    "from bs4 import BeautifulSoup"
   ]
  },
  {
   "cell_type": "code",
   "execution_count": 40,
   "metadata": {},
   "outputs": [],
   "source": [
    "page_number = 1\n",
    "link = 'https://zastavok.net'\n",
    "img_number = 1\n",
    "\n",
    "response = requests.get(f'{link}/{page_number}').text\n",
    "page = BeautifulSoup(response, 'lxml')\n",
    "block = page.find('div', class_ = 'block-photo')\n",
    "all_img = block.find_all('div', class_ = 'short_full')"
   ]
  },
  {
   "cell_type": "code",
   "execution_count": 41,
   "metadata": {},
   "outputs": [
    {
     "name": "stdout",
     "output_type": "stream",
     "text": [
      "<div class=\"short_full\">\n",
      "<div class=\"short\" itemscope=\"\" itemtype=\"http://schema.org/ImageObject\">\n",
      "<div class=\"short_prev\">\n",
      "<div class=\"vote_min\" data-change=\"up\" data-image_id=\"55139\">\n",
      "<i class=\"up\"></i>\n",
      "<span class=\"resp\">1</span>\n",
      "</div>\n",
      "<a href=\"/eda/55139-persik_frukty_rozovyj.html\" itemprop=\"url\" title=\"персик фрукты розовый\">\n",
      "<img alt=\"персик фрукты розовый\" class=\"short_prev_img\" itemprop=\"thumbnail\" src=\"/ts/eda/159709915016.jpg\"/>\n",
      "</a>\n",
      "</div>\n",
      "<div class=\"short_bottom\">\n",
      "<span class=\"short_info\">3840x2160</span>\n",
      "<span class=\"short_wallcat\"><b><a href=\"/eda/\">Еда</a></b></span>\n",
      "</div>\n",
      "</div>\n",
      "</div>\n"
     ]
    }
   ],
   "source": [
    "# Use for with break to understand what can be parsed from a single block \n",
    "for img in all_img:\n",
    "    print(img)\n",
    "    break"
   ]
  },
  {
   "cell_type": "code",
   "execution_count": 42,
   "metadata": {},
   "outputs": [
    {
     "name": "stdout",
     "output_type": "stream",
     "text": [
      "Image: 1 has been successfully downloaded\n",
      "Image: 2 has been successfully downloaded\n",
      "Image: 3 has been successfully downloaded\n",
      "Image: 4 has been successfully downloaded\n",
      "Image: 5 has been successfully downloaded\n",
      "Image: 6 has been successfully downloaded\n",
      "Image: 7 has been successfully downloaded\n",
      "Image: 8 has been successfully downloaded\n",
      "Image: 9 has been successfully downloaded\n",
      "Image: 10 has been successfully downloaded\n",
      "Image: 11 has been successfully downloaded\n",
      "Image: 12 has been successfully downloaded\n",
      "Image: 13 has been successfully downloaded\n",
      "Image: 14 has been successfully downloaded\n",
      "Image: 15 has been successfully downloaded\n",
      "Image: 16 has been successfully downloaded\n",
      "Image: 17 has been successfully downloaded\n",
      "Image: 18 has been successfully downloaded\n"
     ]
    }
   ],
   "source": [
    "# Get all links\n",
    "for img in all_img:\n",
    "    img_link = img.find('a').get('href')\n",
    "    storage_links = requests.get(f'{link}{img_link}').text \n",
    "    \n",
    "    # Find target links for a pic downloading\n",
    "    new_page = BeautifulSoup(storage_links, 'lxml')\n",
    "    block = new_page.find('div', class_ = 'image_data').find('div', class_ = 'block_down')\n",
    "    res_link = block.find('a').get('href')\n",
    "    \n",
    "    # Image downloading\n",
    "    res_img = requests.get(f'{link}{res_link}').content # use content to download pic, video\n",
    "    \n",
    "    with open(f'imgs/{img_number}.jpg', 'wb') as img_file:\n",
    "        img_file.write(res_img)\n",
    "        \n",
    "    print(f'Image: {img_number} has been successfully downloaded')\n",
    "    img_number += 1"
   ]
  },
  {
   "cell_type": "code",
   "execution_count": 45,
   "metadata": {},
   "outputs": [
    {
     "name": "stdout",
     "output_type": "stream",
     "text": [
      "Image: 1 has been successfully downloaded\n",
      "Image: 2 has been successfully downloaded\n",
      "Image: 3 has been successfully downloaded\n",
      "Image: 4 has been successfully downloaded\n",
      "Image: 5 has been successfully downloaded\n",
      "Image: 6 has been successfully downloaded\n",
      "Image: 7 has been successfully downloaded\n",
      "Image: 8 has been successfully downloaded\n",
      "Image: 9 has been successfully downloaded\n",
      "Image: 10 has been successfully downloaded\n",
      "Image: 11 has been successfully downloaded\n",
      "Image: 12 has been successfully downloaded\n",
      "Image: 13 has been successfully downloaded\n",
      "Image: 14 has been successfully downloaded\n",
      "Image: 15 has been successfully downloaded\n",
      "Image: 16 has been successfully downloaded\n",
      "Image: 17 has been successfully downloaded\n",
      "Image: 18 has been successfully downloaded\n",
      "Image: 19 has been successfully downloaded\n",
      "Image: 20 has been successfully downloaded\n",
      "Image: 21 has been successfully downloaded\n",
      "Image: 22 has been successfully downloaded\n",
      "Image: 23 has been successfully downloaded\n",
      "Image: 24 has been successfully downloaded\n",
      "Image: 25 has been successfully downloaded\n",
      "Image: 26 has been successfully downloaded\n",
      "Image: 27 has been successfully downloaded\n",
      "Image: 28 has been successfully downloaded\n",
      "Image: 29 has been successfully downloaded\n",
      "Image: 30 has been successfully downloaded\n",
      "Image: 31 has been successfully downloaded\n",
      "Image: 32 has been successfully downloaded\n",
      "Image: 33 has been successfully downloaded\n",
      "Image: 34 has been successfully downloaded\n",
      "Image: 35 has been successfully downloaded\n",
      "Image: 36 has been successfully downloaded\n"
     ]
    }
   ],
   "source": [
    "# Downloading all images from all pages (Putting All Together)\n",
    "page_start = 1\n",
    "page_end = 2\n",
    "link = 'https://zastavok.net'\n",
    "img_number = 1\n",
    "\n",
    "# Iterate Over All Pages\n",
    "for page_number in range(page_start, page_end+1):\n",
    "    \n",
    "    response = requests.get(f'{link}/{page_number}').text # requests a web page\n",
    "    page = BeautifulSoup(response, 'lxml') # make an HTML object from the response\n",
    "    block = page.find('div', class_ = 'block-photo') # find a necessary block\n",
    "    all_img = block.find_all('div', class_ = 'short_full') # find a block with all images blocks \n",
    "\n",
    "    # Get all links\n",
    "    for img in all_img:\n",
    "        img_link = img.find('a').get('href')\n",
    "        storage_links = requests.get(f'{link}{img_link}').text \n",
    "\n",
    "        # Find target links for a pic downloading\n",
    "        new_page = BeautifulSoup(storage_links, 'lxml')\n",
    "        block = new_page.find('div', class_ = 'image_data').find('div', class_ = 'block_down')\n",
    "        res_link = block.find('a').get('href')\n",
    "\n",
    "        # Image downloading\n",
    "        res_img = requests.get(f'{link}{res_link}').content # use content to download pic, video\n",
    "\n",
    "        # Write Downloading Images into a folder\n",
    "        with open(f'imgs/{img_number}.jpg', 'wb') as img_file:\n",
    "            img_file.write(res_img)\n",
    "\n",
    "        print(f'Image: {img_number} has been successfully downloaded')\n",
    "        img_number += 1"
   ]
  }
 ],
 "metadata": {
  "kernelspec": {
   "display_name": "Python 3",
   "language": "python",
   "name": "python3"
  },
  "language_info": {
   "codemirror_mode": {
    "name": "ipython",
    "version": 3
   },
   "file_extension": ".py",
   "mimetype": "text/x-python",
   "name": "python",
   "nbconvert_exporter": "python",
   "pygments_lexer": "ipython3",
   "version": "3.7.9"
  }
 },
 "nbformat": 4,
 "nbformat_minor": 4
}
