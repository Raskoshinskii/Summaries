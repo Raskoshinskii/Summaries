{
 "cells": [
  {
   "cell_type": "markdown",
   "metadata": {},
   "source": [
    "### Code Formatters and Linters\n",
    "Formatters and linters are tools used for ensuring that code adheres to certain standards of formatting and style, as well as for identifying potential errors or problematic patterns in the code. \n",
    "\n",
    "**Code Formatters**\n",
    "\n",
    "- `Purpose:` Their primary function is to automatically format code according to a specified set of style guidelines or standards. This includes adjustments to indentation, spacing, line breaks, and other formatting aspects that make the code more readable and consistent but do not alter its functionality (e.g. Black).\n",
    "\n",
    "**Linters**\n",
    "\n",
    "- `Purpose:` Linters are tools used to analyze code for potential errors, bugs, stylistic errors, and suspicious constructs without executing the code. They help in maintaining code quality and adherence to coding standards. Linters can catch syntax errors, undeclared variables, unused code, and even more complex issues like memory leaks (e.g. Flake8).\n",
    "\n",
    "One of the most import tools for Python code style and import check are:\n",
    "- Flake8\n",
    "- Black\n",
    "- isort\n",
    "\n",
    "### Integreation in Development Workflow\n",
    "Both formatters and linters are integral to modern development workflows. They can be integrated into text editors, IDEs (Integrated Development Environments), or as part of continuous integration/continuous deployment (CI/CD) pipelines. This integration allows developers to automatically format code and catch potential issues early in the development process, ideally before the code is even committed to a version control system.\n",
    "\n",
    "- `Editors and IDEs:` Many development environments offer real-time linting and formatting, providing immediate feedback to developers.\n",
    "\n",
    "- `Pre-commit Hooks:` Tools like Husky can be used to set up pre-commit hooks that automatically format code and run linters before code is committed, ensuring that only code that meets the project's standards is committed.\n",
    "\n",
    "- `CI/CD Pipelines:` Linters and formatters can be part of the build process, running checks on code submissions and blocking merges that do not meet the required standards."
   ]
  },
  {
   "cell_type": "markdown",
   "metadata": {},
   "source": [
    "### Black \n",
    "Black is a popular code formatter for Python, known for its uncompromising approach to formatting Python code. Black automates the process of formatting Python code in a uniform way, making code more readable and maintainable, and reducing the time developers spend discussing style preferences.\n",
    "\n",
    "**Main Functionality**\n",
    "\n",
    "- Code alignment for the project\n",
    "- Correct code style formatting \n",
    "- Format check before commit\n",
    "\n",
    "**How to Configure Black?**\n",
    "\n",
    "To configure Black we need to define a file `.black` and define configuration for the formatting. "
   ]
  },
  {
   "cell_type": "markdown",
   "metadata": {},
   "source": [
    "### isort\n",
    "Responsible for formatting python imports.\n",
    "\n",
    "**How to Configure isort?**\n",
    "\n",
    "To configure isort we need to define a file `.isort.cfg`"
   ]
  },
  {
   "cell_type": "markdown",
   "metadata": {},
   "source": [
    "\n",
    "### Flake8\n",
    "Is a linter **used to check** Python code consistency (e.g. fixes line length, checks unused imports or variables). However, *Flake8* is loyal to typing and doesn't check it (for type checking use *mypy*).\n",
    "\n",
    "Flake8 only checks the code and outputs error codes (e.g. wrong formatting, missing imports, unused variables, etc.) **it doesn't fix the found issues.**\n",
    "\n",
    "\n",
    "*Flake8* wraps around these tools:\n",
    "\n",
    "- `PyFlakes:` checks for various errors in Python scripts, such as undefined names and unused imports.\n",
    "- `pep8:` checks code against some of the style conventions in PEP 8, the Python style guide.\n",
    "- `McCabe:` analyzes the complexity of functions and methods, helping developers identify parts of the code that are hard to test or maintain due to their complex nature.\n",
    "\n",
    "**How to Configure Flake8?**\n",
    "\n",
    "To configure *Flake8* we need to define a file `.flake8`. It's recommended not to have lots of ignoring issues -> the less the better. "
   ]
  },
  {
   "cell_type": "markdown",
   "metadata": {},
   "source": [
    "### Ruff\n",
    "- https://github.com/astral-sh/ruff"
   ]
  },
  {
   "cell_type": "markdown",
   "metadata": {},
   "source": [
    "### Pre-commit\n",
    "To make sure that everyone follows the same standards and the code is formmated and checked, we have to use `pre-commit`. Pre-commit is a tool that consists of a set of hooks and defines how the hooks must be configured. Each hook must be successfully executed to commit the changes. If one of the hooks fails, we cannot commit the changes. \n",
    "\n",
    "`.pre-commit-config.yaml` is a configuration file for `pre-commit` framework. The are the following key components for the hooks:\n",
    "- `repos:` A list of repositories where the hooks are stored.\n",
    "- `repo:` The URL of the repository containing the hook.\n",
    "- `rev:` The version of the repository to use. This can be a git tag, a commit SHA, or a branch name, though using stable release tags is recommended for consistency.\n",
    "- `hooks:` A list of hooks to install from the repository.\n",
    "- `id:` The identifier of the specific hook to use.\n",
    "- `language_version:` (optional) specifies the version of the programming language to use, if applicable.\n",
    "- `additional_dependencies:` (optional) A list of additional packages that the hook needs.\n",
    "\n",
    "\n",
    "**How to enable pre-commit for the Project?**\n",
    "1. Init Git \n",
    "2. Define `.pre-commit-config.yaml` file with a configuration\n",
    "3. Run `pre-commit install` to set up the git hooks (enable checking before commiting)\n",
    "4. Try commiting the changes or run `pre-commit run --all-files` to run all hooks manually\n",
    "\n",
    "\n",
    "To make sure that all the code formatted we can include the same check in CI/CD pipeline -> GitHub Actions, Jenkins, ..."
   ]
  },
  {
   "cell_type": "code",
   "execution_count": null,
   "metadata": {},
   "outputs": [],
   "source": []
  },
  {
   "cell_type": "code",
   "execution_count": null,
   "metadata": {},
   "outputs": [],
   "source": []
  },
  {
   "cell_type": "code",
   "execution_count": null,
   "metadata": {},
   "outputs": [],
   "source": []
  },
  {
   "cell_type": "markdown",
   "metadata": {},
   "source": [
    "### Some Code Standards Example\n",
    "- 2 empty lines after import section\n",
    "- comma after the final element in list, list of imports, etc."
   ]
  },
  {
   "cell_type": "markdown",
   "metadata": {},
   "source": []
  }
 ],
 "metadata": {
  "kernelspec": {
   "display_name": "Python 3",
   "language": "python",
   "name": "python3"
  },
  "language_info": {
   "codemirror_mode": {
    "name": "ipython",
    "version": 3
   },
   "file_extension": ".py",
   "mimetype": "text/x-python",
   "name": "python",
   "nbconvert_exporter": "python",
   "pygments_lexer": "ipython3",
   "version": "3.7.9"
  }
 },
 "nbformat": 4,
 "nbformat_minor": 2
}
