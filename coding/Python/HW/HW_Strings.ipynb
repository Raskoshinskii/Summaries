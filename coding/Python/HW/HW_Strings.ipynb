{
 "cells": [
  {
   "cell_type": "markdown",
   "id": "a3e4a24e-8f9e-414d-95b3-d7e476db9e8c",
   "metadata": {},
   "source": [
    "### Home Work 2 (Strings)"
   ]
  },
  {
   "cell_type": "markdown",
   "id": "d5c951bc-6270-4f19-ae29-52b36f233820",
   "metadata": {},
   "source": [
    "### Задание 1\n",
    "Напишите программу которая принимает произвольную строку и возвращает перевернутую версию"
   ]
  },
  {
   "cell_type": "code",
   "execution_count": null,
   "id": "146093ad-9beb-4fd4-8b5f-4a7f218bacf4",
   "metadata": {},
   "outputs": [],
   "source": [
    "# Код"
   ]
  },
  {
   "cell_type": "markdown",
   "id": "3cfc48c0-cda7-45b2-a684-24bd75101dd0",
   "metadata": {},
   "source": [
    "### Задание 2\n",
    "Напишите программу которая определяет начинается ли строка с гласной буквы"
   ]
  },
  {
   "cell_type": "code",
   "execution_count": null,
   "id": "7e6c328f-7b4c-41ee-8513-7f673bd6c232",
   "metadata": {},
   "outputs": [],
   "source": [
    "# Код"
   ]
  },
  {
   "cell_type": "markdown",
   "id": "4c0c61e8-7385-4b74-b4e5-d79e50df8d20",
   "metadata": {},
   "source": [
    "### Задание 3\n",
    "Напишите программу принимает произвольную строку/сообщение, спрашивает нужно ли провести замену какого-либо слова и заменяет его при необходимости"
   ]
  },
  {
   "cell_type": "code",
   "execution_count": null,
   "id": "f4723ea1-9343-4293-aba9-be6b58beca24",
   "metadata": {},
   "outputs": [],
   "source": [
    "# Код"
   ]
  },
  {
   "cell_type": "markdown",
   "id": "c2add550-9ec3-4fa7-a9ab-16474ea734b6",
   "metadata": {},
   "source": [
    "### Задание 4\n",
    "Напишите программу которая принимает произвольную строку и автоматически очищает слева и справа строку от лишних символов. \n",
    "\n",
    "Список лишних символов: `!@#$%&`\n",
    "\n",
    "Пример: `'!!!@@@text%%%@@@' -> 'text'`"
   ]
  },
  {
   "cell_type": "code",
   "execution_count": null,
   "id": "95152682-8da6-48f7-a1bc-3e5d5f0100d5",
   "metadata": {},
   "outputs": [],
   "source": [
    "# Код"
   ]
  },
  {
   "cell_type": "markdown",
   "id": "33d448a2-97c9-4136-810a-59de81b3f82a",
   "metadata": {},
   "source": [
    "### Задание 5\n",
    "Напишите программу в которой пользовател пишет название книги, а программа выдаёт краткую информацию по ней (например автор, год публикации)\n"
   ]
  },
  {
   "cell_type": "code",
   "execution_count": null,
   "id": "262de6fa-1f73-40aa-8de0-e77b9e41ab2c",
   "metadata": {},
   "outputs": [],
   "source": [
    "# Код"
   ]
  }
 ],
 "metadata": {
  "kernelspec": {
   "display_name": "Python 3",
   "language": "python",
   "name": "python3"
  },
  "language_info": {
   "codemirror_mode": {
    "name": "ipython",
    "version": 3
   },
   "file_extension": ".py",
   "mimetype": "text/x-python",
   "name": "python",
   "nbconvert_exporter": "python",
   "pygments_lexer": "ipython3",
   "version": "3.7.9"
  }
 },
 "nbformat": 4,
 "nbformat_minor": 5
}
