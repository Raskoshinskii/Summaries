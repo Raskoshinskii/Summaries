{
 "cells": [
  {
   "cell_type": "markdown",
   "id": "989fe007-8aa7-4440-99b4-2c0e71415ff8",
   "metadata": {},
   "source": [
    "### Home Work 3 (List, Set, Tuple, Dict)"
   ]
  },
  {
   "cell_type": "markdown",
   "id": "1c9d1273-14e2-44fe-85d3-e19a4f04d0b9",
   "metadata": {},
   "source": [
    "### Задание 1\n",
    "Напиишите программу которая принимает случайную строку и выводит только уникальные символы этой строки"
   ]
  },
  {
   "cell_type": "code",
   "execution_count": null,
   "id": "e2e30bf1-d59f-45f2-bfdb-6ba84d53abbb",
   "metadata": {},
   "outputs": [],
   "source": [
    "# Код"
   ]
  },
  {
   "cell_type": "markdown",
   "id": "9a3470d6-fe56-456b-95b8-96740cb100f1",
   "metadata": {},
   "source": [
    "### Задание 2\n",
    "1. Создайте словарь со странами в качестве ключей и информацией о населении (в миллионах) в качестве значений. \n",
    "2. Добавьте в этот словарь новые значения: Германия — 83, Франция — 67, Китай — 140,81\n",
    "3. Ой! Мы сделали ошибку для Китая. Это 1408,1 млн. Замените существующее значение правильным."
   ]
  },
  {
   "cell_type": "code",
   "execution_count": 4,
   "id": "7ec85031-310e-4a5b-bcdc-54f55eb0a270",
   "metadata": {},
   "outputs": [],
   "source": [
    "countries = [\n",
    "    'Италия', 'Россия', 'Австрия', \n",
    "    'Австралия', 'Кипр', 'США', 'Испания', 'Греция'\n",
    "]\n",
    "\n",
    "population_mln = [60.3, 144.4, 8.6, 25.4, 0.86, 328, 47, 10.7]\n",
    "\n",
    "\n",
    "# Код"
   ]
  },
  {
   "cell_type": "markdown",
   "id": "e0910c4d-45a1-4d62-85fe-45b1f08c0ce5",
   "metadata": {},
   "source": [
    "### Задание 3\n",
    "Напишите программу которая принимает строку и проверят является ли она палиндромной (палиндромное слово - слова которое читается одинаково независимо от направления)\n",
    "\n",
    "Пример палиндромов: 'казак', 'мадам', 'кайак'"
   ]
  },
  {
   "cell_type": "code",
   "execution_count": null,
   "id": "0736e6e1-f970-4899-834d-9d3d58379149",
   "metadata": {},
   "outputs": [],
   "source": [
    "# Код"
   ]
  },
  {
   "cell_type": "markdown",
   "id": "e9a51d2c-a4b8-4605-b743-a499377291c7",
   "metadata": {},
   "source": [
    "### Задание 4\n",
    "Сгенеруруйте последовательность чисел от 0 до 1000. Из данной последовательности найдите нечетные числа и добавьте их в отдельный список. Вывидите только последние 5 из них"
   ]
  },
  {
   "cell_type": "code",
   "execution_count": null,
   "id": "18a27f90-a7d0-4d31-a7b8-98ed445353a0",
   "metadata": {},
   "outputs": [],
   "source": [
    "# Код"
   ]
  },
  {
   "cell_type": "markdown",
   "id": "ac2a0679-066e-4d63-a2bf-cd7a2e3e10bf",
   "metadata": {},
   "source": [
    "### Задание 6\n",
    "Напишите программу которая генерирует последовательность из n целых чисел и возвращает список из этих чисел в котором\n",
    "- Числа которые делятся на 3 без остатка имеют строку 'three'\n",
    "- Числа которые делятся без остатка на 5 имеют строку 'five'\n",
    "- Числа которые делятся без остатка на 3 и 5 имеют сроку 'three_five'\n",
    "\n",
    "Пример\n",
    "\n",
    "`n = 15 -> [1, 2, 'three', 4, 'five', 'three', 7, 8, 'three', 'five', 11, 'three', 13, 14, 'three_five']`"
   ]
  },
  {
   "cell_type": "code",
   "execution_count": null,
   "id": "6561bba2-8063-47c4-bfb3-c0b3f0f9aa5f",
   "metadata": {},
   "outputs": [],
   "source": []
  },
  {
   "cell_type": "code",
   "execution_count": null,
   "id": "ad51e312-e34c-4c59-8ccd-3386f6413f45",
   "metadata": {},
   "outputs": [],
   "source": []
  }
 ],
 "metadata": {
  "kernelspec": {
   "display_name": "Python 3",
   "language": "python",
   "name": "python3"
  },
  "language_info": {
   "codemirror_mode": {
    "name": "ipython",
    "version": 3
   },
   "file_extension": ".py",
   "mimetype": "text/x-python",
   "name": "python",
   "nbconvert_exporter": "python",
   "pygments_lexer": "ipython3",
   "version": "3.7.9"
  }
 },
 "nbformat": 4,
 "nbformat_minor": 5
}
