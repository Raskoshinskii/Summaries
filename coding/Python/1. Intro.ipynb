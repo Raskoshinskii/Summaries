{
 "cells": [
  {
   "cell_type": "markdown",
   "id": "d082c0d3-c9ca-4485-bfc0-03b19799400d",
   "metadata": {
    "jp-MarkdownHeadingCollapsed": true,
    "tags": []
   },
   "source": [
    "### Python Intro\n",
    "- https://medium.com/edureka/jupyter-notebook-cheat-sheet-88f60d1aca7 (Jupyter Notebook - ENG)\n",
    "\n",
    "Сначала взгляните на строку меню. Убедитесь, что вы знаете, как найти ключевые операции в файле: «Открыть», «Создать копию», «Сохранить как», «Переименовать», «Загрузить как».\n",
    "\n",
    "Знакомство с Python следует начинать с основ, а именно - структур данных: числа, строки, списки, словари и уже затем плавно переходить к более сложным стуктурам"
   ]
  },
  {
   "cell_type": "markdown",
   "id": "62df24cf-8251-4188-ac8e-f69a2cf62db5",
   "metadata": {
    "jp-MarkdownHeadingCollapsed": true,
    "tags": []
   },
   "source": [
    "### 1. Числа (Int, Float)"
   ]
  },
  {
   "cell_type": "markdown",
   "id": "fe1bc0ad-c56c-4ac2-ae26-440926aa1fd4",
   "metadata": {},
   "source": [
    "Существует несколько числовых типов данных (int, float, complex, ...). Мы рассмотрим лишь самые основные. \n",
    "\n",
    "Важно помнить - числа являются неизменяемыми структурами данных\n",
    "\n",
    "**Int**\n",
    "\n",
    "Целочисленный тип данных (1, 20, -100, ...)"
   ]
  },
  {
   "cell_type": "code",
   "execution_count": 1,
   "id": "69281948-a509-4fcd-8d07-3febf1a5e17d",
   "metadata": {},
   "outputs": [],
   "source": [
    "# Объявим 3 числа и сохраним их в переменные (точку с запятой в Python не нужно использовать!)\n",
    "a = 1\n",
    "b = 2\n",
    "с = -100"
   ]
  },
  {
   "cell_type": "code",
   "execution_count": 2,
   "id": "0bdb07ad-ff17-4edf-a43d-df4106298ee9",
   "metadata": {},
   "outputs": [
    {
     "data": {
      "text/plain": [
       "1"
      ]
     },
     "execution_count": 2,
     "metadata": {},
     "output_type": "execute_result"
    }
   ],
   "source": [
    "# Для просмотра значения переменной можно просто написать перменную в консоль и выполнить ячейку (Shift + Enter)\n",
    "a"
   ]
  },
  {
   "cell_type": "markdown",
   "id": "ec887212-d74e-4cf0-942f-2fc2fad825e6",
   "metadata": {},
   "source": [
    "**Float**\n",
    "\n",
    "Десятичные числа (1.0, 0.22, ...)"
   ]
  },
  {
   "cell_type": "code",
   "execution_count": 3,
   "id": "8111eda5-2706-48c6-a679-1fd07ed2b1d1",
   "metadata": {},
   "outputs": [],
   "source": [
    "# используется точка, а не запятая \n",
    "d = 14.22\n",
    "e = 0.22"
   ]
  },
  {
   "cell_type": "markdown",
   "id": "19b3174e-aa23-4cd1-af8d-762a62fe6b67",
   "metadata": {},
   "source": [
    "**Функция type()**\n",
    "\n",
    "Позволяет узнавать тип переменных"
   ]
  },
  {
   "cell_type": "code",
   "execution_count": 6,
   "id": "0a7a103e-9598-4ee3-9cc3-228d7f07095d",
   "metadata": {},
   "outputs": [
    {
     "data": {
      "text/plain": [
       "(int, float)"
      ]
     },
     "execution_count": 6,
     "metadata": {},
     "output_type": "execute_result"
    }
   ],
   "source": [
    "# Можно написать несколько выражений через запятую\n",
    "type(a), type(d)"
   ]
  },
  {
   "cell_type": "markdown",
   "id": "bee0cd2f-b69e-4455-947d-143075d5f72e",
   "metadata": {},
   "source": [
    "Видно, что переменная `a` имеет тип int, а `d` - float.\n",
    "\n",
    "C числами можно выполнять все известные арифметические операции "
   ]
  },
  {
   "cell_type": "code",
   "execution_count": 7,
   "id": "61347711-d380-434d-82a9-ba93fe74082f",
   "metadata": {},
   "outputs": [
    {
     "data": {
      "text/plain": [
       "3"
      ]
     },
     "execution_count": 7,
     "metadata": {},
     "output_type": "execute_result"
    }
   ],
   "source": [
    "res = a + b\n",
    "res"
   ]
  },
  {
   "cell_type": "code",
   "execution_count": 8,
   "id": "712970c4-4aa8-4596-bf32-9a86faeb3fa5",
   "metadata": {},
   "outputs": [
    {
     "data": {
      "text/plain": [
       "0"
      ]
     },
     "execution_count": 8,
     "metadata": {},
     "output_type": "execute_result"
    }
   ],
   "source": [
    "# очень полезными являются целочисленное деление и остаток от деления\n",
    "1 // 2 # целочисленное деление "
   ]
  },
  {
   "cell_type": "code",
   "execution_count": 10,
   "id": "39281a93-1a94-48ae-bcb1-cef14607f0d9",
   "metadata": {},
   "outputs": [
    {
     "data": {
      "text/plain": [
       "1"
      ]
     },
     "execution_count": 10,
     "metadata": {},
     "output_type": "execute_result"
    }
   ],
   "source": [
    "1 % 2 # остаток от деления (часто используется как проверка на четность числа)"
   ]
  },
  {
   "cell_type": "markdown",
   "id": "c6a66cae-37b0-48bb-9273-e04847a20b61",
   "metadata": {},
   "source": [
    "- https://realpython.com/python-numbers/ (более подробно о числах в python)"
   ]
  },
  {
   "cell_type": "markdown",
   "id": "7b4becf5-84c3-463e-84b4-4118cd34dc1e",
   "metadata": {
    "jp-MarkdownHeadingCollapsed": true,
    "tags": []
   },
   "source": [
    "### 2. Логический Тип Bool (True/False), Операторы AND/OR"
   ]
  },
  {
   "cell_type": "markdown",
   "id": "f2ab3c87-7f24-4d57-8ca2-102c670e6981",
   "metadata": {},
   "source": [
    "Данный тип обычно нужен для управления логикой программы. В зависимоти от значения переменной True/False и использования логичесикх операторов программа будет выполнять различные команнды\n",
    "- https://realpython.com/python-boolean/\n",
    "\n",
    "Также нужно понимать, что буедт если мы объединяем True/False с логическими операторами"
   ]
  },
  {
   "cell_type": "code",
   "execution_count": 14,
   "id": "38008d60-36fa-40db-abbe-a9a4f3863832",
   "metadata": {},
   "outputs": [
    {
     "data": {
      "text/plain": [
       "False"
      ]
     },
     "execution_count": 14,
     "metadata": {},
     "output_type": "execute_result"
    }
   ],
   "source": [
    "True and False"
   ]
  },
  {
   "cell_type": "code",
   "execution_count": 15,
   "id": "14ffd103-d83f-431a-a72a-2ea78379f2d0",
   "metadata": {},
   "outputs": [
    {
     "data": {
      "text/plain": [
       "False"
      ]
     },
     "execution_count": 15,
     "metadata": {},
     "output_type": "execute_result"
    }
   ],
   "source": [
    "False and False"
   ]
  },
  {
   "cell_type": "code",
   "execution_count": 16,
   "id": "82670f57-3132-4585-bf76-d83d30a740e2",
   "metadata": {},
   "outputs": [
    {
     "data": {
      "text/plain": [
       "True"
      ]
     },
     "execution_count": 16,
     "metadata": {},
     "output_type": "execute_result"
    }
   ],
   "source": [
    "True or False"
   ]
  },
  {
   "cell_type": "code",
   "execution_count": 20,
   "id": "b88dcf61-f46c-440d-8680-c79371277788",
   "metadata": {},
   "outputs": [
    {
     "data": {
      "text/plain": [
       "1"
      ]
     },
     "execution_count": 20,
     "metadata": {},
     "output_type": "execute_result"
    }
   ],
   "source": [
    "# По умолчанию в Python True - 1, False - 0\n",
    "1 or 0"
   ]
  },
  {
   "cell_type": "markdown",
   "id": "57cbb8f4-bbde-493f-8060-58fee94fc102",
   "metadata": {
    "jp-MarkdownHeadingCollapsed": true,
    "tags": []
   },
   "source": [
    "### 3. Операторы Сравнения"
   ]
  },
  {
   "cell_type": "code",
   "execution_count": 17,
   "id": "3804f717-c8b6-49ee-94ea-3bfb818f4bea",
   "metadata": {},
   "outputs": [
    {
     "data": {
      "text/plain": [
       "True"
      ]
     },
     "execution_count": 17,
     "metadata": {},
     "output_type": "execute_result"
    }
   ],
   "source": [
    "# Проверка равентва \n",
    "5 == 5"
   ]
  },
  {
   "cell_type": "code",
   "execution_count": 18,
   "id": "a3692e43-c7d7-4a60-a21e-104236b8b158",
   "metadata": {},
   "outputs": [
    {
     "data": {
      "text/plain": [
       "True"
      ]
     },
     "execution_count": 18,
     "metadata": {},
     "output_type": "execute_result"
    }
   ],
   "source": [
    "# Проверка неравенства\n",
    "5 != 3"
   ]
  },
  {
   "cell_type": "code",
   "execution_count": 21,
   "id": "de4d2dbe-d5d2-4e76-a2e8-a76100f71ce2",
   "metadata": {},
   "outputs": [
    {
     "data": {
      "text/plain": [
       "True"
      ]
     },
     "execution_count": 21,
     "metadata": {},
     "output_type": "execute_result"
    }
   ],
   "source": [
    "5 >= 5"
   ]
  },
  {
   "cell_type": "markdown",
   "id": "d2157924-0578-41b4-bf79-3872d35285f9",
   "metadata": {
    "jp-MarkdownHeadingCollapsed": true,
    "tags": []
   },
   "source": [
    "### 4. Операторы IF-ELSE"
   ]
  },
  {
   "cell_type": "markdown",
   "id": "d989d394-251e-4f9a-abc9-a1e585eafbdb",
   "metadata": {},
   "source": [
    "Данные операторы также используются для управления логикой программы. Кратко это моно описать так:    "
   ]
  },
  {
   "cell_type": "raw",
   "id": "6574bb13-60cc-4f06-b414-192ed0194ad9",
   "metadata": {},
   "source": [
    "If <условие>: если условие истино - True \n",
    "    делай так  \n",
    "else: # иначе\n",
    "    делай так "
   ]
  },
  {
   "cell_type": "code",
   "execution_count": 44,
   "id": "64fe45ed-e3dc-4403-956d-0d571d6b41a2",
   "metadata": {},
   "outputs": [
    {
     "name": "stdin",
     "output_type": "stream",
     "text": [
      "Введите Ваш возраст 22\n"
     ]
    },
    {
     "name": "stdout",
     "output_type": "stream",
     "text": [
      "Ты молод!\n"
     ]
    }
   ],
   "source": [
    "age = int(input('Введите Ваш возраст'))\n",
    "if age < 50:\n",
    "    print('Ты молод!')\n",
    "else:\n",
    "    print('Ты уже стар(')"
   ]
  },
  {
   "cell_type": "markdown",
   "id": "e24c4ce2-7773-4223-9136-36e8c92d05fd",
   "metadata": {},
   "source": [
    "**Условия можно усложнять**"
   ]
  },
  {
   "cell_type": "code",
   "execution_count": 45,
   "id": "5d5fa560-92f5-4ae6-936d-88bee30abef8",
   "metadata": {},
   "outputs": [
    {
     "name": "stdin",
     "output_type": "stream",
     "text": [
      "Введите Ваш возраст 22\n"
     ]
    },
    {
     "name": "stdout",
     "output_type": "stream",
     "text": [
      "Ты уже не ребенок\n"
     ]
    }
   ],
   "source": [
    "age = int(input('Введите Ваш возраст'))\n",
    "if age > 1 and age <= 10:\n",
    "    print('Ты еще ребенок')\n",
    "else:\n",
    "    print('Ты уже не ребенок')"
   ]
  },
  {
   "cell_type": "code",
   "execution_count": null,
   "id": "cfc551d2-09aa-4a49-b063-6e373ed99eb8",
   "metadata": {},
   "outputs": [],
   "source": [
    "# условие if-elif-else\n",
    "# elif можно расшифровать как else - if "
   ]
  },
  {
   "cell_type": "code",
   "execution_count": 48,
   "id": "d4b67e2d-70ad-4c4f-8de9-e0d44556216c",
   "metadata": {},
   "outputs": [
    {
     "name": "stdin",
     "output_type": "stream",
     "text": [
      "Введите Ваш возраст 55\n"
     ]
    },
    {
     "name": "stdout",
     "output_type": "stream",
     "text": [
      "Ты уже стар\n"
     ]
    }
   ],
   "source": [
    "age = int(input('Введите Ваш возраст'))\n",
    "if age > 1 and age <= 10:\n",
    "    print('Ты еще ребенок')\n",
    "elif age > 10 and age <=30:\n",
    "    print('Ты молод')\n",
    "elif age > 30 and age <= 50:\n",
    "    print('Ты взрослый')\n",
    "else:\n",
    "    print('Ты уже стар')"
   ]
  },
  {
   "cell_type": "markdown",
   "id": "c396a6aa-a057-4672-99e0-b6208280b13a",
   "metadata": {},
   "source": [
    "**Условия можно вкладывать**\n",
    "\n",
    "Однако не следует увлекаться вложенность так как это усложняет читабельность кода (спагетти код)"
   ]
  },
  {
   "cell_type": "code",
   "execution_count": 49,
   "id": "f5777012-6d67-4c27-aefe-1807087baa41",
   "metadata": {},
   "outputs": [
    {
     "name": "stdin",
     "output_type": "stream",
     "text": [
      "Введите Ваш возраст 22\n"
     ]
    },
    {
     "name": "stdout",
     "output_type": "stream",
     "text": [
      "Ты взросылй\n"
     ]
    }
   ],
   "source": [
    "age = int(input('Введите Ваш возраст'))\n",
    "if age > 1 and age <= 10:\n",
    "    if age > 1 and age <= 5:\n",
    "        print('Ты младенец')\n",
    "    else:\n",
    "        print('Ты ребенок')\n",
    "elif age > 10 and age <=30:\n",
    "    if age > 10 and age < 20:\n",
    "        print('Ты подросток')\n",
    "    else:\n",
    "        print('Ты взросылй')\n",
    "elif age > 30 and age <= 50:\n",
    "    if age > 30 and age < 40:\n",
    "        print('Ты зрелый')\n",
    "    else:\n",
    "        print('Ты очень зрелый)')\n",
    "else:\n",
    "    print('Ты уже стар')"
   ]
  },
  {
   "cell_type": "markdown",
   "id": "310463a5-16e8-4eba-b84b-325fd0f403a3",
   "metadata": {},
   "source": [
    "- https://realpython.com/python-operators-expressions/ (более подробно о операторах сравнения, if-else, bool)"
   ]
  },
  {
   "cell_type": "markdown",
   "id": "1ff0d8c1-b702-4e58-b8a4-00b02f1cd154",
   "metadata": {
    "jp-MarkdownHeadingCollapsed": true,
    "tags": []
   },
   "source": [
    "### 5. Строки (String)"
   ]
  },
  {
   "cell_type": "markdown",
   "id": "32dec629-a065-4a94-a790-a35a65db5ee5",
   "metadata": {},
   "source": [
    "Строки будут более подробно рассмотрены в другом ноутбуке. Для начала нам нужно лишь понимать как их определять"
   ]
  },
  {
   "cell_type": "code",
   "execution_count": 12,
   "id": "13bd1855-688b-45d7-81a4-9152b7787aed",
   "metadata": {},
   "outputs": [
    {
     "data": {
      "text/plain": [
       "'Так можно определить строку'"
      ]
     },
     "execution_count": 12,
     "metadata": {},
     "output_type": "execute_result"
    }
   ],
   "source": [
    "'Так можно определить строку'"
   ]
  },
  {
   "cell_type": "code",
   "execution_count": 13,
   "id": "e912d65a-7efc-4b42-a3cc-e0c3c1748a3e",
   "metadata": {},
   "outputs": [
    {
     "data": {
      "text/plain": [
       "'И в таких ковычках тоже'"
      ]
     },
     "execution_count": 13,
     "metadata": {},
     "output_type": "execute_result"
    }
   ],
   "source": [
    "\"И в таких ковычках тоже\""
   ]
  },
  {
   "cell_type": "code",
   "execution_count": 37,
   "id": "46dbed15-7945-48e1-85c4-fad2870e7b08",
   "metadata": {},
   "outputs": [
    {
     "data": {
      "text/plain": [
       "'apple'"
      ]
     },
     "execution_count": 37,
     "metadata": {},
     "output_type": "execute_result"
    }
   ],
   "source": [
    "# сохраним строку в переменную\n",
    "my_fav_fruit = 'apple'\n",
    "my_fav_fruit"
   ]
  },
  {
   "cell_type": "markdown",
   "id": "24393856-64d5-49ae-85f4-1710a51d64a7",
   "metadata": {},
   "source": [
    "**Функция len()**\n",
    "\n",
    "Данная функция определяет длину последовательности. Строку можно представить как последовательность из символов, букв"
   ]
  },
  {
   "cell_type": "code",
   "execution_count": 50,
   "id": "9f88212a-91df-410f-ad86-429b0d70cff7",
   "metadata": {},
   "outputs": [
    {
     "data": {
      "text/plain": [
       "5"
      ]
     },
     "execution_count": 50,
     "metadata": {},
     "output_type": "execute_result"
    }
   ],
   "source": [
    "len(my_fav_fruit)"
   ]
  },
  {
   "cell_type": "markdown",
   "id": "56487952-386e-4eb5-9772-f135b1dfbf85",
   "metadata": {
    "jp-MarkdownHeadingCollapsed": true,
    "tags": []
   },
   "source": [
    "### 6. Функция Print()"
   ]
  },
  {
   "cell_type": "markdown",
   "id": "4b57c3fd-b84e-46f5-be00-355536c20415",
   "metadata": {},
   "source": [
    "Простешая фунция, осуществляющая печать (вывод) данных. Чтобы просмотреть документацию по любой функции в Python необходимо использовать комбинацию клавиш - `Shift + Tab`"
   ]
  },
  {
   "cell_type": "code",
   "execution_count": 51,
   "id": "622d209c-a155-4227-919d-749dd654a7ee",
   "metadata": {},
   "outputs": [
    {
     "name": "stdout",
     "output_type": "stream",
     "text": [
      "\n"
     ]
    }
   ],
   "source": [
    "# Взглянем на документацию функции print()\n",
    "# print(помести курсор в скобки функции и нажми Shift + Tab)\n",
    "print()"
   ]
  },
  {
   "cell_type": "markdown",
   "id": "b20851e3-6f9a-48f9-8a1b-72f2316167e4",
   "metadata": {},
   "source": [
    "Мы видим такие параметры как\n",
    "- `value`- значение которе необходимо вывести/напечатать\n",
    "- `sep` - разделитель (сторка которая разделяет переменные передаваемые в данную функцию)\n",
    "- `end` - окончание выводимой строки"
   ]
  },
  {
   "cell_type": "code",
   "execution_count": 31,
   "id": "6f5df6f4-a01a-4e4c-b0d7-68bb2b06972e",
   "metadata": {},
   "outputs": [
    {
     "name": "stdout",
     "output_type": "stream",
     "text": [
      "Эта строка напечатана при помощи функции print\n"
     ]
    }
   ],
   "source": [
    "print('Эта строка напечатана при помощи функции print')"
   ]
  },
  {
   "cell_type": "code",
   "execution_count": 28,
   "id": "86a49a03-b1a1-483c-88f8-7ad47d563a33",
   "metadata": {},
   "outputs": [
    {
     "name": "stdout",
     "output_type": "stream",
     "text": [
      "1\n",
      "14.22 0.22\n",
      "14.22\n",
      "0.22\n"
     ]
    }
   ],
   "source": [
    "# Теперь можем вывести предыдущие переменные \n",
    "print(a)\n",
    "print(d, e)"
   ]
  },
  {
   "cell_type": "code",
   "execution_count": 29,
   "id": "39909145-bf54-47d7-89e6-88eefb99e1a1",
   "metadata": {},
   "outputs": [
    {
     "name": "stdout",
     "output_type": "stream",
     "text": [
      "14.22\n",
      "0.22\n"
     ]
    }
   ],
   "source": [
    "print(d, e, sep='\\n') # выводим каждую переменную в новой строке"
   ]
  },
  {
   "cell_type": "markdown",
   "id": "01d5f61c-6a8a-4e64-aa33-6c2d63478803",
   "metadata": {},
   "source": [
    "**Формат строки**\n",
    "- https://realpython.com/python-string-formatting/ (более подробно о методах форматирования)"
   ]
  },
  {
   "cell_type": "code",
   "execution_count": 33,
   "id": "c0d2408c-5792-4462-9dd7-36b95cacec0c",
   "metadata": {},
   "outputs": [
    {
     "name": "stdout",
     "output_type": "stream",
     "text": [
      "Значение переменной a:  1\n",
      "Значение перменной а: 1\n"
     ]
    }
   ],
   "source": [
    "# 2 разных способа форматирования\n",
    "print('Значение переменной a: ', a)\n",
    "print(f'Значение перменной а: {a}')"
   ]
  },
  {
   "cell_type": "code",
   "execution_count": 35,
   "id": "2d20462a-2ede-4664-b2f2-8268e45f88cc",
   "metadata": {},
   "outputs": [
    {
     "name": "stdout",
     "output_type": "stream",
     "text": [
      "ferrari моя любимая марка!\n"
     ]
    }
   ],
   "source": [
    "my_fav_car = 'ferrari'\n",
    "print(my_fav_car, 'моя любимая марка!')"
   ]
  },
  {
   "cell_type": "markdown",
   "id": "8a2bbb25-9dcb-44ee-bd59-51af3ec76a33",
   "metadata": {
    "jp-MarkdownHeadingCollapsed": true,
    "tags": []
   },
   "source": [
    "### 7. Функция Input()"
   ]
  },
  {
   "cell_type": "markdown",
   "id": "e20b40c5-8241-42ee-9a1e-55d03e78bf1a",
   "metadata": {},
   "source": [
    "Функция позволяет считывать данные с клавиатуры. Важно запомнить, что значения которые мы передаем функции input всегда будут строкой"
   ]
  },
  {
   "cell_type": "code",
   "execution_count": 40,
   "id": "7d79c95e-f21f-4bcb-9b3b-deb150608a3e",
   "metadata": {},
   "outputs": [
    {
     "name": "stdin",
     "output_type": "stream",
     "text": [
      "Сколько Вам лет? 22\n"
     ]
    },
    {
     "name": "stdout",
     "output_type": "stream",
     "text": [
      "переменная my_age имеет тип:  <class 'str'>\n"
     ]
    }
   ],
   "source": [
    "my_age = input('Сколько Вам лет?')\n",
    "print('переменная my_age имеет тип: ', type(my_age))"
   ]
  },
  {
   "cell_type": "code",
   "execution_count": 42,
   "id": "c031b795-9af6-4014-bea3-6ce5caf89ef1",
   "metadata": {},
   "outputs": [
    {
     "name": "stdin",
     "output_type": "stream",
     "text": [
      "Введите ваш возраст 22\n"
     ]
    },
    {
     "name": "stdout",
     "output_type": "stream",
     "text": [
      "Вам осталось до пенсии:  43\n"
     ]
    }
   ],
   "source": [
    "# напишем простуб программу которая считывает текущий возраст и говорит сколько осталось до пенсии\n",
    "pension_age = 65 # предположим что пенсионный возраст такой и одинаков для муж и жен\n",
    "person_age = int(input('Введите ваш возраст')) # для преобразования строки в число используем функцию int, предпологаем person_age <= pension_age\n",
    "print('Вам осталось до пенсии: ', pension_age - person_age)"
   ]
  },
  {
   "cell_type": "markdown",
   "id": "affeadc6-dbc3-49c7-94d5-25816c5f535a",
   "metadata": {
    "jp-MarkdownHeadingCollapsed": true,
    "tags": []
   },
   "source": [
    "### 8. Преобразования Типов Данных"
   ]
  },
  {
   "cell_type": "markdown",
   "id": "871bea4c-5053-4f47-afe7-d7038569b8b2",
   "metadata": {},
   "source": [
    "Часто некоторые типы данных записаны немного неправильно или не так как бы мы хотели. Например, возраст - строка. Нужно иметь осуществлять такие преобразования"
   ]
  },
  {
   "cell_type": "code",
   "execution_count": 43,
   "id": "bfc36ff3-8936-4a39-98f3-d4da044007f0",
   "metadata": {},
   "outputs": [
    {
     "name": "stdout",
     "output_type": "stream",
     "text": [
      "<class 'str'>\n",
      "<class 'int'>\n"
     ]
    }
   ],
   "source": [
    "person_age = '45'\n",
    "print(type(person_age))\n",
    "\n",
    "person_age = int(person_age)\n",
    "print(type(person_age))"
   ]
  }
 ],
 "metadata": {
  "kernelspec": {
   "display_name": "Python 3",
   "language": "python",
   "name": "python3"
  },
  "language_info": {
   "codemirror_mode": {
    "name": "ipython",
    "version": 3
   },
   "file_extension": ".py",
   "mimetype": "text/x-python",
   "name": "python",
   "nbconvert_exporter": "python",
   "pygments_lexer": "ipython3",
   "version": "3.7.9"
  }
 },
 "nbformat": 4,
 "nbformat_minor": 5
}
