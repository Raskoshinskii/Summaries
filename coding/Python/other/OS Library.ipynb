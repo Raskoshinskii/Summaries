{
 "cells": [
  {
   "cell_type": "markdown",
   "metadata": {},
   "source": [
    "### Module OS\n",
    "Module OS is intended for working with Operating System. Mostly it's used for manipulating files and directories.\n",
    "\n",
    "### OS Commands\n",
    "- ```os.name``` - returns OS name (e.g for Windows returns 'nt');\n",
    "- ```os.environ``` - returns a dict of environment variables (e.g username ...);\n",
    "- ```os.getenv('env_var')``` - access a provided environment variable;\n",
    "- ```os.getlogin()``` - returns a logged-in user name\n",
    "\n",
    "### Directory Commands \n",
    "- ```os.chdir(path)``` - set the provided path as the current working directory;\n",
    "- ```os.getcwd()``` - returns a path of the current working directory;\n",
    "- ```os.listdir('.')``` - returns a list with files and directories in the current working directory;\n",
    "- ```os.scandir(path)``` - similar to os.listdir() but returns an iterator object which has some cool methods;\n",
    "    - ```entry.is_file()```\n",
    "    - ```entry.is_dir()```\n",
    "    - ```entry.stats()```\n",
    "    \n",
    "### Path\n",
    "- ```os.path.join('path ','file_name')``` - joins path and a file name into a complete path;\n",
    "- ```os.path.split('path')``` - splits path into a path and a file name\n",
    "\n",
    "### Files\n",
    "- ```os.startfile('file_name')``` - runs a file\n",
    "\n",
    "- ```os.path.basename('path')``` - returns a file name from the path;\n",
    "- ```os.path.isfile('path')```\n",
    "\n",
    "- ```os.path.exists(file)```\n",
    "- ```os.rename('file_name.txt','new_file_name')``` \n",
    "- ```os.remove('file_name')``` - removes only files\n",
    "- ```os.isfile('file_name')```\n",
    "\n",
    "- ```shutil.copy('file_name','dir_name')```\n",
    "- ```shutil.copy2('file_name','dir_name')``` - preserves all info about a file\n",
    "\n",
    "### Directory\n",
    "- ```os.path.dirname('path')``` - returns a dir_name from a path;\n",
    "- ```os.path.isdir('path')```\n",
    "\n",
    "- ```os.path.exists(directory)```\n",
    "- ```os.rename('old_dir_name','new_dir_name')```\n",
    "\n",
    "- ```os.rmdir('dir_name')```\n",
    "- ```os.removedirs ('path')``` - first removes child directory and then all parent directories (if they're empty)\n",
    "- ```shutil.rmtree ( ' dir_name')```\n",
    "\n",
    "- ```os.mkdir('dir_name')```\n",
    "- ```os.mkdirs(' ../.. ')```\n",
    "\n",
    "- ```shutil.copytree('dir_name','dir_name')```\n",
    "- ```shutil.move('dir_name','dir_name')```\n",
    "\n",
    "### Archives\n",
    "For woking with archives we have to import the module **zipfile** and then open it via an context manager\n",
    "- ```info_obj = zip_obj.getinfo('file_name')``` - gets info about a file in a directory\n",
    "    - ```info_obj.date_time```\n",
    "    - ```info_obj.file_size```\n",
    "    - ```info_obj.filename```\n",
    "    - ```info_obj.compress_size```\n",
    "    \n",
    "### Reading From an Archive \n",
    "When reading/extracting info, make sure that **the mode is read**\n",
    "- ```zip_obj.namelist()``` - returns all directories and files in the current archive;\n",
    "- ```zip_obj.extract('file_name' or 'dir_name')``` - extracts a certain file/directory;\n",
    "- ```zip_obj.extractall(path = ' dir_name_to_extract')``` - extracts everything from an archive into a provided directory;\n",
    "\n",
    "### Writing Into an Archive\n",
    "When writing into an archive make sure that the **mode is write**\n",
    "- ```zip_obj.write('file_name ' or 'dir_name')```\n",
    "\n",
    "### Exampels"
   ]
  },
  {
   "cell_type": "code",
   "execution_count": 13,
   "metadata": {},
   "outputs": [
    {
     "name": "stdout",
     "output_type": "stream",
     "text": [
      "Current Directory:  C:\\Users\\vlad\\Desktop\\working_files\n",
      "New Working Directory:  C:\\Users\\vlad\\Desktop\\working_files\n",
      "List of files and directories: \n",
      " ['a', 'a_backup', 'created.zip', 'from_zip', 'new_file.txt', 'renamed.txt', 'sub_folder', 'sub_folders', 'template.py', 'template_2.py', 'test.zip']\n"
     ]
    }
   ],
   "source": [
    "import os \n",
    "\n",
    "print('Current Directory: ', os.getcwd())\n",
    "\n",
    "# New wroking directory\n",
    "os.chdir('C:/Users/vlad/Desktop/working_files')\n",
    "print('New Working Directory: ', os.getcwd())\n",
    "\n",
    "# List of all files and directories in the current working directory\n",
    "print('List of files and directories: \\n', os.listdir())\n",
    "\n"
   ]
  },
  {
   "cell_type": "code",
   "execution_count": 20,
   "metadata": {},
   "outputs": [
    {
     "name": "stdout",
     "output_type": "stream",
     "text": [
      "\n",
      "List of files and directories using scandir:\n",
      " <nt.ScandirIterator object at 0x000001FD791FB340>\n",
      "\n",
      "Files and Directories:\n",
      "<DirEntry 'a'>\n",
      "<DirEntry 'a_backup'>\n",
      "<DirEntry 'created.zip'>\n",
      "<DirEntry 'from_zip'>\n",
      "<DirEntry 'new_file.txt'>\n",
      "<DirEntry 'renamed.txt'>\n",
      "<DirEntry 'sub_folder'>\n",
      "<DirEntry 'sub_folders'>\n",
      "<DirEntry 'template.py'>\n",
      "<DirEntry 'template_2.py'>\n",
      "<DirEntry 'test.zip'>\n",
      "\n",
      "Only Files:\n",
      "<DirEntry 'created.zip'>\n",
      "<DirEntry 'new_file.txt'>\n",
      "<DirEntry 'renamed.txt'>\n",
      "<DirEntry 'template.py'>\n",
      "<DirEntry 'template_2.py'>\n",
      "<DirEntry 'test.zip'>\n",
      "\n",
      " Only Directories\n",
      "<DirEntry 'a'>\n",
      "<DirEntry 'a_backup'>\n",
      "<DirEntry 'from_zip'>\n",
      "<DirEntry 'sub_folder'>\n",
      "<DirEntry 'sub_folders'>\n"
     ]
    }
   ],
   "source": [
    "# Using scandir\n",
    "print('\\nList of files and directories using scandir:\\n', os.scandir('.'))\n",
    "\n",
    "# Please, use context manager for stability\n",
    "print('\\nFiles and Directories:')\n",
    "with os.scandir('.') as entries:\n",
    "    for entry in entries:\n",
    "        print(entry)\n",
    "        \n",
    "# Let's list only files in the current directory\n",
    "print('\\nOnly Files:')\n",
    "with os.scandir('.') as entries:\n",
    "    for entry in entries:\n",
    "        if entry.is_file():\n",
    "            print(entry)\n",
    "            \n",
    "# Let's list only directories in the current directory\n",
    "print('\\n Only Directories')\n",
    "with os.scandir('.') as entries:\n",
    "    for entry in entries:\n",
    "        if entry.is_dir():\n",
    "            print(entry)"
   ]
  },
  {
   "cell_type": "code",
   "execution_count": 37,
   "metadata": {},
   "outputs": [
    {
     "name": "stdout",
     "output_type": "stream",
     "text": [
      "Does a File Exist:  True\n",
      "Does a Directory Exist:  True\n"
     ]
    }
   ],
   "source": [
    "# Chekc if a directory or a file exists \n",
    "print('Does a File Exist: ', os.path.exists('new_file.txt'))\n",
    "print('Does a Directory Exist: ', os.path.exists('a/'))"
   ]
  },
  {
   "cell_type": "markdown",
   "metadata": {},
   "source": [
    "### Directories\n",
    "### Making Directories\n",
    "- os.makedir( 'dir_name' ) - creates a new directory;\n",
    "- os.makedirs( 'dir_name_1/dir_name_2...dir_name_n' ) - creates a directory tree;\n"
   ]
  },
  {
   "cell_type": "code",
   "execution_count": 24,
   "metadata": {},
   "outputs": [
    {
     "name": "stdout",
     "output_type": "stream",
     "text": [
      "['a', 'a_backup', 'created.zip', 'from_zip', 'new_directory', 'new_file.txt', 'renamed.txt', 'sub_folder', 'sub_folders', 'template.py', 'template_2.py', 'test.zip']\n"
     ]
    }
   ],
   "source": [
    "# Single Directory Creation\n",
    "os.mkdir('new_directory')\n",
    "print(os.listdir())\n",
    "\n",
    "# New Tree Directory Creation\n",
    "os.makedirs('new_tree_1/new_tree_2/new_tree_3')"
   ]
  },
  {
   "cell_type": "markdown",
   "metadata": {},
   "source": [
    "### Making Temporary Directories\n",
    "To create a temporary directory we have to import the module **tempfile**"
   ]
  },
  {
   "cell_type": "code",
   "execution_count": 30,
   "metadata": {},
   "outputs": [
    {
     "name": "stdout",
     "output_type": "stream",
     "text": [
      "Temp Directory Has Been Created.\n",
      "The Name of Temp Directory: C:\\Users\\vlad\\AppData\\Local\\Temp\\tmp3gr3b5y6\n",
      "Does Temp Directory Exist: True\n",
      "\n",
      "Temp Directory Has Been Closed\n",
      "Does Temp Directory Exist: False\n"
     ]
    }
   ],
   "source": [
    "# Temp Directory Creation\n",
    "import tempfile\n",
    "\n",
    "with tempfile.TemporaryDirectory() as temp_dir:\n",
    "    print(f'Temp Directory Has Been Created.\\nThe Name of Temp Directory: {temp_dir}')\n",
    "    print(f'Does Temp Directory Exist: {os.path.exists(temp_dir)}')\n",
    "    \n",
    "print('\\nTemp Directory Has Been Closed')\n",
    "print(f'Does Temp Directory Exist: {os.path.exists(temp_dir)}')"
   ]
  },
  {
   "cell_type": "markdown",
   "metadata": {},
   "source": [
    "### Directories Deletion\n",
    "A directory can be deleted if it's emty\n",
    "\n",
    "- os.rmdir( path ) - single directory deletion\n",
    "- shutil.rmtree( dir_to_del ) - deletion of entire directory tree"
   ]
  },
  {
   "cell_type": "code",
   "execution_count": 42,
   "metadata": {},
   "outputs": [
    {
     "name": "stdout",
     "output_type": "stream",
     "text": [
      "Directory from_zip not Empty!\n"
     ]
    }
   ],
   "source": [
    "# First, let's build a function to chekc if a directory is empty\n",
    "\n",
    "def is_dir_empty(dir_path, show_message = False):\n",
    "    \"\"\"\n",
    "    True if a directory is empty else False \n",
    "    \n",
    "    \"\"\"\n",
    "    if os.listdir(dir_path):\n",
    "        \n",
    "        if show_message:\n",
    "            current_dir_name = os.path.split(dir_path)[-1]\n",
    "            print(f'Directory {current_dir_name} not Empty!')\n",
    "            return False\n",
    "        \n",
    "        return False\n",
    "    \n",
    "    else:\n",
    "        \n",
    "        if show_message:\n",
    "            current_dir_name = os.path.split(dir_path)[-1]\n",
    "            print(f'Directory {current_dir_name} Is Empty')\n",
    "            return True\n",
    "        \n",
    "        return True\n",
    "    \n",
    "# Let's delete the provided directory if it's empty   \n",
    "dir_path = 'C:/Users/vlad/Desktop/working_files/from_zip'\n",
    "\n",
    "if is_dir_empty(dir_path, show_message=True):\n",
    "    os.rmdir(dir_path)"
   ]
  },
  {
   "cell_type": "code",
   "execution_count": 48,
   "metadata": {},
   "outputs": [
    {
     "name": "stdout",
     "output_type": "stream",
     "text": [
      "Directory empty Is Empty\n",
      "Directory empty Has Been Deleted\n"
     ]
    }
   ],
   "source": [
    "# Entire Directory Tree Deletion (a directory won't be deleted, if inside there is another empty directory)\n",
    "import shutil\n",
    "\n",
    "dir_to_del = 'C:/Users/vlad/Desktop/working_files/new_directory/empty'\n",
    "\n",
    "if is_dir_empty(dir_to_del, show_message=True):\n",
    "    print(f'Directory {os.path.split(dir_to_del)[-1]} Has Been Deleted')\n",
    "    shutil.rmtree(dir_to_del)"
   ]
  },
  {
   "cell_type": "markdown",
   "metadata": {},
   "source": [
    "### Copying Directories\n",
    "shutil.copytree() will copy an entire directory and everything contained in it. We don't need to create a directory, it will be created automatically.\n",
    "\n",
    "It is a good way to back up files\n",
    "- shutil.copytree( src, dst )"
   ]
  },
  {
   "cell_type": "code",
   "execution_count": 51,
   "metadata": {},
   "outputs": [
    {
     "data": {
      "text/plain": [
       "'backup_from_zip'"
      ]
     },
     "execution_count": 51,
     "metadata": {},
     "output_type": "execute_result"
    }
   ],
   "source": [
    "shutil.copytree('from_zip','backup_from_zip')"
   ]
  },
  {
   "cell_type": "markdown",
   "metadata": {},
   "source": [
    "### Moving Directories\n",
    "To move a file or directory to another location, use:\n",
    "- shutil.move( src, dst )"
   ]
  },
  {
   "cell_type": "code",
   "execution_count": 52,
   "metadata": {},
   "outputs": [
    {
     "data": {
      "text/plain": [
       "'new_tree_1\\\\sub_folders'"
      ]
     },
     "execution_count": 52,
     "metadata": {},
     "output_type": "execute_result"
    }
   ],
   "source": [
    "shutil.move('sub_folders','new_tree_1')"
   ]
  },
  {
   "cell_type": "markdown",
   "metadata": {},
   "source": [
    "### Renaming Directories\n",
    "- os.rename( what, new_name )"
   ]
  },
  {
   "cell_type": "code",
   "execution_count": 53,
   "metadata": {},
   "outputs": [],
   "source": [
    "os.rename('sub_folder', 'SUPER')"
   ]
  },
  {
   "cell_type": "markdown",
   "metadata": {},
   "source": [
    "### Traversing Directories\n",
    "Can traverse directory trees from top-down or bottom-up. For this purpose, use:\n",
    "- os.walk( '.', topdown = False )"
   ]
  },
  {
   "cell_type": "code",
   "execution_count": 26,
   "metadata": {},
   "outputs": [
    {
     "name": "stdout",
     "output_type": "stream",
     "text": [
      "('.', ['a', 'a_backup', 'from_zip', 'new_directory', 'new_tree_1', 'sub_folder', 'sub_folders'], ['created.zip', 'new_file.txt', 'renamed.txt', 'template.py', 'template_2.py', 'test.zip'])\n",
      "('.\\\\a', ['b'], ['new_file.txt'])\n",
      "('.\\\\a\\\\b', ['c'], [])\n",
      "('.\\\\a\\\\b\\\\c', ['d'], [])\n",
      "('.\\\\a\\\\b\\\\c\\\\d', [], ['my_file.txt', 'sss.txt'])\n",
      "('.\\\\a_backup', ['b', 'temp_1'], ['new_file.txt'])\n",
      "('.\\\\a_backup\\\\b', ['c'], [])\n",
      "('.\\\\a_backup\\\\b\\\\c', ['d'], [])\n",
      "('.\\\\a_backup\\\\b\\\\c\\\\d', [], ['my_file.txt', 'sss.txt'])\n",
      "('.\\\\a_backup\\\\temp_1', ['temp_2'], [])\n",
      "('.\\\\a_backup\\\\temp_1\\\\temp_2', [], [])\n",
      "('.\\\\from_zip', ['a'], ['new_file.txt', 'renamed.txt'])\n",
      "('.\\\\from_zip\\\\a', ['b'], ['new_file.txt'])\n",
      "('.\\\\from_zip\\\\a\\\\b', ['c'], [])\n",
      "('.\\\\from_zip\\\\a\\\\b\\\\c', ['d'], [])\n",
      "('.\\\\from_zip\\\\a\\\\b\\\\c\\\\d', [], ['my_file.txt', 'sss.txt'])\n",
      "('.\\\\new_directory', [], [])\n",
      "('.\\\\new_tree_1', ['new_tree_2'], [])\n",
      "('.\\\\new_tree_1\\\\new_tree_2', ['new_tree_3'], [])\n",
      "('.\\\\new_tree_1\\\\new_tree_2\\\\new_tree_3', [], [])\n",
      "('.\\\\sub_folder', ['sub_folder_2'], ['test_1.txt', 'test_2.txt'])\n",
      "('.\\\\sub_folder\\\\sub_folder_2', [], ['abc_1.txt', 'abc_2.txt'])\n",
      "('.\\\\sub_folders', ['sub_folder_1'], [])\n",
      "('.\\\\sub_folders\\\\sub_folder_1', ['sub_folder_2'], [])\n",
      "('.\\\\sub_folders\\\\sub_folder_1\\\\sub_folder_2', [], ['sads.txt'])\n"
     ]
    }
   ],
   "source": [
    "# By default os.walk() returns a tuple with path, dir_names and files \n",
    "for i in os.walk('.'):\n",
    "    print(i)"
   ]
  },
  {
   "cell_type": "code",
   "execution_count": 28,
   "metadata": {},
   "outputs": [
    {
     "name": "stdout",
     "output_type": "stream",
     "text": [
      "Current Directory: .\\a\\b\\c\\d\n",
      "Found File: my_file.txt\n",
      "Found File: sss.txt\n",
      "Current Directory: .\\a\\b\\c\n",
      "Current Directory: .\\a\\b\n",
      "Current Directory: .\\a\n",
      "Found File: new_file.txt\n",
      "Current Directory: .\\a_backup\\b\\c\\d\n",
      "Found File: my_file.txt\n",
      "Found File: sss.txt\n",
      "Current Directory: .\\a_backup\\b\\c\n",
      "Current Directory: .\\a_backup\\b\n",
      "Current Directory: .\\a_backup\\temp_1\\temp_2\n",
      "Current Directory: .\\a_backup\\temp_1\n",
      "Current Directory: .\\a_backup\n",
      "Found File: new_file.txt\n",
      "Current Directory: .\\from_zip\\a\\b\\c\\d\n",
      "Found File: my_file.txt\n",
      "Found File: sss.txt\n",
      "Current Directory: .\\from_zip\\a\\b\\c\n",
      "Current Directory: .\\from_zip\\a\\b\n",
      "Current Directory: .\\from_zip\\a\n",
      "Found File: new_file.txt\n",
      "Current Directory: .\\from_zip\n",
      "Found File: new_file.txt\n",
      "Found File: renamed.txt\n",
      "Current Directory: .\\new_directory\n",
      "Current Directory: .\\new_tree_1\\new_tree_2\\new_tree_3\n",
      "Current Directory: .\\new_tree_1\\new_tree_2\n",
      "Current Directory: .\\new_tree_1\n",
      "Current Directory: .\\sub_folder\\sub_folder_2\n",
      "Found File: abc_1.txt\n",
      "Found File: abc_2.txt\n",
      "Current Directory: .\\sub_folder\n",
      "Found File: test_1.txt\n",
      "Found File: test_2.txt\n",
      "Current Directory: .\\sub_folders\\sub_folder_1\\sub_folder_2\n",
      "Found File: sads.txt\n",
      "Current Directory: .\\sub_folders\\sub_folder_1\n",
      "Current Directory: .\\sub_folders\n",
      "Current Directory: .\n",
      "Found File: created.zip\n",
      "Found File: new_file.txt\n",
      "Found File: renamed.txt\n",
      "Found File: template.py\n",
      "Found File: template_2.py\n",
      "Found File: test.zip\n"
     ]
    }
   ],
   "source": [
    "# Traversing from bottom-up \n",
    "for dir_path, dir_names, files in os.walk('.', topdown = False):\n",
    "    print(f'Current Directory: {dir_path}')\n",
    "    for file in files:\n",
    "        print(f'Found File: {file}')"
   ]
  },
  {
   "cell_type": "markdown",
   "metadata": {},
   "source": [
    "### Files\n",
    "\n",
    "### File Matching\n",
    "To find certain files use **fnmatch or glob modules.**\n",
    "\n",
    "glob allows finding in subdirectories as well"
   ]
  },
  {
   "cell_type": "code",
   "execution_count": 62,
   "metadata": {},
   "outputs": [
    {
     "name": "stdout",
     "output_type": "stream",
     "text": [
      "Only .txt Files:\n",
      "new_file.txt\n",
      "renamed.txt\n"
     ]
    }
   ],
   "source": [
    "# Using fnmatch\n",
    "import fnmatch\n",
    "\n",
    "print('Only .txt Files in Current Directory:')\n",
    "for f_name in os.listdir('.'):\n",
    "    if fnmatch.fnmatch(f_name, '*.txt'):\n",
    "        print(f_name)"
   ]
  },
  {
   "cell_type": "code",
   "execution_count": 63,
   "metadata": {},
   "outputs": [
    {
     "name": "stdout",
     "output_type": "stream",
     "text": [
      "Only .py Files:\n",
      "template.py\n",
      "template_2.py\n"
     ]
    }
   ],
   "source": [
    "# Using glob\n",
    "import glob\n",
    "\n",
    "print('Only .py Files in Current Directory:')\n",
    "for file in glob.glob('*.py'):\n",
    "    print(file)"
   ]
  },
  {
   "cell_type": "code",
   "execution_count": 70,
   "metadata": {},
   "outputs": [
    {
     "name": "stdout",
     "output_type": "stream",
     "text": [
      "All .py Files:\n",
      "template.py\n",
      "template_2.py\n",
      "from_zip\\test.py\n"
     ]
    }
   ],
   "source": [
    "print('All .py Files:')\n",
    "for file in glob.glob('**/*.py', recursive=True):\n",
    "    print(file)"
   ]
  },
  {
   "cell_type": "markdown",
   "metadata": {},
   "source": [
    "### Temporary Files Creation\n",
    "Sometimes we need to create temporary files and directories as temporary storage area. When a program is done, all temp files/directories are deleted.\n",
    "\n",
    "There is no need to give the temporary file a filename since it will be destroyed after the script is done running;\n",
    "Once the file is closed, it will be deleted from the filesystem.\n",
    "\n",
    "To create a temporary file import tempfile"
   ]
  },
  {
   "cell_type": "code",
   "execution_count": 73,
   "metadata": {},
   "outputs": [
    {
     "name": "stdout",
     "output_type": "stream",
     "text": [
      "This is a temporary file\n"
     ]
    }
   ],
   "source": [
    "from tempfile import TemporaryFile\n",
    "\n",
    "with TemporaryFile('w+') as temp_file:\n",
    "    temp_file.write('This is a temporary file')\n",
    "    temp_file.seek(0)\n",
    "    print(temp_file.read())"
   ]
  },
  {
   "cell_type": "markdown",
   "metadata": {},
   "source": [
    "### Files removal\n",
    "- os.remove( path )"
   ]
  },
  {
   "cell_type": "code",
   "execution_count": 78,
   "metadata": {},
   "outputs": [
    {
     "name": "stdout",
     "output_type": "stream",
     "text": [
      "File Has Been Deleted\n"
     ]
    }
   ],
   "source": [
    "# Delete only files \n",
    "if os.path.isfile('new_file.txt'):\n",
    "    print('File Has Been Deleted')\n",
    "    os.remove('new_file.txt')"
   ]
  },
  {
   "cell_type": "markdown",
   "metadata": {},
   "source": [
    "shutil is short for shell utilities. It provides a number of high-level operations on files to support copying, archiving, and removal of files and directories.\n",
    "\n",
    "- If **dst** is a file, the contents of that file are replaced with the contents of src;\n",
    "- If **dst** is a directory, then src will be copied into that directory.\n",
    "\n",
    "shutil.copy() only copies the file’s contents and the file’s permissions. Other metadata like the file’s creation and modification times are not preserved. \n",
    "\n",
    "To preserve all file metadata when copying, use shutil.copy2(). It preserves details about the file;\n",
    "- last access time;\n",
    "- permission bits;\n",
    "- last modification time;\n",
    "- flags"
   ]
  },
  {
   "cell_type": "code",
   "execution_count": 103,
   "metadata": {},
   "outputs": [
    {
     "data": {
      "text/plain": [
       "'from_zip\\\\super.txt'"
      ]
     },
     "execution_count": 103,
     "metadata": {},
     "output_type": "execute_result"
    }
   ],
   "source": [
    "# Copying\n",
    "shutil.copy('super.txt','from_zip')"
   ]
  },
  {
   "cell_type": "markdown",
   "metadata": {},
   "source": [
    "### Archiving\n",
    "Archives are a convenient way to package several files into one. The two most common archive types are ZIP and TAR.\n",
    "\n",
    "### Reading from an Archive"
   ]
  },
  {
   "cell_type": "code",
   "execution_count": 106,
   "metadata": {},
   "outputs": [
    {
     "name": "stdout",
     "output_type": "stream",
     "text": [
      "Selected ZIP File Has:\n",
      "['renamed.txt', 'a/', 'a/b/', 'a/b/c/', 'a/b/c/d/', 'a/b/c/d/my_file.txt', 'a/b/c/d/sss.txt', 'a/new_file.txt', 'new_file.txt']\n"
     ]
    }
   ],
   "source": [
    "# Get info about what we have inside the current archive \n",
    "import zipfile\n",
    "\n",
    "with zipfile.ZipFile('test.zip', 'r') as current_zip:\n",
    "    print('Selected ZIP File Has:')\n",
    "    print(current_zip.namelist())"
   ]
  },
  {
   "cell_type": "markdown",
   "metadata": {},
   "source": [
    "### Archive File Info "
   ]
  },
  {
   "cell_type": "code",
   "execution_count": 107,
   "metadata": {},
   "outputs": [
    {
     "name": "stdout",
     "output_type": "stream",
     "text": [
      "Las Modified:  (2020, 10, 28, 22, 11, 4)\n",
      "File Size:  0\n",
      "File Name:  renamed.txt\n",
      "Compress Size:  0\n"
     ]
    }
   ],
   "source": [
    "with zipfile.ZipFile('test.zip', 'r') as current_zip:\n",
    "    file_info_obj = current_zip.getinfo('renamed.txt')\n",
    "    \n",
    "    print('Las Modified: ', file_info_obj.date_time)\n",
    "    print('File Size: ', file_info_obj.file_size)\n",
    "    print('File Name: ', file_info_obj.filename)\n",
    "    print('Compress Size: ', file_info_obj.compress_size)"
   ]
  },
  {
   "cell_type": "markdown",
   "metadata": {},
   "source": [
    "### Extracting ZIP Archives "
   ]
  },
  {
   "cell_type": "code",
   "execution_count": 108,
   "metadata": {},
   "outputs": [],
   "source": [
    "# Certain Files Extraction\n",
    "with zipfile.ZipFile('test.zip', 'r') as current_zip:\n",
    "    files_to_extract = ['new_file.txt','renamed.txt']\n",
    "    for file in files_to_extract:\n",
    "        current_zip.extract(file)"
   ]
  },
  {
   "cell_type": "code",
   "execution_count": 109,
   "metadata": {},
   "outputs": [],
   "source": [
    "# Extracting Everything \n",
    "with zipfile.ZipFile('test.zip', 'r') as current_zip:\n",
    "    current_zip.extractall(path = 'from_my_zip')"
   ]
  },
  {
   "cell_type": "markdown",
   "metadata": {},
   "source": [
    "### Archive Writing \n",
    "Remember: when writing to anything (files, archives) all previous info will be deleted\n",
    "To add new info, use **append mode**"
   ]
  },
  {
   "cell_type": "code",
   "execution_count": 113,
   "metadata": {},
   "outputs": [],
   "source": [
    "# Writing \n",
    "to_archive = ['renamed.txt', 'super.txt']\n",
    "with zipfile.ZipFile('new_zip.zip', 'w') as current_zip:\n",
    "    for file in to_archive:\n",
    "        current_zip.write(file)"
   ]
  },
  {
   "cell_type": "code",
   "execution_count": 114,
   "metadata": {},
   "outputs": [],
   "source": [
    "# Appending \n",
    "to_archive = ['new_file.txt']\n",
    "with zipfile.ZipFile('new_zip.zip', 'a') as current_zip:\n",
    "    for file in to_archive:\n",
    "        current_zip.write(file)"
   ]
  },
  {
   "cell_type": "markdown",
   "metadata": {},
   "source": [
    "### Path"
   ]
  },
  {
   "cell_type": "code",
   "execution_count": 127,
   "metadata": {},
   "outputs": [
    {
     "name": "stdout",
     "output_type": "stream",
     "text": [
      "Full Path:  C:\\Users\\vlad\\Desktop\\working_files\\new_file.txt\n"
     ]
    }
   ],
   "source": [
    "current_path = r'C:\\Users\\vlad\\Desktop\\working_files'\n",
    "file_name = 'new_file.txt'\n",
    "full_path  = os.path.join(current_path, file_name )\n",
    "print('Full Path: ', full_path)"
   ]
  },
  {
   "cell_type": "code",
   "execution_count": 130,
   "metadata": {},
   "outputs": [
    {
     "name": "stdout",
     "output_type": "stream",
     "text": [
      "Splited Path:  ('C:\\\\Users\\\\vlad\\\\Desktop\\\\working_files', 'new_file.txt')\n"
     ]
    }
   ],
   "source": [
    "full_path = r'C:\\Users\\vlad\\Desktop\\working_files\\new_file.txt'\n",
    "\n",
    "splited_path = os.path.split(full_path)\n",
    "print('Splited Path: ', splited_path)"
   ]
  }
 ],
 "metadata": {
  "kernelspec": {
   "display_name": "Python 3",
   "language": "python",
   "name": "python3"
  },
  "language_info": {
   "codemirror_mode": {
    "name": "ipython",
    "version": 3
   },
   "file_extension": ".py",
   "mimetype": "text/x-python",
   "name": "python",
   "nbconvert_exporter": "python",
   "pygments_lexer": "ipython3",
   "version": "3.7.9"
  }
 },
 "nbformat": 4,
 "nbformat_minor": 4
}
