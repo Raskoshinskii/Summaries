{
 "cells": [
  {
   "cell_type": "markdown",
   "metadata": {},
   "source": [
    "### Indexes \n",
    "Indexes are important becasue they accelerate data access. However, they must be properly used. An index is a separated data structure e.g., B-Tree that speeds up the data retrieval on a table at the cost of additional writes and storage to maintain it.\n",
    "\n",
    "**Index Creation**\n",
    "```\n",
    "CREATE INDEX index_name ON table_name [USING method]\n",
    "(\n",
    "    column_name [ASC | DESC] [NULLS {FIRST | LAST }],\n",
    "    ...\n",
    ")\n",
    "```\n",
    "- Method: ```btree```, ```hash```, ```gist```, ```spgist```, ```gin```, and ```brin```.```btree``` is used by default \n",
    "- To see whether an index is used or not, use: ```EXPLAIN```\n",
    "\n",
    "**Index Deletion**\n",
    "```\n",
    "DROP INDEX  [ CONCURRENTLY]\n",
    "[ IF EXISTS ]  index_name \n",
    "[ CASCADE | RESTRICT ]\n",
    "```\n",
    "\n",
    "**List Indexes**\n",
    "\n",
    "You have to use a query to access info about indexes. There is no any function to show them.\n",
    "```\n",
    "SELECT tablename, indexname\n",
    "FROM pg_indexes\n",
    "WHERE schemaname = 'public'\n",
    "```\n",
    "- More info: https://www.postgresqltutorial.com/postgresql-indexes/postgresql-list-indexes/\n",
    "\n",
    "###  Partial Indexes\n",
    "Partial index even allows you to specify the rows of a table that should be indexed. This partial index helps **speed up the query while reducing the size of the index.**\n",
    "\n",
    "**Example**\n",
    "```\n",
    "CREATE INDEX idx_customer_inactive\n",
    "ON customer(active)\n",
    "WHERE active = 0\n",
    "```\n",
    "\n",
    "### Multicolumn Indexes\n",
    "An index on more than one column of a table can be created. It's called multicolumn index. It can have **max 32 columns**\n",
    "\n",
    "**Example**\n",
    "```\n",
    "CREATE INDEX index_name\n",
    "ON table_name(col_name_1, col_name_2, ccol_name_3, ...)\n",
    "```\n",
    "\n",
    "**Important**\n",
    "- Columns that are often used for lookup  must be places at the beginning of the column list\n",
    "- Index creation leads to speed up in data querying, however, indexes take up storage and slow data changing"
   ]
  }
 ],
 "metadata": {
  "kernelspec": {
   "display_name": "Python 3",
   "language": "python",
   "name": "python3"
  },
  "language_info": {
   "codemirror_mode": {
    "name": "ipython",
    "version": 3
   },
   "file_extension": ".py",
   "mimetype": "text/x-python",
   "name": "python",
   "nbconvert_exporter": "python",
   "pygments_lexer": "ipython3",
   "version": "3.7.9"
  }
 },
 "nbformat": 4,
 "nbformat_minor": 4
}
