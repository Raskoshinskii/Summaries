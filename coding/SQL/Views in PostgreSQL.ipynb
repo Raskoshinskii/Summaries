{
 "cells": [
  {
   "cell_type": "markdown",
   "metadata": {},
   "source": [
    "### Views\n",
    "A view is a database object that is just a **result of a query execution** (i.e. it can be accessed using a virtual table). Views can be:\n",
    "- **Not materialized** (ordinary vies, don't store the data physically)\n",
    "- **Materialized** (store the data physically)\n",
    "\n",
    "### Use of Views\n",
    "1. Query Simplification (can query a view)\n",
    "\n",
    "### View Creation\n",
    "```CREATE OR REPLACE VIEW view_name as QUERY```\n",
    "\n",
    "### View Renaming\n",
    "```ALTER VIEW old_name RENAME TO new_name```\n",
    "\n",
    "### View Deletion\n",
    "```\n",
    "DROP VIEW [IF EXISTS] view_name_1, view_name_2 ...\n",
    "[CASCADE | RESTRICT]\n",
    "```\n",
    "- ```CASCADE``` - drops the view and its dependent objects recursively\n",
    "- ```RESTRICT``` - is set by default (rejects the removal of the view if there are any objects depending on it)\n",
    "- To drop a view, you must be an owner of that view\n",
    "\n",
    "### Updateable View\n",
    "A view is updateable if it has the following requirements:\n",
    "1. In ```FROM```can be either a single table or another view\n",
    "2. These operators are prohibited: ```GROUP BY, HAVING, LIMIT, OFFSET, DISTINCT, WITH, UNION, INTERSECT and INTERSECT```\n",
    "3. Windows functions and aggregation functions are prohibited\n",
    "\n",
    "- More info: https://www.postgresqltutorial.com/postgresql-updatable-views/\n",
    "\n",
    "### Materialized Views\n",
    "Materialized view caches the result of a complex expensive query and then allow you to refresh this result periodically. They are useful as allow fast data access.\n",
    "\n",
    "**Example**\n",
    "```\n",
    "CREATE MATERIALIZED VIEW view_name\n",
    "AS\n",
    "query\n",
    "WITH [NO] DATA;\n",
    "```\n",
    "**Important**\n",
    "- ```WITH DATA``` means that the data will be uploaded into the view. Thus, this view can be accessed using ```SELECT```\n",
    "- ```WITH NO DATA``` only creates a view without any data, Thus, thi view can't be accessed\n",
    "- To upload the data into materialized view, use ```REFRESH MATERIALIZED VIEW CONCURRENTLY view_name```\n",
    "- When using ```CONCURRENTLY``` a unique index must be created for a table\n",
    "\n",
    "**Materialized View Deletion**\n",
    "```DROP MATERIALIZED VIEW view_name```"
   ]
  }
 ],
 "metadata": {
  "kernelspec": {
   "display_name": "Python 3",
   "language": "python",
   "name": "python3"
  },
  "language_info": {
   "codemirror_mode": {
    "name": "ipython",
    "version": 3
   },
   "file_extension": ".py",
   "mimetype": "text/x-python",
   "name": "python",
   "nbconvert_exporter": "python",
   "pygments_lexer": "ipython3",
   "version": "3.7.9"
  }
 },
 "nbformat": 4,
 "nbformat_minor": 4
}
