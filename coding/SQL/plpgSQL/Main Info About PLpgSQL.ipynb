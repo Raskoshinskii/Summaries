{
 "cells": [
  {
   "cell_type": "markdown",
   "metadata": {},
   "source": [
    "### PL/pgSQL\n",
    "PL/pgSQL is a **procedural programming language** for the PostgreSQL database system. It has many procedural elements e.g., control structures, loops, and complex computations to extend standard SQL. It allows you to develop complex functions and stored procedures in PostgreSQL that may not be possible using standard SQL. It was designed to:\n",
    "- Create user-defined functions, stored procedures, and triggers.\n",
    "- Extend standard SQL by adding control structures such as if, case, and loop statements.\n",
    "\n",
    "PL/pgSQL is a **blocked-structure language.** It organize a program into blocks.\n",
    "\n",
    "### Dollar-Quoted String Constants\n",
    "This string must be always used in user-defined functions, procedures because it makes the code more readable and we don't need to provide additional escape characters. It has the following syntax:\n",
    "```\n",
    "$tag_name$string$tag_name$\n",
    "```\n",
    "- tag_name is optional and ```$$``` can be used instead\n",
    "\n",
    "**Example**\n",
    "```\n",
    "CREATE FUNCTION/PROCEDURE func/procedure name (param_list)\n",
    "RETURNS \n",
    "language\n",
    "AS \n",
    "$$\n",
    "code here\n",
    "$$\n",
    "```"
   ]
  },
  {
   "cell_type": "markdown",
   "metadata": {},
   "source": [
    "### Block Structure\n",
    "```\n",
    "[ <<label>> ]\n",
    "[ declare\n",
    "    declarations ]\n",
    "begin\n",
    "    statements;\n",
    "\t...\n",
    "end [ label ];\n",
    "```\n",
    "- Block always has two main elements: **declaration (optional) and body (mandatory).** A blcok is ended with a ```;``` after ```END```\n",
    "- ```label``` - is optioanl and can be placed at the beginning and at the end\n",
    "- In declaration block all variables must be defined. After each variable ```;```must be used\n",
    "- Each statement in the body section is also terminated with a ```;```\n",
    "- Blocks can be nested\n",
    "- To execute a block the command ```DO``` must be used"
   ]
  }
 ],
 "metadata": {
  "kernelspec": {
   "display_name": "Python 3",
   "language": "python",
   "name": "python3"
  },
  "language_info": {
   "codemirror_mode": {
    "name": "ipython",
    "version": 3
   },
   "file_extension": ".py",
   "mimetype": "text/x-python",
   "name": "python",
   "nbconvert_exporter": "python",
   "pygments_lexer": "ipython3",
   "version": "3.7.9"
  }
 },
 "nbformat": 4,
 "nbformat_minor": 4
}
