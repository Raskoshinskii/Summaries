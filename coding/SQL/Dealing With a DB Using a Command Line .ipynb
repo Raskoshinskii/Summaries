{
 "cells": [
  {
   "cell_type": "markdown",
   "metadata": {},
   "source": [
    "### Main Commands For CMD\n",
    "- ```psql -U <user_name> -h localhost``` - connects to a DB using a certain user name\n",
    "- ```\\q``` - quits from psql\n",
    "- ```\\l``` - lists all databases\n",
    "- ```\\i path file_name``` - imports data from a file\n",
    "- ```\\x``` - enambles an expanded display\n",
    "- ```SELECT * FROM pg_available_extensions``` - lists all available extensions\n",
    "\n",
    "### Database Manipulation\n",
    "- ```CREATE DATABASE db_name;``` - creates a db\n",
    "- ```DROP DATABASE db_name;``` - deletes a db\n",
    "- ```psql -U <user_name> -h <host_name:localhost by default> -p <port:5432 by default> db_name``` - connects to a db\n",
    "- ```\\c db_name``` - connects to a db\n",
    "\n",
    "### Tables\n",
    "- ```\\dt``` - lists all tables\n",
    "- ```\\d table_name``` - describes a table\n",
    "\n",
    "### Exporting to CSV\n",
    "To export data to a csv file execute the following command:\n",
    "- ```\\copy (query) TO 'path' DELIMETER ',' CSV HEADER``` \n",
    "\n",
    "**Important**\n",
    "- Every command starts with a backslash\n",
    "- Make sure to end each command with ```;``` for a successful execution\n",
    "- Tables are created using ordinary SQL commands\n",
    "- When creating a table you can use ```CREATE TABLE table_name (``` and hit ENTER. This command will be ended when ```;``` will be provided\n",
    "- **Forward slashes** must be used when providing path in psql"
   ]
  }
 ],
 "metadata": {
  "kernelspec": {
   "display_name": "Python 3",
   "language": "python",
   "name": "python3"
  },
  "language_info": {
   "codemirror_mode": {
    "name": "ipython",
    "version": 3
   },
   "file_extension": ".py",
   "mimetype": "text/x-python",
   "name": "python",
   "nbconvert_exporter": "python",
   "pygments_lexer": "ipython3",
   "version": "3.7.9"
  }
 },
 "nbformat": 4,
 "nbformat_minor": 4
}
