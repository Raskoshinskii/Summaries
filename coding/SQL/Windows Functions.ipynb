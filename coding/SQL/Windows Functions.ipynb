{
 "cells": [
  {
   "cell_type": "markdown",
   "metadata": {},
   "source": [
    "### Windows Functions \n",
    "The best way to understand window functions is to **compare them with aggregation functions.**\n",
    "\n",
    "- Aggregation functions are applied on a **set of rows and reduce rows** in a final output\n",
    "- Windows functions are applied on a **set of rows and doesn't reduce** the number of rows in a final output\n",
    "\n",
    "<br>\n",
    "<img src=\"img/windows_func.png\" alt=\"drawing\" width=\"600\"/>\n",
    "<br>\n",
    "\n",
    "**Window** is a set of rows on which a windows function is applied\n",
    "\n",
    "Windows Functions have the following syntax:\n",
    "```\n",
    "window_function(arg1, arg2,..) OVER (\n",
    "   [PARTITION BY partition_expression]\n",
    "   [ORDER BY sort_expression [ASC | DESC] [NULLS {FIRST | LAST }])\n",
    "```\n",
    "\n",
    "**Example**\n",
    "\n",
    "```\n",
    "SELECT\n",
    "\tproduct_name,\n",
    "\tprice,\n",
    "\tgroup_name,\n",
    "\tAVG (price) OVER (\n",
    "\t   PARTITION BY group_name\n",
    "\t)\n",
    "FROM\n",
    "\tproducts\n",
    "\tINNER JOIN \n",
    "\t\tproduct_groups USING (group_id);\n",
    "```\n",
    "\n",
    "```PARTITION BY``` distributes a set of rows into groups (each group is a window). Finally, a function is applied for each window.\n",
    "\n",
    "**Execution Order**\n",
    "1. Partitions are made. If ```PARTITION BY``` isn't provided, the whole dataset is treated as a single partition\n",
    "2. Values in each partition are ordered according to ```ORDER BY```\n",
    "3. A Functions is being applied\n",
    "\n",
    "- More info: https://www.postgresqltutorial.com/postgresql-window-function/\n",
    "\n",
    "**Important**\n",
    "- A window function always performs the calculation on the result set after the ```JOIN, WHERE, GROUP BY and HAVING``` clause and before the final ```ORDER BY``` clause in the evaluation order.\n",
    "- ```PARTITION BY``` clause is optional. If you skip it, the window function will treat the whole result set as a single partition.\n",
    "- ```PARTITION BY``` divides rows into multiple partitions to which a function is applied."
   ]
  }
 ],
 "metadata": {
  "kernelspec": {
   "display_name": "Python 3",
   "language": "python",
   "name": "python3"
  },
  "language_info": {
   "codemirror_mode": {
    "name": "ipython",
    "version": 3
   },
   "file_extension": ".py",
   "mimetype": "text/x-python",
   "name": "python",
   "nbconvert_exporter": "python",
   "pygments_lexer": "ipython3",
   "version": "3.7.9"
  }
 },
 "nbformat": 4,
 "nbformat_minor": 4
}
