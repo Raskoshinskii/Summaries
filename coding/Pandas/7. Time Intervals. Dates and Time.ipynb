{
 "cells": [
  {
   "cell_type": "markdown",
   "metadata": {},
   "source": [
    "### Time Intervals. Dates and Time\n",
    "For better understanding it's recommended to be familiar with the main objects for **date** and **time** representation.\n",
    "\n",
    "### Datetime\n",
    "- **datetime** - used for creating fixed periods like date and time or just time.  It is a part of **datetime** library not part of Pandas\n",
    "- **datime.now( )** - returns current date and time\n",
    "- **datetime.now( ).time( )/date( )** - returns current time or date  \n",
    "- **datetime.time / date( (datetime( time/date ) )** - returns only provided time/date\n",
    "- **pd.to_datetime( [ list of dates ] )** - convert a list of dates **into DatetimeIndexes**\n",
    "- **pd.date_range( ' dates ', freq, periods )** - returns a range of dates according to provided frequency (day, week, month...) or periods\n",
    "\n",
    "### Timestamp\n",
    "Class **Timestamp is more precise** than datetime object. **Timestamp** and **datetime** objects are **interchangeable**\n",
    "- **pd.Timestamp( 'date/time' )** - returns Timestamp object with date/time\n",
    "- **pd.Timestamp( ' now ' )** - returns current date and time as Timestamp object\n",
    "\n",
    "### Timedelta\n",
    "Is used for differences between two moments of time\n",
    "- **pd.Timedelta( )** - creates a delta value for dates and time \n",
    "\n",
    "### Data offset\n",
    "These objects contain information about time offset and frequency which has to be used to change objects DateTimeIndex. It allows to set a way in calculation of excat time interval according to provided date and time. For each **freauency** exists an object **data offset**\n",
    "- **pd.date_range(' dates ', freq = ' B ')** - returns a range of dates. In this case range of only business days\n",
    "- **pd.date_range(' dates ', freq = ' W-WED ')** - tied offsets. They use special notation\n",
    "- **dti.freq** - returns frequency of time stamps.\n",
    "- **pd.DateOffset (day = 1)** - creates date offset with one day\n",
    "\n",
    "### Period\n",
    "Allows to set time intervals according to different frequences (daily, weekly...). It includes only start and end time points.\n",
    "- **pd.Period ( ' start_date ', freq = ' M ')** - returns period of dates starting from provided date till specified frequency.\n",
    "- **pd.Period( ).start_time** - returns start_time \n",
    "- **pd.Period( ).end_time** - returns end_time\n",
    "\n",
    "### Period Index\n",
    "This index is used when we need to connect the data with certain time intervals, create slices and then analyze events in each interval. The main difference between **PeriodIndex** and **DatetimeIndex** is that **indexes** of PeriodIndex are **Period objects** \n",
    "- **pd.period_range( ' start_date ' , ' end_date ', freq = ' M ')** - creates PeriodIndex object\n",
    "\n",
    "### Calendars\n",
    "Many Calendars can be imported that contain specific holidays. It provides more flexability when dealing with holidays in different countries. \n",
    "- **USFederalHolidayCalendar()** - contains all holidays in USA\n",
    "\n",
    "### TimeSereis\n",
    "let's have a look at most common operations with Time Series\n",
    "- **ts.shif( value )** shifts **Time Series values** according to provided valuenp\n",
    "- **ts.shift( value, freq = 'B' )** - shifts Time Series indexes according to provided value\n",
    "- **ts.asfreq( freq_value )** - changes the frequency of a Time Series\n",
    "- **ts.resample( 'value' )** changes discritezation of TS. For example, from **sec** intervals into **min** intervals\n",
    "- **ts.rolling( window = size ).mean( )** - applies a rolling mean "
   ]
  },
  {
   "cell_type": "code",
   "execution_count": 1,
   "metadata": {},
   "outputs": [],
   "source": [
    "import pandas as pd\n",
    "import numpy as np\n",
    "import datetime\n",
    "from datetime import datetime,date"
   ]
  },
  {
   "cell_type": "markdown",
   "metadata": {},
   "source": [
    "### Datetime"
   ]
  },
  {
   "cell_type": "code",
   "execution_count": 20,
   "metadata": {},
   "outputs": [
    {
     "name": "stdout",
     "output_type": "stream",
     "text": [
      "2020-03-23 18:00:00\n",
      "2020-03-23\n",
      "17:21:43.801880\n",
      "2020-01-10 00:00:00\n",
      "2020-08-10 17:21:43.801880\n"
     ]
    }
   ],
   "source": [
    "# Date with time \n",
    "print(datetime(2020,3,23,18,0))\n",
    "\n",
    "# Only Date \n",
    "print(datetime.date(datetime(2020,3,23)))\n",
    "\n",
    "# Only current time \n",
    "print(datetime.now().time())\n",
    "\n",
    "# Timestamp object\n",
    "print(pd.Timestamp('2020/1/10'))\n",
    "\n",
    "# Current date and time \n",
    "print(pd.Timestamp('now'))"
   ]
  },
  {
   "cell_type": "code",
   "execution_count": 105,
   "metadata": {},
   "outputs": [
    {
     "data": {
      "text/plain": [
       "DatetimeIndex(['2020-08-01', '2020-08-02', '2020-08-03', '2020-08-04',\n",
       "               '2020-08-05', '2020-08-06', '2020-08-07', '2020-08-08',\n",
       "               '2020-08-09', '2020-08-10'],\n",
       "              dtype='datetime64[ns]', freq='D')"
      ]
     },
     "execution_count": 105,
     "metadata": {},
     "output_type": "execute_result"
    }
   ],
   "source": [
    "# Creating a range of dates\n",
    "date_range = pd.date_range('2020/08/1',periods=10)\n",
    "date_range"
   ]
  },
  {
   "cell_type": "code",
   "execution_count": 106,
   "metadata": {},
   "outputs": [
    {
     "data": {
      "text/plain": [
       "DatetimeIndex(['2020-08-03', '2020-08-04', '2020-08-05', '2020-08-06',\n",
       "               '2020-08-07', '2020-08-10', '2020-08-11', '2020-08-12',\n",
       "               '2020-08-13', '2020-08-14', '2020-08-17', '2020-08-18',\n",
       "               '2020-08-19', '2020-08-20'],\n",
       "              dtype='datetime64[ns]', freq='B')"
      ]
     },
     "execution_count": 106,
     "metadata": {},
     "output_type": "execute_result"
    }
   ],
   "source": [
    "# Creating only business days\n",
    "bus_days = pd.date_range('2020/08/01','2020/08/20',freq='B')\n",
    "bus_days\n",
    "# Weekends are excluded!!!"
   ]
  },
  {
   "cell_type": "markdown",
   "metadata": {},
   "source": [
    "### Time delta"
   ]
  },
  {
   "cell_type": "code",
   "execution_count": 24,
   "metadata": {},
   "outputs": [
    {
     "data": {
      "text/plain": [
       "Timestamp('2020-08-11 17:25:24.594579')"
      ]
     },
     "execution_count": 24,
     "metadata": {},
     "output_type": "execute_result"
    }
   ],
   "source": [
    "# Time Delta \n",
    "today = pd.Timestamp('now')\n",
    "tomorrow = today + pd.Timedelta(days=1)\n",
    "tomorrow"
   ]
  },
  {
   "cell_type": "markdown",
   "metadata": {},
   "source": [
    "### Time Sereis Creation "
   ]
  },
  {
   "cell_type": "code",
   "execution_count": 42,
   "metadata": {},
   "outputs": [
    {
     "name": "stdout",
     "output_type": "stream",
     "text": [
      "<class 'pandas.core.indexes.base.Index'>\n",
      "<class 'pandas.core.indexes.datetimes.DatetimeIndex'>\n"
     ]
    }
   ],
   "source": [
    "# Time Sereis Creation (However,Index type is not Datetime)\n",
    "dates = ['2020-08-1','2020-08-2','2020-08-3']\n",
    "time_series = pd.Series(np.random.randn(3),index=dates)\n",
    "print(type(time_series.index))\n",
    "\n",
    "# Providing datetime leads to DatetimeIndex type \n",
    "dates = [datetime(2020,8,1),datetime(2020,8,2),datetime(2020,8,3)]\n",
    "time_series = pd.Series(np.random.randn(3),index=dates)\n",
    "print(type(time_series.index))"
   ]
  },
  {
   "cell_type": "code",
   "execution_count": 71,
   "metadata": {},
   "outputs": [
    {
     "name": "stdout",
     "output_type": "stream",
     "text": [
      "DatetimeIndex(['2020-08-10', '1996-03-01'], dtype='datetime64[ns]', freq=None)\n",
      "<class 'pandas._libs.tslibs.timestamps.Timestamp'>\n",
      "<class 'pandas._libs.tslibs.timestamps.Timestamp'>\n"
     ]
    }
   ],
   "source": [
    "# Creating datetime objects \n",
    "dates = pd.to_datetime(['2020/08/10','Mar, 1996']) # This is Datetime indexes that consist of TimeStamp objects!!!\n",
    "print(dates)\n",
    "for date in dates:\n",
    "    print(type(date))"
   ]
  },
  {
   "cell_type": "markdown",
   "metadata": {},
   "source": [
    "### Time Offset"
   ]
  },
  {
   "cell_type": "code",
   "execution_count": 97,
   "metadata": {},
   "outputs": [
    {
     "name": "stdout",
     "output_type": "stream",
     "text": [
      "Next date is:\n",
      "2020-06-25 00:00:00\n",
      "\n",
      "Next business day on:\n",
      "2020-06-25 00:00:00\n",
      "\n",
      "Last business month on:\n",
      "2020-06-30 00:00:00\n",
      "2020-06-30 00:00:00\n",
      "\n",
      "Next Tuesday on:\n",
      "2020-06-30 00:00:00\n",
      "\n",
      "Previous Tuesday on:\n",
      "2020-06-16 00:00:00\n",
      "\n",
      "All Wednesdays:\n",
      "DatetimeIndex(['2020-08-05', '2020-08-12', '2020-08-19', '2020-08-26'], dtype='datetime64[ns]', freq='W-WED')\n"
     ]
    }
   ],
   "source": [
    "# Working with different offsets \n",
    "\n",
    "# Adding a day\n",
    "day = datetime(2020,6,23)\n",
    "offset = pd.DateOffset(days=2)\n",
    "new_day = day + offset\n",
    "print('Next date is:'+'\\n'+str(new_day))\n",
    "\n",
    "# Adding a Business Day \n",
    "from pandas.tseries.offsets import *\n",
    "new_day = day + BusinessDay(2)\n",
    "print('\\n'+'Next business day on:'+'\\n'+str(new_day))\n",
    "\n",
    "# Finding last business day of a month \n",
    "new_day = day + BMonthEnd()\n",
    "print('\\n'+'Last business month on:'+'\\n'+str(new_day))\n",
    "\n",
    "# Another option \n",
    "print(BMonthEnd().rollforward(datetime(2020,6,23)))\n",
    "\n",
    "# Find next Tuesday after the date\n",
    "next_tuesday = day + Week(weekday=1)\n",
    "print('\\n'+'Next Tuesday on:'+'\\n'+str(next_tuesday))\n",
    "\n",
    "previous_tuesday = day - Week(weekday=1)\n",
    "print('\\n'+'Previous Tuesday on:'+'\\n'+str(previous_tuesday))\n",
    "\n",
    "# Finding all wednesdays in a date range\n",
    "wednesdays = pd.date_range('2020/08/1','2020/08/31',freq='W-WED')\n",
    "print('\\n'+'All Wednesdays:'+'\\n'+str(wednesdays))"
   ]
  },
  {
   "cell_type": "markdown",
   "metadata": {},
   "source": [
    "### Period"
   ]
  },
  {
   "cell_type": "code",
   "execution_count": 113,
   "metadata": {},
   "outputs": [
    {
     "name": "stdout",
     "output_type": "stream",
     "text": [
      "<class 'pandas._libs.tslibs.period.Period'>\n",
      "\n",
      "Start time:\n",
      "2020-08-01 00:00:00\n",
      "\n",
      "End time:\n",
      "2020-08-31 23:59:59.999999999\n",
      "\n",
      "New Period:\n",
      "2020-09\n"
     ]
    }
   ],
   "source": [
    "# Create Period\n",
    "aug = pd.Period('2020/08/11',freq='M')\n",
    "print(type(aug))\n",
    "print('\\n'+'Start time:'+'\\n'+str(aug.start_time))\n",
    "print('\\n'+'End time:'+'\\n'+str(aug.end_time))\n",
    "\n",
    "# Create new Period object shifted by a month \n",
    "sep = aug + 1\n",
    "print('\\n'+'New Period:'+'\\n'+str(sep))\n",
    "# !Shifts Period object according to provided frequency"
   ]
  },
  {
   "cell_type": "markdown",
   "metadata": {},
   "source": [
    "### Period Index"
   ]
  },
  {
   "cell_type": "code",
   "execution_count": 126,
   "metadata": {},
   "outputs": [
    {
     "data": {
      "text/plain": [
       "PeriodIndex(['2020-08-01', '2020-08-02', '2020-08-03', '2020-08-04',\n",
       "             '2020-08-05', '2020-08-06', '2020-08-07', '2020-08-08',\n",
       "             '2020-08-09', '2020-08-10', '2020-08-11', '2020-08-12',\n",
       "             '2020-08-13', '2020-08-14', '2020-08-15', '2020-08-16',\n",
       "             '2020-08-17', '2020-08-18', '2020-08-19', '2020-08-20',\n",
       "             '2020-08-21', '2020-08-22', '2020-08-23', '2020-08-24',\n",
       "             '2020-08-25', '2020-08-26', '2020-08-27', '2020-08-28',\n",
       "             '2020-08-29', '2020-08-30', '2020-08-31'],\n",
       "            dtype='period[D]', freq='D')"
      ]
     },
     "execution_count": 126,
     "metadata": {},
     "output_type": "execute_result"
    }
   ],
   "source": [
    "dates = pd.period_range('2020/08/01','2020/08/31',freq='D')\n",
    "dates"
   ]
  },
  {
   "cell_type": "markdown",
   "metadata": {},
   "source": [
    "### Calendar"
   ]
  },
  {
   "cell_type": "code",
   "execution_count": 132,
   "metadata": {},
   "outputs": [
    {
     "name": "stdout",
     "output_type": "stream",
     "text": [
      "2020-01-01 00:00:00\n",
      "2020-01-20 00:00:00\n",
      "2020-02-17 00:00:00\n",
      "2020-05-25 00:00:00\n",
      "2020-07-03 00:00:00\n",
      "2020-09-07 00:00:00\n",
      "2020-10-12 00:00:00\n",
      "2020-11-11 00:00:00\n",
      "2020-11-26 00:00:00\n",
      "2020-12-25 00:00:00\n"
     ]
    }
   ],
   "source": [
    "from pandas.tseries.holiday import *\n",
    "\n",
    "# Obtain holidays for provided period\n",
    "usa_calendar = USFederalHolidayCalendar()\n",
    "for holidays in usa_calendar.holidays(start='2020/01/01',end='2020/12/31'):\n",
    "    print(holidays)"
   ]
  },
  {
   "cell_type": "markdown",
   "metadata": {},
   "source": [
    "### Time Series"
   ]
  },
  {
   "cell_type": "code",
   "execution_count": 138,
   "metadata": {},
   "outputs": [
    {
     "name": "stdout",
     "output_type": "stream",
     "text": [
      "2020-08-01    0.469112\n",
      "2020-08-02   -0.282863\n",
      "2020-08-03   -1.509059\n",
      "2020-08-04   -1.135632\n",
      "2020-08-05    1.212112\n",
      "Freq: D, dtype: float64\n",
      "\n",
      "Shifted by 1 day forward:\n",
      "2020-08-01         NaN\n",
      "2020-08-02    0.469112\n",
      "2020-08-03   -0.282863\n",
      "2020-08-04   -1.509059\n",
      "2020-08-05   -1.135632\n",
      "Freq: D, dtype: float64\n",
      "\n",
      "Shifted by 3 days back:\n",
      "2020-08-01   -1.135632\n",
      "2020-08-02    1.212112\n",
      "2020-08-03         NaN\n",
      "2020-08-04         NaN\n",
      "2020-08-05         NaN\n",
      "Freq: D, dtype: float64\n",
      "\n",
      "Shifted by indexes:\n",
      "2020-08-04    0.469112\n",
      "2020-08-04   -0.282863\n",
      "2020-08-05   -1.509059\n",
      "2020-08-06   -1.135632\n",
      "2020-08-07    1.212112\n",
      "dtype: float64\n",
      "\n",
      "Shifted by indexes:\n",
      "2020-08-01 05:00:00    0.469112\n",
      "2020-08-02 05:00:00   -0.282863\n",
      "2020-08-03 05:00:00   -1.509059\n",
      "2020-08-04 05:00:00   -1.135632\n",
      "2020-08-05 05:00:00    1.212112\n",
      "Freq: D, dtype: float64\n"
     ]
    }
   ],
   "source": [
    "np.random.seed(123456)\n",
    "ts = pd.Series(np.random.randn(5),\n",
    "               index=pd.date_range('2020/08/01',periods=5))\n",
    "print(ts)\n",
    "\n",
    "# Shifts by 1 day forward\n",
    "print('\\n'+'Shifted by 1 day forward:'+'\\n'+str(ts.shift(1)))\n",
    "\n",
    "# Shifts by 3 days back\n",
    "print('\\n'+'Shifted by 3 days back:'+'\\n'+str(ts.shift(-3)))\n",
    "\n",
    "# Shifts Indexes\n",
    "print('\\n'+'Shifted by indexes:'+'\\n'+str(ts.shift(2,freq='B')))\n",
    "\n",
    "# Shifts by Hours \n",
    "print('\\n'+'Shifted by indexes:'+'\\n'+str(ts.shift(5,freq='H')))"
   ]
  },
  {
   "cell_type": "code",
   "execution_count": 144,
   "metadata": {},
   "outputs": [
    {
     "name": "stdout",
     "output_type": "stream",
     "text": [
      "Hourly Time Series:\n",
      "2020-08-11 00:00:00    0\n",
      "2020-08-11 01:00:00    1\n",
      "2020-08-11 02:00:00    2\n",
      "2020-08-11 03:00:00    3\n",
      "2020-08-11 04:00:00    4\n",
      "Freq: H, dtype: int32\n",
      "\n",
      "Daily Time Series:\n",
      "2020-08-11    0\n",
      "Freq: D, dtype: int32\n"
     ]
    }
   ],
   "source": [
    "# Time Series Frequency Changing\n",
    "hourly_ts = pd.Series(np.arange(5),\n",
    "               index=pd.date_range('2020/08/11',freq='H',periods=5))\n",
    "print('Hourly Time Series:'+'\\n'+str(hourly_ts))\n",
    "\n",
    "daily_ts = hourly_ts.asfreq('D')\n",
    "print('\\n'+'Daily Time Series:'+'\\n'+str(daily_ts))"
   ]
  }
 ],
 "metadata": {
  "kernelspec": {
   "display_name": "Python 3",
   "language": "python",
   "name": "python3"
  },
  "language_info": {
   "codemirror_mode": {
    "name": "ipython",
    "version": 3
   },
   "file_extension": ".py",
   "mimetype": "text/x-python",
   "name": "python",
   "nbconvert_exporter": "python",
   "pygments_lexer": "ipython3",
   "version": "3.6.1"
  }
 },
 "nbformat": 4,
 "nbformat_minor": 2
}
