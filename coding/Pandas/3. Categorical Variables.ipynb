{
 "cells": [
  {
   "cell_type": "markdown",
   "metadata": {},
   "source": [
    "### Categorical variables \n",
    "For category representation a Pandas object **Categorical** is used. Categorical variable can only make a value from a certain range.\n",
    "\n",
    "Each categorical variable has its **own code** and it's recommended to **provide order of categories beforehand** because categories are sorted according to their **codes** not **values**\n",
    "### Creating a Categorical type\n",
    "- **pd.Categorical( [ categories ], categories = [ categories ] )** - from a list with categories. All **unique categories** will be found automatically by Pandas\n",
    "- **pd.Series( [ categories ], dtype = 'category')** - Categorical variable creation using Series \n",
    "- **s = pd.Series( [ categories ] ); s = s.astype( 'category' )** - Categorical variable creation using **Series** and **astype()**\n",
    "### Methods\n",
    "- **v.categories** - returns categories (unique)\n",
    "- **v.get_values()** - returns all values from object Categorical\n",
    "- **v.sort_values()** - returns sorted list of the categories\n",
    "- **v.codes** - returns codes of categorical variables\n",
    "- **s.cat.categories** - returns the categories from Sereis which was created as **Categorical Series**\n",
    "- **v.rename_categories( [ new_categories ] )** - renames the categories and returns a **copy** which must be saved\n",
    "- **v.add_categories( [ new_categories ] )** - add new categories ( returns a **copy**)\n",
    "- **v.remove_categories( [ deleting_categories ] )** - deletes provided categories\n",
    "- **v.set_categories( [ new_categories ] )** - can add and delete new categories (returns a **copy**)\n",
    "- **v.describe( )** - describes statistics \n",
    "- **v.value_counts( )** - counts number of observations in each category\n"
   ]
  },
  {
   "cell_type": "code",
   "execution_count": 16,
   "metadata": {},
   "outputs": [
    {
     "name": "stdout",
     "output_type": "stream",
     "text": [
      "[slow, fast, fast, medium, slow]\n",
      "Categories (3, object): [slow, medium, fast]\n",
      "\n",
      "Index(['slow', 'medium', 'fast'], dtype='object')\n",
      "\n",
      "['slow' 'fast' 'fast' 'medium' 'slow']\n",
      "\n",
      "[0 2 2 1 0]\n",
      "\n",
      "[slow, slow, medium, fast, fast]\n",
      "Categories (3, object): [slow, medium, fast]\n"
     ]
    },
    {
     "name": "stderr",
     "output_type": "stream",
     "text": [
      "c:\\python 3.6.1\\lib\\site-packages\\ipykernel_launcher.py:10: FutureWarning: The 'get_values' method is deprecated and will be removed in a future version\n",
      "  # Remove the CWD from sys.path while we load stuff.\n"
     ]
    }
   ],
   "source": [
    "# Categorical variable creation\n",
    "categories = ['slow','fast','fast','medium','slow']\n",
    "categories = pd.Categorical(categories,categories=['slow','medium','fast'])\n",
    "print(categories)\n",
    "\n",
    "# list categories\n",
    "print('\\n'+str(categories.categories))\n",
    "\n",
    "#list values \n",
    "print('\\n'+str(categories.get_values()))\n",
    "\n",
    "# list codes of Categories\n",
    "print('\\n'+str(categories.codes)) \n",
    "\n",
    "# Let's return sorted list of the categories\n",
    "print('\\n'+str(categories.sort_values()))"
   ]
  },
  {
   "cell_type": "code",
   "execution_count": 22,
   "metadata": {},
   "outputs": [
    {
     "name": "stdout",
     "output_type": "stream",
     "text": [
      "0      slow\n",
      "1      fast\n",
      "2      fast\n",
      "3    medium\n",
      "4      slow\n",
      "dtype: category\n",
      "Categories (3, object): [fast, medium, slow]\n",
      "\n",
      "0      slow\n",
      "1      fast\n",
      "2      fast\n",
      "3    medium\n",
      "4      slow\n",
      "dtype: category\n",
      "Categories (3, object): [fast, medium, slow]\n",
      "\n",
      "Index(['fast', 'medium', 'slow'], dtype='object')\n"
     ]
    }
   ],
   "source": [
    "# Categorical variable creation using Series\n",
    "s = pd.Series(['slow','fast','fast','medium','slow'], dtype='category')\n",
    "print(s)\n",
    "\n",
    "# Categorical variable creation using Series and .astype()\n",
    "s = pd.Series(['slow','fast','fast','medium','slow'])\n",
    "s = s.astype('category')\n",
    "print('\\n'+str(s))\n",
    "\n",
    "# List the categories \n",
    "print('\\n'+str(s.cat.categories))"
   ]
  },
  {
   "cell_type": "code",
   "execution_count": 44,
   "metadata": {},
   "outputs": [
    {
     "name": "stdout",
     "output_type": "stream",
     "text": [
      "[bronze, silver, gold, bronze]\n",
      "Categories (3, object): [bronze, silver, gold]\n",
      "\n",
      "[x, y, z, x]\n",
      "Categories (3, object): [x, y, z]\n",
      "\n",
      "[bronze, silver, gold, bronze]\n",
      "Categories (4, object): [bronze, silver, gold, platinum]\n",
      "\n",
      "[NaN, silver, gold, NaN]\n",
      "Categories (2, object): [silver, gold]\n",
      "\n",
      "0      one\n",
      "1      NaN\n",
      "2    three\n",
      "3      NaN\n",
      "dtype: category\n",
      "Categories (2, object): [one, three]\n"
     ]
    },
    {
     "data": {
      "text/plain": [
       "bronze    2\n",
       "silver    1\n",
       "gold      1\n",
       "dtype: int64"
      ]
     },
     "execution_count": 44,
     "metadata": {},
     "output_type": "execute_result"
    }
   ],
   "source": [
    "# Rename Categories the first way\n",
    "cat = pd.Categorical(['a','b','c','a'],categories=['a','b','c'])\n",
    "cat.categories = ['bronze','silver','gold']\n",
    "print(cat)\n",
    "\n",
    "# Renmae the Categorries the Second Way\n",
    "print('\\n'+ str(cat.rename_categories(['x','y','z']))) # returns a copy!\n",
    "\n",
    "# Add a new Category\n",
    "with_new_category = cat.add_categories(['platinum'])\n",
    "print('\\n'+str(with_new_category))\n",
    "\n",
    "# Delete a Category\n",
    "deleted = cat.remove_categories(['bronze'])\n",
    "print('\\n'+str(deleted))\n",
    "\n",
    "# Set Categorries\n",
    "s = pd.Series(['one','two','three','four'],dtype='category')\n",
    "s = s.cat.set_categories(['one','three'])\n",
    "print('\\n'+str(s))"
   ]
  },
  {
   "cell_type": "code",
   "execution_count": 45,
   "metadata": {},
   "outputs": [
    {
     "data": {
      "text/plain": [
       "bronze    2\n",
       "silver    1\n",
       "gold      1\n",
       "dtype: int64"
      ]
     },
     "execution_count": 45,
     "metadata": {},
     "output_type": "execute_result"
    }
   ],
   "source": [
    "# Count number of observations in each category \n",
    "cat.value_counts()\n",
    "\n",
    "#"
   ]
  }
 ],
 "metadata": {
  "kernelspec": {
   "display_name": "Python 3",
   "language": "python",
   "name": "python3"
  },
  "language_info": {
   "codemirror_mode": {
    "name": "ipython",
    "version": 3
   },
   "file_extension": ".py",
   "mimetype": "text/x-python",
   "name": "python",
   "nbconvert_exporter": "python",
   "pygments_lexer": "ipython3",
   "version": "3.6.1"
  }
 },
 "nbformat": 4,
 "nbformat_minor": 2
}
