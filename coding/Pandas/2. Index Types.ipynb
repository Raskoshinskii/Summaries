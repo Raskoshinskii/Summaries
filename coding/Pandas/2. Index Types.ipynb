{
 "cells": [
  {
   "cell_type": "markdown",
   "metadata": {},
   "source": [
    "### Intro \n",
    "Index is an instrument for optimal values searching in objects (Series or DataFrame). It is important value in a DataFrame or Series because all operations are running much faster using indexes.\n",
    "\n",
    "Pandas has many types of indexes. Each of them is unique and used for optimized searching.\n",
    "\n",
    "### Index Types\n",
    "- **Index** - typical index (0, 1, 2...n)\n",
    "- **Int64Index** - immutable array that consists of 64 bits numbers\n",
    "- **RangeIndex** - index by default. Has an initial value, last value and step\n",
    "- **Float64Index** - useses float numbers\n",
    "- **IntervalIndex** - useses intevals as indexes \n",
    "- **CategoricalIndex** - used for categories\n",
    "- **DatetimeIndex** - used for dates and time, moustly for Time Serieses. Uses 64-bits numbers that makes searching fast\n",
    "- **PeriodIndex** - used for periods. Similar to **Interval** but uses time\n",
    "- **MultiIndex** - has several hierarchical levels"
   ]
  },
  {
   "cell_type": "markdown",
   "metadata": {},
   "source": [
    "### Frequency Aliases\n",
    "You can find them here: https://pandas.pydata.org/pandas-docs/stable/user_guide/timeseries.html#timeseries-offset-aliases"
   ]
  },
  {
   "cell_type": "markdown",
   "metadata": {},
   "source": [
    "### Pandas Methods for Creating Indexes\n",
    "- **pd.IntervalIndex.from_breaks( [ interval of values ] )** - returns IntervalIndex \n",
    "- **pd.PeriodIndex( [ list of dates ], freq )** - returns Period with provided frequency\n",
    "- **pd.DatetimeIndex ( datetime value )** - returns DatetimeIndex \n",
    "- **pd.to_datetime( 'start_date ', ' end_date ', freq = ' ' )** - create DateTime indexes with provided frequency or creates DateTime type for existing dates"
   ]
  },
  {
   "cell_type": "markdown",
   "metadata": {},
   "source": [
    "### Index Methods\n",
    "- **idx.argmax( ) / argmin( )** - returns max/min indexes \n",
    "- **idx.day( ) / day_name( )** many options for dealing with days, dates\n",
    "- **idx.duplicated( )** - returns True / False based on whether an index has occured before or not\n",
    "- **idx.has_duplicates( )** - quite obviuous\n",
    "- **idx.is_unique** - checks whether an index is unique\n",
    "- **idx.sort_index(ascending = True )** - sorts indexes \n",
    "- **df.set_index( inplace = True )** sets indexes\n",
    "- **df.resample(' frequency ' )** resamples a Time Sereis according to provided frequency\n",
    "\n",
    "To be continued "
   ]
  },
  {
   "cell_type": "code",
   "execution_count": 1,
   "metadata": {},
   "outputs": [],
   "source": [
    "import pandas as pd\n",
    "import numpy as np"
   ]
  },
  {
   "cell_type": "code",
   "execution_count": 31,
   "metadata": {},
   "outputs": [
    {
     "name": "stdout",
     "output_type": "stream",
     "text": [
      "Index(['City', 'Temperature'], dtype='object')\n",
      "Int64Index([0, 1, 2, 3, 4, 5, 6, 7, 8, 9, 10], dtype='int64')\n",
      "RangeIndex(start=0, stop=11, step=1)\n",
      "Float64Index([0.0, 1.0, 2.0, 3.0, 4.0, 5.0, 6.0, 7.0, 8.0, 9.0, 10.0], dtype='float64')\n",
      "\n",
      "IntervalIndex([(0.0, 0.5], (0.5, 1.0], (1.0, 1.5]],\n",
      "              closed='right',\n",
      "              dtype='interval[float64]')\n",
      "CategoricalIndex(['a', 'b', 'b', 'b', 'c', 'c'], categories=['a', 'b', 'c'], ordered=False, name='Col_2', dtype='category')\n",
      "DatetimeIndex(['2020-08-01', '2020-08-02', '2020-08-03'], dtype='datetime64[ns]', freq='D')\n",
      "PeriodIndex(['2020-06', '2020-07', '2020-08'], dtype='period[M]', freq='M')\n"
     ]
    }
   ],
   "source": [
    "# Index\n",
    "df = pd.DataFrame({'City':['Perm','Moscow'],'Temperature':[20,15]})\n",
    "print(df.columns)\n",
    "\n",
    "# Int64Index\n",
    "df = pd.DataFrame(np.arange(10,21),index=np.arange(0,11))\n",
    "print(df.index)\n",
    "\n",
    "# RangeIndex\n",
    "df = pd.DataFrame(np.arange(11))\n",
    "print(df.index) # Default Index \n",
    "\n",
    "# Float64Index\n",
    "df = pd.DataFrame(np.arange(11),np.arange(0,11,1.0))\n",
    "print(df.index)\n",
    "\n",
    "# IntervalIndex\n",
    "df = pd.DataFrame({'Col_1':[1,2,3]},index=pd.IntervalIndex.from_breaks([0,0.5,1,1.5]))\n",
    "print('\\n'+str(df.index))\n",
    "\n",
    "# CategoricalIndex\n",
    "df = pd.DataFrame({'Col_1':np.arange(6),'Col_2':list('abbbcc')})\n",
    "df['Col_2'] = df['Col_2'].astype('category')\n",
    "df = df.set_index('Col_2')\n",
    "print(df.index)\n",
    "\n",
    "# DatetimeIndex\n",
    "dates = pd.date_range('2020/08/01',periods=3,freq='D')\n",
    "time_series = pd.Series(len(dates),index=dates)\n",
    "print(time_series.index)\n",
    "\n",
    "# PeriodIndex \n",
    "periods = pd.PeriodIndex(['2020/06/01','2020/07/01','2020/08/01'],freq='M')\n",
    "print(periods)"
   ]
  },
  {
   "cell_type": "markdown",
   "metadata": {},
   "source": [
    "### Index Resetting and Reindexing\n",
    "It is useful when we need to **reset** or **extract** indexes of a DataFrame into Columns.\n",
    "\n",
    "We can **reindex** a DataFrame for compatibility with a new Index (Align data with old indexes for new indexes)"
   ]
  },
  {
   "cell_type": "code",
   "execution_count": 75,
   "metadata": {},
   "outputs": [
    {
     "data": {
      "text/html": [
       "<div>\n",
       "<style scoped>\n",
       "    .dataframe tbody tr th:only-of-type {\n",
       "        vertical-align: middle;\n",
       "    }\n",
       "\n",
       "    .dataframe tbody tr th {\n",
       "        vertical-align: top;\n",
       "    }\n",
       "\n",
       "    .dataframe thead th {\n",
       "        text-align: right;\n",
       "    }\n",
       "</style>\n",
       "<table border=\"1\" class=\"dataframe\">\n",
       "  <thead>\n",
       "    <tr style=\"text-align: right;\">\n",
       "      <th></th>\n",
       "      <th>Sector</th>\n",
       "      <th>Price</th>\n",
       "      <th>Book Value</th>\n",
       "    </tr>\n",
       "    <tr>\n",
       "      <th>Symbol</th>\n",
       "      <th></th>\n",
       "      <th></th>\n",
       "      <th></th>\n",
       "    </tr>\n",
       "  </thead>\n",
       "  <tbody>\n",
       "    <tr>\n",
       "      <th>MMM</th>\n",
       "      <td>Industrials</td>\n",
       "      <td>141.14</td>\n",
       "      <td>26.668</td>\n",
       "    </tr>\n",
       "    <tr>\n",
       "      <th>ABT</th>\n",
       "      <td>Health Care</td>\n",
       "      <td>39.60</td>\n",
       "      <td>15.573</td>\n",
       "    </tr>\n",
       "    <tr>\n",
       "      <th>ABBV</th>\n",
       "      <td>Health Care</td>\n",
       "      <td>53.95</td>\n",
       "      <td>2.954</td>\n",
       "    </tr>\n",
       "    <tr>\n",
       "      <th>ACN</th>\n",
       "      <td>Information Technology</td>\n",
       "      <td>79.79</td>\n",
       "      <td>8.326</td>\n",
       "    </tr>\n",
       "    <tr>\n",
       "      <th>ACE</th>\n",
       "      <td>Financials</td>\n",
       "      <td>102.91</td>\n",
       "      <td>86.897</td>\n",
       "    </tr>\n",
       "  </tbody>\n",
       "</table>\n",
       "</div>"
      ],
      "text/plain": [
       "                        Sector   Price  Book Value\n",
       "Symbol                                            \n",
       "MMM                Industrials  141.14      26.668\n",
       "ABT                Health Care   39.60      15.573\n",
       "ABBV               Health Care   53.95       2.954\n",
       "ACN     Information Technology   79.79       8.326\n",
       "ACE                 Financials  102.91      86.897"
      ]
     },
     "execution_count": 75,
     "metadata": {},
     "output_type": "execute_result"
    }
   ],
   "source": [
    "# Example \n",
    "path = 'D:/ML/Books/Learning_Pandas_russian_translation-1-master/Notebooks/Data/sp500.csv'\n",
    "df = pd.read_csv(path,index_col='Symbol',usecols=[0,2,3,7])\n",
    "df.head()"
   ]
  },
  {
   "cell_type": "code",
   "execution_count": 38,
   "metadata": {},
   "outputs": [
    {
     "data": {
      "text/html": [
       "<div>\n",
       "<style scoped>\n",
       "    .dataframe tbody tr th:only-of-type {\n",
       "        vertical-align: middle;\n",
       "    }\n",
       "\n",
       "    .dataframe tbody tr th {\n",
       "        vertical-align: top;\n",
       "    }\n",
       "\n",
       "    .dataframe thead th {\n",
       "        text-align: right;\n",
       "    }\n",
       "</style>\n",
       "<table border=\"1\" class=\"dataframe\">\n",
       "  <thead>\n",
       "    <tr style=\"text-align: right;\">\n",
       "      <th></th>\n",
       "      <th>Symbol</th>\n",
       "      <th>Price</th>\n",
       "      <th>Book Value</th>\n",
       "    </tr>\n",
       "    <tr>\n",
       "      <th>Sector</th>\n",
       "      <th></th>\n",
       "      <th></th>\n",
       "      <th></th>\n",
       "    </tr>\n",
       "  </thead>\n",
       "  <tbody>\n",
       "    <tr>\n",
       "      <th>Industrials</th>\n",
       "      <td>MMM</td>\n",
       "      <td>141.14</td>\n",
       "      <td>26.668</td>\n",
       "    </tr>\n",
       "    <tr>\n",
       "      <th>Health Care</th>\n",
       "      <td>ABT</td>\n",
       "      <td>39.60</td>\n",
       "      <td>15.573</td>\n",
       "    </tr>\n",
       "    <tr>\n",
       "      <th>Health Care</th>\n",
       "      <td>ABBV</td>\n",
       "      <td>53.95</td>\n",
       "      <td>2.954</td>\n",
       "    </tr>\n",
       "    <tr>\n",
       "      <th>Information Technology</th>\n",
       "      <td>ACN</td>\n",
       "      <td>79.79</td>\n",
       "      <td>8.326</td>\n",
       "    </tr>\n",
       "    <tr>\n",
       "      <th>Financials</th>\n",
       "      <td>ACE</td>\n",
       "      <td>102.91</td>\n",
       "      <td>86.897</td>\n",
       "    </tr>\n",
       "  </tbody>\n",
       "</table>\n",
       "</div>"
      ],
      "text/plain": [
       "                       Symbol   Price  Book Value\n",
       "Sector                                           \n",
       "Industrials               MMM  141.14      26.668\n",
       "Health Care               ABT   39.60      15.573\n",
       "Health Care              ABBV   53.95       2.954\n",
       "Information Technology    ACN   79.79       8.326\n",
       "Financials                ACE  102.91      86.897"
      ]
     },
     "execution_count": 38,
     "metadata": {},
     "output_type": "execute_result"
    }
   ],
   "source": [
    "# Let's extract index into column and set a new index (Sector)\n",
    "extracted_df = df.reset_index()\n",
    "df = extracted_df.set_index('Sector')\n",
    "df.head()"
   ]
  },
  {
   "cell_type": "code",
   "execution_count": 84,
   "metadata": {},
   "outputs": [
    {
     "data": {
      "text/html": [
       "<div>\n",
       "<style scoped>\n",
       "    .dataframe tbody tr th:only-of-type {\n",
       "        vertical-align: middle;\n",
       "    }\n",
       "\n",
       "    .dataframe tbody tr th {\n",
       "        vertical-align: top;\n",
       "    }\n",
       "\n",
       "    .dataframe thead th {\n",
       "        text-align: right;\n",
       "    }\n",
       "</style>\n",
       "<table border=\"1\" class=\"dataframe\">\n",
       "  <thead>\n",
       "    <tr style=\"text-align: right;\">\n",
       "      <th></th>\n",
       "      <th>Sector</th>\n",
       "      <th>Price</th>\n",
       "      <th>Book Value</th>\n",
       "    </tr>\n",
       "    <tr>\n",
       "      <th>Symbol</th>\n",
       "      <th></th>\n",
       "      <th></th>\n",
       "      <th></th>\n",
       "    </tr>\n",
       "  </thead>\n",
       "  <tbody>\n",
       "    <tr>\n",
       "      <th>MMM</th>\n",
       "      <td>Industrials</td>\n",
       "      <td>141.14</td>\n",
       "      <td>26.668</td>\n",
       "    </tr>\n",
       "    <tr>\n",
       "      <th>ACN</th>\n",
       "      <td>Information Technology</td>\n",
       "      <td>79.79</td>\n",
       "      <td>8.326</td>\n",
       "    </tr>\n",
       "    <tr>\n",
       "      <th>NEW</th>\n",
       "      <td>NaN</td>\n",
       "      <td>NaN</td>\n",
       "      <td>NaN</td>\n",
       "    </tr>\n",
       "  </tbody>\n",
       "</table>\n",
       "</div>"
      ],
      "text/plain": [
       "                        Sector   Price  Book Value\n",
       "Symbol                                            \n",
       "MMM                Industrials  141.14      26.668\n",
       "ACN     Information Technology   79.79       8.326\n",
       "NEW                        NaN     NaN         NaN"
      ]
     },
     "execution_count": 84,
     "metadata": {},
     "output_type": "execute_result"
    }
   ],
   "source": [
    "# Reindexing allows compatibility with new index (where data alignment is impossible, NaN values apperas)\n",
    "\n",
    "# Reindexing by rows \n",
    "reindexed_df = df.head().reindex(index=['MMM','ACN','NEW'])\n",
    "reindexed_df"
   ]
  },
  {
   "cell_type": "code",
   "execution_count": 85,
   "metadata": {},
   "outputs": [
    {
     "data": {
      "text/html": [
       "<div>\n",
       "<style scoped>\n",
       "    .dataframe tbody tr th:only-of-type {\n",
       "        vertical-align: middle;\n",
       "    }\n",
       "\n",
       "    .dataframe tbody tr th {\n",
       "        vertical-align: top;\n",
       "    }\n",
       "\n",
       "    .dataframe thead th {\n",
       "        text-align: right;\n",
       "    }\n",
       "</style>\n",
       "<table border=\"1\" class=\"dataframe\">\n",
       "  <thead>\n",
       "    <tr style=\"text-align: right;\">\n",
       "      <th></th>\n",
       "      <th>Sector</th>\n",
       "      <th>Price</th>\n",
       "      <th>New_col</th>\n",
       "    </tr>\n",
       "    <tr>\n",
       "      <th>Symbol</th>\n",
       "      <th></th>\n",
       "      <th></th>\n",
       "      <th></th>\n",
       "    </tr>\n",
       "  </thead>\n",
       "  <tbody>\n",
       "    <tr>\n",
       "      <th>MMM</th>\n",
       "      <td>Industrials</td>\n",
       "      <td>141.14</td>\n",
       "      <td>NaN</td>\n",
       "    </tr>\n",
       "    <tr>\n",
       "      <th>ACN</th>\n",
       "      <td>Information Technology</td>\n",
       "      <td>79.79</td>\n",
       "      <td>NaN</td>\n",
       "    </tr>\n",
       "    <tr>\n",
       "      <th>NEW</th>\n",
       "      <td>NaN</td>\n",
       "      <td>NaN</td>\n",
       "      <td>NaN</td>\n",
       "    </tr>\n",
       "  </tbody>\n",
       "</table>\n",
       "</div>"
      ],
      "text/plain": [
       "                        Sector   Price  New_col\n",
       "Symbol                                         \n",
       "MMM                Industrials  141.14      NaN\n",
       "ACN     Information Technology   79.79      NaN\n",
       "NEW                        NaN     NaN      NaN"
      ]
     },
     "execution_count": 85,
     "metadata": {},
     "output_type": "execute_result"
    }
   ],
   "source": [
    "# Reindexing by Columns \n",
    "reindexed_df = reindexed_df.reindex(columns=['Sector','Price','New_col'])\n",
    "reindexed_df"
   ]
  },
  {
   "cell_type": "markdown",
   "metadata": {},
   "source": [
    "### Hierarchical Indexing\n",
    "Allows to combine usage of 2 or more indexes for each row. Each index is called a level.\n",
    "### Some methods\n",
    "- **df.index.levels[ level_number ]** - returns indexes on provided level\n",
    "- **df.index.get_level_values( level number )** - returns all values on provided level\n",
    "- **df.xs( 'level_value_1' ).xs( 'level_value_2' )** - returns values on provided level_value "
   ]
  },
  {
   "cell_type": "code",
   "execution_count": 87,
   "metadata": {},
   "outputs": [
    {
     "data": {
      "text/html": [
       "<div>\n",
       "<style scoped>\n",
       "    .dataframe tbody tr th:only-of-type {\n",
       "        vertical-align: middle;\n",
       "    }\n",
       "\n",
       "    .dataframe tbody tr th {\n",
       "        vertical-align: top;\n",
       "    }\n",
       "\n",
       "    .dataframe thead th {\n",
       "        text-align: right;\n",
       "    }\n",
       "</style>\n",
       "<table border=\"1\" class=\"dataframe\">\n",
       "  <thead>\n",
       "    <tr style=\"text-align: right;\">\n",
       "      <th></th>\n",
       "      <th></th>\n",
       "      <th>Price</th>\n",
       "      <th>Book Value</th>\n",
       "    </tr>\n",
       "    <tr>\n",
       "      <th>Sector</th>\n",
       "      <th>Symbol</th>\n",
       "      <th></th>\n",
       "      <th></th>\n",
       "    </tr>\n",
       "  </thead>\n",
       "  <tbody>\n",
       "    <tr>\n",
       "      <th>Industrials</th>\n",
       "      <th>MMM</th>\n",
       "      <td>141.14</td>\n",
       "      <td>26.668</td>\n",
       "    </tr>\n",
       "    <tr>\n",
       "      <th rowspan=\"2\" valign=\"top\">Health Care</th>\n",
       "      <th>ABT</th>\n",
       "      <td>39.60</td>\n",
       "      <td>15.573</td>\n",
       "    </tr>\n",
       "    <tr>\n",
       "      <th>ABBV</th>\n",
       "      <td>53.95</td>\n",
       "      <td>2.954</td>\n",
       "    </tr>\n",
       "    <tr>\n",
       "      <th>Information Technology</th>\n",
       "      <th>ACN</th>\n",
       "      <td>79.79</td>\n",
       "      <td>8.326</td>\n",
       "    </tr>\n",
       "    <tr>\n",
       "      <th>Financials</th>\n",
       "      <th>ACE</th>\n",
       "      <td>102.91</td>\n",
       "      <td>86.897</td>\n",
       "    </tr>\n",
       "  </tbody>\n",
       "</table>\n",
       "</div>"
      ],
      "text/plain": [
       "                                Price  Book Value\n",
       "Sector                 Symbol                    \n",
       "Industrials            MMM     141.14      26.668\n",
       "Health Care            ABT      39.60      15.573\n",
       "                       ABBV     53.95       2.954\n",
       "Information Technology ACN      79.79       8.326\n",
       "Financials             ACE     102.91      86.897"
      ]
     },
     "execution_count": 87,
     "metadata": {},
     "output_type": "execute_result"
    }
   ],
   "source": [
    "# Let's create MutiIndex (Hierarchical Index)\n",
    "reindexed_df = df.reset_index()\n",
    "multi_idx_df = reindexed_df.set_index(['Sector','Symbol'])\n",
    "multi_idx_df.head()"
   ]
  },
  {
   "cell_type": "code",
   "execution_count": 101,
   "metadata": {},
   "outputs": [
    {
     "name": "stdout",
     "output_type": "stream",
     "text": [
      "Index(['Consumer Discretionary', 'Consumer Discretionary ', 'Consumer Staples',\n",
      "       'Consumer Staples ', 'Energy', 'Financials', 'Health Care',\n",
      "       'Industrials', 'Industries', 'Information Technology', 'Materials',\n",
      "       'Telecommunications Services', 'Utilities'],\n",
      "      dtype='object', name='Sector')\n",
      "\n",
      "Index(['Industrials', 'Health Care', 'Health Care', 'Information Technology',\n",
      "       'Financials', 'Health Care', 'Information Technology', 'Utilities',\n",
      "       'Health Care', 'Financials',\n",
      "       ...\n",
      "       'Utilities', 'Information Technology', 'Information Technology',\n",
      "       'Financials', 'Industrials', 'Information Technology',\n",
      "       'Consumer Discretionary', 'Health Care', 'Financials', 'Health Care'],\n",
      "      dtype='object', name='Sector', length=500)\n"
     ]
    }
   ],
   "source": [
    "# Let's have a look at all levels  (has two levels 0 and 1)\n",
    "print(multi_idx_df.index.levels[0])\n",
    "print('\\n'+str(multi_idx_df.index.get_level_values(0)))"
   ]
  },
  {
   "cell_type": "code",
   "execution_count": 115,
   "metadata": {},
   "outputs": [
    {
     "data": {
      "text/plain": [
       "Price         39.600\n",
       "Book Value    15.573\n",
       "Name: ABT, dtype: float64"
      ]
     },
     "execution_count": 115,
     "metadata": {},
     "output_type": "execute_result"
    }
   ],
   "source": [
    "# Application of .xs() method\n",
    "multi_idx_df.xs('Health Care').xs('ABT')"
   ]
  },
  {
   "cell_type": "code",
   "execution_count": 154,
   "metadata": {},
   "outputs": [
    {
     "data": {
      "text/plain": [
       "Symbol\n",
       "MMM     False\n",
       "ABT     False\n",
       "ABBV    False\n",
       "ACN     False\n",
       "ACE     False\n",
       "        ...  \n",
       "YHOO    False\n",
       "YUM     False\n",
       "ZMH     False\n",
       "ZION    False\n",
       "ZTS     False\n",
       "Name: Price, Length: 500, dtype: bool"
      ]
     },
     "execution_count": 154,
     "metadata": {},
     "output_type": "execute_result"
    }
   ],
   "source": [
    "df.Price.duplicated()"
   ]
  }
 ],
 "metadata": {
  "kernelspec": {
   "display_name": "Python 3",
   "language": "python",
   "name": "python3"
  },
  "language_info": {
   "codemirror_mode": {
    "name": "ipython",
    "version": 3
   },
   "file_extension": ".py",
   "mimetype": "text/x-python",
   "name": "python",
   "nbconvert_exporter": "python",
   "pygments_lexer": "ipython3",
   "version": "3.6.1"
  }
 },
 "nbformat": 4,
 "nbformat_minor": 2
}
