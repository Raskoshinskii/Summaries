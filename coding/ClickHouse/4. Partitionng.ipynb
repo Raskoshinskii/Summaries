{
 "cells": [
  {
   "cell_type": "markdown",
   "id": "76f4a684-9706-441c-a8b3-bbc6e69fdfbd",
   "metadata": {},
   "source": [
    "### Partitioning \n",
    "- Partitioning - set of records from a table that are united using a certain criteria (e.g. data from different months - the most used partitioning)\n",
    "\n",
    "For example, data might be partinioned by month, day, event type, etc. \n",
    "\n",
    "**Advantages**\n",
    "- Optimized data handling (during query execution only subset will be selected)\n",
    "- Data for different partitions is stored separately on disk and don't unite later\n",
    "\n",
    "**Tips**\n",
    "- Don't use more than 1k partitions per table (recommended by ClikHouse doc)"
   ]
  }
 ],
 "metadata": {
  "kernelspec": {
   "display_name": "Python 3",
   "language": "python",
   "name": "python3"
  },
  "language_info": {
   "codemirror_mode": {
    "name": "ipython",
    "version": 3
   },
   "file_extension": ".py",
   "mimetype": "text/x-python",
   "name": "python",
   "nbconvert_exporter": "python",
   "pygments_lexer": "ipython3",
   "version": "3.7.9"
  }
 },
 "nbformat": 4,
 "nbformat_minor": 5
}
