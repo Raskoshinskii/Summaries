{
 "cells": [
  {
   "cell_type": "markdown",
   "id": "81153986-bd6e-46fb-b391-9636c573e6ab",
   "metadata": {},
   "source": [
    "- if we have more columns in `SELECT` than in `WHERE` -> use `PREWHERE` instead of `WHERE` (efficiency)\n",
    "- ClickHouse supports only some types of subqueries\n",
    "- Window Functions are not supported "
   ]
  },
  {
   "cell_type": "code",
   "execution_count": null,
   "id": "8f409cce-a25e-4d25-8fd7-5520b2e92496",
   "metadata": {},
   "outputs": [],
   "source": []
  }
 ],
 "metadata": {
  "kernelspec": {
   "display_name": "Python 3",
   "language": "python",
   "name": "python3"
  },
  "language_info": {
   "codemirror_mode": {
    "name": "ipython",
    "version": 3
   },
   "file_extension": ".py",
   "mimetype": "text/x-python",
   "name": "python",
   "nbconvert_exporter": "python",
   "pygments_lexer": "ipython3",
   "version": "3.7.9"
  }
 },
 "nbformat": 4,
 "nbformat_minor": 5
}
