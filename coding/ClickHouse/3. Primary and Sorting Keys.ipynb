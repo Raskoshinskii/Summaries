{
 "cells": [
  {
   "cell_type": "markdown",
   "id": "d6b7a0a2-c684-4d83-af60-2e4b135842a5",
   "metadata": {},
   "source": [
    "### Primary Key and Sorting Key\n",
    "\n",
    "Table in ClickHouse consists of **data parts (куски данных)** that is sorted using `Primary Key`. Each data part is split into **granule (гранула)**.\n",
    "\n",
    "- `Granule` - is the minimum undevided dataset that ClickHouse reads when selecting the data.\n",
    "- `Mark` - the first row of granule\n",
    "\n",
    "**Primary Key Definition Example**\n",
    "- `ORDER BY (CounterID, Date)`"
   ]
  }
 ],
 "metadata": {
  "kernelspec": {
   "display_name": "Python 3",
   "language": "python",
   "name": "python3"
  },
  "language_info": {
   "codemirror_mode": {
    "name": "ipython",
    "version": 3
   },
   "file_extension": ".py",
   "mimetype": "text/x-python",
   "name": "python",
   "nbconvert_exporter": "python",
   "pygments_lexer": "ipython3",
   "version": "3.7.9"
  }
 },
 "nbformat": 4,
 "nbformat_minor": 5
}
